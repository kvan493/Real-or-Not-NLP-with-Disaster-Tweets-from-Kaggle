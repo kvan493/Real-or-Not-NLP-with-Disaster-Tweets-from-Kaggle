{
 "cells": [
  {
   "cell_type": "markdown",
   "metadata": {},
   "source": [
    "# Real or Not? NLP with Disaster Tweets"
   ]
  },
  {
   "cell_type": "code",
   "execution_count": 1,
   "metadata": {},
   "outputs": [],
   "source": [
    "import numpy as np\n",
    "import pandas as pd\n",
    "import matplotlib.pyplot as plt\n",
    "%matplotlib inline"
   ]
  },
  {
   "cell_type": "markdown",
   "metadata": {},
   "source": [
    "### Data Ingestion"
   ]
  },
  {
   "cell_type": "markdown",
   "metadata": {},
   "source": [
    "#### Importing and exploring training set"
   ]
  },
  {
   "cell_type": "code",
   "execution_count": 2,
   "metadata": {},
   "outputs": [
    {
     "name": "stdout",
     "output_type": "stream",
     "text": [
      "<class 'pandas.core.frame.DataFrame'>\n",
      "RangeIndex: 7613 entries, 0 to 7612\n",
      "Data columns (total 5 columns):\n",
      " #   Column    Non-Null Count  Dtype \n",
      "---  ------    --------------  ----- \n",
      " 0   id        7613 non-null   int64 \n",
      " 1   keyword   7552 non-null   object\n",
      " 2   location  5080 non-null   object\n",
      " 3   text      7613 non-null   object\n",
      " 4   target    7613 non-null   int64 \n",
      "dtypes: int64(2), object(3)\n",
      "memory usage: 297.5+ KB\n"
     ]
    }
   ],
   "source": [
    "#Read in training set\n",
    "train = pd.read_csv('train.csv')\n",
    "\n",
    "#Summary of training set\n",
    "train.info()"
   ]
  },
  {
   "cell_type": "code",
   "execution_count": 3,
   "metadata": {},
   "outputs": [
    {
     "data": {
      "text/html": [
       "<div>\n",
       "<style scoped>\n",
       "    .dataframe tbody tr th:only-of-type {\n",
       "        vertical-align: middle;\n",
       "    }\n",
       "\n",
       "    .dataframe tbody tr th {\n",
       "        vertical-align: top;\n",
       "    }\n",
       "\n",
       "    .dataframe thead th {\n",
       "        text-align: right;\n",
       "    }\n",
       "</style>\n",
       "<table border=\"1\" class=\"dataframe\">\n",
       "  <thead>\n",
       "    <tr style=\"text-align: right;\">\n",
       "      <th></th>\n",
       "      <th>id</th>\n",
       "      <th>keyword</th>\n",
       "      <th>location</th>\n",
       "      <th>text</th>\n",
       "      <th>target</th>\n",
       "    </tr>\n",
       "  </thead>\n",
       "  <tbody>\n",
       "    <tr>\n",
       "      <th>0</th>\n",
       "      <td>1</td>\n",
       "      <td>NaN</td>\n",
       "      <td>NaN</td>\n",
       "      <td>Our Deeds are the Reason of this #earthquake M...</td>\n",
       "      <td>1</td>\n",
       "    </tr>\n",
       "    <tr>\n",
       "      <th>1</th>\n",
       "      <td>4</td>\n",
       "      <td>NaN</td>\n",
       "      <td>NaN</td>\n",
       "      <td>Forest fire near La Ronge Sask. Canada</td>\n",
       "      <td>1</td>\n",
       "    </tr>\n",
       "    <tr>\n",
       "      <th>2</th>\n",
       "      <td>5</td>\n",
       "      <td>NaN</td>\n",
       "      <td>NaN</td>\n",
       "      <td>All residents asked to 'shelter in place' are ...</td>\n",
       "      <td>1</td>\n",
       "    </tr>\n",
       "    <tr>\n",
       "      <th>3</th>\n",
       "      <td>6</td>\n",
       "      <td>NaN</td>\n",
       "      <td>NaN</td>\n",
       "      <td>13,000 people receive #wildfires evacuation or...</td>\n",
       "      <td>1</td>\n",
       "    </tr>\n",
       "    <tr>\n",
       "      <th>4</th>\n",
       "      <td>7</td>\n",
       "      <td>NaN</td>\n",
       "      <td>NaN</td>\n",
       "      <td>Just got sent this photo from Ruby #Alaska as ...</td>\n",
       "      <td>1</td>\n",
       "    </tr>\n",
       "  </tbody>\n",
       "</table>\n",
       "</div>"
      ],
      "text/plain": [
       "   id keyword location                                               text  \\\n",
       "0   1     NaN      NaN  Our Deeds are the Reason of this #earthquake M...   \n",
       "1   4     NaN      NaN             Forest fire near La Ronge Sask. Canada   \n",
       "2   5     NaN      NaN  All residents asked to 'shelter in place' are ...   \n",
       "3   6     NaN      NaN  13,000 people receive #wildfires evacuation or...   \n",
       "4   7     NaN      NaN  Just got sent this photo from Ruby #Alaska as ...   \n",
       "\n",
       "   target  \n",
       "0       1  \n",
       "1       1  \n",
       "2       1  \n",
       "3       1  \n",
       "4       1  "
      ]
     },
     "execution_count": 3,
     "metadata": {},
     "output_type": "execute_result"
    }
   ],
   "source": [
    "#View first 5 entries in training set\n",
    "train.head()"
   ]
  },
  {
   "cell_type": "code",
   "execution_count": 4,
   "metadata": {},
   "outputs": [
    {
     "data": {
      "text/html": [
       "<div>\n",
       "<style scoped>\n",
       "    .dataframe tbody tr th:only-of-type {\n",
       "        vertical-align: middle;\n",
       "    }\n",
       "\n",
       "    .dataframe tbody tr th {\n",
       "        vertical-align: top;\n",
       "    }\n",
       "\n",
       "    .dataframe thead th {\n",
       "        text-align: right;\n",
       "    }\n",
       "</style>\n",
       "<table border=\"1\" class=\"dataframe\">\n",
       "  <thead>\n",
       "    <tr style=\"text-align: right;\">\n",
       "      <th></th>\n",
       "      <th>id</th>\n",
       "      <th>keyword</th>\n",
       "      <th>location</th>\n",
       "      <th>text</th>\n",
       "      <th>target</th>\n",
       "    </tr>\n",
       "  </thead>\n",
       "  <tbody>\n",
       "    <tr>\n",
       "      <th>7608</th>\n",
       "      <td>10869</td>\n",
       "      <td>NaN</td>\n",
       "      <td>NaN</td>\n",
       "      <td>Two giant cranes holding a bridge collapse int...</td>\n",
       "      <td>1</td>\n",
       "    </tr>\n",
       "    <tr>\n",
       "      <th>7609</th>\n",
       "      <td>10870</td>\n",
       "      <td>NaN</td>\n",
       "      <td>NaN</td>\n",
       "      <td>@aria_ahrary @TheTawniest The out of control w...</td>\n",
       "      <td>1</td>\n",
       "    </tr>\n",
       "    <tr>\n",
       "      <th>7610</th>\n",
       "      <td>10871</td>\n",
       "      <td>NaN</td>\n",
       "      <td>NaN</td>\n",
       "      <td>M1.94 [01:04 UTC]?5km S of Volcano Hawaii. htt...</td>\n",
       "      <td>1</td>\n",
       "    </tr>\n",
       "    <tr>\n",
       "      <th>7611</th>\n",
       "      <td>10872</td>\n",
       "      <td>NaN</td>\n",
       "      <td>NaN</td>\n",
       "      <td>Police investigating after an e-bike collided ...</td>\n",
       "      <td>1</td>\n",
       "    </tr>\n",
       "    <tr>\n",
       "      <th>7612</th>\n",
       "      <td>10873</td>\n",
       "      <td>NaN</td>\n",
       "      <td>NaN</td>\n",
       "      <td>The Latest: More Homes Razed by Northern Calif...</td>\n",
       "      <td>1</td>\n",
       "    </tr>\n",
       "  </tbody>\n",
       "</table>\n",
       "</div>"
      ],
      "text/plain": [
       "         id keyword location  \\\n",
       "7608  10869     NaN      NaN   \n",
       "7609  10870     NaN      NaN   \n",
       "7610  10871     NaN      NaN   \n",
       "7611  10872     NaN      NaN   \n",
       "7612  10873     NaN      NaN   \n",
       "\n",
       "                                                   text  target  \n",
       "7608  Two giant cranes holding a bridge collapse int...       1  \n",
       "7609  @aria_ahrary @TheTawniest The out of control w...       1  \n",
       "7610  M1.94 [01:04 UTC]?5km S of Volcano Hawaii. htt...       1  \n",
       "7611  Police investigating after an e-bike collided ...       1  \n",
       "7612  The Latest: More Homes Razed by Northern Calif...       1  "
      ]
     },
     "execution_count": 4,
     "metadata": {},
     "output_type": "execute_result"
    }
   ],
   "source": [
    "#View last 5 entries in training set\n",
    "train.tail()"
   ]
  },
  {
   "cell_type": "code",
   "execution_count": 5,
   "metadata": {},
   "outputs": [
    {
     "data": {
      "text/plain": [
       "id             0\n",
       "keyword       61\n",
       "location    2533\n",
       "text           0\n",
       "target         0\n",
       "dtype: int64"
      ]
     },
     "execution_count": 5,
     "metadata": {},
     "output_type": "execute_result"
    }
   ],
   "source": [
    "#View numbers of missing values\n",
    "train.isnull().sum()"
   ]
  },
  {
   "cell_type": "code",
   "execution_count": 6,
   "metadata": {},
   "outputs": [
    {
     "data": {
      "text/plain": [
       "0"
      ]
     },
     "execution_count": 6,
     "metadata": {},
     "output_type": "execute_result"
    }
   ],
   "source": [
    "#Check for duplicates\n",
    "train.duplicated().sum()"
   ]
  },
  {
   "cell_type": "markdown",
   "metadata": {},
   "source": [
    "#### Importing and exploring test data set"
   ]
  },
  {
   "cell_type": "code",
   "execution_count": 7,
   "metadata": {},
   "outputs": [
    {
     "name": "stdout",
     "output_type": "stream",
     "text": [
      "<class 'pandas.core.frame.DataFrame'>\n",
      "RangeIndex: 3263 entries, 0 to 3262\n",
      "Data columns (total 4 columns):\n",
      " #   Column    Non-Null Count  Dtype \n",
      "---  ------    --------------  ----- \n",
      " 0   id        3263 non-null   int64 \n",
      " 1   keyword   3237 non-null   object\n",
      " 2   location  2158 non-null   object\n",
      " 3   text      3263 non-null   object\n",
      "dtypes: int64(1), object(3)\n",
      "memory usage: 102.1+ KB\n"
     ]
    }
   ],
   "source": [
    "#Read in test set\n",
    "test = pd.read_csv('test.csv')\n",
    "\n",
    "#Summary of test set\n",
    "test.info()"
   ]
  },
  {
   "cell_type": "code",
   "execution_count": 8,
   "metadata": {},
   "outputs": [
    {
     "data": {
      "text/html": [
       "<div>\n",
       "<style scoped>\n",
       "    .dataframe tbody tr th:only-of-type {\n",
       "        vertical-align: middle;\n",
       "    }\n",
       "\n",
       "    .dataframe tbody tr th {\n",
       "        vertical-align: top;\n",
       "    }\n",
       "\n",
       "    .dataframe thead th {\n",
       "        text-align: right;\n",
       "    }\n",
       "</style>\n",
       "<table border=\"1\" class=\"dataframe\">\n",
       "  <thead>\n",
       "    <tr style=\"text-align: right;\">\n",
       "      <th></th>\n",
       "      <th>id</th>\n",
       "      <th>keyword</th>\n",
       "      <th>location</th>\n",
       "      <th>text</th>\n",
       "    </tr>\n",
       "  </thead>\n",
       "  <tbody>\n",
       "    <tr>\n",
       "      <th>0</th>\n",
       "      <td>0</td>\n",
       "      <td>NaN</td>\n",
       "      <td>NaN</td>\n",
       "      <td>Just happened a terrible car crash</td>\n",
       "    </tr>\n",
       "    <tr>\n",
       "      <th>1</th>\n",
       "      <td>2</td>\n",
       "      <td>NaN</td>\n",
       "      <td>NaN</td>\n",
       "      <td>Heard about #earthquake is different cities, s...</td>\n",
       "    </tr>\n",
       "    <tr>\n",
       "      <th>2</th>\n",
       "      <td>3</td>\n",
       "      <td>NaN</td>\n",
       "      <td>NaN</td>\n",
       "      <td>there is a forest fire at spot pond, geese are...</td>\n",
       "    </tr>\n",
       "    <tr>\n",
       "      <th>3</th>\n",
       "      <td>9</td>\n",
       "      <td>NaN</td>\n",
       "      <td>NaN</td>\n",
       "      <td>Apocalypse lighting. #Spokane #wildfires</td>\n",
       "    </tr>\n",
       "    <tr>\n",
       "      <th>4</th>\n",
       "      <td>11</td>\n",
       "      <td>NaN</td>\n",
       "      <td>NaN</td>\n",
       "      <td>Typhoon Soudelor kills 28 in China and Taiwan</td>\n",
       "    </tr>\n",
       "  </tbody>\n",
       "</table>\n",
       "</div>"
      ],
      "text/plain": [
       "   id keyword location                                               text\n",
       "0   0     NaN      NaN                 Just happened a terrible car crash\n",
       "1   2     NaN      NaN  Heard about #earthquake is different cities, s...\n",
       "2   3     NaN      NaN  there is a forest fire at spot pond, geese are...\n",
       "3   9     NaN      NaN           Apocalypse lighting. #Spokane #wildfires\n",
       "4  11     NaN      NaN      Typhoon Soudelor kills 28 in China and Taiwan"
      ]
     },
     "execution_count": 8,
     "metadata": {},
     "output_type": "execute_result"
    }
   ],
   "source": [
    "#View first 5 entries in test set\n",
    "test.head()"
   ]
  },
  {
   "cell_type": "code",
   "execution_count": 9,
   "metadata": {},
   "outputs": [
    {
     "data": {
      "text/html": [
       "<div>\n",
       "<style scoped>\n",
       "    .dataframe tbody tr th:only-of-type {\n",
       "        vertical-align: middle;\n",
       "    }\n",
       "\n",
       "    .dataframe tbody tr th {\n",
       "        vertical-align: top;\n",
       "    }\n",
       "\n",
       "    .dataframe thead th {\n",
       "        text-align: right;\n",
       "    }\n",
       "</style>\n",
       "<table border=\"1\" class=\"dataframe\">\n",
       "  <thead>\n",
       "    <tr style=\"text-align: right;\">\n",
       "      <th></th>\n",
       "      <th>id</th>\n",
       "      <th>keyword</th>\n",
       "      <th>location</th>\n",
       "      <th>text</th>\n",
       "    </tr>\n",
       "  </thead>\n",
       "  <tbody>\n",
       "    <tr>\n",
       "      <th>3258</th>\n",
       "      <td>10861</td>\n",
       "      <td>NaN</td>\n",
       "      <td>NaN</td>\n",
       "      <td>EARTHQUAKE SAFETY LOS ANGELES ÛÒ SAFETY FASTE...</td>\n",
       "    </tr>\n",
       "    <tr>\n",
       "      <th>3259</th>\n",
       "      <td>10865</td>\n",
       "      <td>NaN</td>\n",
       "      <td>NaN</td>\n",
       "      <td>Storm in RI worse than last hurricane. My city...</td>\n",
       "    </tr>\n",
       "    <tr>\n",
       "      <th>3260</th>\n",
       "      <td>10868</td>\n",
       "      <td>NaN</td>\n",
       "      <td>NaN</td>\n",
       "      <td>Green Line derailment in Chicago http://t.co/U...</td>\n",
       "    </tr>\n",
       "    <tr>\n",
       "      <th>3261</th>\n",
       "      <td>10874</td>\n",
       "      <td>NaN</td>\n",
       "      <td>NaN</td>\n",
       "      <td>MEG issues Hazardous Weather Outlook (HWO) htt...</td>\n",
       "    </tr>\n",
       "    <tr>\n",
       "      <th>3262</th>\n",
       "      <td>10875</td>\n",
       "      <td>NaN</td>\n",
       "      <td>NaN</td>\n",
       "      <td>#CityofCalgary has activated its Municipal Eme...</td>\n",
       "    </tr>\n",
       "  </tbody>\n",
       "</table>\n",
       "</div>"
      ],
      "text/plain": [
       "         id keyword location  \\\n",
       "3258  10861     NaN      NaN   \n",
       "3259  10865     NaN      NaN   \n",
       "3260  10868     NaN      NaN   \n",
       "3261  10874     NaN      NaN   \n",
       "3262  10875     NaN      NaN   \n",
       "\n",
       "                                                   text  \n",
       "3258  EARTHQUAKE SAFETY LOS ANGELES ÛÒ SAFETY FASTE...  \n",
       "3259  Storm in RI worse than last hurricane. My city...  \n",
       "3260  Green Line derailment in Chicago http://t.co/U...  \n",
       "3261  MEG issues Hazardous Weather Outlook (HWO) htt...  \n",
       "3262  #CityofCalgary has activated its Municipal Eme...  "
      ]
     },
     "execution_count": 9,
     "metadata": {},
     "output_type": "execute_result"
    }
   ],
   "source": [
    "#View last 5 entries in test set\n",
    "test.tail()"
   ]
  },
  {
   "cell_type": "code",
   "execution_count": 10,
   "metadata": {},
   "outputs": [
    {
     "data": {
      "text/plain": [
       "id             0\n",
       "keyword       26\n",
       "location    1105\n",
       "text           0\n",
       "dtype: int64"
      ]
     },
     "execution_count": 10,
     "metadata": {},
     "output_type": "execute_result"
    }
   ],
   "source": [
    "#View numbers of missing values\n",
    "test.isnull().sum()"
   ]
  },
  {
   "cell_type": "markdown",
   "metadata": {},
   "source": [
    "### Exploratory Data Analysis"
   ]
  },
  {
   "cell_type": "markdown",
   "metadata": {},
   "source": [
    "#### Further exploration of the data sets"
   ]
  },
  {
   "cell_type": "code",
   "execution_count": 11,
   "metadata": {},
   "outputs": [
    {
     "data": {
      "text/html": [
       "<div>\n",
       "<style scoped>\n",
       "    .dataframe tbody tr th:only-of-type {\n",
       "        vertical-align: middle;\n",
       "    }\n",
       "\n",
       "    .dataframe tbody tr th {\n",
       "        vertical-align: top;\n",
       "    }\n",
       "\n",
       "    .dataframe thead th {\n",
       "        text-align: right;\n",
       "    }\n",
       "</style>\n",
       "<table border=\"1\" class=\"dataframe\">\n",
       "  <thead>\n",
       "    <tr style=\"text-align: right;\">\n",
       "      <th></th>\n",
       "      <th>id</th>\n",
       "      <th>keyword</th>\n",
       "      <th>location</th>\n",
       "      <th>text</th>\n",
       "      <th>target</th>\n",
       "    </tr>\n",
       "  </thead>\n",
       "  <tbody>\n",
       "    <tr>\n",
       "      <th>15</th>\n",
       "      <td>23</td>\n",
       "      <td>NaN</td>\n",
       "      <td>NaN</td>\n",
       "      <td>What's up man?</td>\n",
       "      <td>0</td>\n",
       "    </tr>\n",
       "    <tr>\n",
       "      <th>16</th>\n",
       "      <td>24</td>\n",
       "      <td>NaN</td>\n",
       "      <td>NaN</td>\n",
       "      <td>I love fruits</td>\n",
       "      <td>0</td>\n",
       "    </tr>\n",
       "    <tr>\n",
       "      <th>17</th>\n",
       "      <td>25</td>\n",
       "      <td>NaN</td>\n",
       "      <td>NaN</td>\n",
       "      <td>Summer is lovely</td>\n",
       "      <td>0</td>\n",
       "    </tr>\n",
       "    <tr>\n",
       "      <th>18</th>\n",
       "      <td>26</td>\n",
       "      <td>NaN</td>\n",
       "      <td>NaN</td>\n",
       "      <td>My car is so fast</td>\n",
       "      <td>0</td>\n",
       "    </tr>\n",
       "    <tr>\n",
       "      <th>19</th>\n",
       "      <td>28</td>\n",
       "      <td>NaN</td>\n",
       "      <td>NaN</td>\n",
       "      <td>What a goooooooaaaaaal!!!!!!</td>\n",
       "      <td>0</td>\n",
       "    </tr>\n",
       "    <tr>\n",
       "      <th>...</th>\n",
       "      <td>...</td>\n",
       "      <td>...</td>\n",
       "      <td>...</td>\n",
       "      <td>...</td>\n",
       "      <td>...</td>\n",
       "    </tr>\n",
       "    <tr>\n",
       "      <th>7581</th>\n",
       "      <td>10833</td>\n",
       "      <td>wrecked</td>\n",
       "      <td>Lincoln</td>\n",
       "      <td>@engineshed Great atmosphere at the British Li...</td>\n",
       "      <td>0</td>\n",
       "    </tr>\n",
       "    <tr>\n",
       "      <th>7582</th>\n",
       "      <td>10834</td>\n",
       "      <td>wrecked</td>\n",
       "      <td>NaN</td>\n",
       "      <td>Cramer: Iger's 3 words that wrecked Disney's s...</td>\n",
       "      <td>0</td>\n",
       "    </tr>\n",
       "    <tr>\n",
       "      <th>7584</th>\n",
       "      <td>10837</td>\n",
       "      <td>NaN</td>\n",
       "      <td>NaN</td>\n",
       "      <td>These boxes are ready to explode! Exploding Ki...</td>\n",
       "      <td>0</td>\n",
       "    </tr>\n",
       "    <tr>\n",
       "      <th>7587</th>\n",
       "      <td>10841</td>\n",
       "      <td>NaN</td>\n",
       "      <td>NaN</td>\n",
       "      <td>Sirens everywhere!</td>\n",
       "      <td>0</td>\n",
       "    </tr>\n",
       "    <tr>\n",
       "      <th>7593</th>\n",
       "      <td>10848</td>\n",
       "      <td>NaN</td>\n",
       "      <td>NaN</td>\n",
       "      <td>I just heard a really loud bang and everyone i...</td>\n",
       "      <td>0</td>\n",
       "    </tr>\n",
       "  </tbody>\n",
       "</table>\n",
       "<p>4342 rows × 5 columns</p>\n",
       "</div>"
      ],
      "text/plain": [
       "         id  keyword location  \\\n",
       "15       23      NaN      NaN   \n",
       "16       24      NaN      NaN   \n",
       "17       25      NaN      NaN   \n",
       "18       26      NaN      NaN   \n",
       "19       28      NaN      NaN   \n",
       "...     ...      ...      ...   \n",
       "7581  10833  wrecked  Lincoln   \n",
       "7582  10834  wrecked      NaN   \n",
       "7584  10837      NaN      NaN   \n",
       "7587  10841      NaN      NaN   \n",
       "7593  10848      NaN      NaN   \n",
       "\n",
       "                                                   text  target  \n",
       "15                                       What's up man?       0  \n",
       "16                                        I love fruits       0  \n",
       "17                                     Summer is lovely       0  \n",
       "18                                    My car is so fast       0  \n",
       "19                         What a goooooooaaaaaal!!!!!!       0  \n",
       "...                                                 ...     ...  \n",
       "7581  @engineshed Great atmosphere at the British Li...       0  \n",
       "7582  Cramer: Iger's 3 words that wrecked Disney's s...       0  \n",
       "7584  These boxes are ready to explode! Exploding Ki...       0  \n",
       "7587                                 Sirens everywhere!       0  \n",
       "7593  I just heard a really loud bang and everyone i...       0  \n",
       "\n",
       "[4342 rows x 5 columns]"
      ]
     },
     "execution_count": 11,
     "metadata": {},
     "output_type": "execute_result"
    }
   ],
   "source": [
    "#Viewing tweets that were labeled as non-disastrous\n",
    "train[train['target'] == 0]"
   ]
  },
  {
   "cell_type": "code",
   "execution_count": 12,
   "metadata": {},
   "outputs": [
    {
     "data": {
      "text/plain": [
       "\"Cramer: Iger's 3 words that wrecked Disney's stock - CNBC http://t.co/N6RBnHMTD4\""
      ]
     },
     "execution_count": 12,
     "metadata": {},
     "output_type": "execute_result"
    }
   ],
   "source": [
    "#Taking a closer look at index entry 7582 with keyword record 'wrecked'\n",
    "train.iloc[7582].text"
   ]
  },
  {
   "cell_type": "markdown",
   "metadata": {},
   "source": [
    "By observing the data above, these tweets were not associated with a disaster. However, index entry 7582 had keyword record 'wrecked'. By taking a closer look, the term 'wrecked' was used metaphorically to describe the plummetting of Disney stocks, not a disaster incident like a car wreck."
   ]
  },
  {
   "cell_type": "code",
   "execution_count": 13,
   "metadata": {},
   "outputs": [
    {
     "data": {
      "text/html": [
       "<div>\n",
       "<style scoped>\n",
       "    .dataframe tbody tr th:only-of-type {\n",
       "        vertical-align: middle;\n",
       "    }\n",
       "\n",
       "    .dataframe tbody tr th {\n",
       "        vertical-align: top;\n",
       "    }\n",
       "\n",
       "    .dataframe thead th {\n",
       "        text-align: right;\n",
       "    }\n",
       "</style>\n",
       "<table border=\"1\" class=\"dataframe\">\n",
       "  <thead>\n",
       "    <tr style=\"text-align: right;\">\n",
       "      <th></th>\n",
       "      <th>id</th>\n",
       "      <th>keyword</th>\n",
       "      <th>location</th>\n",
       "      <th>text</th>\n",
       "      <th>target</th>\n",
       "    </tr>\n",
       "  </thead>\n",
       "  <tbody>\n",
       "    <tr>\n",
       "      <th>0</th>\n",
       "      <td>1</td>\n",
       "      <td>NaN</td>\n",
       "      <td>NaN</td>\n",
       "      <td>Our Deeds are the Reason of this #earthquake M...</td>\n",
       "      <td>1</td>\n",
       "    </tr>\n",
       "    <tr>\n",
       "      <th>1</th>\n",
       "      <td>4</td>\n",
       "      <td>NaN</td>\n",
       "      <td>NaN</td>\n",
       "      <td>Forest fire near La Ronge Sask. Canada</td>\n",
       "      <td>1</td>\n",
       "    </tr>\n",
       "    <tr>\n",
       "      <th>2</th>\n",
       "      <td>5</td>\n",
       "      <td>NaN</td>\n",
       "      <td>NaN</td>\n",
       "      <td>All residents asked to 'shelter in place' are ...</td>\n",
       "      <td>1</td>\n",
       "    </tr>\n",
       "    <tr>\n",
       "      <th>3</th>\n",
       "      <td>6</td>\n",
       "      <td>NaN</td>\n",
       "      <td>NaN</td>\n",
       "      <td>13,000 people receive #wildfires evacuation or...</td>\n",
       "      <td>1</td>\n",
       "    </tr>\n",
       "    <tr>\n",
       "      <th>4</th>\n",
       "      <td>7</td>\n",
       "      <td>NaN</td>\n",
       "      <td>NaN</td>\n",
       "      <td>Just got sent this photo from Ruby #Alaska as ...</td>\n",
       "      <td>1</td>\n",
       "    </tr>\n",
       "    <tr>\n",
       "      <th>...</th>\n",
       "      <td>...</td>\n",
       "      <td>...</td>\n",
       "      <td>...</td>\n",
       "      <td>...</td>\n",
       "      <td>...</td>\n",
       "    </tr>\n",
       "    <tr>\n",
       "      <th>7608</th>\n",
       "      <td>10869</td>\n",
       "      <td>NaN</td>\n",
       "      <td>NaN</td>\n",
       "      <td>Two giant cranes holding a bridge collapse int...</td>\n",
       "      <td>1</td>\n",
       "    </tr>\n",
       "    <tr>\n",
       "      <th>7609</th>\n",
       "      <td>10870</td>\n",
       "      <td>NaN</td>\n",
       "      <td>NaN</td>\n",
       "      <td>@aria_ahrary @TheTawniest The out of control w...</td>\n",
       "      <td>1</td>\n",
       "    </tr>\n",
       "    <tr>\n",
       "      <th>7610</th>\n",
       "      <td>10871</td>\n",
       "      <td>NaN</td>\n",
       "      <td>NaN</td>\n",
       "      <td>M1.94 [01:04 UTC]?5km S of Volcano Hawaii. htt...</td>\n",
       "      <td>1</td>\n",
       "    </tr>\n",
       "    <tr>\n",
       "      <th>7611</th>\n",
       "      <td>10872</td>\n",
       "      <td>NaN</td>\n",
       "      <td>NaN</td>\n",
       "      <td>Police investigating after an e-bike collided ...</td>\n",
       "      <td>1</td>\n",
       "    </tr>\n",
       "    <tr>\n",
       "      <th>7612</th>\n",
       "      <td>10873</td>\n",
       "      <td>NaN</td>\n",
       "      <td>NaN</td>\n",
       "      <td>The Latest: More Homes Razed by Northern Calif...</td>\n",
       "      <td>1</td>\n",
       "    </tr>\n",
       "  </tbody>\n",
       "</table>\n",
       "<p>3271 rows × 5 columns</p>\n",
       "</div>"
      ],
      "text/plain": [
       "         id keyword location  \\\n",
       "0         1     NaN      NaN   \n",
       "1         4     NaN      NaN   \n",
       "2         5     NaN      NaN   \n",
       "3         6     NaN      NaN   \n",
       "4         7     NaN      NaN   \n",
       "...     ...     ...      ...   \n",
       "7608  10869     NaN      NaN   \n",
       "7609  10870     NaN      NaN   \n",
       "7610  10871     NaN      NaN   \n",
       "7611  10872     NaN      NaN   \n",
       "7612  10873     NaN      NaN   \n",
       "\n",
       "                                                   text  target  \n",
       "0     Our Deeds are the Reason of this #earthquake M...       1  \n",
       "1                Forest fire near La Ronge Sask. Canada       1  \n",
       "2     All residents asked to 'shelter in place' are ...       1  \n",
       "3     13,000 people receive #wildfires evacuation or...       1  \n",
       "4     Just got sent this photo from Ruby #Alaska as ...       1  \n",
       "...                                                 ...     ...  \n",
       "7608  Two giant cranes holding a bridge collapse int...       1  \n",
       "7609  @aria_ahrary @TheTawniest The out of control w...       1  \n",
       "7610  M1.94 [01:04 UTC]?5km S of Volcano Hawaii. htt...       1  \n",
       "7611  Police investigating after an e-bike collided ...       1  \n",
       "7612  The Latest: More Homes Razed by Northern Calif...       1  \n",
       "\n",
       "[3271 rows x 5 columns]"
      ]
     },
     "execution_count": 13,
     "metadata": {},
     "output_type": "execute_result"
    }
   ],
   "source": [
    "#Viewing tweets that were labeled as disastrous\n",
    "train[train['target'] == 1]"
   ]
  },
  {
   "cell_type": "code",
   "execution_count": 14,
   "metadata": {},
   "outputs": [
    {
     "data": {
      "text/plain": [
       "'Our Deeds are the Reason of this #earthquake May ALLAH Forgive us all'"
      ]
     },
     "execution_count": 14,
     "metadata": {},
     "output_type": "execute_result"
    }
   ],
   "source": [
    "#Viewing the first tweet in full\n",
    "train['text'].values[0]"
   ]
  },
  {
   "cell_type": "markdown",
   "metadata": {},
   "source": [
    "The data above are tweets that are affiliated with disasters. The first entry is about an earthquake and the second entry is a forest fire. "
   ]
  },
  {
   "cell_type": "code",
   "execution_count": 15,
   "metadata": {},
   "outputs": [
    {
     "data": {
      "text/plain": [
       "3341"
      ]
     },
     "execution_count": 15,
     "metadata": {},
     "output_type": "execute_result"
    }
   ],
   "source": [
    "#Number of unique values for location\n",
    "train['location'].nunique()"
   ]
  },
  {
   "cell_type": "code",
   "execution_count": 16,
   "metadata": {},
   "outputs": [
    {
     "data": {
      "text/plain": [
       " Blood Indian Reserve             1\n",
       "17th Dimension                    1\n",
       " Somewhere.                       1\n",
       "West Vancouver, B.C.              1\n",
       "My contac 27B80F7E 08170156520    1\n",
       "                                 ..\n",
       "Bug Forest                        1\n",
       "Fort Collins, CO                  1\n",
       "w. Nykae                          1\n",
       "Fairy Tail!                       1\n",
       "The Peach State                   1\n",
       "Name: location, Length: 341, dtype: int64"
      ]
     },
     "execution_count": 16,
     "metadata": {},
     "output_type": "execute_result"
    }
   ],
   "source": [
    "#Viewing least frequent used locations for train set\n",
    "train['location'].value_counts()[3000:]"
   ]
  },
  {
   "cell_type": "code",
   "execution_count": 17,
   "metadata": {},
   "outputs": [
    {
     "data": {
      "text/plain": [
       "USA              104\n",
       "New York          71\n",
       "United States     50\n",
       "London            45\n",
       "Canada            29\n",
       "                ... \n",
       "Asheville, NC      5\n",
       "Wisconsin          5\n",
       "Pakistan           5\n",
       "Cleveland, OH      5\n",
       "Pennsylvania       5\n",
       "Name: location, Length: 100, dtype: int64"
      ]
     },
     "execution_count": 17,
     "metadata": {},
     "output_type": "execute_result"
    }
   ],
   "source": [
    "#Viewing most frequent used locations for train set\n",
    "train['location'].value_counts()[:100]"
   ]
  },
  {
   "cell_type": "code",
   "execution_count": 18,
   "metadata": {},
   "outputs": [
    {
     "data": {
      "text/plain": [
       "Saint John, N.B, Canada     1\n",
       "upstate NY                  1\n",
       "usa                         1\n",
       "Kentucky                    1\n",
       "Tri-State                   1\n",
       "                           ..\n",
       "Cheltenham                  1\n",
       "28.709672,-97.376514        1\n",
       "Kurdistan                   1\n",
       "Harlem                      1\n",
       "Tampa Bay                   1\n",
       "Name: location, Length: 602, dtype: int64"
      ]
     },
     "execution_count": 18,
     "metadata": {},
     "output_type": "execute_result"
    }
   ],
   "source": [
    "#Viewing least frequent used locations for test set\n",
    "test['location'].value_counts()[1000:]"
   ]
  },
  {
   "cell_type": "code",
   "execution_count": 19,
   "metadata": {},
   "outputs": [
    {
     "data": {
      "text/plain": [
       "New York                       38\n",
       "USA                            37\n",
       "Worldwide                      16\n",
       "United States                  15\n",
       "London                         13\n",
       "                               ..\n",
       "china                           2\n",
       "Alaska, USA                     2\n",
       "France                          2\n",
       "Dubai, United Arab Emirates     2\n",
       "MAD as Hell                     2\n",
       "Name: location, Length: 100, dtype: int64"
      ]
     },
     "execution_count": 19,
     "metadata": {},
     "output_type": "execute_result"
    }
   ],
   "source": [
    "#Viewing most frequent used locations for test set\n",
    "test['location'].value_counts()[:100]"
   ]
  },
  {
   "cell_type": "code",
   "execution_count": null,
   "metadata": {},
   "outputs": [],
   "source": []
  },
  {
   "cell_type": "markdown",
   "metadata": {},
   "source": [
    "### Data visualization"
   ]
  },
  {
   "cell_type": "code",
   "execution_count": 20,
   "metadata": {},
   "outputs": [
    {
     "data": {
      "image/png": "[encoded data removed]",
      "text/plain": [
       "<Figure size 720x432 with 1 Axes>"
      ]
     },
     "metadata": {
      "needs_background": "light"
     },
     "output_type": "display_data"
    }
   ],
   "source": [
    "#Viewing the top 20 frequently used location\n",
    "train.location.value_counts()[:20].sort_values().plot(kind = 'barh', figsize = (10, 6))\n",
    "plt.title('Top 20 location where most tweets were sent from')\n",
    "plt.show();"
   ]
  },
  {
   "cell_type": "code",
   "execution_count": 21,
   "metadata": {},
   "outputs": [
    {
     "data": {
      "image/png": "[encoded data removed]",
      "text/plain": [
       "<Figure size 576x360 with 1 Axes>"
      ]
     },
     "metadata": {
      "needs_background": "light"
     },
     "output_type": "display_data"
    }
   ],
   "source": [
    "#Viewing distribution of non-disastrous vs. disastrous tweets\n",
    "train['target'].value_counts().plot(kind = 'bar', figsize = (8, 5))\n",
    "plt.title('Distribution of non-disastrous to disastrous tweets')\n",
    "plt.show();"
   ]
  },
  {
   "cell_type": "code",
   "execution_count": 22,
   "metadata": {},
   "outputs": [
    {
     "data": {
      "image/png": "[encoded data removed]",
      "text/plain": [
       "<Figure size 2160x1080 with 1 Axes>"
      ]
     },
     "metadata": {
      "needs_background": "light"
     },
     "output_type": "display_data"
    }
   ],
   "source": [
    "#Viewing the distribution of keywords\n",
    "fig = plt.figure(figsize = (30, 15))\n",
    "\n",
    "train.keyword.value_counts().plot(kind = 'bar')\n",
    "plt.show();"
   ]
  },
  {
   "cell_type": "markdown",
   "metadata": {},
   "source": [
    "### Data cleaning and preparation"
   ]
  },
  {
   "cell_type": "code",
   "execution_count": 23,
   "metadata": {},
   "outputs": [
    {
     "name": "stdout",
     "output_type": "stream",
     "text": [
      "<class 'pandas.core.frame.DataFrame'>\n",
      "Int64Index: 10876 entries, 0 to 3262\n",
      "Data columns (total 5 columns):\n",
      " #   Column    Non-Null Count  Dtype  \n",
      "---  ------    --------------  -----  \n",
      " 0   id        10876 non-null  int64  \n",
      " 1   keyword   10789 non-null  object \n",
      " 2   location  7238 non-null   object \n",
      " 3   text      10876 non-null  object \n",
      " 4   target    7613 non-null   float64\n",
      "dtypes: float64(1), int64(1), object(3)\n",
      "memory usage: 509.8+ KB\n"
     ]
    }
   ],
   "source": [
    "#Appending train and test sets \n",
    "df = train.append(test, sort = False)\n",
    "df.info()"
   ]
  },
  {
   "cell_type": "code",
   "execution_count": 24,
   "metadata": {},
   "outputs": [
    {
     "data": {
      "text/plain": [
       "0"
      ]
     },
     "execution_count": 24,
     "metadata": {},
     "output_type": "execute_result"
    }
   ],
   "source": [
    "#Checking for duplicate entries from train and test sets\n",
    "df.duplicated().sum()"
   ]
  },
  {
   "cell_type": "code",
   "execution_count": 25,
   "metadata": {},
   "outputs": [],
   "source": [
    "#Dropping location attribute due to high amount of nulls and random locations\n",
    "df.drop('location', axis = 1, inplace = True)"
   ]
  },
  {
   "cell_type": "code",
   "execution_count": 26,
   "metadata": {},
   "outputs": [],
   "source": [
    "#Removing URLs\n",
    "import re\n",
    "df['text'] = df['text'].apply(lambda x: re.sub(r'(https|http)?:\\/\\/(\\w|\\.|\\/|\\?|\\=|\\&|\\%)*\\b', '', x, flags = re.MULTILINE))"
   ]
  },
  {
   "cell_type": "code",
   "execution_count": 27,
   "metadata": {},
   "outputs": [],
   "source": [
    "#Removing puncuations\n",
    "df['text'].replace('[^\\w\\s]', '', regex = True, inplace = True)"
   ]
  },
  {
   "cell_type": "code",
   "execution_count": 28,
   "metadata": {},
   "outputs": [
    {
     "data": {
      "text/plain": [
       "0       Our Deeds are the Reason of this earthquake Ma...\n",
       "1                   Forest fire near La Ronge Sask Canada\n",
       "2       All residents asked to shelter in place are be...\n",
       "3       13000 people receive wildfires evacuation orde...\n",
       "4       Just got sent this photo from Ruby Alaska as s...\n",
       "                              ...                        \n",
       "3258    EARTHQUAKE SAFETY LOS ANGELES ÛÒ SAFETY FASTEN...\n",
       "3259    Storm in RI worse than last hurricane My citya...\n",
       "3260                    Green Line derailment in Chicago \n",
       "3261            MEG issues Hazardous Weather Outlook HWO \n",
       "3262    CityofCalgary has activated its Municipal Emer...\n",
       "Name: text, Length: 10876, dtype: object"
      ]
     },
     "execution_count": 28,
     "metadata": {},
     "output_type": "execute_result"
    }
   ],
   "source": [
    "df['text']"
   ]
  },
  {
   "cell_type": "markdown",
   "metadata": {},
   "source": [
    "#### Feature Engineering"
   ]
  },
  {
   "cell_type": "code",
   "execution_count": 29,
   "metadata": {},
   "outputs": [],
   "source": [
    "#Adding word count of each tweet as an attribute\n",
    "df['word_count'] = df['text'].apply(lambda x: len(str(x).split()))"
   ]
  },
  {
   "cell_type": "code",
   "execution_count": 30,
   "metadata": {},
   "outputs": [
    {
     "data": {
      "text/html": [
       "<div>\n",
       "<style scoped>\n",
       "    .dataframe tbody tr th:only-of-type {\n",
       "        vertical-align: middle;\n",
       "    }\n",
       "\n",
       "    .dataframe tbody tr th {\n",
       "        vertical-align: top;\n",
       "    }\n",
       "\n",
       "    .dataframe thead th {\n",
       "        text-align: right;\n",
       "    }\n",
       "</style>\n",
       "<table border=\"1\" class=\"dataframe\">\n",
       "  <thead>\n",
       "    <tr style=\"text-align: right;\">\n",
       "      <th></th>\n",
       "      <th>id</th>\n",
       "      <th>keyword</th>\n",
       "      <th>text</th>\n",
       "      <th>target</th>\n",
       "      <th>word_count</th>\n",
       "    </tr>\n",
       "  </thead>\n",
       "  <tbody>\n",
       "    <tr>\n",
       "      <th>0</th>\n",
       "      <td>1</td>\n",
       "      <td>NaN</td>\n",
       "      <td>Our Deeds are the Reason of this earthquake Ma...</td>\n",
       "      <td>1.0</td>\n",
       "      <td>13</td>\n",
       "    </tr>\n",
       "    <tr>\n",
       "      <th>1</th>\n",
       "      <td>4</td>\n",
       "      <td>NaN</td>\n",
       "      <td>Forest fire near La Ronge Sask Canada</td>\n",
       "      <td>1.0</td>\n",
       "      <td>7</td>\n",
       "    </tr>\n",
       "    <tr>\n",
       "      <th>2</th>\n",
       "      <td>5</td>\n",
       "      <td>NaN</td>\n",
       "      <td>All residents asked to shelter in place are be...</td>\n",
       "      <td>1.0</td>\n",
       "      <td>22</td>\n",
       "    </tr>\n",
       "    <tr>\n",
       "      <th>3</th>\n",
       "      <td>6</td>\n",
       "      <td>NaN</td>\n",
       "      <td>13000 people receive wildfires evacuation orde...</td>\n",
       "      <td>1.0</td>\n",
       "      <td>8</td>\n",
       "    </tr>\n",
       "    <tr>\n",
       "      <th>4</th>\n",
       "      <td>7</td>\n",
       "      <td>NaN</td>\n",
       "      <td>Just got sent this photo from Ruby Alaska as s...</td>\n",
       "      <td>1.0</td>\n",
       "      <td>16</td>\n",
       "    </tr>\n",
       "  </tbody>\n",
       "</table>\n",
       "</div>"
      ],
      "text/plain": [
       "   id keyword                                               text  target  \\\n",
       "0   1     NaN  Our Deeds are the Reason of this earthquake Ma...     1.0   \n",
       "1   4     NaN              Forest fire near La Ronge Sask Canada     1.0   \n",
       "2   5     NaN  All residents asked to shelter in place are be...     1.0   \n",
       "3   6     NaN  13000 people receive wildfires evacuation orde...     1.0   \n",
       "4   7     NaN  Just got sent this photo from Ruby Alaska as s...     1.0   \n",
       "\n",
       "   word_count  \n",
       "0          13  \n",
       "1           7  \n",
       "2          22  \n",
       "3           8  \n",
       "4          16  "
      ]
     },
     "execution_count": 30,
     "metadata": {},
     "output_type": "execute_result"
    }
   ],
   "source": [
    "df.head()"
   ]
  },
  {
   "cell_type": "code",
   "execution_count": 31,
   "metadata": {},
   "outputs": [
    {
     "data": {
      "image/png": "[encoded data removed]",
      "text/plain": [
       "<Figure size 432x288 with 2 Axes>"
      ]
     },
     "metadata": {
      "needs_background": "light"
     },
     "output_type": "display_data"
    }
   ],
   "source": [
    "#Viewing the word count distribution for non-disastrous vs. disastrous tweets\n",
    "nd = df[df['target'] == 0]\n",
    "d = df[df['target'] == 1]\n",
    "\n",
    "#Graphing the histogram for word counts for non-disastrous vs. disastrous tweets\n",
    "plt.subplot(121)\n",
    "nd['word_count'].hist()\n",
    "plt.title('Word count for non-disastrous')\n",
    "plt.xlabel('Word count')\n",
    "\n",
    "plt.subplot(122)\n",
    "d['word_count'].hist(color= 'r')\n",
    "plt.title('Word count for disastrous')\n",
    "plt.xlabel('Word count')\n",
    "\n",
    "plt.show();"
   ]
  },
  {
   "cell_type": "code",
   "execution_count": 32,
   "metadata": {},
   "outputs": [],
   "source": [
    "import nltk\n",
    "\n",
    "#Adding tokenized text as an attribute\n",
    "df['tokenized'] = df['text'].apply(lambda x: nltk.word_tokenize(x.lower()))"
   ]
  },
  {
   "cell_type": "code",
   "execution_count": 33,
   "metadata": {},
   "outputs": [
    {
     "name": "stdout",
     "output_type": "stream",
     "text": [
      "['i', 'me', 'my', 'myself', 'we', 'our', 'ours', 'ourselves', 'you', \"you're\", \"you've\", \"you'll\", \"you'd\", 'your', 'yours', 'yourself', 'yourselves', 'he', 'him', 'his', 'himself', 'she', \"she's\", 'her', 'hers', 'herself', 'it', \"it's\", 'its', 'itself', 'they', 'them', 'their', 'theirs', 'themselves', 'what', 'which', 'who', 'whom', 'this', 'that', \"that'll\", 'these', 'those', 'am', 'is', 'are', 'was', 'were', 'be', 'been', 'being', 'have', 'has', 'had', 'having', 'do', 'does', 'did', 'doing', 'a', 'an', 'the', 'and', 'but', 'if', 'or', 'because', 'as', 'until', 'while', 'of', 'at', 'by', 'for', 'with', 'about', 'against', 'between', 'into', 'through', 'during', 'before', 'after', 'above', 'below', 'to', 'from', 'up', 'down', 'in', 'out', 'on', 'off', 'over', 'under', 'again', 'further', 'then', 'once', 'here', 'there', 'when', 'where', 'why', 'how', 'all', 'any', 'both', 'each', 'few', 'more', 'most', 'other', 'some', 'such', 'no', 'nor', 'not', 'only', 'own', 'same', 'so', 'than', 'too', 'very', 's', 't', 'can', 'will', 'just', 'don', \"don't\", 'should', \"should've\", 'now', 'd', 'll', 'm', 'o', 're', 've', 'y', 'ain', 'aren', \"aren't\", 'couldn', \"couldn't\", 'didn', \"didn't\", 'doesn', \"doesn't\", 'hadn', \"hadn't\", 'hasn', \"hasn't\", 'haven', \"haven't\", 'isn', \"isn't\", 'ma', 'mightn', \"mightn't\", 'mustn', \"mustn't\", 'needn', \"needn't\", 'shan', \"shan't\", 'shouldn', \"shouldn't\", 'wasn', \"wasn't\", 'weren', \"weren't\", 'won', \"won't\", 'wouldn', \"wouldn't\"]\n"
     ]
    }
   ],
   "source": [
    "from textblob import TextBlob, Word\n",
    "from nltk.corpus import stopwords\n",
    "\n",
    "#List of stopwords\n",
    "stop_words = list(stopwords.words('english'))\n",
    "print (stop_words)"
   ]
  },
  {
   "cell_type": "code",
   "execution_count": 34,
   "metadata": {},
   "outputs": [],
   "source": [
    "#Removing stopwords and adding new lists as attribute\n",
    "df['stopwords_removal'] = df['tokenized'].apply(lambda x: [word for word in x if word not in stop_words])"
   ]
  },
  {
   "cell_type": "code",
   "execution_count": 35,
   "metadata": {},
   "outputs": [],
   "source": [
    "from nltk.stem import WordNetLemmatizer, PorterStemmer\n",
    "\n",
    "#Lemmatizing and Stemming lists of words and adding new lists as attribute\n",
    "df['lem_stem'] = df['stopwords_removal'].apply(lambda x: [Word(w).lemmatize() for w in x])\n",
    "df['lem_stem'] = df['lem_stem'].apply(lambda x: [PorterStemmer().stem(w) for w in x])"
   ]
  },
  {
   "cell_type": "code",
   "execution_count": 36,
   "metadata": {},
   "outputs": [],
   "source": [
    "#Adding subjectivity and polarity of tweets as new attributes\n",
    "df['subjectivity'] = df['text'].apply(lambda x: TextBlob(x).sentiment.subjectivity)\n",
    "df['polarity'] = df['text'].apply(lambda x: TextBlob(x).sentiment.polarity)"
   ]
  },
  {
   "cell_type": "code",
   "execution_count": 37,
   "metadata": {},
   "outputs": [
    {
     "data": {
      "text/html": [
       "<div>\n",
       "<style scoped>\n",
       "    .dataframe tbody tr th:only-of-type {\n",
       "        vertical-align: middle;\n",
       "    }\n",
       "\n",
       "    .dataframe tbody tr th {\n",
       "        vertical-align: top;\n",
       "    }\n",
       "\n",
       "    .dataframe thead th {\n",
       "        text-align: right;\n",
       "    }\n",
       "</style>\n",
       "<table border=\"1\" class=\"dataframe\">\n",
       "  <thead>\n",
       "    <tr style=\"text-align: right;\">\n",
       "      <th></th>\n",
       "      <th>id</th>\n",
       "      <th>keyword</th>\n",
       "      <th>text</th>\n",
       "      <th>target</th>\n",
       "      <th>word_count</th>\n",
       "      <th>tokenized</th>\n",
       "      <th>stopwords_removal</th>\n",
       "      <th>lem_stem</th>\n",
       "      <th>subjectivity</th>\n",
       "      <th>polarity</th>\n",
       "    </tr>\n",
       "  </thead>\n",
       "  <tbody>\n",
       "    <tr>\n",
       "      <th>0</th>\n",
       "      <td>1</td>\n",
       "      <td>NaN</td>\n",
       "      <td>Our Deeds are the Reason of this earthquake Ma...</td>\n",
       "      <td>1.0</td>\n",
       "      <td>13</td>\n",
       "      <td>[our, deeds, are, the, reason, of, this, earth...</td>\n",
       "      <td>[deeds, reason, earthquake, may, allah, forgiv...</td>\n",
       "      <td>[deed, reason, earthquak, may, allah, forgiv, u]</td>\n",
       "      <td>0.0000</td>\n",
       "      <td>0.00000</td>\n",
       "    </tr>\n",
       "    <tr>\n",
       "      <th>1</th>\n",
       "      <td>4</td>\n",
       "      <td>NaN</td>\n",
       "      <td>Forest fire near La Ronge Sask Canada</td>\n",
       "      <td>1.0</td>\n",
       "      <td>7</td>\n",
       "      <td>[forest, fire, near, la, ronge, sask, canada]</td>\n",
       "      <td>[forest, fire, near, la, ronge, sask, canada]</td>\n",
       "      <td>[forest, fire, near, la, rong, sask, canada]</td>\n",
       "      <td>0.4000</td>\n",
       "      <td>0.10000</td>\n",
       "    </tr>\n",
       "    <tr>\n",
       "      <th>2</th>\n",
       "      <td>5</td>\n",
       "      <td>NaN</td>\n",
       "      <td>All residents asked to shelter in place are be...</td>\n",
       "      <td>1.0</td>\n",
       "      <td>22</td>\n",
       "      <td>[all, residents, asked, to, shelter, in, place...</td>\n",
       "      <td>[residents, asked, shelter, place, notified, o...</td>\n",
       "      <td>[resid, ask, shelter, place, notifi, offic, ev...</td>\n",
       "      <td>0.3875</td>\n",
       "      <td>-0.01875</td>\n",
       "    </tr>\n",
       "    <tr>\n",
       "      <th>3</th>\n",
       "      <td>6</td>\n",
       "      <td>NaN</td>\n",
       "      <td>13000 people receive wildfires evacuation orde...</td>\n",
       "      <td>1.0</td>\n",
       "      <td>8</td>\n",
       "      <td>[13000, people, receive, wildfires, evacuation...</td>\n",
       "      <td>[13000, people, receive, wildfires, evacuation...</td>\n",
       "      <td>[13000, peopl, receiv, wildfir, evacu, order, ...</td>\n",
       "      <td>0.0000</td>\n",
       "      <td>0.00000</td>\n",
       "    </tr>\n",
       "    <tr>\n",
       "      <th>4</th>\n",
       "      <td>7</td>\n",
       "      <td>NaN</td>\n",
       "      <td>Just got sent this photo from Ruby Alaska as s...</td>\n",
       "      <td>1.0</td>\n",
       "      <td>16</td>\n",
       "      <td>[just, got, sent, this, photo, from, ruby, ala...</td>\n",
       "      <td>[got, sent, photo, ruby, alaska, smoke, wildfi...</td>\n",
       "      <td>[got, sent, photo, rubi, alaska, smoke, wildfi...</td>\n",
       "      <td>0.0000</td>\n",
       "      <td>0.00000</td>\n",
       "    </tr>\n",
       "    <tr>\n",
       "      <th>5</th>\n",
       "      <td>8</td>\n",
       "      <td>NaN</td>\n",
       "      <td>RockyFire Update  California Hwy 20 closed in ...</td>\n",
       "      <td>1.0</td>\n",
       "      <td>16</td>\n",
       "      <td>[rockyfire, update, california, hwy, 20, close...</td>\n",
       "      <td>[rockyfire, update, california, hwy, 20, close...</td>\n",
       "      <td>[rockyfir, updat, california, hwi, 20, close, ...</td>\n",
       "      <td>0.2375</td>\n",
       "      <td>-0.11250</td>\n",
       "    </tr>\n",
       "    <tr>\n",
       "      <th>6</th>\n",
       "      <td>10</td>\n",
       "      <td>NaN</td>\n",
       "      <td>flood disaster Heavy rain causes flash floodin...</td>\n",
       "      <td>1.0</td>\n",
       "      <td>14</td>\n",
       "      <td>[flood, disaster, heavy, rain, causes, flash, ...</td>\n",
       "      <td>[flood, disaster, heavy, rain, causes, flash, ...</td>\n",
       "      <td>[flood, disast, heavi, rain, caus, flash, floo...</td>\n",
       "      <td>0.5000</td>\n",
       "      <td>-0.20000</td>\n",
       "    </tr>\n",
       "    <tr>\n",
       "      <th>7</th>\n",
       "      <td>13</td>\n",
       "      <td>NaN</td>\n",
       "      <td>Im on top of the hill and I can see a fire in ...</td>\n",
       "      <td>1.0</td>\n",
       "      <td>15</td>\n",
       "      <td>[im, on, top, of, the, hill, and, i, can, see,...</td>\n",
       "      <td>[im, top, hill, see, fire, woods]</td>\n",
       "      <td>[im, top, hill, see, fire, wood]</td>\n",
       "      <td>0.5000</td>\n",
       "      <td>0.50000</td>\n",
       "    </tr>\n",
       "    <tr>\n",
       "      <th>8</th>\n",
       "      <td>14</td>\n",
       "      <td>NaN</td>\n",
       "      <td>Theres an emergency evacuation happening now i...</td>\n",
       "      <td>1.0</td>\n",
       "      <td>12</td>\n",
       "      <td>[theres, an, emergency, evacuation, happening,...</td>\n",
       "      <td>[theres, emergency, evacuation, happening, bui...</td>\n",
       "      <td>[there, emerg, evacu, happen, build, across, s...</td>\n",
       "      <td>0.0000</td>\n",
       "      <td>0.00000</td>\n",
       "    </tr>\n",
       "    <tr>\n",
       "      <th>9</th>\n",
       "      <td>15</td>\n",
       "      <td>NaN</td>\n",
       "      <td>Im afraid that the tornado is coming to our area</td>\n",
       "      <td>1.0</td>\n",
       "      <td>10</td>\n",
       "      <td>[im, afraid, that, the, tornado, is, coming, t...</td>\n",
       "      <td>[im, afraid, tornado, coming, area]</td>\n",
       "      <td>[im, afraid, tornado, come, area]</td>\n",
       "      <td>0.9000</td>\n",
       "      <td>-0.60000</td>\n",
       "    </tr>\n",
       "  </tbody>\n",
       "</table>\n",
       "</div>"
      ],
      "text/plain": [
       "   id keyword                                               text  target  \\\n",
       "0   1     NaN  Our Deeds are the Reason of this earthquake Ma...     1.0   \n",
       "1   4     NaN              Forest fire near La Ronge Sask Canada     1.0   \n",
       "2   5     NaN  All residents asked to shelter in place are be...     1.0   \n",
       "3   6     NaN  13000 people receive wildfires evacuation orde...     1.0   \n",
       "4   7     NaN  Just got sent this photo from Ruby Alaska as s...     1.0   \n",
       "5   8     NaN  RockyFire Update  California Hwy 20 closed in ...     1.0   \n",
       "6  10     NaN  flood disaster Heavy rain causes flash floodin...     1.0   \n",
       "7  13     NaN  Im on top of the hill and I can see a fire in ...     1.0   \n",
       "8  14     NaN  Theres an emergency evacuation happening now i...     1.0   \n",
       "9  15     NaN   Im afraid that the tornado is coming to our area     1.0   \n",
       "\n",
       "   word_count                                          tokenized  \\\n",
       "0          13  [our, deeds, are, the, reason, of, this, earth...   \n",
       "1           7      [forest, fire, near, la, ronge, sask, canada]   \n",
       "2          22  [all, residents, asked, to, shelter, in, place...   \n",
       "3           8  [13000, people, receive, wildfires, evacuation...   \n",
       "4          16  [just, got, sent, this, photo, from, ruby, ala...   \n",
       "5          16  [rockyfire, update, california, hwy, 20, close...   \n",
       "6          14  [flood, disaster, heavy, rain, causes, flash, ...   \n",
       "7          15  [im, on, top, of, the, hill, and, i, can, see,...   \n",
       "8          12  [theres, an, emergency, evacuation, happening,...   \n",
       "9          10  [im, afraid, that, the, tornado, is, coming, t...   \n",
       "\n",
       "                                   stopwords_removal  \\\n",
       "0  [deeds, reason, earthquake, may, allah, forgiv...   \n",
       "1      [forest, fire, near, la, ronge, sask, canada]   \n",
       "2  [residents, asked, shelter, place, notified, o...   \n",
       "3  [13000, people, receive, wildfires, evacuation...   \n",
       "4  [got, sent, photo, ruby, alaska, smoke, wildfi...   \n",
       "5  [rockyfire, update, california, hwy, 20, close...   \n",
       "6  [flood, disaster, heavy, rain, causes, flash, ...   \n",
       "7                  [im, top, hill, see, fire, woods]   \n",
       "8  [theres, emergency, evacuation, happening, bui...   \n",
       "9                [im, afraid, tornado, coming, area]   \n",
       "\n",
       "                                            lem_stem  subjectivity  polarity  \n",
       "0   [deed, reason, earthquak, may, allah, forgiv, u]        0.0000   0.00000  \n",
       "1       [forest, fire, near, la, rong, sask, canada]        0.4000   0.10000  \n",
       "2  [resid, ask, shelter, place, notifi, offic, ev...        0.3875  -0.01875  \n",
       "3  [13000, peopl, receiv, wildfir, evacu, order, ...        0.0000   0.00000  \n",
       "4  [got, sent, photo, rubi, alaska, smoke, wildfi...        0.0000   0.00000  \n",
       "5  [rockyfir, updat, california, hwi, 20, close, ...        0.2375  -0.11250  \n",
       "6  [flood, disast, heavi, rain, caus, flash, floo...        0.5000  -0.20000  \n",
       "7                   [im, top, hill, see, fire, wood]        0.5000   0.50000  \n",
       "8  [there, emerg, evacu, happen, build, across, s...        0.0000   0.00000  \n",
       "9                  [im, afraid, tornado, come, area]        0.9000  -0.60000  "
      ]
     },
     "execution_count": 37,
     "metadata": {},
     "output_type": "execute_result"
    }
   ],
   "source": [
    "df.head(10)"
   ]
  },
  {
   "cell_type": "code",
   "execution_count": 38,
   "metadata": {},
   "outputs": [],
   "source": [
    "import sklearn\n",
    "from sklearn.feature_extraction.text import CountVectorizer, TfidfVectorizer"
   ]
  },
  {
   "cell_type": "code",
   "execution_count": 39,
   "metadata": {},
   "outputs": [],
   "source": [
    "vect = CountVectorizer()\n",
    "\n",
    "#Joining list of words in attribute lem-stem into a string for count vectorizing\n",
    "df['lem_stem'] = df['lem_stem'].apply(lambda x: ' '.join(x))"
   ]
  },
  {
   "cell_type": "code",
   "execution_count": 40,
   "metadata": {},
   "outputs": [],
   "source": [
    "#Getting frequency count of words in tweets using count vectorizer\n",
    "count_vect = vect.fit_transform(df['lem_stem'])"
   ]
  },
  {
   "cell_type": "code",
   "execution_count": 41,
   "metadata": {},
   "outputs": [
    {
     "data": {
      "text/plain": [
       "(10876, 18821)"
      ]
     },
     "execution_count": 41,
     "metadata": {},
     "output_type": "execute_result"
    }
   ],
   "source": [
    "count_vect.shape"
   ]
  },
  {
   "cell_type": "code",
   "execution_count": 42,
   "metadata": {},
   "outputs": [
    {
     "name": "stdout",
     "output_type": "stream",
     "text": [
      "{'deed': 4803, 'reason': 13572, 'earthquak': 5528, 'may': 10542, 'allah': 1400, 'forgiv': 6590, 'forest': 6583, 'fire': 6395, 'near': 11455, 'la': 9569, 'rong': 14083, 'sask': 14403, 'canada': 3295, 'resid': 13808, 'ask': 1871, 'shelter': 14814, 'place': 12795, 'notifi': 11796, 'offic': 11976, 'evacu': 5963, 'order': 12177, 'expect': 6036, '13000': 167, 'peopl': 12584, 'receiv': 13594, 'wildfir': 18098, 'california': 3244, 'got': 7199, 'sent': 14656, 'photo': 12698, 'rubi': 14187, 'alaska': 1328, 'smoke': 15186, 'pour': 12970, 'school': 14493, 'rockyfir': 14034, 'updat': 17352, 'hwi': 8152, '20': 320, 'close': 3881, 'direct': 5066, 'due': 5438, 'lake': 9594, 'counti': 4280, 'cafir': 3210, 'flood': 6489, 'disast': 5085, 'heavi': 7699, 'rain': 13431, 'caus': 3465, 'flash': 6453, 'street': 15743, 'manit': 10374, 'colorado': 4012, 'spring': 15498, 'area': 1750, 'im': 8324, 'top': 16787, 'hill': 7835, 'see': 14597, 'wood': 18232, 'there': 16458, 'emerg': 5714, 'happen': 7542, 'build': 3074, 'across': 1119, 'afraid': 1206, 'tornado': 16803, 'come': 4034, 'three': 16562, 'die': 5026, 'heat': 7693, 'wave': 17854, 'far': 6190, 'haha': 7444, 'south': 15365, 'tampa': 16130, 'get': 7006, 'hah': 7443, 'wait': 17745, 'second': 14585, 'live': 9960, 'gon': 7159, 'na': 11337, 'fvck': 6836, 'florida': 6502, 'tampabay': 16131, '18': 241, '19': 261, 'day': 4719, 'ive': 8732, 'lost': 10108, 'count': 4274, 'bago': 2150, 'myanmar': 11305, 'arriv': 1806, 'damag': 4600, 'bu': 3051, '80': 813, 'multi': 11229, 'car': 3354, 'crash': 4340, 'break': 2916, 'what': 18008, 'man': 10357, 'love': 10123, 'fruit': 6763, 'summer': 15861, 'fast': 6207, 'goooooooaaaaaal': 7181, 'ridicul': 13924, 'london': 10054, 'cool': 4200, 'ski': 15065, 'wonder': 18227, 'looooool': 10081, 'wayi': 17861, 'cant': 3323, 'eat': 5545, 'shit': 14850, 'nyc': 11884, 'last': 9652, 'week': 17926, 'girlfriend': 7065, 'cooool': 4205, 'like': 9891, 'pasta': 12471, 'end': 5768, 'bbcmtd': 2293, 'wholesal': 18061, 'market': 10441, 'ablaz': 1040, 'alway': 1465, 'tri': 16960, 'bring': 2973, 'metal': 10710, 'rt': 14170, 'africanbaz': 1209, 'newsnigeria': 11560, 'flag': 6446, 'set': 14693, 'aba': 1004, 'cri': 4389, 'plu': 12843, 'side': 14926, 'look': 10074, 'sky': 15078, 'night': 11626, 'phdsquar': 12673, 'mufc': 11216, 'theyv': 16493, 'built': 3080, 'much': 11210, 'hype': 8166, 'around': 1799, 'new': 11525, 'acquisit': 1115, 'doubt': 5296, 'epl': 5856, 'season': 14569, 'inec': 8447, 'abia': 1035, 'barbado': 2213, 'bridgetown': 2958, 'jamaica': 8798, 'ûò': 18814, 'two': 17139, 'santa': 14384, 'cruz': 4450, 'ûó': 18817, 'head': 7654, 'st': 15543, 'elizabeth': 5681, 'polic': 12889, 'superintend': 15914, 'lord': 10092, 'check': 3621, 'nsfw': 11834, 'outsid': 12265, 'your': 18553, 'aliv': 1395, 'dead': 4741, 'insid': 8517, 'awesom': 2059, 'time': 16636, 'visit': 17645, 'cfc': 3540, 'ancop': 1566, 'site': 15029, 'thank': 16354, 'tita': 16668, 'vida': 17589, 'take': 16104, 'care': 3368, 'soooo': 15330, 'pump': 13257, 'southridgelif': 15376, 'want': 17776, 'chicago': 3661, 'preach': 13017, 'hotel': 8026, 'gain': 6864, 'follow': 6542, 'know': 9453, 'stat': 15604, 'grow': 7333, 'west': 17969, 'burn': 3114, 'thousand': 16550, 'alon': 1437, 'perfect': 12600, 'tracklist': 16863, 'life': 9860, 'leav': 9733, 'first': 6416, 'retain': 13837, 'quit': 13365, 'weird': 17937, 'better': 2481, 'use': 17411, 'wear': 17903, 'everi': 5981, 'singl': 14992, 'next': 11573, 'year': 18485, 'least': 9731, 'deputi': 4908, 'shot': 14885, 'brighton': 2968, 'home': 7941, 'wife': 18087, 'six': 15037, 'jail': 8786, 'niec': 11616, 'lanford': 9626, 'salmon': 14326, 'arsonist': 1811, 'deliber': 4845, 'black': 2626, 'church': 3762, 'north': 11758, 'carolinaåêablaz': 3397, 'noch': 11695, 'elbestia': 5647, 'alexis_sanchez': 1371, 'happi': 7545, 'teammat': 16219, 'train': 16886, 'hard': 7555, 'goodnight': 7168, 'gunner': 7403, 'kurd': 9540, 'trampl': 16896, 'turkmen': 17094, 'later': 9662, 'other': 12217, 'vandal': 17485, 'front': 6753, 'diyala': 5172, 'truck': 17024, 'r21': 13381, 'voortrekk': 17696, 'ave': 2033, 'tambo': 16126, 'intl': 8587, 'cargo': 3376, 'section': 14590, 'heart': 7680, 'citi': 3794, 'gift': 7042, 'skylin': 15083, 'kiss': 9414, 'upon': 17361, 'lip': 9926, 'û_': 18702, 'tonight': 16762, 'lo': 10006, 'angel': 1585, 'ig': 8280, 'fb': 6239, 'fill': 6362, 'sunset': 15901, 'peep': 12564, 'climat': 3867, 'energi': 5781, 'revel': 13858, 'wmv': 18195, 'video': 17590, 'mean': 10594, 'mac': 10253, 'farewel': 6192, 'en': 5758, 'rout': 14134, 'dvd': 5485, 'gtxrwm': 7364, 'progress': 13144, 'greet': 7291, 'month': 11058, 'student': 15784, 'would': 18284, 'pen': 12571, 'torch': 16797, 'public': 13234, 'rene': 13749, 'amp': 1521, 'jacinta': 8752, 'secret': 14587, '2k13': 456, 'fallen': 6152, 'edit': 5583, 'mar': 10402, '30': 473, '2013': 339, 'navista7': 11424, 'steve': 15659, 'someth': 15298, 'els': 5694, 'tinderbox': 16656, 'clown': 3893, 'hood': 7977, 'news24680': 11546, 'nowplay': 11817, 'ian': 8202, 'buff': 3066, 'magnitud': 10302, 'edm': 5590, 'nxwestmidland': 11877, 'huge': 8091, 'talk': 16118, 'go': 7129, 'dont': 5257, 'make': 10326, 'work': 18245, 'kid': 9341, 'cuz': 4536, 'bicycl': 2519, 'accid': 1080, 'split': 15470, 'testicl': 16327, 'imposs': 8368, 'michael': 10764, 'father': 6221, 'i24': 8177, 'nashvilletraff': 11387, 'traffic': 16874, 'move': 11148, '8m': 857, 'slower': 15139, 'usual': 17427, 'center': 3520, 'lane': 9625, 'block': 2686, 'santaclara': 14385, 'us101': 17393, 'nb': 11429, 'great': 7271, 'america': 1501, 'pkwi': 12793, 'bayarea': 2281, 'personalinjuri': 12628, 'read': 13542, 'advic': 1180, 'solicitor': 15284, 'help': 7738, 'otleyhour': 12224, 'stloui': 15685, 'caraccidentlawy': 3356, 'speed': 15429, 'among': 1519, 'teen': 16251, 'teeû_': 16257, 'report': 13773, 'motor': 11126, 'vehicl': 17522, 'curri': 4518, 'herman': 7768, 'rd': 13530, 'stephenson': 15649, 'involv': 8621, 'overturn': 12299, 'pleas': 12828, 'bigrigradio': 2539, 'awar': 2054, 'i77': 8186, 'mile': 10822, 'marker': 10440, '31': 488, 'mooresvil': 11070, 'iredel': 8650, 'ramp': 13457, '86': 845, '118': 129, 'pm': 12856, 'sleepjunki': 15111, 'sleep': 15109, 'pill': 12740, 'doubl': 5291, 'risk': 13962, 'knew': 9443, 'cabrillo': 3197, 'hwymagellan': 8157, 'av': 2025, 'mir': 10888, '080615': 51, '110358': 111, '40': 563, 'congest': 4126, 'pastor': 12473, 'scene': 14479, 'accidentwho': 1084, 'owner': 12313, 'rang': 13471, 'rover': 14139, 'mom': 11021, 'didnt': 5024, 'wish': 18166, 'spilt': 15452, 'mayonnais': 10550, 'horribl': 8004, 'past': 12470, 'sunday': 15885, 'final': 6369, 'abl': 1039, 'god': 7135, 'piss': 12771, 'donni': 5255, 'tell': 16265, 'anoth': 1627, 'truckcrash': 17025, 'fortworth': 6612, 'interst': 8579, 'click': 3863, 'youv': 18563, 'crashgt': 4343, 'ashvil': 1862, '23': 396, 'sb': 14454, 'sr': 15526, '752': 794, 'carolina': 3395, 'motorcyclist': 11129, 'dy': 5495, 'i540': 8181, 'cross': 4416, 'median': 10615, 'motorcycl': 11128, 'rider': 13922, 'travel': 16925, 'fyi': 6842, 'cadfyi': 3203, 'properti': 13167, 'damagenhs999': 4602, 'piner': 12750, 'rdhorndal': 13533, 'dr': 5320, 'naayf': 11339, 'turn': 17095, 'onto': 12111, 'chandane': 3566, 'magu': 10306, 'mma': 10964, 'taxi': 16176, 'ram': 13451, 'halfway': 7483, 'everyon': 5988, 'confû_': 4125, 'left': 9745, 'manchest': 10360, '293': 438, 'eddi': 5575, 'stop': 15701, 'back': 2115, 'nh3a': 11588, 'delay': 4841, 'min': 10845, 'damagewpd1600': 4603, '17th': 240, '862015209': 849, 'injuri': 8494, '2781': 429, 'willi': 18107, 'foreman': 6580, 'aashiqui': 1002, 'actress': 1130, 'anu': 1654, 'aggarw': 1234, 'nearfat': 11457, 'suffield': 15845, 'alberta': 1337, 'backup': 2124, 'southaccid': 15366, 'right': 13929, 'exit': 6027, 'langtre': 9630, 'rdconsid': 13531, 'nc': 11441, '115': 124, '150': 184, '16': 205, 'altern': 1457, 'chang': 3570, 'determin': 4952, 'option': 12159, 'financi': 6374, 'support': 15929, 'plan': 12798, 'ongo': 12095, 'treatment': 16937, 'deadli': 4746, 'hagerstown': 7441, 'today': 16708, 'ill': 8311, 'detail': 4947, 'your4stat': 18554, 'whag': 18004, 'flowri': 6511, 'marinad': 10432, 'even': 5973, 'fuck': 6777, 'mf': 10737, 'drive': 5370, 'norwaymfa': 11776, 'bahrain': 2154, 'previous': 13082, 'road': 13990, 'kill': 9362, 'explos': 6056, 'still': 15679, 'heard': 7677, 'leader': 9720, 'kenya': 9296, 'forward': 6613, 'comment': 4046, 'issu': 8698, 'disciplinari': 5093, 'measuresarrestpastornganga': 10602, 'aftershock_delo': 1220, 'scuf': 14548, 'game': 6877, 'cya': 4542, 'effort': 5618, 'pain': 12347, 'win': 18122, 'roger': 14043, 'bannist': 2203, '320': 494, 'ir': 8639, 'icemoon': 8233, 'aftershock': 1219, 'djicemoon': 5176, 'dubstep': 5429, 'trapmus': 16919, 'dnb': 5199, 'danc': 4624, 'icesû_': 8235, 'victori': 17581, 'bargain': 2224, 'basement': 2247, 'price': 13085, 'dwight': 5492, 'david': 4697, 'eisenhow': 5635, 'nobodi': 11694, 'rememb': 13730, 'came': 3265, 'charl': 3592, 'schulz': 14497, 'speak': 15409, 'someon': 15296, 'xb1': 18408, 'also': 1452, 'harder': 7561, 'conflict': 4122, 'gloriou': 7109, 'triumph': 16993, 'thoma': 16531, 'growingupspoil': 7336, 'clay': 3836, 'pigeon': 12731, 'shoot': 14867, 'guess': 7378, 'one': 12085, 'actual': 1131, 'free': 6686, 'tc': 16192, 'terrifi': 16312, 'best': 2464, 'roller': 14057, 'coaster': 3929, 'ever': 5978, 'disclaim': 5094, 'kjforday': 9425, 'wisdomw': 18164, 'bonu': 2799, 'minut': 10883, 'daili': 4582, 'habit': 7436, 'could': 4266, 'realli': 13563, 'improv': 8371, 'mani': 10370, 'alreadi': 1446, 'lifehack': 9863, 'protect': 13181, 'profit': 13137, 'global': 7098, 'meltdown': 10661, 'wiedem': 18086, 'http': 8073, 'moment': 11023, 'scari': 14471, 'guy': 7417, 'behind': 2389, 'scream': 14533, 'bloodi': 2697, 'murder': 11255, 'silverwood': 14965, '2010': 335, 'fullã': 6800, 'stream': 15739, 'youtub': 18560, 'gtgt': 7357, '15': 183, 'book': 2802, 'esquireattir': 5910, 'sometim': 15301, 'face': 6111, 'difficulti': 5040, 'wrong': 18335, 'joel': 8985, 'osteen': 12212, 'thing': 16506, 'stand': 15574, 'dream': 5348, 'belief': 2402, 'possibl': 12951, 'brown': 3019, 'prais': 13009, 'ministri': 10872, 'wdyouth': 17891, 'biblestudi': 2513, 'way': 17859, 'avoid': 2046, 'trap': 16915, 'think': 16509, 'lose': 10104, 'job': 8978, 'orang': 12164, 'never': 11520, 'onfireand': 12094, 'bb': 2285, 'kick': 9339, 'say': 14447, 'done': 5250, 'interrupt': 8575, 'georg': 6988, 'bernard': 2458, 'shaw': 14791, 'oyster': 12316, 'shell': 14811, 'andrew': 1576, 'carnegi': 3392, 'anyon': 1661, 'need': 11468, 'pu': 13232, 'play': 12816, 'hybrid': 8159, 'slayer': 15107, 'ps4': 13205, 'eu': 5941, 'hmu': 7899, 'cod8sandscrim': 3945, 'empirikgam': 5747, 'codawscrim': 3946, '4tp_kotc': 633, '4tpfa': 634, 'aftershock_org': 1221, 'expert': 6044, 'franc': 6661, 'begin': 2381, 'examin': 6005, 'airplan': 1286, 'debri': 4768, 'found': 6624, 'reunion': 13851, 'island': 8687, 'french': 6713, 'air': 1275, 'news': 11545, 'strict': 15754, 'liabil': 9835, 'context': 4170, 'pilot': 12744, 'error': 5889, 'common': 4055, 'compon': 4085, 'aviat': 2042, 'cr': 4321, 'crobscarla': 4409, 'lifetim': 9872, 'odd': 11955, '8015': 819, 'wedn': 17917, 'alexalltimelow': 1360, 'awwww': 2071, 'theyr': 16492, 'cuti': 4532, 'good': 7163, 'famili': 6162, 'member': 10664, 'osama': 12204, 'bin': 2572, 'laden': 9582, 'iron': 8660, 'mhmmm': 10753, 'gov': 7207, 'suspect': 15977, 'engin': 5787, 'via': 17563, 'wing': 18143, '29072015': 436, 'cessna': 3537, 'ocampo': 11935, 'coahuila': 3923, 'mexico': 10733, 'juli': 9102, '29': 434, '2015': 341, 'four': 6627, 'men': 10676, 'includ': 8396, 'state': 15605, 'govern': 7209, 'offici': 11980, 'watchthevideo': 17836, 'wednesdayû_': 17920, 'wednesday': 17919, 'began': 2379, 'kca': 9249, 'votejkt48id': 17700, 'mbataweel': 10557, 'rip': 13953, 'binladen': 2576, 'almost': 1434, 'cowork': 4303, 'nude': 11850, 'mode': 10987, 'mickinyman': 10778, 'theatlant': 16379, 'might': 10806, 'wreck': 18313, 'polit': 12898, 'mlb': 10955, 'unbeliev': 17225, 'insan': 8513, 'airport': 1288, 'aircraft': 1280, 'aeroplan': 1187, 'runway': 14215, 'freakyû_': 6680, 'airplaneåê29072015': 1287, 'usama': 17399, 'ladin': 9584, 'natur': 11413, 'plane': 12799, 'festiv': 6307, 'death': 4758, 'carfest': 3375, 'dtn': 5415, 'brazil': 2908, 'exp': 6032, 'ûïairplaneû': 18762, 'wtf': 18353, 'canûªt': 3334, 'believ': 2403, 'eye': 6087, 'nicol': 11613, 'fletcher': 6476, 'victim': 17580, 'ago': 1240, 'littl': 9954, 'bit': 2598, 'trauma': 16922, 'although': 1459, 'she': 14799, 'omg': 12073, 'bro': 2987, 'jetengin': 8924, 'turbojet': 17090, 'bo': 2741, 'g90': 6846, 'phone': 12697, 'ship': 14841, 'terribl': 16309, 'statist': 15616, 'cop': 4209, 'hous': 8038, 'colombia': 4007, '12': 136, 'drone': 5383, 'worri': 18272, 'esp': 5903, 'vicin': 17572, 'earli': 5519, 'wake': 17748, 'call': 3247, 'sister': 15024, 'beg': 2378, 'ride': 13921, 'wher': 18025, 'ambul': 1493, 'hospit': 8014, 'rodkiai': 14040, 'twelv': 17119, 'fear': 6254, 'pakistani': 12356, 'helicopt': 7723, 'seriou': 14681, 'lorri': 10100, 'emsneû_': 5755, 'reuter': 13854, 'yugvani': 18576, 'lead': 9719, 'servic': 14687, 'welcom': 17940, 'chariti': 3591, 'aberystwythshrewsburi': 1032, 'incid': 8389, 'halt': 7492, 'shrew': 14905, 'sprinter': 15502, 'automat': 2019, 'frontlin': 6755, 'choic': 3705, '14': 171, 'lez': 9826, 'compliant': 4081, 'ebay': 5551, 'nanotech': 11365, 'devic': 4972, 'target': 16154, 'destroy': 4942, 'blood': 2694, 'clot': 3887, '20skyhawkmm20': 368, 'traplord_29': 16917, 'fredosantana300': 6685, 'lilreese300': 9901, 'hella': 7726, 'crazi': 4353, 'fight': 6349, 'coupl': 4285, 'mosh': 11110, 'pit': 12772, 'run': 14204, 'lucki': 10174, 'justsay': 9147, 'randomthought': 13469, 'til_now': 16627, 'dna': 5198, 'tanslash': 16141, 'fouseytub': 6631, 'ok': 12025, 'hahahah': 7447, 'pakistan': 12354, 'nine': 11645, 'thenissonian': 16447, 'rejectdcartoon': 13699, 'nissan': 11652, 'medic': 10617, 'assist': 1894, 'ems1': 5753, 'ny': 11878, 'emt': 5756, 'petit': 12651, '17': 224, 'per': 12593, 'hour': 8036, 'ûminimum': 18737, 'wageûª': 17732, 'em': 5704, 'paramed': 12420, 'kiwi_karyn': 9422, 'park': 12434, 'lot': 10109, 'said': 14299, 'john': 8995, 'ltlt': 10161, 'ûïleoblakecart': 18783, 'dog': 5221, 'he': 7652, 'ûnatasha_rideout': 18739, 'hatzolah': 7618, 'respond': 13822, 'dual': 5420, 'siren': 15009, 'andû_': 1582, 'worldnew': 18259, 'number': 11859, 'lesotho': 9807, 'bodi': 2756, 'medic914': 10618, 'aace_org': 991, 'surpris': 15954, 'standardis': 15577, 'clinic': 3870, 'practic': 13002, '11': 107, 'nh': 11586, 'trust': 17038, 'jwalk': 9151, 'pass': 12465, 'hate': 7612, 'episod': 5855, 'trunk': 17037, 'annihil': 1613, 'freiza': 6711, 'cleanest': 3841, 'show': 14895, 'nigga': 11622, 'merci': 10691, 'shall': 14756, 'petebest': 12641, 'dessic': 4936, 'laid': 9592, 'bare': 2222, 'kneel': 9440, 'urib': 17384, 'basebal': 2243, 'met': 10709, 'marksmaponyan': 10450, 'heysundown': 7787, 'previou': 13081, 'meet': 10634, 'celticinde': 3513, 'volfan326': 17685, 'tneazzi': 16700, 'mizzou': 10949, 'muschamp': 11259, 'career': 3371, 'compet': 4070, 'bama': 2175, 'ab': 1003, 'statu': 15618, 'educ': 5600, 'mba': 10556, 'behalf': 2385, 'easi': 5534, 'careen': 3370, 'eovm': 5835, 'luka': 10184, 'everyth': 5989, 'aloi': 1436, 'tranci': 16898, 'acarewornheart': 1076, 'un': 17216, 'fella': 6279, 'sorri': 15340, 'wont': 18230, 'pull': 13250, 'drunk': 5406, 'driver': 5373, 'safeti': 14289, 'hit': 7880, 'viralspel': 17632, 'must': 11275, 'boom': 2809, 'countri': 4282, 'entir': 5816, 'hû_': 8174, 'britain': 2979, 'amirkingkhan': 1516, 'well': 17942, 'floydmayweath': 6513, 'suregod': 15940, 'promis': 13154, 'israel': 8693, 'butth': 3155, 'horror': 8007, 'iran': 8641, 'wnuke': 18200, 'violentfeminazi': 17624, 'that': 16360, 'armenian': 1791, 'sinc': 14980, 'weve': 17986, 'spent': 15438, 'histori': 7874, '70': 755, '100000': 66, 'instantli': 8532, 'becam': 2349, 'abil': 1037, 'whole': 18060, 'human': 8097, 'tryout': 17048, 'went': 17958, 'minu': 10881, 'fact': 6119, 'quickli': 13359, 'short': 14878, 'ball': 2169, 'toenail': 16724, '1960': 283, 'oryx': 12202, 'symbol': 16044, 'arabian': 1738, 'peninsula': 12577, 'hunter': 8126, 'readi': 13544, 'buc': 3054, 'philipduncan': 12685, 'breakfaston': 2921, 'weather': 17906, 'philip': 12684, 'thought': 16548, 'forecast': 6575, 'domain': 5237, 'sophist': 15338, 'uptotheminut': 17369, 'feat': 6258, 'zrnf': 18665, 'stormbeard': 15712, 'steel_lord': 15632, 'seen': 14606, 'juda': 9089, 'priest': 13088, '2005': 329, 'rob': 13999, 'scorpion': 14514, 'astonish': 1904, 'gig': 7043, 'skip': 15073, 'fantasticfourfant4sticwhatev': 6187, 'hashtag': 7599, 'review': 13864, 'bummer': 3093, 'tomcatart': 16743, 'thu': 16586, 'explain': 6048, 'case': 3423, 'survivor': 15964, 'evolv': 5998, 'godlik': 7140, 'complet': 4077, 'cech': 3499, 'paul': 12501, 'keegan': 9260, 'legion': 9759, 'imperfect': 8357, 'project': 13147, 'form': 6595, 'cell': 3511, 'sirbrandonknt': 15008, 'exactli': 6002, 'lesnarcena': 9806, 'match': 10506, 'summerslam': 15868, 'brock': 2996, 'who': 18053, 'damascu': 4605, 'syrian': 16054, 'armi': 1792, 'grind': 7316, 'ûalloosh': 18705, 'gang': 6893, 'manur': 10391, 'pile': 12736, 'thatd': 16362, 'wasnt': 17822, 'forthright': 6609, 'food': 6554, 'coma': 4026, 'bc': 2306, 'kebabtahinipickl': 9259, 'wfri': 17998, 'fun': 6803, 'happyhour': 7547, 'simmon': 14968, 'bar': 2209, 'camden': 3264, 'handsom': 7522, 'apart': 1675, 'juanni': 9088, 'beisbol': 2397, 'lgm': 9832, 'rvfriedmann': 14238, 'hell': 7725, 'fraction': 6653, 'total': 16819, 'destruct': 4945, 'usa': 17395, 'lodisilverado': 10033, 'ritzy_jewel': 13968, 'potu': 12967, 'mayb': 10544, 'pre': 13016, 'sold': 15278, 'river': 13972, 'evildead': 5995, 'civil': 3806, 'nation': 11402, 'tonto': 16767, 'salt': 14329, 'wild': 18093, 'hors': 8009, 'quarterstaff': 13339, 'world': 18255, 'self': 14620, 'transform': 16903, 'alien': 1388, 'attack': 1947, 'extermin': 6074, 'starmad': 15594, 'stardat': 15590, 'planetari': 12801, 'kimkardashian': 9377, 'sign': 14942, 'share': 14777, 'save': 14436, 'arizona': 1781, 'theellenshow': 16411, 'without': 18174, '54000': 674, 'signatureschang': 14944, 'org': 12180, 'thx': 16600, 'soul': 15353, 'punish': 13266, 'withåêannihil': 18176, 'calfreedommom': 3234, 'steph93065': 15642, 'mention': 10686, 'major': 10325, 'contributor': 4183, 'willienelson': 18112, 'diepleas': 5031, 'petitiontak': 12653, 'voic': 17676, 'gilbert23': 7049, 'reject': 13698, 'law': 9694, 'misguid': 10905, 'fals': 6158, 'prophet': 13171, 'imprison': 8370, 'fuel': 6786, 'jeb': 8882, 'christi': 3736, 'kasich': 9224, 'le': 9718, '24': 407, 'away': 2057, 'allow': 1424, 'full': 6795, 'barbi_twin': 2216, 'helphors': 7741, 'whippenz': 18037, 'hey': 7781, 'az': 2083, 'wildhors': 18100, 'tantonationalforest': 16143, 'rollingston': 14059, 'singalong': 14989, 'sonofbaldwin': 15317, 'current': 4517, 'nova': 11809, 'bookslast': 2807, 'checkedh': 3622, 'tie': 16617, '2011': 336, 'saltriverwildhors': 14332, 'dant': 4651, 'join': 9014, 'zone': 18657, 'johnni': 9007, 'taylor': 16183, 'soon': 15324, 'ohh': 12007, 'fukurodani': 6790, 'surviv': 15962, 'apocalyps': 1690, 'bokuto': 2769, 'feel': 6271, 'poor': 12915, 'boy': 2865, 'ppor': 12994, 'child': 3673, 'jocelyn': 8980, 'birthday': 2593, 'janenelson097': 8826, 'stephenscifi': 15648, 'adapt': 1142, 'watch': 17829, 'charli': 3597, 'film': 6364, 'sciencefict': 14503, 'august': 1987, '05': 28, '0802pm': 49, 'here': 7761, 'red': 13621, 'zombi': 18655, '2014': 340, 'internetradio': 8571, 'collegeradiû_': 3993, 'honeybunzgem': 7970, 'primalkitchen': 13090, 'pullup': 13251, 'stage': 15557, 'kinda': 9379, 'hot': 8019, 'radio': 13406, 'diseas': 5108, 'start': 15596, 'lol': 10045, 'gf': 7014, 'm8': 10245, 'question': 13354, 'interpret': 8572, 'version': 17549, 'romeo': 14071, 'juliet': 9109, 'warmbodi': 17789, 'fittscott': 6430, 'minecraft': 10859, 'mod': 10985, 'bob': 2749, 'wither': 18172, 'showcas': 14896, 'popularmmo': 12929, 'viû_': 17665, 'snow': 15227, 'our_mother_mari': 12243, '211023': 374, 'spirit': 15456, 'took': 16776, 'enorm': 5801, 'high': 7810, 'mountain': 11138, 'candylit': 3310, 'imagin': 8330, 'sarumi': 14401, 'convers': 4192, 'zonewolf123': 18659, 'moû_': 11156, 'planet': 12800, 'lone': 10057, 'audienc': 1978, 'dad': 4570, 'bought': 2843, 'scienc': 14501, 'doc': 5205, 'impend': 8356, 'biblic': 2514, 'alexandrapullin': 1363, 'inde': 8408, 'grizzli': 7320, 'peak': 12544, 'dystopian': 5506, 'movi': 11151, 'scare': 14469, 'storm': 15711, 'cairo': 3218, 'latest': 9664, 'xmen': 18429, 'yahootv': 18461, 'xv': 18443, 'give': 7073, 'bad': 2130, 'name': 11356, 'pierc': 12728, 'geek_apocalyps': 6956, '4pm': 627, 'gmt': 7122, 'hess': 7778, 'dark': 4660, 'etcpb': 5926, 'bryansing': 3039, 'reveal': 13856, 'queen': 13342, 'rupaul': 14218, 'alexshipppp': 1373, 'shadow': 14740, 'box': 2862, 'enjoy': 5797, 'liveact': 9962, 'titan': 16670, 'poster': 12959, 'remind': 13733, 'freshli': 6719, 'clean': 3840, 'coif': 3962, 'pbban': 12524, 'temporary300': 16281, 'avysss': 2048, 'armageddon': 1790, 'xp': 18436, 'russaky89': 14225, 'vid': 17587, 'doublecup': 5292, 'trubgm': 17023, 'prod': 13127, 'thisizbwright': 16526, 'ouvindo': 12269, 'peac': 12540, 'bed': 2361, 'unless': 17302, 'revolut': 13869, 'faction': 6121, 'microsoft': 10785, 'xbox': 18409, '360': 512, 'katiekatcub': 9229, 'seri': 14679, 'ophiuchus2613': 12140, 'truelov': 17031, 'romanc': 14065, 'lith': 9949, 'voodoo': 17694, 'seduct': 14596, 'astrolog': 1908, 'rtrrt': 14178, 'lotz': 10112, '911': 874, '1008plaû_': 69, 'beat': 2336, 'hsu': 8069, 'hao': 7538, 'flawless': 6467, 'enew': 5784, 'ben': 2423, 'afflecki': 1196, 'wifekid': 18088, 'girl': 7064, 'eonlinechat': 5834, 'id': 8245, 'long': 10062, 'coat': 3932, 'hand': 7512, 'worn': 18271, 'certainti': 3532, 'bear': 2329, 'sens': 14646, 'occas': 11936, 'spi': 15441, 'hidden': 7804, 'door': 5269, 'nsa': 11832, 'data': 4681, 'mine': 10858, 'softwar': 15271, 'blog': 2690, 'hyider_ghost2': 8164, 'rtrrtcoach': 14179, '1008planetû_': 68, 'fighterdena': 6351, 'sketch': 15061, 'base': 2242, 'tast': 16163, 'startrek': 15600, 'to': 16703, 'aberdeenfc': 1031, 'aberdeenfanpag': 1030, 'luck': 10173, 'tomorrow': 16755, 'coeffici': 3953, 'point': 12877, 'plz': 12854, 'paddytomlinson1': 12339, 'rohnertparkdp': 14050, 'justic': 9133, 'depart': 4898, 'havent': 7621, 'paid': 12346, 'incom': 8397, 'tax': 16175, '20yr': 370, 'vladimir': 17668, 'putin': 13293, 'warn': 17792, 'late': 9659, 'escap': 5893, 'kingdom': 9396, 'heavenli': 7697, 'govt': 7212, 'rule': 14197, 'earth': 5527, 'entertain': 5813, 'brucewilli': 3029, 'monkey': 11041, 'sixth': 15043, 'auction': 1974, 'letûª': 9818, 'goof': 7172, 'guild': 7384, 'saunder': 14429, 'karnythia': 9214, 'prepar': 13044, 'toddler': 16719, 'prepper': 13047, 'doomsday': 5267, 'librari': 9848, 'collect': 3990, 'cd': 3490, 'shtf': 14910, 'preppertalk': 13048, '2a': 442, 'erker': 5883, 'eep': 5608, 'yesterday': 18507, 'saw': 14445, 'hail': 7450, 'ahamedi': 1251, 'messiah': 10707, '125': 151, 'dajaal': 4590, 'gog': 7145, 'magog': 10305, 'sadli': 14281, 'window': 18130, '10': 62, 'ethic': 5930, 'avert': 2039, 'el': 5641, 'patron': 12496, 'ultimalucha': 17207, 'samihonkonen': 14349, 'ww1': 18367, 'blueprint': 2727, 'extrem': 6082, 'impress': 8369, 'european': 5953, 'fitba': 6429, 'till': 16628, 'christma': 3746, 'christian': 3737, 'unit': 17290, 'cufi': 4489, 'jew': 8930, 'convert': 4193, 'gt': 7349, 'preseasonworkout': 13053, 'lee': 9738, 'comedi': 4035, 'ûïleejasp': 18782, 'class': 3831, 'tori': 16801, 'interestrateriseû': 8563, 'chart': 3608, 'prove': 13191, 'crisi': 4399, 'part': 12448, 'begun': 2384, 'econom': 5567, 'collaps': 3986, 'track': 16862, 'tren': 16948, 'craig': 4330, 'robert': 14004, 'bric': 2950, 'russia': 14228, 'light': 9874, 'isnt': 8688, 'funni': 6815, 'goofbal': 7173, 'staff': 15555, 'pd': 12534, 'thereal': 16459, 'gtgtgt': 7358, 'comin': 4040, 'celtic': 3512, 'finger': 6382, 'aberdeen': 1029, 'eh': 5628, 'beyonc': 2488, 'pick': 12713, 'fan': 6173, 'beyhiv': 2487, '77': 798, 'direction': 5067, 'x1402': 18394, '5sosfam': 698, '22beyonc': 392, '17beyonc': 237, 'x1411': 18395, 'whitewalk': 18048, 'slightli': 15122, 'intrigu': 8591, 'friend': 6732, 'code': 3947, 'lzktjnox': 10229, 'salvat': 14337, 'host': 8015, 'ralli': 13448, 'reconnect': 13608, 'rallyû_': 13449, 'vote': 17699, '5th': 703, 'round': 14128, 'billboard': 2553, 'fanarmyfaceoff': 6174, '100': 63, 'lion': 9922, 'hero': 7771, 'tv': 17104, 'x1392': 18393, 'infantri': 8456, 'lume': 10192, 'dial': 5002, 'analog': 1556, 'quartz': 13340, 'wrist': 18321, 'sport': 15483, 'blue': 2720, 'nylon': 11893, 'fabric': 6109, 'reaû_': 13576, 'x1441': 18402, 'victorinox': 17585, 'swiss': 16025, 'date': 4683, 'woman': 18218, 'rubber': 14183, 'mop': 11072, '241487': 410, 'drayesha4': 5345, 'indiakomuntorjawabdo': 8418, 'indian': 8419, 'kiû_': 9423, 'ìñ1': 18698, '78': 800, 'x1386': 18392, 'da': 4565, 'mtvsummerstar': 11206, 'videoveranomtv': 17596, 'mtvhottest': 11204, 'britney': 2982, 'spear': 15412, 'lana': 9609, 'del': 4838, 'rey': 13877, 'stoni': 15698, 'jackson': 8766, 'hope': 7987, 'felon': 6282, 'satan': 14409, 'wwi': 18374, 'wwii': 18375, 'japanes': 8839, 'navi': 11422, 'militari': 10831, 'japan': 8838, 'leather': 9732, 'war': 17778, 'mido': 10799, '72': 774, '7beyonc': 807, '66': 734, '6beyonc': 750, 'appoint': 1712, 'brig': 2962, 'gen': 6965, 'richard': 13899, 'kaiser': 9172, 'mississippi': 10926, 'commiss': 4050, 'learn': 9728, 'mrc': 11171, 'ap': 1672, 'violent': 17623, 'control': 4184, 'x1434': 18400, 'jewish': 8934, 'terrorist': 16317, 'charg': 3588, 'historicchurch': 7876, 'arson': 1810, 'ugli': 17186, 'truth': 17042, 'spokan': 15475, 'author': 2005, 'struggl': 15774, 'solv': 15290, 'hamilton': 7497, 'attend': 1953, 'organ': 12181, 'protest': 13185, 'add': 1144, 'familia': 6163, 'squad': 15517, 'fake': 6146, 'crime': 4391, 'lesbian': 9801, 'link': 9919, 'caught': 3464, 'northern': 11764, 'newsintweet': 11559, 'mourn': 11144, 'notic': 11793, 'stab': 15545, 'stir': 15681, 'ûpolit': 18743, 'griefûª': 7310, 'sound': 15356, 'chicagoarea': 3662, 'gay': 6931, 'admit': 1160, 'scheme': 14488, 'lgbt': 9828, 'trial': 16962, 'burglari': 3110, 'palestinian': 12366, 'crack': 4323, 'amid': 1509, 'kisii': 9413, 'hunt': 8125, 'fail': 6132, 'plot': 12841, 'countynew': 4283, 'mariah': 10420, 'thick': 16500, 'shoulder': 14887, 'shira': 14845, 'banki': 2199, 'relaxinpr': 13706, 'miprv': 10887, 'latim': 9666, 'pray': 13012, 'treat': 16934, 'huffpostrelig': 8088, 'theadvocatemag': 16374, 'sayn_a': 14451, 'tennesse': 16289, 'arsonû_': 1813, '_301dc': 927, 'cloudy_goldrush': 3892, 'white': 18044, 'mo': 10975, 'mc': 10560, 'arsonistmus': 1812, 'alleg': 1406, 'east': 5537, 'bay': 2280, 'serial': 14680, 'arrest': 1804, 'safyuan': 14292, 'minor': 10877, 'citat': 3792, 'posses': 12950, 'decrimin': 4799, 'substanc': 15825, 'calif': 3243, 'local_arsonist': 10018, 'diamorfiend': 5007, 'legal': 9754, 'system': 16057, 'forget': 6589, 'casper_rmg': 3432, 'dick': 5017, 'bloorossington': 2706, 'mattress': 10528, 'northumberland': 11769, 'cbcto': 3480, 'where': 18026, 'anyth': 1662, 'nice': 11601, 'sit': 15026, 'vegetarian': 17520, 'vegan': 17516, 'popular': 12927, 'bk': 2620, 'restaur': 13827, 'strictli': 15755, 'govegan': 7208, 'uniteblu': 17291, 'tonightûª': 16763, 'headlin': 7659, 'nightbeat': 11627, 'veronicadlcruz': 17545, '2minutemix': 459, 'captur': 3352, 'remov': 13740, 'american': 1502, 'beach': 2322, 'ca': 3189, 'sought': 15352, '58hif': 691, 'trick': 16973, 'nasti': 11389, 'spotlight': 15490, 'paradis': 12416, 'wniagospel': 18199, 'town': 16843, 'salem': 14318, 'melt': 10660, 'ice': 8227, 'cube': 4480, 'blame': 2648, 'blaze': 2656, 'plastic': 12809, 'recycl': 13620, 'busi': 3134, 'adelaid': 1150, 'pcaldicott7': 12529, '7newsadl': 810, 'hotboy': 8023, 'zodiac': 18652, 'trey': 16957, 'dupre': 5465, 'produc': 13131, 'sparkz': 15404, 'beatz': 2341, 'chuck': 3756, 'lmfao': 9999, 'sanfrancisco': 14375, '_doofus_': 944, 'jokin': 9023, 'newyork': 11567, 'slimebeast': 15124, 'bestcomedyvin': 2465, 'drink': 5366, 'green': 7284, 'mink': 10874, 'court': 4289, 'earl': 5518, 'lmao': 9997, 'real': 13549, 'frank': 6666, 'elliott': 5691, 'plead': 12827, 'guilti': 7386, 'hire': 7862, 'terror': 16314, 'invit': 8615, 'brigad': 2963, 'telegraph': 16260, 'big': 2525, 'true': 17027, 'stori': 15710, 'miss': 10914, 'stay': 15621, 'vigil': 17602, 'liberti': 9844, 'constant': 4151, 'nativehuman': 11406, 'myreligion': 11320, 'credit': 4373, 'pfannebeck': 12658, 'inspir': 8527, 'rediscov': 13636, 'fantabul': 6183, 'tbt': 16191, 'nashvil': 11385, 'theater': 16376, 'gun': 7396, 'grabber': 7227, 'demand': 4863, 'ûïhatchet': 18777, 'controlû': 4185, 'post': 12953, 'udhampur': 17177, 'demi': 4867, 'stan': 15573, '56': 685, 'million': 10841, 'copi': 4214, 'nuclear': 11844, 'isil': 8678, 'claim': 3817, 'suicid': 15852, 'bomb': 2778, 'saudi': 14424, 'mosqu': 11112, 'dattomm': 4687, 'funniest': 6816, 'twitter': 17136, 'feminist': 6289, '4head': 620, 'horrif': 8005, 'muslim': 11273, 'itali': 8701, 'liveleak': 9963, 'ûª93': 18753, 'blast': 2653, 'accus': 1095, 'yeda': 18487, 'yakub': 18462, 'karachi': 9202, 'mumbai': 11243, 'etribun': 5937, '4suspect': 629, 'milit': 10828, 'waziristan': 17867, 'acebreakingnew': 1100, 'psycholog': 13221, 'spo': 15471, 'injur': 8491, 'livemint': 9966, 'allthenew': 1428, 'obama': 11912, 'gave': 6927, 'weapon': 17900, 'texa': 16331, 'delhi': 4844, 'provid': 13193, 'acid': 1107, 'privat': 13107, 'darkread': 4666, 'smb': 15170, 'relay': 13707, 'steal': 15625, 'user': 17413, 'credenti': 4372, 'internet': 8570, 'isra': 8692, 'forc': 6572, 'raid': 13423, 'palestin': 12365, 'goat': 7132, 'rocket': 14028, 'okay': 12028, 'lie': 9857, 'senior': 14645, 'diamond': 5004, 'graveyard': 7259, 'shift': 14832, 'defend': 4823, 'handsid': 7521, 'idiot': 8259, 'volleybal': 17688, 'ii': 8293, 'machin': 10259, 'simul': 14976, 'notley': 11799, 'tact': 16084, 'yet': 18508, 'respons': 13823, 'harper': 7577, 'yeah': 18484, 'premier': 13038, 'ableg': 1043, 'cdnpoli': 3494, 'assail': 1885, 'theatr': 16380, 'homeless': 7951, 'caixxum5so': 3222, 'damn': 4614, 'india': 8416, 'shud': 14912, 'evid': 5993, 'pakthey': 12360, 'attackshar': 1950, 'oth': 12216, 'contri': 4181, 'illeg': 8312, 'releas': 13708, 'obamadh': 11913, 'rape': 13479, 'maria': 10418, 'prior': 13101, 'offens': 11970, 'strongli': 15768, 'condemn': 4105, 'ari': 1773, 'team': 16210, 'cowardli': 4299, 'act': 1121, 'simpli': 14971, 'atom': 1940, 'fat': 6212, 'mental': 10683, 'blazerfan': 2657, 'ignorancesh': 8289, 'latinoand': 9670, 'benoth': 2445, 'morebut': 11079, 'group': 7329, 'gop': 7184, 'prevent': 13079, 'secondhand': 14586, 'daytonarea': 4724, 'cyber': 4543, 'vita': 17650, 'yay': 18475, '2016': 349, 'infowar': 8481, 'nwo': 11872, 'anxieti': 1655, 'pugprob': 13244, 'gunfight': 7398, 'envw98': 5829, 'nickcocofre': 11606, 'juliedicaro': 9106, 'jdabe80': 8877, 'frail': 6657, 'messeymetoo': 10705, 'ci': 3766, 'femal': 6287, 'somehow': 15295, 'offend': 11969, 'transgend': 16904, 'medium': 10626, 'civilian': 3807, 'gaza': 6939, 'exercis': 6022, 'greec': 7278, 'templ': 16277, 'mount': 11136, 'pamela': 12376, 'geller': 6958, 'pt': 13224, 'scholar': 14492, 'youth': 18559, 'telnet': 16270, '1241317240': 149, 'streamyxhomesouthern': 15741, 'patrick': 12489, 'kane': 9192, 'cab': 3191, 'ik': 8304, 'troll': 16998, 'pol': 12883, 'rival': 13969, 'liter': 9946, 'abus': 1068, 'looser': 10085, 'worst': 18277, 'person': 12627, 'empathi': 5744, 'kelli': 9276, 'osbourn': 12206, 'racist': 13400, 'donald': 5246, 'trump': 17035, 'remark': 13725, 'latino': 9669, 'view': 17600, 'eunice_njoki': 5947, 'aiii': 1270, 'chill': 3684, 'answer': 1629, 'calmli': 3253, 'robotlvl': 14018, 'earn': 5523, '6615434': 737, 'satoshi': 14418, 'robotcoingam': 14017, 'bitcoin': 2604, 'freebitcoin': 6692, 'christinalavv': 3742, 'lindsay_wynn3': 9914, 'tweet': 17113, 'program': 13142, 'flew': 6477, 'uranium': 17376, 'fukushima': 6791, 'dig': 5042, 'mageavexi': 10290, 'lt': 10149, 'welovela': 17949, 'nhlduck': 11592, 'avalanch': 2028, 'defens': 4826, 'loui': 10118, 'sportsroadhous': 15487, 'kall': 9179, 'mattson': 10529, 'reebok': 13649, 'tshirt': 17051, 'xl': 18425, 'cotton': 4263, 'nhl': 11590, 'hockey': 7907, 'tix': 16678, '103': 77, 'frozen': 6760, 'furi': 6824, 'xvii': 18444, 'king': 9392, 'rowaa': 14141, 'mgm': 10743, 'grand': 7238, 'bet': 2473, 'piec': 12725, 'wrote': 18340, 'design': 4926, 'appreci': 1714, 'greatli': 7276, 'roy': 14147, '199899': 300, 'upper': 17362, 'deck': 4788, 'spx': 15513, '171': 227, 'finit': 6385, '1620': 210, 'made': 10274, 'mint': 10879, 'musician': 11267, 'recreat': 13617, '34': 501, 'classic': 3832, 'album': 1343, 'cover': 4295, 'clever': 3860, 'music': 11264, 'beauti': 2345, 'sweet': 16011, 'faith': 6145, 'akito': 1309, 'rose': 14107, 'frothi': 6758, 'gyp': 7427, 'weddinghour': 17915, 'calgari': 3235, 'flame': 6448, 'col': 3968, 'preseason': 13052, '929': 888, 'scotiabank': 14518, 'saddledom': 14280, 'catech': 3451, 'inner': 8503, 'confidenti': 4119, 'commun': 4058, 'respect': 13821, 'creat': 4364, 'worth': 18281, 'len': 9783, 'fall': 6149, 'leaf': 9723, 'poplar': 12923, 'fulli': 6798, 'ordain': 12176, 'tumbl': 17075, 'spurgeon': 15508, 'punk': 13268, 'band': 2183, 'origin': 12189, 'ghostoftheav': 7029, 'montroseband': 11061, 'perform': 12603, 'chip': 3694, 'fuelga': 6787, 'saver': 14439, 'chevi': 3653, 'tahoeblazeravalanches10': 16093, 'ûavalancheûª': 18708, 'tank': 16138, 'snipe': 15221, 'chevrolet': 3654, 'ltz': 10165, 'lift': 9873, '4x4': 637, 'favorit': 6235, 'chiasson': 3658, 'sen': 14640, 'deal': 4752, 'coloradoavalanch': 4014, 'rudd': 14190, 'emil': 5721, 'hirsch': 7870, 'gordon': 7188, 'princ': 13094, 'qampa': 13312, 'filmmak': 6366, 'googl': 7174, 'entretenimento': 5821, 'purchas': 13274, 'neal': 11452, 'rigga': 13927, 'shirt': 14848, 'bigperm28': 2538, 'draft': 5326, '124': 148, 'overal': 12274, 'utahgrizz': 17432, 'rapper': 13483, 'song': 15309, 'funkflex': 6812, 'yo': 18522, 'flex': 6478, 'wide': 18079, 'awak': 2052, 'jersey': 8909, 'bt': 3046, 'kallemattson': 9180, 'incred': 8401, 'listen': 9937, '53': 664, 'wd': 17884, 'pickup': 12719, 'premium': 13040, 'bû_': 3182, 'snowflak': 15231, 'star': 15586, 'power': 12976, 'jedi': 8884, 'battl': 2270, 'droid': 5382, 'hasbro': 7596, 'gener': 6969, 'bull': 3083, 'colonel': 4010, '2nd': 461, 'hampshir': 7504, 'letter': 9817, 'dragon': 5330, 'rotten': 14124, 'tomato': 16740, 'rottentomato': 14125, 'ad': 1134, 'playlist': 12820, 'bat': 2258, 'chat': 3614, 'arti': 1818, 'kaboom': 9159, 'ya': 18449, 'clip': 3872, '4ku': 624, '15moferadio': 202, 'heavybag201': 7700, 'battle_dom': 2271, 'qotr': 13323, 'battlerapchri': 2275, 'hughes1128': 8094, 'baaaack': 2102, 'petersen': 12650, 'bowhunt': 2858, 'bow': 2854, 'sure': 15939, 'cast': 3434, 'tb': 16185, 'throwback': 16575, 'kelbi': 9273, 'tomlinson': 16750, 'mildmann': 10821, 'baseman': 2246, 'metropolitan': 10729, 'neverend': 11521, 'rbi': 13524, 'sfgiant': 14728, 'space': 15387, 'occur': 11941, 'm27329': 10236, 'fleet': 6472, '1236': 147, 'taken': 16108, 'trailer': 16884, 'hole': 7917, 'saturn': 14421, 'eytay': 6095, 'neur0si': 11516, 'anim': 1599, 'cbsbigbroth': 3484, 'du19': 5418, 'rap': 13478, 'intern': 8568, 'extern': 6075, 'motiv': 11123, 'item': 8707, 'phantasm': 12667, 'cummerbund': 4498, 'warcraft': 17780, 'young': 18544, 'german': 7001, 'stormtroop': 15716, 'engag': 5786, 'somm': 15304, '1916': 266, '800': 814, 'ìñ': 18697, '582': 690, 'marvel': 10476, 'dc': 4728, 'aveng': 2035, 'utahcanari': 17431, 'sigh': 14939, 'sexydragonmag': 14723, 'realiz': 13561, 'attent': 1955, 'span': 15398, 'mass': 10487, 'paint': 12348, 'detroitpl': 4961, 'interest': 8561, 'o784': 11906, '4103': 578, '50': 639, 'lonepin': 10059, 'australia': 1999, 'descend': 4919, '666canberra': 740, 'gallipoli': 6871, 'gari': 6910, 'busey': 3130, 'son': 15305, 'dixi': 5170, 'electron': 5656, 'fiddl': 6333, 'postbattl': 12956, 'celebr': 3508, 'sequenc': 14670, 'fedex': 6265, 'longer': 10065, 'transport': 16912, 'bioterror': 2583, 'germ': 7000, 'anthrax': 1638, 'lab': 9571, 'mishap': 10908, 'usatoday': 17405, 'pathogen': 12480, 'jacksonvil': 8769, 'busin': 3136, 'potenti': 12965, 'aphl': 1686, 'åêfedex': 18693, 'tcot': 16199, 'certain': 3530, 'research': 13801, 'atlbizchron': 1934, 'frontpag': 6756, 'sanction': 14359, 'rickperri': 13913, 'doesnt': 5218, 'cut': 4528, 'foxnew': 6638, 'gopdeb': 7186, 'ampamp': 1524, 'commerc': 4048, 'subcommitte': 15808, 'hold': 7915, '728': 776, 'hear': 7676, 'cdc': 3491, 'oversight': 12294, 'httû_': 8075, 'will': 18105, 'specimen': 15421, 'appl': 1707, 'mobil': 10979, 'alisonannyoung': 1394, 'exclus': 6018, 'hmmthi': 7898, 'problem': 13119, 'select': 14619, 'agent': 1233, 'corp': 4237, 'nyse': 11899, 'fdx': 6252, 'deliv': 4851, 'packag': 12331, 'atlanta': 1931, 'chronicl': 3752, 'microb': 10781, 'orchardalley': 12172, 'manufactur': 10390, 'repress': 13780, 'abcnorio': 1025, 'garden': 6905, 'jax': 8859, 'biz': 2613, 'journal': 9061, 'foxnewû_': 6641, 'breakingnew': 2925, 'bioterû_': 2586, 'wxiatv': 18382, 'scoopit': 14510, 'biolab': 2578, 'concern': 4096, 'facil': 6116, 'dumbfound': 5449, 'action': 1124, 'sir': 15006, 'fema': 6286, 'region': 13680, 'iii': 8295, 'nasa': 11377, 'launch': 9678, 'lithium': 9951, 'carri': 3405, 'extens': 6072, 'handl': 7518, 'procedur': 13123, 'firepow': 6406, 'resourc': 13820, 'autom': 2018, 'infecti': 8459, 'cagov': 3213, '90blksamp8wht': 870, 'collud': 4003, 'wht': 18070, 'usagov': 17398, 'auth': 2003, 'hostageamp2': 8017, 'blk': 2685, 'wbioterrorismampus': 17872, 'lglorg': 9831, 'idi': 8257, 'hersvp': 7776, 'darrellissa': 4669, 'keep': 9264, 'tale': 16114, 'pox': 12980, 'viru': 17639, 'infectiousdiseas': 8461, 'health': 7669, 'superbug': 15910, 'epidem': 5849, 'biosurveil': 2582, 'outbreak': 12250, 'homeland': 7950, 'secur': 14592, 'wire': 18157, 'creation': 4366, 'ai': 1260, 'workforc': 18248, 'contact': 4160, 'wealth': 17898, 'inequ': 8451, 'yea': 18482, 'cia': 3767, 'hollywood': 7930, 'horowitz': 8002, 'vaccin': 17462, 'o_magazin': 11907, 'daughter': 4689, 'warrior': 17801, '50ft': 648, 'aka': 1301, 'fold': 6537, 'extra': 6079, 'drrichardbess': 5399, 'ye': 18481, 'colleg': 3992, '8892': 852, 'difficult': 5039, 'dispers': 5132, 'volunt': 17691, 'particip': 12454, 'prepared': 13045, 'drill': 5364, 'hvnewsnetwork': 8149, 'meyerbjoern': 10734, 'thelonevirolog': 16430, 'mackayim': 10265, 'newspap': 11561, '2n': 460, 'pretti': 13075, 'list': 9936, 'gm': 7116, 'scientist': 14504, 'hh': 7792, 'special': 15416, 'ebola': 5554, 'stationcdrkelli': 15614, 'sy': 16034, 'hostag': 8016, 'clergyforc': 3854, 'exist': 6026, 'youngerampgrossli': 18546, 'disfigur': 5110, 'bioterrorismap': 2584, '70amp': 762, 'mysteri': 11322, 'suck': 15833, 'describ': 4920, 'futur': 6833, 'therapi': 16455, 'technolog': 16241, 'sexual': 14721, 'diagnosi': 5001, 'digitalhealth': 5045, 'hcsm': 7648, 'aphiabeta1907': 1684, 'wugli': 18361, 'uglyamesocialact': 17188, 'frat': 6671, 'bioterrorismim': 2585, 'fbi': 6241, 'tolewantg': 16736, 'homeabc': 7943, 'howardu': 8046, 'cspanwj': 4460, 'onu_fr': 12112, '7475': 789, 'rockefeller_chirockefellerunivheiress': 14027, 'evad': 5964, 'lgl': 9830, 'prosecut': 13175, 'harvardu': 7590, 'kidnapgafp': 9346, 'irand': 8642, 'activ': 1126, 'broken': 3002, '27': 428, 'agreement': 1244, 'threat': 16556, 'cdcgov': 3492, 'allay': 1404, 'glander': 7084, 'ahead': 1252, 'rio': 13946, 'olymp': 12064, 'equestrian': 5862, 'test': 16323, 'event': 5974, 'horsetalknz': 8011, 'kaotix_blaz': 9198, 'crave': 4347, 'pool': 12913, 'raisinfing': 13444, 'hammond': 7500, 'amazin': 1482, 'dey': 4985, 'wan': 17770, 'dedic': 4800, 'shayoli': 14798, 'virtual': 17637, 'tour': 16831, '547': 677, 'fir': 6394, 'cannon': 3315, 'dorri': 5284, 'caruana': 3420, 'pendleton': 12574, 'horno': 7998, 'djryanwolf': 5181, 'djcoreygrand': 5174, 'djknyce': 5179, 'djoneplustwo': 5180, 'officialcoredj': 11981, 'cleveland': 3857, 'standup': 15580, 'iamtonyn': 8200, 'apt': 1725, 'balconi': 2166, 'bellalinn': 2408, 'alrighti': 1450, 'jay': 8861, 'dutch': 5480, 'slave': 15103, 'trade': 16868, 'hair': 7460, 'poverti': 12972, 'fade': 6128, 'weekend': 17927, 'loss': 10107, 'nearli': 11458, 'weekold': 17929, 'rage': 13417, 'firefight': 6401, 'cari': 3378, 'condo': 4109, 'audacityjamesta': 1976, 'babe': 2108, 'lt3': 10150, 'youll': 18543, 'lan': 9608, 'iamrrsb': 8199, 'skywar': 15089, 'que': 13341, 'hack': 7438, 'flechada': 6468, 'sinistra': 14994, 'dem': 4862, 'agochicago': 1241, 'detain': 4948, 'interrog': 8574, 'ugh': 17185, 'put': 13291, 'calori': 3255, 'pizza': 12786, 'thisispublichealth': 16524, 'pic': 12712, 'fort': 6607, 'jackass': 8754, 'stuffin': 15788, 'write': 18323, 'comput': 4090, 'beautiful_juic1': 2346, 'let': 9811, 'babysweet420': 2113, 'mad': 10269, '420': 584, 'guiltygearxxacp': 7387, 'drew': 5357, 'socialmedia': 15255, 'facebook': 6112, 'page': 12342, 'featur': 6260, 'seek': 14600, 'custom': 4527, 'experi': 6040, 'djjohnblaz': 5178, 'shout': 14891, 'hottest': 8033, 'dj': 5173, 'sothwest': 15348, 'farm': 6195, 'fireû_': 6413, 'christycroley': 3748, 'vela': 17525, 'uabstephenlong': 17170, 'courtlizcamp': 4290, 'mixtap': 10945, 'goin': 7148, '_itzsteven': 953, 'xdojjjj': 18415, 'whopper_jr_760': 18067, 'huh': 8096, 'leo': 9794, 'bedroom': 2363, 'bath': 2262, 'sale': 14316, 'palm': 12370, 'a__ce': 984, 'daem': 4574, 'smooth': 15191, 'asf': 1843, 'artisteoftheweekfact': 1825, 'coast2coastdj': 3927, 'agre': 1243, 'crystal_blaz': 4454, 'jiwonl': 8966, 'hiphop': 7857, 'clubbang': 3896, 'bright': 2964, 'fireman': 6404, 'parti': 12452, 'wed': 17913, 'vibez': 17568, 'listenl': 9939, 'montgomeri': 11057, 'weatherstay': 17909, 'std': 15622, 'slogan': 15132, 'transcendblaz': 16900, 'trail': 16883, 'diversifi': 5161, 'morgan': 11088, 'silver': 14958, 'dollar': 5234, '1880': 254, 'gem': 6959, 'dmpl': 5196, 'cameo': 3266, 'rev': 13855, 'grade': 7230, 'bowl': 2860, 'danryckert': 4650, 'drewscanlon': 5358, 'stealth': 15626, 'skill': 15067, 'noth': 11790, 'silenc': 14951, 'm4': 10238, 'pacquiao': 12335, 'marquez': 10457, 'unfil': 17269, 'swarm': 15996, 'onlin': 12098, 'durvod': 5473, 'stoponesound': 15705, 'airwav': 1292, '1079': 93, 'fm': 6523, 'stickynyc': 15675, '95root': 902, 'baseballquotes1': 2244, '32': 493, 'inch': 8387, 'dynasti': 5503, 'master': 10497, 'hinatobot': 7848, 'blazing_ben': 2658, 'pattyds50': 12499, 'gwfraze': 7422, 'joshuaassaraf': 9057, 'shouout': 14890, 'kasad1lla': 9218, 'vocal': 17671, 's3xleak': 14257, 'ph0to': 12664, '19yr': 303, 'old': 12046, 'ashwo': 1864, 'ladi': 9583, 'festac': 6305, 'delta': 4856, 'exp0s': 6033, 'bbm': 2302, 'leak': 9725, 'pictur': 12722, 'oh': 12005, 'race': 13395, 'temperatur': 16276, 'roof': 14088, 'fifth': 6347, 'harmoni': 7576, 'omgbethersss': 12074, 'bethanymota': 2476, 'dmac1043': 5191, 'spanish': 15400, 'word': 18241, 'latin': 9667, 'reddish': 13627, 'color': 4011, 'dummi': 5451, 'pronounc': 13159, 'freez': 6709, 'cold': 3970, 'enough': 5802, '95': 897, 'degre': 4835, 'midday': 10789, 'sun': 15877, 'notû_': 11806, 'rn': 13987, 'bekah__w': 2399, 'sweat': 16003, 'bullet': 3084, 'acousticmaloley': 1112, 'officialtjonez': 11984, 'fam': 6159, 'beyond': 2490, 'bless': 2670, 'dude': 5435, 'fantasi': 6184, 'escort': 5894, 'gfe': 7015, 'dubai': 5424, '__srajapakse__': 932, 'missi': 10921, 'suit': 15855, 'summertim': 15869, 'yeehaw': 18489, 'asukag': 1911, 'magic': 10293, 'bag': 2148, 'elwood': 5701, 'blazingelwood': 2659, 'bother': 2838, 'doug': 5298, 'tune': 17079, '1921': 267, 'ch': 3545, 'pl': 12794, 'satin': 14414, 'rare': 13488, 'proof': 13160, 'reû_': 13880, 'etisalat': 5933, 'mb': 10555, '100mb': 70, 'tecno': 16242, 'q1': 13308, 'ime': 8337, 'funkylilshack': 6814, 'mariaf30': 10419, 'bitch': 2599, 'slap': 15098, 'cake': 3223, 'throw': 16574, 'showdown': 14897, 'edwelchmus': 5603, 'unpack': 17310, 'physic': 12708, 'archetyp': 1745, 'bleed': 2667, 'wellground': 17945, 'fpoj': 6648, 'threw': 16566, 'chicken': 3665, 'nugget': 11853, 'slit': 15129, 'throat': 16571, 'apolog': 1695, 'joe': 8982, 'landolina': 9619, 'gel': 6957, 'realest': 13554, 'nose': 11779, 'typewrit': 17155, 'written': 18331, 'bunch': 3097, 'gunk': 7400, 'jaydennotjar': 8864, 'text': 16337, 'send': 14643, 'hug': 8090, 'appar': 1700, 'fine': 6378, 'walk': 17755, 'taki': 16111, 'rub': 14182, 'tear': 16230, 'darrylb1979': 4671, 'thatnot': 16364, '2017': 350, '2019': 352, 'vampiro': 17481, 'coreyash': 4229, 'foot': 6561, 'toe': 16723, 'king_naruto_': 9394, 'madara': 10270, 'step': 15641, 'glass': 7085, 'pun': 13261, 'tak': 16103, 'sedar': 14595, 'ear': 5516, '25': 414, 'cute': 4529, 'dinner': 5059, 'til': 16626, 'cam': 3261, 'uptown_jorg': 17371, 'safer': 14287, 'violenc': 17622, 'jannet2208': 8832, 'fell': 6278, 'concret': 4102, 'katramsland': 9230, 'liber': 9841, 'deadpool': 4749, 'favourit': 6237, 'charact': 3586, 'beckyfeigin': 2355, 'def': 4818, 'sodamntru': 15265, 'wannab': 17774, 'artist': 1824, 'chaosmagician97': 3582, 'burberry': 3104, 'brain': 2889, 'soccer': 15251, 'tammy_w1997': 16129, 'elijahmallari': 5674, 'coloiccarn': 4006, 'instinct': 8537, 'scratch': 14532, 'stefano': 15636, 'benjm1': 2442, 'tourofutah': 16835, 'b1grego': 2093, 'pileup': 12738, 'rave': 13505, 'wise': 18165, 'te': 16204, 'damnaariel': 4615, 'timelin': 16643, 'blew': 2672, 'mfalcon21': 10738, 'oomf': 12121, 'instagram': 8529, 'b24fowler': 2094, 'line': 9915, 'jazz': 8870, 'usagi': 17397, 'solar': 15277, 'airhead': 1282, 'misstep': 10931, 'benkin97': 2443, 'mili_5499': 10826, 'prob': 13114, 'cup': 4504, 'receipt': 13593, 'gtfo': 7356, 'desper': 4933, 'hopeinheart': 7992, 'notif': 11795, 'encourag': 5766, 'hw18': 8151, '90100': 866, 'told': 16734, 'lolol': 10052, '2fast2furi': 449, 'univers': 17296, 'max': 10537, 'tf': 16340, 'catfishmtv': 3454, 'rick': 13908, 'morti': 11105, 'codythompson25': 3952, 'ty': 17149, '_onlyftf': 965, 'tuski': 17099, 'robsimss': 14020, 'cantmisskid': 3327, 'rq': 14154, 'snapchat': 15208, 'gambit': 6876, 'anakin': 1555, 'wbc2015': 17870, 'iphooey': 8632, 'michel': 10769, 'bachmann': 2114, 'brought': 3018, 'wron': 18334, 'hoax': 7902, 'catfish': 3453, 'retweet': 13850, 'whistl': 18040, 'wind': 18125, 'skirt': 15075, '1st': 316, 'imawesome7986': 8334, 'freya': 6725, 'everywher': 5992, 'yahooschwab': 18460, 'ray': 13510, 'rice': 13895, 'fiascothat': 6326, 'skin': 15069, 'honey': 7969, 'economi': 5568, 'recommend': 13607, 'conserv': 4144, 'shopp': 14874, 'harperanetflixshow': 7578, 'elxn42': 5702, 'stopharp': 15703, 'firebal': 6398, 'sean': 14564, 'zayn': 18616, 'weloverobdyrdek': 17950, 'adrian_peel': 1166, 'clue': 3897, 'daorcey': 4654, 'nsit_': 11836, 'pair': 12351, 'graywarden': 7267, 'blight': 2673, 'damidnight': 4612, 'theori': 16452, 'magist': 10296, 'arent': 1759, 'dwarf': 5489, 'cycl': 4547, 'athlet': 1925, 'dope': 5270, 'exacerb': 6000, 'monetari': 11036, 'reward': 13872, 'search': 14567, 'requir': 13791, 'kynespeac': 9565, 'jack': 8753, 'realhotcullen': 13556, 'deep': 4808, 'lyrium': 10226, 'aint': 1273, 'gt_gt': 7352, 'load': 10008, 'welfar': 17941, 'spongea': 15478, 'societi': 15260, 'prysmian': 13200, 'contract': 4177, 'bank': 2198, 'height': 7717, 'shaker': 14750, 'todd_calfe': 16718, 'mattburgen': 10520, 'info': 8473, 'carl': 3382, 'everest': 5979, 'cobe': 3933, 'whitt': 18051, 'frost': 6757, 'snuff': 15241, 'godli': 7139, 'beer': 2371, 'someday': 15294, 'thda': 16372, 'antiblight': 1641, 'loan': 10011, 'memphi': 10675, 'greenspac': 7288, 'developmentû_': 4967, 'demetae12': 4866, 'level': 9819, 'constel': 4153, 'gaia': 6861, 'iclown': 8238, 'drumstep': 5405, 'remix': 13734, '2iclown': 454, 'infin': 8467, 'achiev': 1105, 'excel': 6010, 'develop': 4966, 'matter': 10522, 'hendy_21': 7755, 'purdi': 13275, 'traci': 16861, 'appercept': 1704, 'bridgework': 2959, 'xxhjesc': 18445, 'dotish': 5290, 'revolutionblight': 13870, 'acebab': 1099, 'healthweekly1': 7674, 'amateurnest': 1480, 'swear': 16001, 'uncov': 17237, 'slumber': 15148, 'willhillbet': 18106, 'result': 13834, 'app': 1697, 'parksboardfact': 12437, 'zippolin': 18646, 'moveit': 11149, 'polici': 12894, 'ohio': 12010, 'cle': 3839, 'cuyahoga': 4535, 'vacant': 17459, 'land': 9615, 'anellatulip': 1583, 'taint': 16097, 'open': 12134, 'gate': 6918, 'refuge': 13662, 'tragedi': 16881, 'shame': 14759, 'articl': 1820, 'jackman': 8762, 'metro': 10722, 'detroit': 4959, 'downgrad': 5307, 'estim': 5919, '37': 519, 'squar': 15518, 'locksmithingart': 10029, 'elabor': 5643, 'lock': 10024, 'lpdkl': 10144, 'jake_blight': 8792, 'wealilknowa': 17896, 'cunt': 4503, '5000': 641, 'rank': 13474, 'card': 3363, 'teû_': 16339, 'amazon': 1486, 'buy': 3157, 'print': 13099, 'avail': 2027, 'blizzard': 2679, 'blizzard_draco': 2680, 'art': 1814, 'kamon': 9188, 'stevenontwatt': 15662, 'pussyxdestroy': 13290, 'pay': 12514, 'nut': 11864, 'flavor': 6464, 'cream': 4361, 'auz': 2024, 'cst': 4461, 'radioriffrock': 13409, 'hr': 8055, 'rock': 14025, 'hump': 8111, 'rolo': 14061, 'dq': 5318, 'ashayo': 1846, 'msmiggi': 11188, 'hi': 7797, 'vod': 17674, 'present': 13055, 'tweet4taiji': 17114, 'dolphin': 5236, 'worship': 18276, 'superstit': 15923, 'blizzard_fan': 2681, 'lucio': 10172, 'overwatch': 12300, 'roll': 14056, 'caution': 3468, 'though': 16547, 'blizzard_gamin': 2682, 'ight': 8283, 'peanut': 12546, 'butter': 3150, 'cooki': 4199, 'dough': 5299, 'mic': 10763, 'announc': 1619, 'expans': 6035, 'idea': 8248, 'bard': 2219, 'holi': 7918, 'triniti': 16984, 'daborsch': 4568, 'shock': 14859, 'lure': 10203, 'fanbas': 6177, 'wod': 18205, 'disappoint': 5083, 'hardcor': 7558, 'candi': 3305, 'lizard': 9981, 'wizard': 18179, 'lwb': 10213, 'lonewolffur': 10061, 'fairx818x': 6143, 'playoverwatch': 12822, 'blizzardc': 2683, 'clutch': 3900, 'bubblycuteon': 3053, 'okayyyyyi': 12029, 'ima': 8327, 'bout': 2850, 'tho': 16530, 'tora': 16796, 'hearthston': 7689, 'pc': 12528, 'tcgreno': 16195, 'reset': 13805, 'browni': 3023, 'batter': 2268, 'activis': 1127, 'cogniz': 3960, 'sg': 14730, 'knockout': 9451, 'biggest': 2536, 'regret': 13684, 'butterfing': 3151, 'dryer': 5409, 'snowi': 15232, 'paper': 12404, 'jean': 8879, 'pocket': 12869, 'bruh': 3030, 'chief__cg': 3668, 'nah': 11348, 'cook': 4197, 'gone': 7160, 'wall': 17759, 'invinc': 8613, 'floor': 6494, 'broke': 2999, 'nailreal': 11350, 'morn': 11093, 'ah': 1249, 'hurt': 8138, '45': 599, '290': 435, 'boxset': 2864, 'lindsay': 9913, 'burok': 3123, 'kindl': 9385, 'associ': 1896, 'gastric': 6916, 'carcinoma': 3362, 'bookanoth': 2803, 'fragil': 6655, 'gene': 6967, 'besid': 2462, 'wound': 18290, 'tattoo': 16168, 'donat': 5248, 'dialysi': 5003, 'grandpa': 7245, 'setzorah': 14704, 'smh': 15177, 'omron': 12077, 'hem712c': 7747, 'pressur': 13069, 'monitor': 11040, 'standard': 15575, 'larg': 9645, 'bp': 2876, 'cuff': 4488, 'chambered_blood': 3557, 'speakingfromexperi': 15411, 'mid': 10788, 'stress': 15749, 'decisionsondecis': 4786, 'imouto': 8352, 'relat': 13703, 'ugliest': 17187, 'shoe': 14861, 'super': 15906, 'tight': 16623, '_dangerousbean': 942, 'porridg': 12936, 'serious': 14682, 'phenomen': 12675, 'scotto519': 14523, 'shii': 14834, 'intend': 8556, 'hoe': 7909, 'hastl': 7606, 'drug': 5401, 'drown': 5396, 'document': 5211, 'somebodi': 15293, 'ta': 16071, 'sbee': 14457, 'fuckin': 6780, 'gypsi': 7428, 'lobo_paranoico': 10015, 'thirsti': 16516, 'nightsad': 11633, 'rockn': 14032, 'rolandonabeat': 14053, 'elli': 5690, 'gould': 7206, 'acess': 1102, 'nosso': 11781, 'para': 12412, 'ouvir': 12270, 'olrul': 12063, 'chapter': 3584, 'encount': 5765, 'jesu': 8922, 'anthxvi': 1639, 'sethalphaeu': 14696, 'paramor': 12421, 'muse': 11261, 'royal': 14148, '5so': 697, 'shed': 14802, 'innoc': 8506, 'pollut': 12906, 'psalm': 13207, '10638': 91, 'sin': 14978, 'abort': 1052, 'se': 14558, 'pone': 12910, 'cantar': 3324, 'lightn': 9880, 'everwh': 5984, 'everyday': 5986, 'bloodû_': 2701, 'looooooooooool': 10082, 'infect': 8458, 'aggressif': 1237, 'aggress': 1236, 'enter': 5810, 'butterlondon': 3154, 'crayon': 4352, 'be_ram0': 2321, 'bblogger': 2301, 'slsandpet': 15145, 'salli': 14323, 'email': 5706, 'awol': 2070, 'argh': 1768, 'resigninsham': 13812, 'lauradeholanda': 9681, 'forrest': 6602, '83': 831, 'aw': 2049, 'xxx': 18446, 'nightmar': 11629, 'elm': 5692, 'remad': 13719, 'soni': 15313, 'stephen': 15645, 'kingûª': 9400, 'ûthe': 18748, 'towerûª': 16841, 'stephenk': 15647, 'thedarktow': 16402, 'bdisgust': 2318, 'tradcatknight': 16867, 'okanowa': 12027, 'mainlin': 10317, 'invas': 8606, 'insomnia': 8521, 'grrrr': 7339, 'zhenghxn': 18633, 'akam': 1302, 'ga': 6848, 'tokyo': 16732, 'ghoul': 7032, 'dare': 4658, 'fantosex': 6188, 'amend': 1499, 'mari': 10417, 'newû_': 11572, 'tire': 16665, 'vaca': 17457, 'mrtophypup': 11180, 'sexi': 14717, 'drool': 5384, 'effect': 5615, 'low': 10135, 'product': 13132, 'acn': 1110, 'diarrhea': 5012, 'ronda': 14080, 'rousey': 14133, 'floyd': 6512, 'mayweath': 10553, 'money': 11037, 'elbow': 5648, 'a3': 980, 'landscap': 9621, 'oil': 12019, '_itsmegss_': 952, 'bark': 2225, 'hello': 7730, 'thigh': 16503, 'cleav': 3849, 'expos': 6063, 'cleavag': 3850, 'mariasherwood2': 10425, 'johnjcampbel': 9005, 'mega': 10637, 'sink': 14996, 'beet': 2372, 'juic': 9098, 'melris': 10659, 'gayler1969': 6934, 'wwwbigbaldhead': 18379, 'jessienojok': 8919, 'melissaross9847': 10655, 'monti': 11060, 'python': 13306, 'rs5': 14160, 'friday': 6729, 'suppos': 15931, 'zzzz': 18672, 'chxrmingprinc': 3765, 'jones_luna': 9035, 'arm': 1789, 'chair': 3553, 'reaf': 13547, 'drama': 5336, 'indiansfor': 8424, 'smirk': 15180, 'remorseless': 13738, 'killer': 9368, 'boast': 2746, 's01e09': 14255, 'monday': 11034, 'bloodymonday': 2700, 'tvshowtim': 17106, 'marlon': 10455, 'william': 18108, 'elvi': 5699, 'presley': 13062, 'steel': 15631, 'panther': 12398, 'shuffl': 14913, 'legend': 9756, 'rather': 13497, 'shop': 14872, 'ezralev': 6097, 'blown': 2715, 'papcrdol': 12403, 's2g': 14256, 'deactiv': 4740, 'manutd': 10393, 'emilymcfcheslop': 5728, 'wow': 18294, 'club': 3895, 'player': 12818, 'theyd': 16490, 'pillori': 12741, 'greink': 7298, 'inning': 8504, 'woke': 18208, 'aunt': 1990, 'marg': 10412, 'ehek': 5629, 'troylercraft': 17016, 'spammer': 15397, 'probabl': 13115, 'supposedli': 15932, 'repres': 13779, 'valu': 17477, 'cgi': 3543, 'strike': 15756, 'lmfaoooo': 10001, 'hasnt': 7602, 'machinegunkelli': 10260, 'underground': 17243, 'thisdayinhistori': 16519, '1862': 252, 'confeder': 4115, 'crew': 4386, 'ur': 17374, 'mini': 10865, 'uhc': 17191, 'creeper': 4378, 'fli': 6480, 'salti': 14330, 'libraryeliza': 9849, 'taylorswift13': 16184, 'bump': 3094, 'approv': 1719, 'musicadvisori': 11266, 'truckload': 17026, 'soldier': 15280, 'panic': 12392, 'mind': 10849, 'kash': 9219, 'foundat': 6625, 'magazin': 10288, 'websit': 17912, 'todd': 16717, 'blake': 2645, 'kaylak369': 9241, 'ee': 5605, 'glad': 7080, 'half': 7475, 'weûªr': 17993, 'weûªv': 17994, 'theboyofmask': 16390, 'manor': 10381, 'anyway': 1665, 'buddi': 3063, 'loner': 10060, 'diari': 5011, 'pattern': 12497, 'sand': 14361, 'choke': 3707, 'bsg': 3044, 'suffici': 15844, 'utterli': 17447, 'vanessa': 17489, 'gentlementh': 6981, 'bb17': 2286, 'guarante': 7369, 'bitten': 2608, 'mutant': 11283, 'mosquito': 11113, 'ankl': 1605, 'tozlet': 16851, 'seat': 14571, 'butt': 3149, 'leprosi': 9799, 'fullblown': 6797, 'jerkfac': 8906, 'syndrom': 16052, 'lisp': 9935, 'toilet': 16729, 'ricket': 13910, 'kalinandmyl': 9176, 'kalinwhit': 9177, 'hacker': 7439, 'givebackkalinwhiteaccount': 7075, 'luke_winki': 10187, 'whoever': 18059, 'grab': 7225, 'nicki': 11609, 'minaj': 10847, 'recognit': 13605, 'princessduck': 13097, '6th': 754, 'jame': 8803, 'orbett': 12168, 'amirit': 1515, 'dogûª': 5226, 'kennel': 9290, 'yorkshir': 18534, 'espn2': 5907, 'hopefulbatgirl': 7990, 'beaten': 2339, 'ra': 13387, 'al': 1315, 'ghul': 7033, 'thebriankraus': 16392, 'as': 1831, 'metaphor': 10712, 'piperwearsthep': 12763, 'charm': 3602, 'anarchic_teapot': 1559, 'boironusa': 2764, 'zeno001': 18626, 'glononium': 7104, '6c': 751, 'bash': 2248, 'bottl': 2839, 'nitroglycerin': 11659, 'tote': 16821, 'handbag': 7513, 'faux': 6230, 'fashion': 6206, 'purs': 13283, 'republican': 13784, 'questergirl': 13353, 'ditto': 5154, 'drank': 5339, 'vodka': 17675, 'genuin': 6983, 'mulberri': 11225, 'antoni': 1651, 'messeng': 10704, 'oak': 11909, 'soft': 15268, 'buffalo': 3067, 'å27900end': 18678, 'vuitton': 17712, 'monogram': 11042, 'sophi': 15335, 'limit': 9906, 'cultsierr': 4493, 'ameribag': 1500, 'healthi': 7672, 'backpack': 2118, 'khaki': 9324, 'tan': 16133, 'beig': 2393, 'cosmet': 4250, 'periwinkl': 12610, 'copper': 4218, 'pipe': 12760, 'along': 1438, 'corner': 4234, 'thin': 16504, 'hip': 7856, 'hobo': 7905, 'enû_': 5832, 'tr_jdavi': 16857, 'cage': 3212, 'find': 6377, 'readû_': 13546, 'saumur': 14428, '35': 506, '723': 775, '4193': 581, 'vintag': 17618, 'longaberg': 10063, 'floral': 6499, 'strap': 15729, 'ìü': 18700, 'satchel': 14411, 'zip': 18642, 'style': 15799, 'authent': 2004, 'pochett': 12868, 'bosphor': 2832, 'bagû_': 2152, 'å_': 18684, 'coach': 3921, 'camera': 3267, '9973': 915, '1699': 221, 'bid': 2522, 'fit': 6428, 'ipad': 8630, 'tablet': 16075, 'jp': 9068, 'nuu': 11866, 'fwt': 6840, 'rhee1975': 13885, 'deliciousvomit': 4847, 'matt_bez': 10516, 'bangin': 2191, 'ohmyloz': 12013, 'rondarousey': 14081, 'drake': 5333, 'meek': 10630, 'fuckyeahcarey': 6784, 'bornverifi': 2830, 'tea': 16205, 'meekmil': 10631, 'leagu': 9724, 'trollingtilmeekdiss': 17000, 'idgaf': 8256, 'tough': 16828, 'philli': 12690, 'yanke': 18470, 'broseidonrex': 3013, 'dapurplesharpi': 4655, 'skim': 15068, 'lyric': 10224, 'bomairing': 2777, 'elutranscend': 5697, 'straight': 15720, '22': 388, 'friendship': 6736, 'togeth': 16725, 'mophem': 11073, 'bigstar': 2542, 'johnson': 9011, 'vuzuhustl': 17718, 'today4got': 16709, 'score': 14512, 'editaxohaz': 5584, 'cuf': 4487, 'shouldnt': 14888, 'ovofest': 12306, 'ovo': 12305, 'ziphimup': 18643, 'bodybag': 2759, 'amaramin3': 1477, 'definit': 4831, 'capabl': 3336, 'br': 2878, 'wwe': 18371, '2k15': 457, 'mycar': 11308, 'ep18': 5839, 'tyron': 17164, 'sensit': 14651, 'spot': 15489, 'ghostwrit': 7031, 'di': 4997, 'flow': 6508, 'mark': 10438, 'mill': 10836, 'patient': 12482, 'meanwhil': 10598, 'hush': 8140, 'hushh': 8141, 'mzgraciebabi': 11332, 'record': 13610, 'jumpin': 9113, 'officialrealrap': 11983, 'file': 6359, 'd_lac': 4563, 'kept': 9298, 'hop': 7986, 'beef': 2366, 'spit': 15458, 'lay': 9705, 'im2ad': 8325, 'ûïmacdaddy_leo': 18790, 'caption': 3349, 'freshman': 6720, 'ûmi': 18736, 'stacey': 15550, 'aubrey': 1969, 'groceri': 7322, 'ach': 1103, 'slikrickdarula': 15123, 'jengriffinfnc': 8895, 'danger': 4632, 'micom': 10779, 'contrast': 4180, 'bowknot': 2859, 'womengirl': 18223, 'po': 12865, '23800': 403, 'bestsel': 2471, 'pvc': 13295, 'cartoon': 3417, 'buckl': 3059, 'casual': 3438, 'stylish': 15801, 'fossil': 6615, 'dawson': 4718, 'esû_': 5923, '9800': 911, 'boomerangtim': 2810, 'rskarim1': 14163, 'sopam': 15334, 'wattashit3': 17850, 'appear': 1702, 'ridah': 13919, '08072015': 53, '0730': 43, 'tremont': 16946, 'hall': 7485, 'charlott': 3600, 'concert': 4097, 'varieti': 17501, 'pack': 12330, 'snack': 15203, 'redbul': 13623, 'fairfax': 6138, 'admin': 1156, 'probe': 13118, 'dept': 4906, 'rch': 13526, 'footbal': 6563, 'coffin': 3957, 'locker': 10027, 'room': 14094, 'tommorow': 16752, 'flower': 6510, 'chain': 3551, 'small': 15156, 'zipper': 18645, 'deeeznvtzzz': 4805, 'ûinstitut': 18730, 'peaceûª': 12543, 'chairman': 3554, 'russian': 14229, 'va': 17455, 'administr': 1158, 'scottwalk': 14525, 'middl': 10790, 'typic': 17159, 'baskgod': 2255, 'giant': 7036, 'size': 15044, 'garbag': 6900, 'laterim': 9663, 'moving2k15': 11153, 'expertwhin': 6046, 'shopûª': 14875, 'cutekitten': 4530, 'catsofinstagram': 3461, 'summerinsweden': 15866, 'katt': 9232, 'katterpìinstagram': 9233, 'duml': 5450, 'dagensû_': 4577, 'lattic': 9673, 'stud': 15782, 'colour': 4020, 'takin': 16113, 'bigger': 2535, 'congress': 4130, 'ûïparti': 18796, 'drivingû': 5376, 'limpar33': 9907, 'sweep': 16010, 'leg': 9751, 'heal': 7667, 'youûªll': 18566, 'smile': 15179, 'geometr': 6987, 'gasparcû_': 6914, 'qualit': 13330, 'asymbina': 1915, 'tithenai': 16672, 'hamper': 7503, 'crossbodi': 4417, 'ella': 5686, 'vicker': 17574, 'washabl': 17815, 'zicac': 18634, 'briefcas': 2961, 'investig': 8610, 'ûbodi': 18710, 'bagsûª': 2151, 'washington': 17818, 'canva': 3332, 'waist': 17744, 'solid': 15285, 'coffe': 3956, 'posit': 12948, 'norge2040': 11752, 'beforeitsnew': 2377, 'deriv': 4917, 'quadrillion': 13327, 'vû_': 17723, 'the_af': 16373, 'firework': 6411, 'hiroshima': 7864, 'drop': 5385, 'guardian': 7371, 'legaci': 9752, 'editori': 5586, 'namjoon': 11360, 'fantast': 6185, 'bye': 3168, 'halsey': 7491, 'troy': 17015, 'collab': 3984, 'aaronthefm': 1001, 'cranboonitz': 4336, 'hereticofeth': 7766, 'ûïdylanmcclure55': 18772, 'zumiez': 18667, 'locat': 10022, 'jen': 8894, 'daniglasgow45': 4641, 'smallforestelf': 15160, 'umm': 17214, 'gunman': 7401, 'danielsahyouni': 4640, 'itd': 8705, 'enolagay': 5800, 'board': 2744, 'disarm': 5084, 'dopeitsv': 5271, 'ahh': 1253, 'babi': 2109, 'mail': 10310, 'praiz8': 13010, 'known': 9457, 'dat': 4679, '2008': 333, 'fragranc': 6656, 'concept': 4095, 'enemi': 5780, 'carajdeievingnc': 3358, 'impact': 8353, 'ratio': 13500, 'kyle': 9560, 'swellyjetevo': 16016, 'disneyland': 5124, 'taco': 16082, 'flat': 6456, 'flavafraz21': 6463, 'whatcanthedo': 18009, 'thursday': 16599, '70year': 764, 'anniversari': 1615, 'appropri': 1718, 'jamaican': 8799, 'hatchetwield': 7611, 'pepper': 12590, 'spray': 15495, 'oop': 12129, 'okinawan': 12035, 'coast': 3926, '1965': 285, 'amaz': 1481, 'vocalist': 17672, 'themale_madonna': 16434, 'melani': 10651, 'fiona': 6391, 'slept': 15114, 'ehutch': 5630, 'joeybats19': 8990, 'centr': 3522, 'playoff': 12821, 'bluejay': 2726, 'bell': 2406, 'mosebi': 11109, 'barfield': 2223, 'stankyboy88': 15584, 'shouldv': 14889, 'sweetiebirk': 16013, 'mirrorlady2': 10897, 'slatukip': 15101, 'invadedbomb': 8603, 'asid': 1868, 'libya': 9850, 'africa': 1207, 'bombedout': 2782, 'myfriendmina': 11312, 'screenshot': 14538, 'islam': 8684, 'syria': 16053, 'turkey': 17092, 'targ': 16153, 'cyhitheprync': 4554, 'kany': 9197, 'elephantintheroom': 5663, 'ground': 7328, 'jet': 8923, 'main': 10314, 'dramat': 5338, 'plummet': 12849, 'abomb': 1048, 'therein': 16464, '200000': 324, 'repeat': 13766, 'turkish': 17093, 'villag': 17606, 'zergel': 18628, 'qendil': 13318, 'nicklee8': 11611, 'london3': 10055, 'bathroom': 2264, 'loo': 10073, 'yr': 18572, 'qpr1980': 13324, 'rorington95': 14103, 'nowt': 11818, 'fergi': 6295, 'drinker': 5367, 'within': 18173, 'wenger': 17957, 'third': 16513, 'exhibit': 6024, '1100': 108, '1800': 243, 'ooour': 12128, 'abu_baraa1': 1067, 'toler': 16735, 'democraci': 4870, 'iraqi': 8648, 'mutil': 11286, 'brodyfriel': 2998, 'hanna_brooksi': 7531, 'shadowflam': 14741, 'wraith': 18308, 'whitehous': 18046, 'co': 3919, 'germani': 7002, 'invad': 8602, 'poland': 12884, 'pearl': 12547, 'harbor': 7554, 'preemptiv': 13030, 'cheetosarabia': 3631, 'crude': 4436, 'cheeto': 3630, 'christopherszen': 3747, 'hunterlove1995': 8127, 'tblack': 16189, 'raniakhalek': 13473, 'uncl': 17230, 'afghanistan': 1201, 'kurtschlicht': 9547, 'falphil': 6157, 'compass': 4067, 'specif': 15420, 'tradit': 16872, 'sexist': 14719, 'nagasaki': 11345, 'forev': 6586, 'bannuk': 2204, 'recov': 13614, 'accord': 1088, 'r_lauren83199': 13385, 'xojademarie124': 18433, 'batista': 2266, 'lauren': 9684, 'vagersedolla': 17463, 'recent': 13595, 'fed': 6263, 'pkk': 12792, 'antpips67': 1653, 'johnejefferson': 9001, 'obvious': 11931, 'flee': 6470, 'redskin': 13643, 'wr': 18307, 'bellybomb': 2412, 'teamstream': 16224, 'pa': 12325, 'lax': 9704, 'benedict': 2429, 'cumberbatch': 4496, '120000': 140, 'gif': 7041, 'africansinsf': 1210, 'beyondgp': 2491, 'background': 2116, 'floatin': 6488, 'ri': 13893, 'wors': 18273, 'hurrican': 8133, 'cityamp3oth': 3798, 'hardest': 7562, 'yard': 18473, '20000k': 325, 'wasp': 17824, 'dive': 5157, 'misfitrar': 10903, 'misfit': 10902, 'daesh': 4575, 'voltair': 17690, 'network': 11515, 'cryptic': 4452, 'guid': 7381, 'mission': 10923, '70th': 763, 'scheduleû_': 14483, 'humbl': 8103, 'novemb': 11812, 'moscow_ghost': 11108, 'sayed_ridha': 14448, 'amin_akh': 1513, 'congratul': 4129, 'besieg': 2463, 'indiscrimin': 8434, 'moral': 11074, 'banthebomb': 2206, 'setting4success': 14700, 'toll': 16737, 'smallbusi': 15158, 'entrepreneur': 5820, 'nbcnew': 11436, 'pearlharbor': 12548, 'rinkydnk2': 13944, 'zaibatsunew': 18605, 'neoprogressive1': 11494, 'push2left': 13286, 'talkecologyamphuman': 16119, 'rtsampdemocraci': 14180, 'afghetcleft': 1202, 'humanitarian': 8099, 'justifi': 9138, 'hindustan': 7851, 'snapharmoni': 15210, 'sanitis': 14379, 'narr': 11372, 'kinder': 9381, 'bill': 2551, 'clinton': 3871, 'nato': 11408, '70û_': 765, 'generalnew': 6970, 'marshal': 10465, 'dambisa': 4609, 'moyo': 11155, 'prosyn': 13179, 'ope': 12133, 'po_st': 12866, 'ameenshaikh3': 1497, 'logic': 10039, 'bridg': 2955, 'sanjaynirupam': 14380, 'sureshprabhu': 15943, 'ash': 1845, 'unfold': 17271, 'trent': 16954, 'cricket': 4390, 'sioux': 15001, 'cement': 3514, 'siouxland': 15003, 'siouxlan': 15002, 'australiaûª': 2001, 'england': 5791, 'bundl': 3099, '60': 706, 'central': 3523, 'relationship': 13704, 'btwn': 3050, 'kansa': 9196, 'hyatt': 8158, 'aia': 1261, 'cote': 4261, 'huffpostart': 8086, 'caribbean': 3379, '90': 863, 'kosher': 9487, 'five': 6433, 'jewishpress': 8935, 'calam': 3227, 'manmad': 10377, 'mpp': 11165, 'lambast': 9604, 'kanglaonlin': 9194, 'crane': 4337, 'nearbi': 11456, 'icymi': 8244, 'react': 13538, 'epic': 5844, 'johannesburg': 8994, 'aug': 1985, '06': 32, 'ani': 1598, 'legendari': 9757, 'australian': 2000, 'bloopandablast': 2705, 'parad': 12414, 'fox': 6633, 'traintragedi': 16889, 'mp': 11157, 'distanc': 5145, 'blower': 2710, 'tuffer': 17069, 'aussi': 1995, 'bbctm': 2298, 'stuff': 15787, 'engvau': 5794, 'gadget': 6855, 'slingnew': 15125, 'followlasg': 6545, 'urgentther': 17383, 'storey': 15709, 'bstop': 3045, 'oworoshoki': 12315, 'mainland': 10315, 'construct': 4155, 'killsåêon': 9371, 'restor': 13830, 'alphen': 1442, 'aan': 994, 'den': 4882, 'rijn': 13938, 'rescuer': 13799, 'leicester_merc': 9774, 'upgrad': 17355, 'infrastructur': 8482, 'situat': 15035, 'sustain': 15981, 'sureshpprabhu': 15942, 'sonofliberty357': 15319, 'illumin': 8315, 'brightli': 2967, 'gemini': 6960, 'mmmmmm': 10971, 'oooooohhhh': 12126, 'oooh': 12123, 'ooh': 12120, 'dougmartin17': 5302, 'ed': 5573, 'deserv': 4925, 'themagickidrap': 16432, 'upset': 17365, 'execut': 6021, 'etc': 5925, 'kou': 9493, 'cash': 3427, 'regist': 13681, '_minimehh': 959, 'cjoyner': 3810, 'overlook': 12284, 'blacklivesmatt': 2636, 'fewmoretweet': 6314, 'neighbor': 11479, 'greatest': 7275, 'boxer': 2863, 'outta': 12267, 'whatev': 18010, 'rocki': 14029, 'threaten': 16558, '7000': 757, 'largest': 9647, '9newsmorn': 922, 'messi': 10706, 'ronaldo': 14079, 'basic': 2251, 'mainten': 10320, '1acd4900c1424d1': 304, 'riot': 13950, 'loot': 10086, 'joshcorman': 9051, 'infosec': 8479, 'often': 11998, 'western': 17973, 'uganda': 17183, 'strikesstrik': 15758, 'lit': 9943, 'pledg': 12833, 'allegi': 1408, 'pope': 12920, 'doctorfluxx': 5210, 'stefanejon': 15635, 'spinnellii': 15454, 'themermacorn': 16439, 'embarrass': 5707, 'ruin': 14196, 'disgust': 5112, 'bradford': 2883, 'weep': 17930, 'leed': 9739, 'epcotexplor': 5843, 'jealou': 8878, 'ransack': 13475, 'awesomeeeeeee': 2060, 'zourryart': 18664, 'forgot': 6593, 'object': 11917, 'chase': 3610, 'weak': 17893, 'winston': 18151, 'outrag': 12262, 'rockbottomradfm': 14026, 'challeng': 3556, 'rescu': 13795, 'soak': 15243, 'tonn': 16765, 'alcohol': 1346, 'mat': 10502, 'gbbo': 6947, 'ppfa': 12991, 'store': 15707, 'wit': 18168, 'explod': 6051, 'afternoon': 1218, 'mikecroninwmur': 10815, 'xela': 18417, 'equip': 5863, 'grate': 7254, 'dcfd': 4732, 'chr3lyc': 3726, 'iaff36': 8193, 'croydon': 4430, 'crowd': 4425, 'reef': 13651, 'hazard': 7633, 'instal': 8530, 'noncompli': 11716, 'clad': 3815, 'wwwcbplawyer': 18380, 'greenbuildermag': 7285, 'nfpa': 11582, 'webinar': 17911, 'mitig': 10940, '819': 828, '2pm': 466, 'et': 5924, 'firewis': 6410, 'michele_nfpa': 10770, 'blow': 2709, 'multipl': 11238, 'downtown': 5314, 'hinton': 7855, 'thestrain': 16477, 'ton': 16757, '160': 206, 'ross': 14114, 'auburn': 1970, 'sever': 14710, 'booti': 2819, 'detector': 4951, 'shevlinhixon': 14823, 'gansey': 6895, 'bust': 3140, 'brick': 2951, 'seven': 14705, 'differ': 5038, 'architectur': 1748, 'newyorkû_': 11569, 'tweetlikeitsseptember11th2001': 17116, 'dam': 4599, 'estat': 5916, 'langata': 9627, '222pm': 390, 'confirm': 4121, 'grenad': 7299, 'thrown': 16579, 'baffl': 2147, 'mei': 10649, 'sweden': 16008, 'prohibit': 13146, 'grill': 7312, 'highris': 7818, 'insur': 8546, 'aust': 1996, 'displac': 5133, 'fourth': 6629, 'inû_': 8625, 'albani': 1333, 'ppsellsbabypart': 12995, 'bbcintroduc': 2290, 'purpleturtlerdg': 13279, 'giantgiantsound': 7037, 'rdg': 13532, '3alarm': 541, 'nh1new': 11587, 'bigsim50': 2541, 'pundit': 13264, 'mafireem': 10286, 'wmur9': 18194, 'kcarosawmur': 9250, 'wsl': 18348, 'tip': 16663, 'childcar': 3674, 'expens': 6039, 'jennasjem': 8897, 'patrickwsl': 12492, 'char': 3585, 'remain': 13721, 'threealarm': 16563, 'residenti': 13809, '1943': 276, 'prison': 13103, 'nazi': 11427, 'camp': 3280, 'treblinka': 16938, 'rebel': 13582, 'seiz': 14616, 'tore': 16798, 'mht': 10754, 'okcfox': 12031, 'straighten': 15721, 'brother': 3015, 'swoop': 16030, '300': 474, 'acr': 1116, 'drift': 5363, 'temecula': 16273, 'glue': 7115, 'age': 1229, 'content': 4167, 'sigmund': 14941, 'freud': 6724, 'hgf52611': 7791, 'uh': 17190, 'robbi': 14001, 'derbi': 4914, 'redsox': 13644, 'popcorn': 12919, 'wild_lionx3': 18094, 'shower': 14898, 'flush': 6520, 'barn': 2227, 'moon': 11065, 'mizuta': 10948, 'chees': 3627, 'klondik': 9432, 'alton': 1461, 'livestream': 9975, 'touch': 16826, 'plate': 12810, 'joke': 9020, 'couch': 4264, 'fr': 6649, 'runkeep': 14210, 'loseit': 10105, 'stevi': 15666, 'crusti': 4449, 'photoop': 12702, '129': 153, 'mph': 11163, 'brisk': 2976, 'pace': 12327, 'myfitnessp': 11311, 'twice': 17124, 'toung': 16830, 'pepperoni': 12591, 'weight': 17933, '43': 588, 'qvc': 13376, 'mcdonald': 10567, 'coolest': 4203, '202': 353, 'rl': 13983, 'boyfriend': 2869, 'cloth': 3888, 'kennethbauer_': 9292, 'noodl': 11733, 'crap': 4338, 'sandwich': 14370, 'figur': 6355, 'cubstalk': 4481, 'complex': 4078, '14028': 175, 'contain': 4162, 'thomasvissman22': 16537, 'keithyyl': 9272, 'keithyy': 9271, 'gettin': 7010, 'social': 15252, 'oven': 12273, '500': 640, 'fool': 6559, 'coverag': 4296, 'allpro': 1426, 'materi': 10510, 'microwav': 10787, 'intead': 8551, 'dirt': 5075, 'bike': 2546, 'spark': 15403, 'brush': 3035, 'landown': 9620, '10û_': 106, 'yall': 18466, 'bug': 3072, 'candl': 3307, 'cocoa': 3943, 'sip': 15004, 'nap': 11366, 'awesomesauc': 2063, 'hermancranston': 7769, 'atk': 1926, 'letsfootbal': 9816, 'skanndtyagi': 15052, '501': 646, 'mandem': 10365, 'totteham': 16824, 'maddddd': 10271, 'ting': 16657, 'dere': 4915, 'aubilenon': 1968, 'markkriegsman': 10448, 'youd': 18538, '8minut': 858, 'fatburn': 6219, 'routin': 14137, 'thatûª': 16371, 'weightless': 17934, 'burnfat': 3119, 'skinni': 15071, 'workout': 18249, 'bulletproof': 3086, 'funer': 6810, 'stacdemon': 15548, 'chri': 3727, 'mullin': 11228, 'johnûª': 9013, '201516': 346, 'sjubb': 15049, 'johnsontionn': 9012, 'except': 6011, 'idk': 8261, 'zionism': 18640, 'kanger': 9193, 'coil': 3963, 'rvaping101': 14237, 'huffpostcomedi': 8087, 'attende': 1954, 'visibl': 17642, 'tucson': 17067, 'lightningcaus': 9883, 'steep': 15633, 'terrain': 16304, 'mountainsû_': 11140, 'neon': 11492, 'modest': 10992, 'certainli': 3531, 'sniff': 15219, 'sniiiiiiff': 15220, 'er': 5865, 'return': 13849, 'method': 10718, 'integr': 8552, 'format': 6596, 'interv': 8582, 'muscl': 11260, 'shape': 14773, 'techniqu': 16240, 'bore': 2826, 'desir': 4928, 'goal': 7131, 'lou': 10113, 'holtz': 7937, 'uhhhhh': 17192, 'demon': 4878, 'crusad': 4443, 'boat': 2747, 'memori': 10672, 'web': 17910, 'nagel_ashley': 11347, 'vicken52': 17573, 'basedlarock': 2245, 'goonc1ti': 7178, 'rubi_': 14188, 'stack': 15552, 'appli': 1710, 'parent': 12429, 'michael5so': 10765, 'counter': 4275, 'alexandrian': 1364, 'jerri': 8908, 'press': 13064, 'confer': 4116, 'experienc': 6041, 'youûªr': 18567, 'influenc': 8471, 'socialtim': 15258, 'minsuwoong': 10878, 'understand': 17250, 'ika': 8306, 'soup': 15360, 'diet': 5035, 'recip': 13597, 'ticket': 16612, 'accident': 1081, 'lighter': 9877, 'parenthood': 12430, 'demonstr': 4879, 'pp': 12983, 'mv': 11294, 'strut': 15775, 'bg': 2499, 'louis_tomlinson': 10119, 'stone': 15695, 'atleast': 1935, 'individu': 8437, 'foxnewsvideo': 6640, 'aiiamericangiri': 1269, 'anhqdc': 1597, 'rioter': 13952, 'looter': 10087, 'forestservic': 6585, 'dhsscitech': 4995, 'buildingsûów': 3078, 'tech': 16232, 'tû_': 17167, 'duckvillelol': 5432, 'flip': 6485, 'tabl': 16074, 'screw': 14539, 'ppl': 12992, 'sex': 14716, 'be4': 2320, 'proud': 13189, 'attempt': 1952, 'delani': 4839, 'dhalgren': 4993, 'beastli': 2335, 'down': 5305, 'amongst': 1520, 'descript': 4921, 'mofanon': 11002, 'monster': 11048, 'ali': 1385, 'ran': 13460, 'booradleyvancullen': 2815, 'port': 12937, 'coquitlam': 4222, 'storen': 15708, 'cure': 4508, 'cancer': 3303, 'puppi': 13272, 'contempl': 4165, 'disrespect': 5141, 'meteor': 10715, 'striker': 15757, 'phalaborwa': 12665, 'chines': 3692, 'flamethrow': 6451, 'render': 13747, 'kitten': 9420, 'kshllcenterpri1': 9524, 'progress4ohio': 13145, 'burnt': 3122, 'understood': 17252, 'thoroughli': 16545, 'express': 6066, 'stupid': 15794, 'brutal': 3037, 'nvr': 11870, 'mistreat': 10935, 'streetlight': 15745, 'bush': 3131, 'safe': 14284, 'volcano': 17681, 'spout': 15492, 'co2': 3920, 'marcoar': 10408, 'winter': 18152, 'sydney': 16036, 'ted': 16243, 'ûïwe': 18809, 'mittû': 10941, 'omfg': 12072, 'tini': 16658, 'freak': 6676, 'slashandburn': 15099, 'drought': 5388, 'jamaicaobserv': 8800, 'cnewsliv': 3911, 'doricr': 5276, 'alhanda': 1384, 'seem': 14603, 'moonbeam': 11066, 'toke': 16730, 'traumatis': 16923, 'appreciativeinquiri': 1715, 'hillari': 7836, 'standwithpp': 15582, 'holiday': 7920, 'relax': 13705, 'sunbath': 15881, 'spain': 15395, 'californian': 3246, '28': 431, 'oct': 11948, '1895': 256, 'dacherryontop13': 4569, 'swim': 16021, 'water': 17837, 'scaryeven': 14475, 'scarier': 14472, 'scotland': 14519, 'wet': 17985, 'johnfromcranb': 9002, 'plea': 12826, 'warm': 17788, 'catastroph': 3446, 'photograph': 12700, 'wolter': 18214, 'peeter': 12566, 'nsw': 11838, 'rural': 14219, 'laû_': 9709, 'oblivi': 11923, 'affect': 1194, 'asap': 1836, 'advis': 1181, 'triumphant': 16994, 'egg': 5622, 'yolk': 18529, 'casualti': 3439, 'warfight': 17785, 'robot': 14015, 'reduc': 13645, 'ban': 2179, 'prematur': 13037, 'ieee': 8273, 'spectrum': 15424, 'attackclos': 1948, 'evil': 5994, 'rise': 13959, 'afghan': 1200, 'intensifi': 8558, 'sharp': 14784, 'libertarianluk': 9843, 'honest': 7967, 'rampag': 13458, 'recordhigh': 13612, 'eventu': 5977, 'higher': 7811, 'countless': 4281, 'globe': 7100, 'orchestr': 12173, 'disinfo': 5115, 'criticalmedia': 4404, 'poignant': 12876, 'lasvegasloc': 9658, 'vitalvega': 17653, 'rein': 13693, 'account': 1090, 'fallingoffstool': 6153, 'yemen': 18499, 'laugh': 9676, 'sorrow': 15341, 'throwin': 16577, 'catwoman1775': 3462, 'crazier': 4354, 'shooter': 14869, 'sutherland': 15983, 'pine': 12749, 'theleadernew': 16428, 'flyopinemonkey': 6522, 'followup': 6550, 'honshu': 7975, 'oper': 12137, 'coronet': 4236, '1m': 308, 'alli': 1415, '30m': 482, 'alcoholandmet': 1347, 'fix': 6434, 'reach': 13537, 'countermoonbat': 4276, 'voodoo_ben': 17695, 'purpl': 13278, 'command': 4044, 'wrap': 18310, 'pb': 12523, 'iraq': 8647, 'ûïthe': 18805, 'pave': 12509, 'hypocrisi': 8170, 'casualtiesû': 3440, 'francisunderwood': 6665, 'hoc': 7906, 'revis': 13865, 'scenario': 14478, 'iranian': 8644, 'idc': 8247, 'highest': 7812, '2009': 334, 'washingtonpost': 17819, 'ftsn': 6770, 'ftsnnewsdesk': 6771, 'irishspi': 8658, 'whimsi': 18032, 'pertain': 12632, 'derail': 4910, 'patna': 12485, 'toronto': 16806, 'branch': 2893, 'sureti': 15944, 'underwritersenior': 17257, 'underwrit': 17256, 'cours': 4288, 'stateû_': 15611, 'propertycasualti': 13169, 'rate': 13495, 'movement': 11150, 'commerci': 4049, 'propertycasu': 13168, 'aid': 1264, 'theyûªd': 16494, 'grown': 7337, 'davidû_': 4712, 'saniti': 14378, 'cord': 4226, 'sad': 14277, 'ocean': 11944, 'casualtygray': 3441, 'whale': 18005, 'popul': 12926, 'pacif': 12329, 'critic': 4403, 'endang': 5769, 'thomashcrown': 16534, 'grandfath': 7242, 'marin': 10431, 'predict': 13027, 'qualiti': 13331, 'licens': 9852, 'denver': 4896, 'becom': 2357, 'benzema': 2451, 'increasingli': 8400, 'benitez': 2438, 'arsen': 1809, 'bound': 2847, '5050': 647, 'chanc': 3565, 'gritti': 7319, 'amico': 1507, 'tag': 16089, 'amicospizzato': 1508, 'seeyouatamico': 14609, 'recal': 13591, 'industri': 8443, 'unpredict': 17313, 'disconnect': 5098, 'northbayhealth': 11760, 'shine': 14838, 'multicasualti': 11230, 'scriptettesar': 14542, 'katiecool447': 9228, 'btw': 3049, '30th': 486, 'septemb': 14666, '1986': 295, 'avbronstein': 2032, 'popehat': 12921, 'instapundit': 8533, 'homealone2': 7944, 'film4': 6365, 'metric': 10721, 'correl': 4241, 'marketwatch': 10447, 'independ': 8411, 'rowyso': 14144, 'setlist': 14698, 'calum5so': 3258, 's_casualti': 14260, 'greenharvard': 7286, '5sosfamupdat': 699, 'cancel': 3302, 'warship': 17804, 'repay': 13764, 'nytim': 11901, 'con': 4092, 'strong': 15765, 'portfolio': 12940, 'diversif': 5160, 'reriellechan': 13793, 'lich': 9853, 'roleplay': 14055, 'willingheart': 18113, 'rpn': 14153, 'nuke': 11857, 'albeit': 1335, 'unsuccess': 17330, 'ten': 16284, 'mackinnon08': 10266, 'hardstyl': 7569, 'mix': 10942, 'mixifi': 10944, 'stavernis': 15619, 'robdelaney': 14003, 'unabl': 17218, 'ejacul': 5639, 'appleofficl': 1709, 'migrat': 10811, 'iphoto': 8633, 'wast': 17825, 'hrsto': 8061, 'cultiv': 4492, 'joy': 9066, 'suffer': 15842, 'pjnet': 12790, 'tcotåêccot': 16200, 'borrow': 2831, 'uriminzok': 17385, 'puppet': 13271, 'republ': 13783, 'naemolgo': 11343, 'continu': 4173, 'firmli': 6415, 'yiraneuni': 18516, 'failur': 6133, 'misfortunebut': 10904, 'deb117': 4763, '730': 780, 'wanoth': 17775, 'teacher': 16207, 'principl': 13098, 'fulfil': 6794, 'cleric': 3855, 'duti': 5481, 'iphon': 8631, 'twist': 17130, 'ultim': 17206, 'ov': 12271, 'gemmahentsch': 6962, 'megynkelli': 10647, 'dloesch': 5189, 'envis': 5828, 'adopt': 1163, 'peterjuk': 12648, 'commit': 4051, 'stylist': 15803, 'whod': 18058, 'silent': 14952, 'prime': 13093, 'maatmhi': 10252, 'diff': 5037, 'barri': 2232, 'solo': 15287, 'pro': 13113, 'compani': 4062, 'repair': 13762, 'pisc': 12768, 'emot': 5742, 'cara': 3355, 'mother': 11117, 'chucker': 3757, 'vma': 17670, 'pixelsmovi': 12785, 'burford': 3107, 'council': 4270, 'field': 6337, 'adjust': 1155, 'safeco': 14285, 'mutual': 11289, 'payday': 12516, 'promot': 13156, 'financ': 6373, 'liqd': 9928, '810': 823, 'imdb': 8336, 'hilari': 7833, 'aiginsur': 1268, 'ceo': 3526, 'divestitur': 5164, 'temper': 16275, 'q2': 13310, 'vanilla': 17490, 'anymor': 1660, 'nar': 11369, 'phuket': 12707, 'perfectli': 12601, 'masochisticmag': 10485, 'reckless': 13599, 'bottom': 2841, 'regular': 13686, 'rockstar': 14033, 'wolf': 18210, 'denali': 4883, '48': 614, 'savedenaliwolv': 14438, 'tweetstorm': 17118, 'mark_arg': 10439, 'finish': 6384, 'bbc': 2288, 'r5live': 13383, 'studio': 15786, 'discuss': 5105, 'sheer': 14804, 'her': 7759, 'scraptrid': 14531, 'success': 15832, 'frustrat': 6765, 'vega': 17515, 'pieceofm': 12726, 'erupt': 5891, 'benefit': 2430, 'weathernetwork': 17908, 'acut': 1133, 'preced': 13021, 'ptsd': 13229, 'undetect': 17259, 'catastrophicfallenangel': 3447, 'reveillertm': 13857, 'macabrelolita': 10256, 'ûamino': 18706, 'acidsûª': 1108, 'felt': 6284, 'mistak': 10932, 'diplomaci': 5063, 'replac': 13769, 'marginoferror': 10416, 'rom': 14062, 'werent': 17962, 'manag': 10358, 'uniform': 17281, 'implic': 8360, 'theyll': 16491, 'glove': 7112, 'volcan': 17680, 'thirtyf': 16517, 'myvintagesoul': 11328, 'british': 2980, 'manserv': 10384, 'pamper': 12378, 'wealthi': 17899, 'brit': 2978, 'revers': 13863, 'apano55': 1673, 'jamesmelvil': 8807, '99': 913, 'donûªt': 5265, 'delud': 4858, 'senschum': 14648, 'netanyahu': 11506, 'religi': 13716, 'yorker': 18533, 'ourû_': 12244, 'kessler': 9308, 'exponenti': 6061, 'prolifer': 13150, 'satellit': 14413, 'gravitymovi': 7263, 'excit': 6015, 'ensu': 5807, 'debt': 4769, 'audio': 1979, 'assum': 1897, 'syringetoang': 16056, 'åç': 18689, 'disagr': 5081, 'occurr': 11942, 'clear': 3844, 'åè': 18690, 'chemic': 3639, 'armori': 1793, 'sf': 14724, 'chem': 3638, 'illinoi': 8313, 'nu': 11843, 'sharethi': 14779, 'hazmat': 7642, 'weeklong': 17928, 'biolog': 2579, 'radioact': 13407, 'nuclearbiologicalchem': 11845, 'nbc': 11432, 'southern': 15372, 'md': 10586, 'david_cameron': 4700, 'bee': 2365, 'savebe': 14437, 'krefeld': 9505, 'underway': 17254, 'reportli': 13775, 'cnnbrk': 3914, 'ntvde': 11842, 'instead': 8536, 'toxic': 16846, 'harm': 7573, 'spillevacuationsr': 15451, 'seattl': 14574, 'depend': 4900, 'counselor': 4273, 'spill': 15450, 'beaumont': 2343, 'benew': 2432, 'ijetalert': 8300, 'ricin': 13907, 'cartel': 3413, 'cocain': 3935, 'marijuana': 10427, 'heroin': 7773, 'kidnap': 9345, 'alert': 1356, 'watersafeti': 17844, 'pjcoyl': 12789, 'plant': 12806, 'northwesternû_': 11772, 'term': 16301, 'obsess': 11926, 'nueva': 11851, 'favorita': 6236, 'deezercolombia': 4817, 'cleanup': 3843, 'liquid': 9929, 'usar2015': 17402, 'usar15': 17401, 'ruor': 14217, 'evanston': 5967, 'profithungri': 13138, 'laevantin': 9588, 'fortun': 6611, 'rework': 13875, 'plumb': 12846, 'draw': 5342, 'glitter': 7097, 'chemical_bab': 3640, 'v452': 17454, 'lindenow': 9912, '315pm': 491, 'ibiza': 8214, 'pop': 12917, 'cliff': 3866, 'dannyjohnjul': 4646, 'spencer_fearon': 15435, 'christielinford': 3741, 'd33munni': 4561, 'jeannamibian': 8880, 'noooooooo': 11740, 'proce': 13122, 'neil': 11482, 'somethingyr': 15299, 'crossfit': 4420, 'decent': 4781, 'biller': 2555, '2leezi': 458, 'sweati': 16006, 'regress': 13683, 'slip': 15126, 'digniti': 5046, 'mate': 10508, 'fave': 6232, 'funnynew': 6820, 'chunk': 3761, 'china': 3689, 'brian': 2945, 'rueb': 14194, 'endur': 5777, '4500feet': 600, 'climb': 3869, 'bride': 2954, 'groom': 7325, 'alex': 1358, '107': 92, 'minion': 10869, 'favor': 6233, 'alexjacobsonpf': 1372, 'andr': 1573, 'gore': 7190, 'elit': 5678, 'thinkpink': 16511, 'magichairbump': 10295, 'balanc': 2165, '87': 850, 'snap': 15207, 'streak': 15738, 'punkblunt': 13269, 'sincerelyevelnn': 14984, 'szmnextdoor': 16060, 'lil': 9895, 'trip': 16987, 'landslid': 9623, 'ferri': 6302, 'knock': 9450, 'gulfport': 7392, 'allin': 1417, 'jump': 9110, '627': 723, 'lower': 10137, 'otm': 12225, 'yoeni': 18524, 'edg': 5579, 'ha': 7432, 'esn': 5901, 'cilla': 3777, 'stroke': 15764, 'nextû_': 11574, 'easili': 5536, 'nieuw': 11617, 'runaway': 14206, 'dublin': 5426, 'collapseblow': 3987, 'halloikbenwil': 7488, 'geoffrickli': 6985, 'vinyl': 17620, 'tee': 16248, 'pont': 12912, 'yahoo': 18454, 'row': 14140, 'basildudin': 2252, 'barbar': 2214, 'reliv': 13718, 'austrian': 2002, 'interview': 8584, 'talkradio': 16122, 'invest': 8609, 'strategi': 15730, 'blowout': 2717, 'circu': 3786, 'tent': 16297, 'implod': 8362, 'dccomic': 4731, 'imagecom': 8329, 'darkhorsecom': 4664, 'idwpublish': 8269, 'enabl': 5759, 'eurocrisi': 5951, 'revenu': 13861, 'propos': 13174, 'ââ': 18673, 'commod': 4053, 'absolut': 1060, 'eminem': 5730, 'nate': 11395, 'dogg': 5223, 'timestack': 16649, 'mesmer': 10700, 'imag': 8328, 'spike': 15447, '30min': 483, 'ckec': 3812, 'correct': 4240, 'behindashield': 2390, 'wars_goddess': 17803, 'knee': 9439, '4th': 630, 'reaction': 13539, 'absolut_sumya15': 1061, 'sa': 14261, 'ferrochrom': 6303, 'verg': 17539, 'presid': 13058, 'oral': 12163, 'fixingmatch': 6435, 'pak': 12353, 'sl': 15092, 'wi': 18075, 'rsa': 14161, 'bd': 2316, 'sham': 14758, 'exhaust': 6023, 'bailout': 2157, 'theash': 16375, 'growth': 7338, 'dri': 5361, 'bhp': 2507, 'billiton': 2563, 'bite': 2606, 'roh3': 14047, 'jfb': 8937, 'tfb': 16341, 'alrasyid448iturasya': 1445, 'smantibatam': 15162, 'roh3smantibatam': 14048, 'åèmgnafricaå': 18691, 'pin263789f4': 12748, 'wizkidayo': 18181, 'ûïthehighfess': 18806, 'blastedi': 2654, 'pancak': 12382, 'iowa': 8628, 'highû': 7822, 'sholt87': 14863, 'mtgrotto': 11198, 'eco11c': 5563, 'carlsbadbugkil1': 3386, 'usbush': 17408, 'wmiddl': 18192, '401k': 568, 'entranc': 5819, 'gut': 7414, 'deutsch': 4962, 'musik': 11269, 'monarchi': 11033, 'ltbgtbakeltbgt': 10154, 'off': 11966, 'dorret': 5282, 'ltbgtchocolateltbgt': 10155, 'gateau': 6919, 'janû_': 8836, 'organicallyrud': 12182, '1rockstar62': 314, 'mattingli': 10526, 'bundi': 3098, 'mcgwire': 10572, 'catch': 3448, 'alley': 1414, 'kezi9': 9318, 'phil': 12679, 'gravel': 7258, 'sob': 15248, 'endlessli': 5773, 'confus': 4124, 'angri': 1594, 'oneheartonemindonecss': 12088, 'burst': 3126, 'lung': 10200, 'district': 5151, 'cpr': 4317, 'panama': 12380, 'gorpuazikinak': 7194, 'tongu': 16759, 'cum': 4495, 'puddl': 13240, 'indiepopmom': 8431, 'breath': 2929, 'zimbabw': 18635, 'dictat': 5021, 'durrellb': 5472, 'entiti': 5817, 'montego': 11054, 'sewer': 14715, 'tvjnew': 17105, 'heartless': 7691, 'whip': 18035, 'influenti': 8472, 'betray': 2479, 'portabl': 12938, 'closet': 3884, '3x': 558, 'rid': 13918, 'rokiieee_': 14052, 'bake': 2162, 'chocol': 3702, 'jan': 8819, 'moir': 11008, 'mortifi': 11106, 'heel': 7710, 'fav': 6231, 'greek': 7282, 'tsipra': 17052, 'costû_': 4260, 'wallybait': 17761, 'quora': 13369, 'moder': 10990, 'flickershowel': 6482, 'munch': 11250, 'speci': 15415, 'xdescri': 18414, 'trusti': 17039, 'consid': 4147, 'spontan': 15480, 'sqwizzix': 15525, 'piano': 12710, 'entertainerû': 5814, 'ep': 5836, 'collid': 3995, 'rippl': 13955, 'tide': 16616, 'lesleychappel': 9803, 'cigarett': 3774, 'immedi': 8344, 'jogger': 8993, 'awkward': 2068, 'efs300': 5619, 'trek': 16942, 'pluto': 12851, 'charon': 3606, 'gucci': 7375, 'chosen': 3720, 'shanghaiûª': 14764, 'avenu': 2036, 'thunderstorm': 16594, 'sing': 14988, 'until': 17339, 'frisat': 6741, 'nlccollid': 11673, 'touchdown': 16827, 'madisonpa_': 10278, 'veil': 17523, 'bracelet': 2880, 'wristband': 18322, 'soultech': 15355, 'gassymexican': 6915, 'realiti': 13560, 'strang': 15726, 'glitch': 7096, 'mattcohen4fak': 10521, 'gamma': 6890, 'januari': 8834, 'witch': 18169, 'castl': 3437, 'supernatur': 15919, 'sibl': 14920, 'rivalri': 13970, 'wogc': 18207, 'align': 1391, 'boweri': 2856, 'electr': 5653, 'tackettdc': 16080, 'tidalhifi': 16615, 'vancouv': 17483, 'mutek_montr': 11285, 'isea2015': 8675, 'isl': 8682, 'tlc': 16686, 'suddenli': 15839, 'houston': 8041, 'pageparkescorp': 12343, 'chloeunguyen': 3701, 'laurensicl': 9687, 'charstevens97': 3607, 'tiara_marei': 16608, 'gemma': 6961, 'boweû_': 2857, 'collideworship_': 3997, 'thedoolinggroup': 16406, 'åê': 18692, 'slam': 15095, 'bordento': 2822, 'coincid': 3964, 'finer': 6380, 'subatom': 15807, 'spell': 15431, 'devia': 4970, 'ler': 9800, 'wattys2015': 17853, 'wattpad': 17852, 'teenfict': 16254, 'either': 5637, 'simpl': 14970, 'cyclist': 4548, 'runner': 14211, 'roanok': 13995, 'greenway': 7289, '300000': 475, 'verdict': 17538, 'roanoketim': 13996, 'lennonparham': 9791, 'jessica_stclair': 8916, 'gilmoreguysshow': 7055, 'podcast': 12872, 'ihave44episodesofgg': 8290, 'nojok': 11705, 'redcoatjackpot': 13625, 'none': 11718, 'curs': 4521, 'selfi': 14626, 'ebik': 5553, 'portug': 12946, 'nonlif': 11722, 'newswatch': 11565, 'lansdown': 9636, 'ptbo': 13227, 'lanjut': 9633, 'dirumah': 5077, 'yagitudeh': 18452, 'jake': 8790, 'rumah': 14200, 'cipinang': 3783, 'femalegilgamesh': 6288, 'assault': 1888, 'useless': 17412, 'howev': 8048, 'penetr': 12576, '111020': 112, 'punch': 13262, 'quest': 13352, 'squeaki': 15520, 'skull': 15077, 'pleasur': 12831, 'huzzah': 8147, 'molly_the_tanz': 11018, 'vermilion': 17542, 'glassanim': 7086, 'slither': 15130, 'viscou': 17641, 'gold': 7153, 'erykah': 5892, 'baduû_': 2143, 'monsoon': 11047, 'eau': 5548, 'clair': 3819, 'suv': 15984, 'sentenc': 14658, 'chippewa': 3696, 'shotgun': 14886, 'denton': 4895, 'lifethreaten': 9871, 'highway': 7821, '18wheeler': 260, 'thenû_': 16448, '688': 747, 'anna': 1606, 'harwich': 7594, '530': 665, 'happenû_': 7544, 'hadnt': 7440, 'wouldv': 18289, 'butgod': 3146, 'mlg': 10956, 'ijustin': 8303, 'alaskaseafood': 1330, 'askforalaska': 1875, '26': 425, 'junction': 9115, 'toward': 16837, 'beep': 2370, 'horn': 7996, 'ssp': 15538, 'aeg': 1185, '061': 35, 'driven': 5372, 'akram': 1310, 'carhot': 3377, 'exchang': 6013, 'air1bullet': 1276, 'tyre': 17163, 'happili': 7546, 'ninja': 11647, 'commenc': 4045, 'pple': 12993, '200': 321, 'fish': 6422, 'boatnew': 2748, 'drob': 5381, 'dan': 4622, 'hugh': 8093, 'intersect': 8576, 'crashingû_': 4344, 'san': 14357, 'antonio': 1652, 'cart': 3412, 'guard': 7370, 'bicyclesuv': 2520, 'mesick': 10699, 'bicyclist': 2521, 'm115': 10231, 'constitut': 4154, 'politicû_': 12902, 'justinbieb': 9142, 'harrystyl': 7585, 'cern': 3528, 'oo': 12117, 'harrybecar': 7584, 'journey': 9063, 'cow': 4298, 'southwest': 15378, 'omaha': 12067, 'util': 17441, 'pole': 12887, 'stepkan': 15651, 'lvictoria': 10211, 'pvri': 13298, 'collis': 3999, 'broadway': 2993, 'localû_': 10021, 'zojadelin': 18653, 'knob': 9447, 'sac': 14271, 'elkhorn': 5683, 'blvd': 2734, 'walerga': 17754, 'trfc': 16959, 'collision1141': 4000, 'enrt': 5804, 'beatg3': 2340, 'rainier': 13438, '852015': 841, '608': 712, '15000270653': 187, 'beatb2': 2337, 'fremont': 6712, '652': 733, '15000270364': 186, 'florin': 6505, 'franklin': 6669, 'hwy401': 8156, 'eb': 5550, 'cambridg': 3262, 'opp': 12142, 'enrout': 5803, 'ag': 1224, 'fe': 6253, 'studebak': 15783, 'collisionno': 4001, 'inj': 8489, 'anti': 1640, 'rear': 13571, 'headon': 7662, 'kenai': 9284, 'spur': 15507, 'baltimor': 2174, 'i95': 8189, '548': 678, 'mchenri': 10575, 'tunnel': 17087, 'nort': 11757, 'dilawri': 5050, 'shopcollis': 14873, 'thisisfaz': 16521, 'techesback': 16234, 'bernardino': 2459, 'i10': 8175, 'eo': 5833, 'redland': 13638, 'i405': 8179, 'southbound': 15368, 'coal': 3924, 'creek': 4375, 'i580': 8182, 'flynn': 6521, 'onr': 12104, 'westminist': 17981, 'sr22': 15529, 'knott': 9452, 'innov': 8507, '4000': 565, 'valley': 17475, 'collisionunkn': 4002, 'missjadebrown': 10927, 'tragic': 16882, 'midmorn': 10797, 'twovehicl': 17143, 'fowler': 6632, 'occup': 11938, 'sacramento': 14275, '713pm': 770, 'mapleridg': 10400, 'loughe': 10117, '203rd': 357, 'dewdney': 4984, 'eto': 5934, '900': 864, 'divis': 5167, 'solano': 15276, 'sr37': 15530, 'skagg': 15051, 'i5': 8180, '43rd': 594, 'offramp': 11988, 'qew': 13319, 'eri': 5877, 'approach': 1716, '405': 570, 'niagaravehicl': 11595, 'kierannicholson': 9353, 'ofr': 11997, 'celesti': 3510, 'separ': 14664, 'trajectori': 16892, 'intertwin': 8581, 'wallû': 17762, 'ûïyou': 18812, 'werenûªt': 17963, 'warnedû': 17793, 'grtvnew': 7340, 'rhett': 13886, 'motogp': 11125, 'indianapoli': 8421, 'espargaro': 5904, 'layout': 9708, 'meinlcymb': 10650, 'endors': 5776, 'html5': 8072, 'beginn': 2382, 'lesson': 9808, 'lover': 10131, 'sterlingknight': 15655, 'crashsterlingwho': 4345, 'carmel': 3388, 'joeysterl': 8992, 'knight': 9445, 'daewony0406': 4576, 'alright': 1448, 'bestiv': 2469, 'molloy': 11016, '21st': 387, 'i75': 8185, 'mm': 10963, '459': 605, 'sourc': 15362, 'crash_______': 4341, 'pikin': 12735, 'pasco': 12462, 'vale': 17470, 'outbound': 12248, 'tullamarin': 17072, 'fwi': 6838, 'citylink': 3799, 'moreland': 11083, 'rant': 13476, '8000': 815, 'xoxo': 18434, 'cpanel': 4316, 'destinythegam': 4941, 'bungi': 3100, 'playstat': 12823, '_chelsdelong12': 940, 'kendra_leigh13': 9286, 'josh': 9047, 'salyersblairhal': 14339, 'jenna': 8896, 'prayer': 13014, 'feelin': 6272, 'soû_': 15385, 'fatal': 6213, 'photoshop': 12704, 'tool': 16779, 'cs6': 4455, 'kinet': 9391, 'typographi': 17161, 'liabl': 9836, 'akilah': 1307, 'barrington': 2234, 'hoffman': 7910, 'singlecar': 14993, 'aft': 1213, 'helmet': 7736, 'silveri': 14962, 'karnal': 9213, 'sampl': 14352, '33': 498, 'pbcanpcx': 12525, 'scheer': 14484, 'huebel': 8082, 'spicybread': 15444, 'coxytown': 4306, 'download': 5308, 'tutori': 17102, 'maj': 10323, 'muzzamil': 11292, 'offr': 11987, 'mi17': 10757, 'mansehra': 10383, 'microlight': 10783, 'landi': 9617, 'peritoengrafoscopia': 12609, '4am': 618, 'neil_eastwood77': 11483, 'knobhead': 9449, 'brianroemmel': 2948, 'ux': 17452, 'emv': 5757, 'insert': 8516, 'stripe': 15761, 'reader': 13543, 'hamayun': 7495, 'shahe': 14746, 'mi7': 10758, 'heli': 7722, 'uk': 17196, '_rosewel': 968, 'rochdal': 14024, 'heywood': 7788, 'ipod': 8636, 'weloveyouloui': 17951, 'johndcgow': 9000, 'olliebailey11': 12059, 'havnt': 7624, 'windows10': 18132, 'intactmh370partliftsoddsplaneglidednotcrashedintosea': 8550, 'yahoofinancehop': 18457, 'euro': 5949, 'restiv': 13828, 'northwest': 11771, 'tuesday': 17068, 'yday': 18480, '2day': 447, 'log': 10036, 'almighti': 1433, 'strength': 15747, 'thief': 16502, 'hicksvil': 7802, 'stole': 15692, 'fled': 6469, 'doctor': 5208, 'smusx16475': 15201, 'skype': 15086, '84': 834, 'faster': 6209, 'overtook': 12297, 'tru': 17021, 'luv': 10207, 'type': 17154, 'ant': 1631, 'note': 11786, 'honestli': 7968, 'nightmarish': 11631, 'modestmouseremix': 10993, 'truestori': 17032, 'f496d': 6103, 'mhtw4fnet': 10755, 'ttw': 17062, 'skh': 15064, 'ashton5so': 1861, 'luke5so': 10186, 'mh370': 10751, 'intact': 8549, 'glide': 7093, 'sea': 14559, 'kuualohax': 9549, 'husband': 8139, 'crush': 4444, 'womem': 18222, 'mommyisbomb': 11028, 'jorrynja': 9041, 'bfgfcrush': 2497, 'ter_el': 16300, 'wce': 17878, '_explicitpretti': 947, 'wedneday': 17918, 'taykreidl': 16182, 'loveyouuuu': 10134, 'aintsheperti': 1274, 'bestfriend': 2467, 'yourboy_shawn': 18555, 'ina': 8379, 'bute': 3145, 'samel_samel': 14345, 'crushit': 4447, 'overr': 12290, 'experiencesmh': 6042, 'pydisney': 13301, 'crushmtvhottest': 4448, 'justin': 9139, 'bieber': 2524, 'master0fsloth': 10498, 'ron': 14076, 'fez': 6315, 'dave': 4693, 'gorgeou': 7191, 'moe': 11001, 'bouta': 2851, 'mrrobinson': 11178, 'thesteveharveyshow': 16476, 'vibe': 17567, 'vine': 17615, 'khadidon': 9323, 'yhngsjlg': 18512, 'starflame_girl': 15592, 'wen': 17954, 'marketingåêmediocr': 10444, 'sevenfigz': 14706, 'tiffanyfrizzel': 16619, 'nykaed_': 11892, 'jaureguiswisdom': 8856, 'sooo': 15329, 'fitz': 6431, 'tantrum': 16144, 'cristianinspir': 4400, 'playa': 12817, 'kenni': 9293, 'holland': 7922, 'popey': 12922, 'bhavana': 2504, 'wrapup': 18311, '2u': 470, 'cabl': 3195, 'disney': 5122, 'jimmyfallon': 8956, 'squirrel': 15524, 'bone': 2789, 'mortar': 11102, 'pestl': 12635, 'bio': 2577, 'worstsummerjob': 18280, 'edwin': 5604, 'mango': 10368, 'icegtgtgtgt': 8229, 'charcoal': 3587, 'crushed2': 4445, 'cor48': 4223, 'edw': 5601, 'gym': 7423, 'flurri': 6519, 'clearli': 3848, 'prioriti': 13102, 'jmastrodonato': 8974, 'ortiz': 12201, 'bunt': 3103, 'forefath': 6577, 'ouch': 12238, 'clelliy': 3852, 'christ': 3735, 'km': 9434, '541': 675, 'nike': 11635, 'sportwatch': 15488, 'gp': 7217, 'nikeplu': 11636, 'papi': 12408, 'reap': 13570, '112': 114, '746': 788, 'nick': 11604, 'moli': 11014, 'ayekoradio': 2078, 'brasswork': 2902, 'agenc': 1232, 'shaken': 14748, 'netlabel': 11513, 'electronicmus': 5657, 'ccmusic': 3488, 'dothraki': 5289, 'westerosnah': 17976, 'underestim': 17242, 'disillus': 5114, 'crow': 4423, 'trope': 17005, 'nora': 11747, 'jone': 9033, 'empir': 5746, 'markwschaef': 10451, '13': 165, 'chapouti': 3583, 'croze': 4431, 'hermitag': 7770, 'violet': 17625, 'slate': 15100, 'yum': 18578, 'wine': 18140, 'thecomedyquot': 16398, '50shadezofgrey': 651, 'thirst': 16515, 'curfew': 4509, 'p45perez': 12322, 'ara': 1735, 'fighter': 6350, 'infiltr': 8466, 'ashrafiyah': 1859, 'afrin': 1212, 'aim': 1271, 'ypg': 18570, 'impos': 8366, 'keampurley': 9258, 'michelleell': 10773, 'shut': 14916, 'spend': 15437, 'campu': 3292, 'teenag': 16253, 'violat': 17621, 'stolen': 15693, 'cu': 4475, 'overtim': 12296, 'stuck': 15780, 'kodak': 9464, 'bobbyxfish': 2753, 'exofficio': 6029, 'brief': 2960, 'wnd': 18198, '0306': 20, 'cld': 3838, 'sct014': 14547, 'bkn032': 2624, 'inst': 8528, 'apch': 1680, 'rwi': 14240, '2030': 356, 'taxiway': 16177, 'foxtrot': 6643, 'navbl': 11420, 'tmp': 16696, 'emaaalay': 5705, 'nope': 11744, 'tutor': 17101, 'prefer': 13034, 'aptly_engineerd': 1726, 'grove': 7332, 'emmychappi': 5740, 'oclock': 11946, 'reddakushgodd': 13626, 'smfh': 15176, 'scotrail': 14520, 'blind': 2674, 'bloke': 2692, 'cosit': 4249, 'hassl': 7605, 'freefrom': 6698, 'oblig': 11918, 'daviskawalya': 4714, 'mauryn143': 10535, 'goodby': 7164, 'graduat': 7232, 'stupid_niggr': 15795, 'cat': 3442, 'decid': 4783, '0605': 34, 'damp': 4618, 'qnh': 13322, '1028': 76, 'oldest': 12048, 'freedom': 6695, 'donthat': 5260, 'sct012': 14546, 'bkn025': 2623, 'rite': 13965, 'tlk': 16687, 'widout': 18083, 'nuh': 11854, 'fi': 6323, 'itz': 8728, 'rubberi': 14184, 'knw': 9461, 'bc19': 2307, 'unlock': 17307, 'judg': 9091, '5pm': 696, 'lim': 9903, '9pm': 923, 'leh': 9772, 'walter': 17766, 'rewatchingthepilot': 13873, 'teamscorpion': 16223, 'cyclon': 4549, 'annual': 1621, 'hoop': 7985, 'recruit': 13618, 'photographi': 12701, '0215': 18, 'boltåêcyclon': 2776, 'pp400dr': 12987, 'outlet': 12258, 'packåêfor': 12334, '30û_': 487, 'mccauleysdesign': 10563, 'abysmaljoin': 1070, 'dyamiplotk': 5496, 'purpos': 13281, '4k': 622, 'tropic': 17008, 'guam': 7367, 'molav': 11010, 'de': 4739, 'jhaustin': 8943, 'ame': 1496, 'tribun': 16969, 'onû_': 12116, 'xhnew': 18422, 'retract': 13844, 'pam': 12373, 'wordpressdotcom': 18244, 'condit': 4107, 'easton': 5542, 'softbal': 15269, 'fastpitch': 6211, '2920': 437, 'sk398': 15050, 'bulletin': 3085, 'typhoon': 17156, 'ûïhannaphû': 18776, 'soudelor': 15350, 'calm': 3252, 'norman': 11754, 'vincent': 17614, 'peal': 12545, 'roughdeal1': 14127, 'hudhud': 8080, 'chandrababu': 3567, 'vall': 17473, 'ne': 11451, 'komen': 9473, 'devast': 4964, 'hanna': 7530, 'vanuatu': 17496, 'tom': 16738, 'given': 7076, 'talent': 16115, 'misdirect': 10900, 'ignit': 8287, 'vanish': 17491, 'phantom': 12668, 'kurokobot': 9543, 'comdev': 4033, 'asia': 1865, 'station': 15613, 'bangladesh': 2192, 'broadcast': 2989, 'address': 1148, 'upcom': 17351, 'imperi': 8358, 'spin': 15453, 'militar': 10830, '1970': 287, 'mercuri': 10692, 'mould': 11134, 'core': 4227, 'cobra': 3934, '429cj': 587, 'passion': 12467, 'overblown': 12275, 'majesti': 10324, 'emperor': 5745, 'salman': 14324, 'khan': 9327, 'unstopp': 17329, 'bajrangi': 2160, 'bhaijaan': 2502, 'crose': 4415, 'quarter': 13338, 'panel': 12391, 'trim': 16983, '945hpa': 894, 'maximum': 10540, '45m': 606, 'gust': 7411, '60m': 714, 'cyclone_reizei': 4550, 'cyclonesama': 4551, 'fate': 6220, 'rindou': 13941, 'vroman': 17707, 'blend': 2669, 'wfp': 17997, '165000': 214, 'dhaka': 4992, 'ûòthe': 18815, 'rohingya': 14049, 'kyee': 9558, 'nockthi': 11697, 'hamlet': 7498, 'taungbazar': 16172, 'buthidaung': 3147, 'kasitaroch': 9225, 'vivianunhcr': 17658, 'cherri': 3646, 'outfit': 12256, 'ootd': 12130, 'doubleghat': 5293, 'thelegendblu': 16429, 'cozmo23': 4312, 'ascend': 1840, 'union': 17288, 'å300m': 18679, 'gta': 7354, 'collater': 3989, 'damage3460': 4601, 'limeston': 9905, 'lncolyellowston': 10004, 'wayfieldston': 17860, 'dr08052015': 5321, '193635': 271, 'solut': 15289, 'complain': 4075, 'phoenix': 12695, 'emblem': 5709, 'gigant': 7045, 'capicapricapri': 3340, 'brento_bento': 2941, 'wha': 18002, 'ny35': 11882, 'writebothfist': 18324, 'windi': 18127, 'reus': 13853, 'advanc': 1174, 'transit': 16907, 'drum': 5402, 'champaign': 3560, 'fdbdp': 6250, 'indigo6': 8433, 'baggag': 2149, 'wy': 18385, 'out': 12245, 'drothvad': 5387, 'cm_nevalisti': 3903, 'arachi': 1739, '2500': 416, 'mage': 10289, 'fairi': 6140, 'tail': 16095, 'natsu': 11411, 'dragneel': 5329, 'bradleybrad47': 2886, 'af': 1191, 'shitton': 14854, 'playthrough': 12824, 'tree': 16939, 'fenc': 6291, 'homeown': 7953, 'joedawg42': 8983, 'tor': 16795, 'enhanc': 5795, 'key': 9317, 'imo': 8351, 'hfxstanfield': 7790, 'beelievedc': 2367, 'discoverycntr': 5103, 'contractor': 4178, 'swb1192': 15999, 'nda': 11446, 'offer': 11974, 'prolli': 13151, 'trillion': 16982, '3rd': 557, 'fieldwid': 6338, 'instant': 8531, 'np': 11823, 'metallica': 10711, 'inc': 8383, 'inmat': 8500, 'remand': 13724, 'crosssectarian': 4422, 'shia': 14828, 'militia': 10833, 'withdrawur': 18171, 'fightin': 6352, 'isi': 8677, 'uve': 17450, 'wonderousallur': 18229, 'hhello': 7795, 'thesensualey': 16472, 'model': 10988, 'apr': 1722, 'pussi': 13288, 'boob': 2801, 'asian': 1866, 'runin': 14208, 'roadwayproperti': 13993, '15901': 198, 'statesvil': 15608, 'devil': 4974, 'vergil': 17540, 'agnu': 1239, 'dmd': 5193, 'leedstraif': 9741, 'glaucoma': 7087, 'fluid': 6517, 'optic': 12152, 'nerv': 11500, 'eyefact': 6091, 'jsunnew': 9081, 'madison': 10277, 'ar': 1733, 's61231a': 14259, 'punctur': 13263, 'foreign': 6579, 'index': 8414, 'nail': 11349, 'initi': 8488, 'icd10': 8226, 'richarkkirkarch': 13902, 'ausinstarchitect': 1993, 'queenswharf': 13346, 'brisban': 2975, 'financialreview': 6375, 'fuckboy': 6778, 'pseudojuuzo': 13210, 'michaelwestbiz': 10768, 'gettinglost': 7011, 'jennellensbb': 8898, 'muncle_jim': 11251, 'superfici': 15911, 'blizzhero': 2684, 'dustinbrowd': 5475, 'constantli': 4152, 'frequent': 6715, 'distract': 5148, 'wildlif': 18101, 'signup': 14947, 'dyannbridg': 5497, 'yeshayad': 18505, 'rockin': 14030, 'preview': 13080, 'claytonbry': 3837, 'artistsunit': 1826, 'cawx': 3472, 'nwsbayarea': 11873, 'carsonrex': 3411, 'spaceangelseven': 15389, 'eaten': 5546, 'poison': 12880, 'preserv': 13056, 'imposit': 8367, 'african': 1208, 'grain': 7236, 'wheat': 18016, 'anger': 1591, 'trespass': 16955, 'lest': 9810, 'therealrittz': 16462, 'fettilootch': 6310, 'slanglucci': 15097, 'oppress': 12148, 'morehouse64': 11081, 'relev': 13711, 'slide': 15118, 'especi': 5905, 'permit': 12617, 'outnumb': 12260, 'petersburg': 12649, 'riverroam': 13974, 'bluebirddenv': 2722, 'uber': 17174, 'nonprofit': 11726, 'partnership': 12459, 'victoria': 17582, 'turnedonfetaboo': 17096, 'hsjb215': 8066, 'thetxi': 16484, 'gunnersfan89': 7404, 'ham': 7493, 'releg': 13709, 'afc': 1192, 'remainontop': 13722, 'underwat': 17253, 'cave': 3471, 'dehydr': 4836, 'spider': 15445, 'smth': 15196, 'grave': 7257, 'rail': 13426, 'skyler': 15082, 'rest': 13825, 'mueller': 11215, 'complaint': 4076, 'nov': 11808, 'meson': 10701, 'modibo': 10996, 'maiga': 10309, 'fucktard': 6782, 'coyi': 4308, 'courag': 4286, '228': 391, '217': 381, 'remot': 13739, 'silent0siri': 14953, 'nors': 11756, 'atmospher': 1939, 'boringdead': 2828, 'snotgreen': 15226, 'wasteland': 17826, 'hairbut': 7461, 'cjban': 3809, '4sake': 628, 'argsuppos': 1769, 'preborn': 13019, 'attain': 1951, 'individl': 8436, 'rightsgener': 13933, 'courtof': 4292, 'forbid': 6571, 'goku': 7151, 'birb': 2587, 'naaa': 11338, 'legit': 9766, 'sore': 15339, 'lui': 10181, 'hhahaha': 7793, 'emmerdal': 5737, 'nd': 11445, 'attract': 1961, 'soapscoop': 15246, 'yh': 18511, 'gailsimon': 6863, 'iwasdisappointedbi': 8735, 'telltal': 16267, 'ampstori': 1533, 'gameplay': 6884, 'hundr': 8114, 'libyan': 9851, 'migrant': 10809, 'capsiz': 3345, 'itûª': 8730, 'misl': 10911, 'jones94kyl': 9034, 'sake': 14307, 'askcharley': 1873, 'stark': 15593, 'debat': 4765, 'perspect': 12631, 'contribut': 4182, 'studi': 15785, 'hlportal': 7894, 'kg4vaal': 9321, 'lmaovv': 9998, 'trend': 16951, 'babalmaowelcom': 2107, 'nyozi': 11896, 'kwaaaaadead': 9552, 'noooooooooooo': 11742, 'mikeparractor': 10817, 'bail': 2155, 'nite': 11656, 'b4': 2098, 'showwent': 14902, 'taiwan': 16099, 'moor': 11069, 'val': 17468, 'su': 15804, 'atchisonsean': 1919, 'wyrmwood': 18389, 'summerf': 15864, 'bff': 2496, 'otp': 12228, 'grandma': 7243, 'ssshhheeesshh': 15539, 'rep': 13761, 'vibrat': 17569, 'vape': 17497, 'adult': 1170, 'plagu': 12796, 'consol': 4149, 'ring': 13942, 'gainesvil': 6865, 'ferguson': 6296, 'papiichampoo': 12410, 'era': 5866, 'prez': 13084, 'jeromekem': 8907, 'cousin': 4294, 'hang': 7523, 'recogn': 13603, 'spous': 15491, 'samesex': 14346, 'certif': 3533, 'loyalti': 10141, 'shitti': 14853, 'nobleman': 11693, 'elven': 5698, 'weirdo': 17938, 'seemeth': 14604, 'unto': 17340, 'thereof': 16466, 'kellkan': 9277, 'narrowli': 11375, 'arianagrand': 1778, 'screamqueen': 14534, 'katherin': 9226, 'allahsfinest12': 1402, 'starv': 15602, 'comparison': 4066, 'upload': 17360, 'smoochi': 15190, 'awaken': 2053, 'bicentenni': 2515, 'cypru': 4557, 'analysi': 1557, 'mullah': 11227, 'omar': 12068, 'taliban': 16116, 'demis': 4868, 'deathholi': 4760, 'slain': 15094, 'mexican': 10732, 'journalist': 9062, 'unknowingli': 17300, 'breitbartnew': 2937, 'sedan': 14594, 'pusssssssssi': 13289, 'shoook': 14866, 'cecilthelion': 3501, 'postpon': 12961, 'marilyn': 10430, 'monro': 11046, 'ripriprip': 13956, 'hint': 7852, 'snippet': 15222, 'legionnair': 9761, 'vaxshil': 17510, 'measl': 10599, 'complic': 4082, 'bigamist': 2526, 'ûfirstûª': 18721, 'ûsecondûª': 18745, 'pregnant': 13035, 'nephew': 11497, 'uû_': 17453, 'airlift': 1284, 'ûïlolgop': 18786, 'voter': 17701, 'fraud': 6672, 'vra50û': 17706, 'palermo': 12364, 'shipwreck': 14844, 'bsf': 3043, 'jawan': 8858, 'fidayeen': 6332, 'ak': 1300, 'insa': 8512, 'rifl': 13925, 'breast': 2928, 'milk': 10834, 'superfood': 15912, 'worldwid': 18266, 'stall': 15568, '800000': 817, 'redlight': 13639, 'pedestrian': 12555, 'truediagnosi': 17028, '250k': 420, 'physician': 12709, 'cdcwhistleblow': 3493, 'foodborn': 6555, 'frackfreelanc': 6652, 'dear': 4757, 'deccgovuk': 4778, 'frackfree_eu': 6651, 'tarleton_sophi': 16156, 'drfriedencdc': 5360, 'resist': 13815, 'infectionsdeath': 8460, 'adiossuperbacteria': 1154, 'ironi': 8662, 'strickskin': 15753, 'nickscom': 11612, 'older': 12047, 'nghlth': 11585, 'eazzy_p': 5549, 'warrant': 17800, 'jap': 8837, 'focu': 6532, 'publichealth': 13235, 'lunch': 10199, 'stewart': 15669, 'julian': 9103, 'earlier': 5520, 'weyburn': 17989, 'fentanyl': 6293, 'provinc': 13194, 'annoy': 1620, 'gregorysand': 7296, 'usdot': 17410, 'auto': 2011, 'lightrail': 9885, 'equat': 5861, 'blackpool': 2638, 'kow': 9494, 'beclearoncanc': 2356, 'highqualitybird': 7817, 'chrissi': 3734, 'adam': 1135, 'finn': 6387, 'mathew_is_angri': 10512, 'z3ke_sk1': 18595, 'saladinahm': 14313, 'fco': 6247, 'minist': 10870, 'tobias_ellwood': 16706, 'arabia': 1737, 'critter': 4405, '1940': 273, 'angela': 1587, 'sander': 14363, 'born': 2829, 'roundhous': 14131, 'increas': 8399, 'percent': 12595, 'walmart': 17763, 'beluga': 2422, 'seaworld': 14580, 'averag': 2037, 'opseaworld': 12150, 'moth': 11116, 'mayoroflondon': 10552, 'compulsori': 4089, 'us': 17392, 'notrocketsci': 11803, 'aerospac': 1188, 'exec': 6020, 'th': 16348, 'malaysia': 10339, 'airlin': 1285, 'flight': 6483, '370': 520, 'disappear': 5082, '17month': 239, 'discov': 5101, 'wash': 17814, 'jetûª': 8929, 'float': 6487, 'rìunion': 14254, 'york': 18532, 'novel': 11811, 'rel': 13702, 'discoveri': 5102, 'nbcnightlynew': 11437, 'malaysian': 10341, 'billneelynbc': 2565, 'najib': 11352, 'razak': 13516, 'isla': 8683, 'abc': 1015, 'kamindoz': 9185, 'belong': 2415, 'breakth': 2927, 'onlinemh370': 12101, 'onlinea': 12099, 'scmp_new': 14507, 'dustpiggi': 5477, 'awash': 2056, 'abstract': 1063, 'dustpig': 5476, 'delug': 4859, 'xeni': 18418, 'joshsternberg': 9055, 'feed': 6269, 'romeocrow': 14072, 'import': 8364, 'niagara': 11594, 'yyeso': 18591, 'apologis': 1696, 'sincer': 14983, 'inevit': 8452, 'grudg': 7342, 'unfollow': 17272, 'nlm_dimrc': 11674, 'worker': 18247, 'towboat': 16838, 'sympathi': 16045, 'vtc': 17710, 'eulog': 5945, 'whatsapp': 18011, 'gtgtthi': 7359, 'torment': 16802, 'matia': 10513, 'xavier': 18406, 'wa': 17724, 'yahoo7': 18455, 'fundament': 6807, 'valuat': 17478, 'stock': 15687, 'despit': 4935, 'fantasticfour': 6186, 'ocuana': 11952, 'bloodymind': 2699, 'forrestmankin': 6603, 'troisrivier': 16997, 'legionstrackandfield': 9763, 'halfnak': 7480, 'normal': 11753, 'embrac': 5711, 'torso': 16813, 'scale': 14463, 'unpreced': 17312, 'theburnageblu': 16396, 'torrent': 16811, 'client': 3865, 'java': 8857, 'swing': 16023, 'predynast': 13028, 'period': 12605, 'dumuzid': 5454, 'shepherd': 14818, 'theghostparti': 16418, 'amsosorri': 1539, 'encaust': 5762, 'cerographi': 3529, 'portion': 12942, 'byityf': 3171, 'surf': 15945, 'motion': 11122, 'programm': 13143, 'stephaniemarija': 15644, 'dress': 5355, 'incess': 8386, 'perhap': 12604, 'histor': 7873, 'childsexabus': 3681, 'truli': 17033, 'coverup': 4297, 'bibl': 2512, 'unload': 17306, 'indec': 8409, 'chuckswindol': 3758, 'iflcanada': 8278, 'pt1': 13225, 'slew': 15115, 'unfml': 17270, 'boyhau': 2870, 'heaven': 7696, 'jakeåê': 8795, 'ûïafter': 18761, 'montanaûª': 11052, 'famp': 6172, 'gishwh': 7070, 'pad': 12337, 'tampon': 16132, 'mishacollin': 10907, 'fiendnikki': 6340, 'wrinkl': 18320, 'decay': 4777, 'schelbertgeorg': 14485, 'teach': 16206, 'ren': 13744, 'shadowman': 14742, 'monstros': 11049, 'hough_jeff': 8035, 'dougkessl': 5301, 'b2b': 2095, 'b2bagenc': 2096, 'slideshar': 15119, 'contentmarket': 4168, 'heredelug': 7763, 'ampwant': 1535, 'translat': 16908, 'vinc': 17613, 'mcmahon': 10579, 'billionair': 2561, '350': 507, 'nfl': 11578, 'deflateg': 4832, 'increment': 8403, 'quantitû_': 13332, 'asae15': 1835, 'exhibitor': 6025, 'assnchat': 1895, 'meditationbymsg': 10623, '45600': 604, 'medit': 10622, 'ampgot': 1527, 'divin': 5166, 'canadian': 3297, 'theme': 16437, 'aroundth': 1800, 'downright': 5310, 'novalismi': 11810, 'joseph': 9044, 'mallord': 10349, 'turner': 17097, 'shade': 14739, '1843': 250, 'clicca': 3862, 'sul': 15857, 'titolo': 16674, 'telemarket': 16263, 'thewesterngaz': 16488, 'local': 10017, 'susi': 15974, 'invoic': 8616, 'stlnd': 15684, 'glimps': 7094, 'hyderabad': 8160, 'rainfal': 13435, 'colo': 4005, 'lzkeli': 10228, 'poorli': 12916, 'indi': 8415, 'fiction': 6330, 'togth': 16726, 'abe': 1027, 'paypil': 12521, 'selfimag': 14627, 'quiz': 13367, 'invokc': 8619, 'shapeand': 14774, 'lisatoddsutton': 9932, 'bcz': 2315, 'senat': 14641, 'murphi': 11258, 'junk': 9120, 'thesewphist': 16473, 'fuckfacewineisdumbcom': 6779, 'spam': 15396, 'meant': 10597, 'tarp': 16158, 'outfield': 12255, 'infield': 8465, 'inroicesmak': 8511, 'squabbl': 15516, 'immigr': 8346, 'ukfranc': 17199, 'eurotunnel': 5957, 'oup': 12242, 'invzic': 8622, 'itsllik': 8717, 'pileq': 12737, 'accionempresa': 1085, 'com': 4025, 'gerenciatodo': 6999, 'ogt': 12002, 'colomr': 4009, 'aredelug': 1756, 'valdes1978': 17469, 'testi': 16326, 'hatr': 7616, 'patienc': 12481, 'afterward': 1222, 'savour': 14443, 'prolong': 13152, 'intens': 8557, 'sigu': 14948, 'capit': 3341, 'insect': 8515, 'rand': 13461, 'demolish': 4873, 'enugu': 5824, 'structur': 15773, 'doon': 5268, 'architect': 1747, 'permiss': 12616, 'birmingham': 2591, 'natwest': 11417, 'tower': 16840, 'cityûª': 3805, 'tallest': 16124, 'createdunique23': 4365, 'keren_serpa': 9300, 'arianareed11': 1779, 'ce': 3496, 'badotweet': 2141, 'kirkmin': 9409, 'barthubbuch': 2237, 'weei': 17925, 'bait': 2159, 'patriot': 12493, 'hater': 7613, 'bradi': 2884, 'hungri': 8121, 'demolishdeep': 4874, 'etoff': 5935, 'charmeus': 3603, 'clothesless': 3889, 'precisionist': 13024, 'vestment': 17553, 'psfda': 13211, 'xgn_infin': 18421, 'ronin_carbon': 14085, 'hahah': 7445, 'preset': 13057, 'bal': 2164, 'nade': 11342, 'radar': 13401, 'boundari': 2848, 'unconsci': 17235, 'neg': 11472, 'midget': 10795, 'abbswinston': 1012, 'zionist': 18641, 'jordan': 9040, 'mariomaraczi': 10434, 'akwa': 1312, 'ibom': 8218, 'uruan': 17390, 'exassembl': 6008, 'udom': 17179, 'emmanuel': 5735, 'laundri': 9679, 'kp': 9496, 'root': 14098, 'absurdli': 1065, 'menûª': 10687, 'manhood': 10369, 'avigdorliberman': 2044, 'susiya': 15975, 'behead': 2388, 'postal': 12954, 'sell': 14633, 'murlo': 11257, 'android': 1577, 'tribez': 16967, 'androidgam': 1578, 'gameinsight': 6881, 'jolly_jinu': 9025, 'babri': 2110, 'todayhav': 16710, 'reveng': 13860, 'businessman': 3137, 'foil': 6536, 'troup': 17014, 'multiraci': 11240, 'breakdanc': 2917, 'orianna': 12188, 'xd': 18413, 'rihanna': 13937, 'arin': 1780, 'gummi': 7395, 'grumpout': 7344, 'srsli': 15535, 'partner': 12458, 'ampstart': 1532, 'dribbl': 5362, 'nostril': 11783, 'ampask': 1525, 'urself': 17388, 'whether': 18029, 'charminar': 3604, 'opinion': 12141, 'telangana': 16259, 'beastin': 2334, 'tapa': 16148, 'folk': 6541, 'funtim': 6822, '64oz': 730, 'jar': 8843, 'colt': 4021, '5007': 642, 'whine': 18033, 'cantmakeitup': 3326, 'patriotsn': 12494, 'flunki': 6518, 'angusmacneilsnp': 1596, 'iûªd': 8743, '_stiiilo': 970, 'gamer': 6886, 'backtoback': 2122, 'chargedup': 3589, 'media420': 10613, 'papicongress': 12409, 'journo': 9064, 'pragnik': 13007, 'sat': 14408, 'justû_': 9149, 'saddlebrook': 14279, 'sounder': 15358, 'meerkat': 10633, 'periscop': 12607, 'snowbal': 15229, 'ûïsplottdav': 18801, 'teampalestina': 16222, '28700': 432, '1967': 286, 'home2': 7942, 'salvi': 14338, 'bistro': 2597, 'former': 6597, 'makeû_': 10332, 'bbsnew': 2305, 'hebron': 7704, 'david5fernandez': 4698, 'theblaz': 16387, 'elect': 5651, 'stallion150': 15569, 'kbeastx': 9245, 'genisi': 6973, 'jackmulholland1': 8763, 'marqui': 10458, 'carlo': 3385, 'unrecogn': 17319, 'arab': 1736, 'epa': 5841, 'demolit': 4875, 'davidvonderhaar': 4710, 'bo3': 2743, 'consist': 4148, 'yoû_': 18569, 'freestyl': 6706, 'maxsi': 10541, 'halifax': 7484, 'metrotown': 10730, 'maintain': 10319, 'burnabi': 3116, 'changeforthewors': 3572, 'factor': 6122, 'noxdv': 11822, 'greyston': 7306, 'psychiatr': 13218, '85885473': 843, 'psa': 13206, '159': 197, 'burton': 3127, 'messnermatthew': 10708, 'newciti': 11534, 'frog': 6747, '2002': 327, 'flint': 6484, 'michigan': 10775, 'metropoli': 10728, 'highsmith': 7819, 'der': 4909, 'abbruchsimul': 1010, 'ûåêdemolit': 18755, 'waterway': 17847, 'achimota': 1106, '233liveonlin': 400, 'delmont': 4854, 'onion': 12097, 'czallstarw': 4558, 'demolition_d': 4876, 'fkn': 6444, 'pleb': 12832, 'ffa': 6318, 'foodstand': 6558, 'fairground': 6139, '9am': 917, 'demo': 4869, 'kenosha': 9294, 'mentalhealthgov': 10684, 'ahhhhh': 1255, 'alec': 1351, 'med': 10610, 'tort': 16814, 'comp': 4061, 'injustic': 8498, 'mh': 10749, 'samajp32': 14341, 'tone': 16758, 'soonersportstv': 15327, 'cont': 4159, 'giveaway': 7074, 'kit': 9416, 'dren': 5354, 'kaduna': 9165, 'û_tschoolland': 18703, 'treyarch': 16958, 'orca': 12169, 'widespread': 18081, 'zhejiang': 18632, '1200': 138, 'jose': 9042, 'willow': 18114, 'glen': 7089, 'trestl': 16956, 'canberra': 3301, 'mr': 11167, 'fluffi': 6516, 'schedul': 14482, 'tookem': 16777, 'domin': 5241, 'clist': 3875, 'shantaeskyy': 14771, 'destini': 4940, 'wheavenli': 18018, 'hereûª': 7767, 'wmata': 18190, 'sm': 15153, 'modelbubbl': 10989, 'emiiliexirwin': 5720, 'agreesh': 1245, 'birth': 2592, 'bv': 3164, 'bloomberg': 2704, 'publish': 13238, 'freesikhpoliticalprisnor': 6704, 'bapusuratsingh': 2208, 'madhya': 10275, 'pradesh': 13006, 'gridlock': 7308, 'temecafreeman': 16272, 'simultan': 14977, 'alllivesmatt': 1419, 'necessari': 11463, 'thejenmorillo': 16425, 'dalla': 4596, 'gloriavelez': 7108, 'tubestrik': 17066, 'mood': 11064, 'pisco': 12769, 'coya': 4307, 'smithsonian': 15183, 'wsjthinktank': 18347, 'colleenmnelson': 3991, 'campaign': 3281, 'kamayani': 9182, 'janata': 8821, 'ex': 5999, 'gratia': 7255, 'variou': 17502, 'buyout': 3159, 'å6bn': 18681, 'worldpay': 18262, 'ipo': 8635, 'skyåênew': 15091, 'dozen': 5316, '21': 371, 'renam': 13745, 'italian': 8702, 'goonda': 7179, 'motley': 11124, 'hooligan': 7984, 'selfavow': 14621, 'crook': 4413, 'mzmandilynn': 11333, 'establish': 5915, 'donzilla': 5263, 'realdonaldtrump': 13553, 'trump2016': 17036, 'rushlimbaugh': 14224, 'democrat': 4872, 'meddl': 10612, 'judgement': 9092, 'mpc': 11159, 'recoveri': 13615, 'ohmygoshi': 12012, 'unsuckdcmetro': 17331, 'metrobu': 10723, 'fox5newsdc': 6634, 'adani': 1140, 'modi': 10995, 'indiaback': 8417, 'yahoonew': 18458, 'subject': 15811, 'jozerphin': 9067, 'everythign': 5990, 'feder': 6264, 'sw': 15988, 'mcpherson': 10582, 'assembl': 1889, 'worthless': 18283, 'trustymclusti': 17041, 'passeng': 12466, 'commut': 4059, 'fcked': 6244, 'crocodil': 4411, 'gravi': 7260, 'kidscompani': 9350, 'epic_insan': 5845, 'grimrail': 7315, 'depot': 4903, 'nopasseng': 11743, 'hellû_': 7734, 'sturi': 15797, 'illustr': 8320, 'subway': 15830, 'newidea': 11539, 'wout': 18293, 'titl': 16673, 'wtwitter': 18358, 'whoa': 18055, 'chief': 3667, 'requa': 13788, 'sixcar': 15038, '1000': 64, '2000': 322, 'identitytheft': 8254, 'taxreturn': 16179, 'reopen': 13760, 'empti': 5751, '7000seri': 758, 'cqnow': 4320, 'breakfast': 2920, 'suspend': 15978, 'ser': 14671, 'eve': 5971, 'jon': 9026, 'honor': 7973, 'crippl': 4397, 'starb': 15587, 'adamtuss': 1139, 'wheel': 18020, '12007': 142, 'mt': 11193, 'vern': 17544, 'sq': 15515, 'nigh': 11625, 'bobbyofhomewood': 2752, 'joxroundt': 9065, 'nosport': 11780, 'si': 14919, 'top25': 16788, 'relief': 13714, 'janta': 8833, 'firstpostin': 6421, 'orangeblu': 12165, 'mess': 10702, 'closest': 3883, 'joelsherman1': 8987, 'dw': 5487, 'chipper': 3695, 'durban': 5468, 'robertwelch': 14011, 'cutleri': 4533, 'halfderail': 7476, 'halfrail': 7482, 'deepthought': 4813, 'biker': 2548, 'beatdown': 2338, 'prodemocraci': 13128, 'nypdnew': 11898, 'undercov': 17241, 'itsqueenbabi': 8719, 'cnn': 3913, 'derailed_benchmark': 4911, 'path': 12478, 'resqu': 13824, 'gerryconnolli': 7003, 'repdonbey': 13765, 'timkain': 16652, 'debacl': 4764, 'wderail': 17885, 'nonpasseng': 11724, 'mgr': 10744, 'ohyayyyyay': 12015, 'resum': 13835, 'garfield': 6906, 'residu': 13810, 'railway': 13429, 'ndtv': 11449, 'ûitûª': 18733, 'freakiest': 6678, 'accidentsûª': 1083, 'teamfollowback': 16216, 'followback': 6543, 'modiministri': 10998, 'alarm': 1325, '61st': 722, 'calumet': 3259, 'struck': 15771, '2121': 376, 'chicagoscann': 3663, 'consent': 4142, 'csx': 4463, 'knoxvil': 9459, 'sentinel': 14660, 'indiatv': 8426, 'greateranglia': 7274, 'fault': 6227, 'fd': 6249, 'alarmem': 1326, 'cinstg': 3781, 'raishimi33': 13443, 'applaud': 1708, 'prabhu': 13000, 'indiannew': 8422, 'alvinnelson07': 1464, 'withstand': 18175, 'suresh': 15941, 'harda': 7556, 'ignor': 8288, 'regr': 13682, 'twin': 17129, 'mumbai24x7': 11244, 'tte': 17059, 'helplin': 7742, 'anxiou': 1657, 'ind': 8406, 'topstori': 16794, 'cottag': 4262, 'cta': 4465, 'ctafail': 4466, 'mpmi': 11164, 'deepest': 4811, 'condol': 4110, 'officeofrg': 11977, '63rdprairi': 727, 'mumbaitim': 11247, 'roadwork': 13994, 'tube': 17065, 'disrupt': 5142, 'desol': 4930, 'tottenham': 16825, 'perceiv': 12594, 'faintli': 6136, 'sputter': 15512, 'vast': 17506, 'glacier': 7079, 'etern': 5927, 'gyrsi': 7429, 'danielkemp6': 4639, 'liken': 9893, '39': 528, 'ib': 8208, 'sauldale305': 14427, 'naturalexampl': 11416, 'thrive': 16570, 'hub': 8076, 'hiûótech': 7888, 'onthisday': 12110, 'mayflow': 10545, 'sail': 14300, 'laphamsquart': 9641, 'jusreign': 9126, 'hav': 7620, 'attitud': 1958, 'sht': 14907, 'atl': 1927, 'fran': 6660, 'r3do': 13382, 'soundcloud': 15357, 'swell': 16015, 'daniel': 4638, '1211': 144, 'sacrific': 14276, 'abomin': 1049, 'maketh': 10329, 'corleonedaboss': 4232, 'signific': 14945, 'unexercis': 17266, 'honda': 7965, 'rundown': 14207, 'neighborhood': 11480, 'psqd': 13215, 'mall': 10348, 'gotten': 7203, 'wereonadesolateplanet': 17964, 'belowthemasondixonlin': 2418, 'electro': 5654, 'violin': 17626, 'binellithresa': 2574, 'abuseddesolateamplost': 1069, 'mum': 11242, 'diesi': 5034, 'psalm3422': 13208, 'redeemeth': 13631, 'servant': 14685, 'joshacagan': 9050, 'fotofil': 6620, '3422': 502, 'booksbyrog': 2806, 'bill_roos': 2552, 'justdepress': 9130, 'hundredodd': 8115, 'pilgrim': 12739, 'unimpress': 17284, 'mirad': 10890, 'antichrist': 1642, 'desecr': 4923, 'jerusalem': 8910, '927': 886, 'matt': 10515, '241': 409, 'riski': 13963, 'costli': 4258, 'spyro': 15514, 'textur': 16338, 'ingam': 8484, 'stockholm': 15688, 'copperfield': 4219, 'ep03': 5838, 'finalis': 6370, 'alt': 1454, 'comingsoon': 4041, 'photoset': 12703, 'littlebitofbass': 9955, 'silinski': 14955, 'sheeran': 14805, 'onåêth': 12115, 'hobbit': 7904, 'smaug': 15169, 'thranduil': 16553, 'loos': 10084, 'mirkwood': 10893, 'theconspiracytheori': 16399, 'newep': 11536, 'tangl': 16135, '710': 767, 'isai': 8672, '601': 711, 'psm': 13213, '1388': 170, 'conspiraci': 4150, 'scatter': 14476, 'freediscountbk': 6694, 'thriller': 16568, 'suspens': 15979, 'amread': 1536, 'kurtkamka': 9546, 'coyot': 4309, 'arizû_': 1784, 'uv': 17449, 'digit': 5044, 'gin': 7059, 'listia': 9942, 'josephu': 9046, 'antiochu': 1648, 'epiphan': 5853, 'despair': 4932, 'jamessnyder22': 8808, 'redo': 13640, 'ayyy': 2082, '157': 192, 'lamb': 9603, 'introdesol': 8593, 'hd': 7650, 'troubl': 17011, 'persist': 12626, 'forth': 6608, 'iû_': 8742, 'nikostar': 11642, 'abject': 1038, 'sudden': 15837, 'neither': 11484, 'wick': 18076, 'cometh': 4037, 'thi': 16499, 'fotoset': 6621, 'elanorofrohan': 5644, '10th': 102, 'decemb': 4780, 'carpet': 3402, 'zurich': 18668, 'alcoholismaddict': 1348, 'ghe': 7025, 'orshow': 12200, 'loop': 10083, 'kaiseiw': 9171, 'disloc': 5117, 'temptat': 16282, 'isol': 8691, 'bilingu': 2550, 'tumblr': 17077, 'necro': 11467, 'agalloch': 1227, 'imagini': 8332, 'noi': 11702, 'clipuri': 3874, 'cliptv': 3873, 'desolationofsmaug': 4931, 'poze': 12982, 'thehobbit': 16422, 'sow': 15382, 'backlash': 2117, 'fandom': 6179, 'futurea': 6834, 'totalitarian': 16820, 'employ': 5748, 'literatur': 9948, 'rebah': 13578, 'zenande_mcfen': 18624, 'ndzedz': 11450, 'ashes2ash': 1853, 'ginga': 7060, 'defeat': 4820, 'ldrago': 9717, 'op': 12131, 'snd': 15213, 'competit': 4072, 'multiplay': 11239, 'dilut': 5053, 'institution': 8539, 'slander': 15096, 'shanta': 14768, 'smash': 15168, 'wii': 18090, 'shantaeforsmash': 14769, 'shantaehalfgeniehero': 14770, 'nintendo': 11649, 'ng2x5': 11583, 'memebait': 10667, 'camper': 3286, 'foxsportscom': 6642, 'anthoni': 1636, 'everytim': 5991, 'asleep': 1878, 'raidersreport': 13425, '957thegam': 901, 'galaxi': 6868, 'flatlin': 6458, 'creativitybalancelongev': 4370, 'lucif': 10171, 'magnet': 10299, 'nicolekidman': 11615, 'oprah': 12149, 'grub': 7341, 'kike': 9360, 'cluei': 3898, 'telekinesi': 16262, 'yiayplan': 18513, 'amiibo': 1512, 'å150': 18677, 'boylesport': 2872, 'casino': 3430, 'petchari': 12638, 'displeas': 5136, 'congrat': 4128, 'reggaeboyz': 13676, 'cameronciletti': 3271, 'tigersjostun': 16621, 'crackdown': 4324, 'server': 14686, 'eur': 5948, 'bwin': 3165, 'sarniamakchri': 14400, 'hromadsk': 8059, 'kasiadear33': 9222, 'silli': 14956, 'reg': 13669, 'oversatur': 12292, 'brockton': 2997, '12m': 158, 'regc': 13674, 'commonwealth': 4057, 'ppc': 12989, 'beconfid': 2358, 'zaynmalik': 18618, 'brbr': 2911, 'fousey': 6630, '2hour': 453, 'tryna': 17046, 'sj': 15047, 'gist': 7071, '148': 178, 'streetjamzdotnet': 15744, 'childhood': 3676, 'msmigot': 11189, 'convinc': 4195, 'compel': 4068, 'denier': 4886, 'tend': 16287, 'givingevid': 7078, 'preschool': 13050, 'hunger': 8118, 'rich': 13897, 'decreas': 4798, 'sapphirescallop': 14391, 'oppa': 12143, 'haaaaaa': 7433, 'dazzl': 4725, 'monwabisi': 11063, 'hlongwan': 7892, 'ryt': 14251, 'ashestoash': 1854, 'engineermatarai': 5788, 'ate': 1920, 'mataa': 10503, 'kc': 9246, 'ratingbut': 13498, 'elgeotaofeeq': 5668, 'ambit': 1491, 'justicemalala': 9135, 'nkeajresq': 11669, 'nkea': 11668, 'gambia': 6875, 'mercenari': 10690, 'foxa': 6635, 'cmcsa': 3904, 'sni': 15216, 'amcx': 1495, 'viab': 17564, 'twx': 17145, '3941': 534, 'lifeguard': 9862, 'alanhahn': 1324, 'hdumpty39': 7651, 'daughteri': 4690, 'factual': 6125, 'basi': 2250, '_reddevil4life_': 967, 'donåt': 5264, 'illus': 8317, 'fn': 6526, 'everydaynaija': 5987, 'reportedli': 13774, 'ut': 17430, '3967': 538, '3942': 535, '319': 492, 'phew': 12677, 'meat': 10603, 'inciner': 8392, 'pulkovo': 13249, 'freemurphi': 6703, 'hitchhik': 7884, 'garbagebot': 6901, 'semasirtalk': 14636, 'namekian': 11358, 'ryanoss123': 14247, 'hitter': 7885, 'pitcher': 12775, 'ether': 5928, 'destroyd': 4943, 'hiroshimaûóbbc': 7869, 'cnv': 3918, 'davidvitt': 4709, '2003': 328, '3945': 536, 'zaire2005': 18606, 'specialguest': 15417, 'crapgam': 4339, 'recap': 13592, 'gamescom': 6888, 'hotteennsfwpornmilf': 8031, 'cock': 3938, 'closeup': 3885, '3934': 531, 'sila': 14950, 'slice': 15116, 'headlinelik': 7660, 'chop': 3712, 'cabbag': 3192, 'gh': 7021, 'harbhajan_singh': 7553, 'stuartbroad8': 15778, 'believei': 2404, 'stuart': 15777, 'broad': 2988, 'yuvi': 18583, 'ford': 6573, '3939': 533, 'ontario': 12108, 'restrict': 13832, 'demonstratio': 4880, 'danhrothschild': 4636, 'greed': 7279, 'selfdestruct': 14623, 'takecar': 16106, 'cinla1964': 3780, 'windowgatribbl': 18131, 'forebod': 6574, 'satur': 14419, 'hue': 8081, 'homebuy': 7945, 'miscalcul': 10899, 'mwjcdk': 11300, 'workspac': 18252, 'forse': 6604, 'badkitti': 2139, 'thisiswhywecanthaveniceth': 16525, 'lt3dave': 10151, 'spec': 15413, 'lore': 10097, 'salvag': 14336, 'border': 2824, 'undergroundbestsel': 17244, 'decre': 4797, 'russiaukrain': 14230, 'divid': 5165, 'matthew': 10524, '1232': 145, 'megadethsymphoni': 10639, 'planner': 12805, 'thingsih': 16508, 'hassanrouhani': 7604, 'doom': 5266, 'blossominglilac': 2708, 'arrog': 1807, 'megadeth': 10638, 'symphoni': 16048, '1998': 299, 'appetit': 1705, '57': 686, 'alexeivolkov1': 1367, 'mcfaul': 10569, 'equal': 5860, 'roskomnadzor': 14113, 'politic': 12899, 'bonn1egr': 2794, 'propel': 13164, 'wb': 17868, 'marquei': 10456, 'como': 4060, 'visto': 17648, '1x1': 317, 'bancodeseri': 2182, 'unimagin': 17283, 'tinyjecht': 16662, 'standus': 15581, 'deton': 4955, 'antioch': 1646, 'tenn': 16288, 'tennessean': 16290, 'apollo': 1693, 'ft': 6767, 'furiosoxv': 6825, 'stun': 15790, 'spinningbot': 15455, 'mythgriy': 11326, 'boulder': 2844, 'stearn': 15630, 'jtw': 9084, 'bldrcosheriff': 2663, 'younger': 18545, 'cbsdenver': 3485, 'heavyweight': 7702, 'lemon': 9781, 'no_periferico': 11682, 'orapinforma': 12167, '52214904': 660, '5139055': 654, 'hilversum': 7843, 'meter': 10717, 'surfac': 15947, 'optic_scump': 12154, 'channelstvthat': 3579, 'intel': 8553, 'hhbu': 7794, 'mello': 10656, 'woundedpigeon': 18291, 'apollobrown': 1694, 'mwnhappi': 11302, 'messag': 10703, 'grandeur': 7241, 'iûªv': 8745, 'nottingham': 11805, 'autumn': 2022, 'autoam': 2013, 'ventil': 17535, 'bandoli': 2185, 'dix': 5169, 'fiya': 6438, 'sourmashnumber7': 15363, 'tomfromireland': 16747, 'rfcgeom66': 13881, 'bbctalkback': 2297, 'succeed': 15831, 'detonateampshot': 4957, 'ftåêmop': 6773, 'ûïdetonateû': 18771, 'lta': 10153, 'href': 8057, 'sensorsenso': 14655, '0308': 21, 'mazda': 10554, '30lv6': 481, 'sensor': 14652, 'connectorconnecto': 4135, 'motorcraft': 11127, 'wpt994': 18304, 'ks161': 9518, 'ks57': 9521, 'ks94': 9522, 'dorman': 5281, '917033': 881, 'connector': 4134, 'quot': 13370, 'esteem': 5917, 'belt': 2419, 'regard': 13672, 'esevu': 5896, 'googlemap': 7176, 'mashup': 10483, 'calcul': 3228, 'obta': 11929, 'transcript': 16901, 'butiqob': 3148, '0106': 10, 'bmw': 2737, '325ci': 497, '25ll6': 424, 'sensorknock': 14654, 'delphi': 4855, 'as10004': 1832, 'wpt410': 18303, 'beckarnley': 2353, '1580853': 193, 'realist': 13559, 'asset': 1892, 'koz': 9495, 'smp': 15194, 'ks315': 9520, 'ks100': 9516, 'waterproof': 17842, 'weiqin': 17936, 'famou': 6170, 'brand': 2894, 'lujo': 10183, 'caû_': 3474, '1581017': 195, 'acdelco': 1097, '213924': 379, 'trivium': 16995, 'rrusa': 14158, 'appi': 1706, 'myth': 11325, 'obscur': 11924, 'salon': 14327, 'waterresist': 17843, 'leisur': 9776, 'tabû_': 16077, '2134678': 378, '0206': 17, 'acura': 1132, 'rsx': 14169, '20ll4': 366, '917141': 882, 'consequ': 4143, 'icrc': 8241, '9798': 909, 'f250': 6100, '46lv8': 611, 'ks111': 9517, 'meganbee92': 10642, 'kadiegrr': 9164, 'tyler': 17151, 'blackburn': 2628, 'pll': 12838, 'currensi': 4516, 'talkin': 16120, 'anybodi': 1659, 'ûïrichmond': 18799, 'sittingû_': 15031, 'jam': 8797, 'malik': 10345, 'perri': 12622, 'edward': 5602, 'sheûª': 14824, 'ûdevastatedûª': 18714, 'gujaratriot': 7389, 'mumbairiot9293': 11246, '1000amp1000': 67, 'indianperpetr': 8423, 'chawalchorbjp': 3616, 'un_women': 17217, 'unnewsteam': 17309, 'losdelsonido': 10103, 'declar': 4790, 'typhoondevast': 17157, 'saipan': 14305, 'ivanberroa': 8731, 'barack': 2210, 'marian': 10422, 'foto': 6619, 'ûïlove': 18788, 'isnûªt': 8689, 'realis': 13557, 'actor': 1129, 'rossbarton': 14115, 'gobsmackeddevast': 7134, 'bairstow': 2158, 'buffet': 3069, 'lad': 9581, 'abcnew': 1023, 'indoor': 8441, 'arfur': 1763, 'georgecol': 6989, 'argent': 1764, 'aaaaaaallll': 988, 'iûªm': 8744, 'keegan172': 9261, 'cainsuch': 3217, 'wesleyloweri': 17968, 'utter': 17446, 'kalmikya': 9181, 'astrakhan': 1906, 'volgagrad': 17687, 'dagestan': 4578, 'locust': 10032, 'timeworld': 16650, 'wrought': 18342, 'obsolet': 11927, 'ashes2015': 1852, 'latestnew': 9665, 'cnbc': 3908, 'cû_': 4559, 'cllrraymogford': 3876, 'comprehens': 4087, 'wartim': 17807, 'wroug': 18341, 'ssssnell': 15540, 'rope': 14099, 'www': 18378, 'hiroshimanagasaki': 7867, 'decad': 4773, 'hungerarticl': 8119, 'nepal': 11495, 'rebuild': 13588, 'livelihood': 9965, 'quak': 13328, 'theû_': 16497, 'breach': 2913, 'pam_palmat': 12374, 'perrybellegard': 12623, 'pmharper': 12859, 'firstnat': 6419, 'idlenomor': 8265, 'cndpoli': 3910, 'yyj': 18592, 'argentina': 1766, 'thorium': 16544, 'scandal': 14467, 'environment': 5827, 'elat': 5646, 'hintdevast': 7853, 'beyondthebomb': 2493, 'fascin': 6205, 'korea': 9480, 'propaganda': 13162, '10m': 98, 'settlement': 14702, 'juror': 9125, 'newyear': 11566, '2006': 330, 'starbuck': 15588, 'momneedscoffe': 11029, 'iwontmakeit': 8739, 'devastationû_': 4965, 'pandem': 12386, 'sanelesstheori': 14373, 'urgent': 17382, 'jakartapost': 8789, 'lovelylikelaura': 10127, 'åonli': 18686, 'msf_sea': 11183, 'mediterranean': 10625, 'massgrav': 10491, 'mclaughlin': 10578, 'tim_a_robert': 16631, 'wo': 18202, 'nana': 11362, 'restless': 13829, 'strengthen': 15748, 'afterhaiyan': 1214, 'haiyan': 7468, 'yolandaph': 18528, 'philippin': 12688, 'disasterrecoveri': 5090, 'stain': 15561, 'cw500': 4539, 'listeria': 9941, 'thene': 16444, 'jeff': 8889, 'fin': 6368, 'pirat': 12767, 'acquir': 1114, 'starter': 15598, 'ja': 8750, 'blowltan': 2713, 'metepec': 10716, 'disastereofici': 5087, 'nitclub': 11655, 'mì¼sica': 11334, 'cinema': 3779, 'vitali': 17652, 'churkin': 3764, 'briliantli': 2969, 'ukrain': 17201, 'klimkin': 9429, 'mh17': 10750, 'lack': 9579, 'ûim': 18729, 'disasterû': 5092, 'hollyorange8': 7927, 'peoplecommun': 12585, 'fist': 6427, 'gurmeetramrahim': 7410, 'msgdoing111welfarework': 11185, 'ke': 9257, 'appx': 1721, '65000': 732, 'har': 7548, 'ki': 9336, 'liy': 9979, 'tyar': 17150, 'hai': 7449, 'cncpt': 3909, 'solelink': 15282, 'amznfavorit': 1548, 'devereaux': 4968, 'scifi': 14505, 'askin': 1877, 'rbcinsur': 13523, 'browser': 3025, 'nonexist': 11720, 'photogen': 12699, 'gosh': 7195, 'ûhoax': 18727, 'deviceûª': 4973, 'atåêcinema': 1965, 'pitch': 12774, 'van': 17482, 'nuy': 11867, '530pm': 666, 'vannuyscouncil': 17492, 'youssefyamani': 18558, 'sittw': 15032, 'genocid': 6977, 'ihhen': 8292, 'msf': 11182, 'galleria': 6870, '55': 679, 'strategicpati': 15731, 'idp': 8268, '1200000': 141, '11000000': 110, 'prisonlik': 13104, 'conditionspriv': 4108, 'lizhphoto': 9984, 'outburst': 12251, 'sux': 15985, '12new': 160, '90th': 872, 'osborn': 12205, 'extinguish': 6078, 'openli': 12136, 'nema': 11487, 'wom': 18217, 'i_amtalia': 8190, 'sgc72': 14731, 'displacedinjuredkil': 5134, 'opportun': 12145, '2065': 360, 'meme': 10666, 'museum': 11263, '180': 242, 'reliefweb': 13715, '9000': 865, 'mandat': 10362, 'trace': 16859, 'circular': 3788, 'gn': 7125, '11st': 133, 'nm': 11677, 'diplomat': 5064, 'cost': 4255, 'township': 16845, 'pennliv': 12582, 'mechanicsburg': 10609, 'killeddisplac': 9364, 'systemat': 16058, 'tortur': 16815, 'grahamwp': 7235, 'phelimkin': 12674, 'socialmediadriven': 15256, 'refugeesmatt': 13663, 'cityofhummu': 3802, 'ilnewsflash': 8321, 'diaspora': 5013, 'elem': 5659, 'pomo': 12907, 'gofundm': 7144, 'label': 9572, 'nevada': 11518, 'ûexceptionalûª': 18717, 'steadi': 15623, 'nv': 11868, 'droughtgov': 5391, 'dampen': 4620, 'llf': 9993, 'nigerian': 11620, 'makewaterwork': 10331, 'okanagan': 12026, 'westerncanadadrought': 17974, 'relentless': 13710, '91åf': 883, 'humid': 8106, 'dominicana': 5243, 'treasur': 16932, 'drain': 5332, 'columbia': 4022, 'trib': 16964, 'sep': 14663, 'droughtcheck': 5389, 'cloud': 3890, 'iot': 8627, 'gfrost1985': 7016, 'jeffpalmer16': 8891, 'ego': 5624, 'dqsvyusi': 5319, 'worsen': 18275, 'surround': 15957, 'haveû_': 7622, 'weed': 17924, 'droughtmonitor': 5392, 'contig': 4171, '80m': 821, 'neat': 11461, 'couldnt': 4268, 'karinagarciaxo_': 9207, 'bud': 3061, 'sahel': 14296, 'desert': 4924, 'chore': 3718, 'thatû_': 16370, 'anderson': 1570, 'scwx': 14553, 'droughtfuel': 5390, 'spread': 15496, 'rapidli': 13482, 'macon': 10268, 'warnerrobin': 17794, 'milledgevil': 10838, 'gawx': 6930, '_ashj': 935, '_gaabyx': 949, 'activist': 1128, 'mydrought': 11309, 'waterû_': 17848, 'eeri': 5609, 'cadrought': 3204, 'lakeisabella': 9597, 'jpanzar': 9069, 'mane': 10366, 'raider': 13424, '106': 88, 'karijob': 9206, 'loud': 10114, 'tambourin': 16127, 'codycarn': 3951, 'ag_usa': 1225, 'gecko': 6955, 'chillin': 3687, 'drownû_': 5397, 'anchor': 1563, 'porcupin': 12932, 'lowkey': 10138, 'chromsuck': 3750, 'cameronhigdon34': 3273, 'graysondolan': 7266, 'lwilliams_13': 10214, 'ev': 5959, 'cortneymo_': 4246, 'mfsloos': 10741, 'jasminehuerta24': 8850, 'mustard': 11278, 'nativ': 11405, 'urin': 17386, 'insult': 8545, 'devot': 4979, 'pride': 13087, 'reprocuss': 13782, 'retroact': 13847, 'nois': 11704, 'whiskey': 18039, 'nathan': 11398, 'jonesboro': 9036, 'horizon': 7995, 'inform': 8477, 'utp': 17444, 'brb': 2910, 'kessili': 9307, 'allthekidneybeansandsorbet4misha': 1427, '_dmerida': 943, 'natali': 11391, 'steak': 15624, 'cheer': 3626, 'clev': 3856, 'cleverbot': 3861, 'ursula': 17389, 'protoshoggoth': 13187, 'sort': 15344, 'kiddi': 9342, 'ploppi': 12840, 'floridaû_': 6503, 'gamerg': 6887, 'stephen_georg': 15646, 'yellow': 18496, 'abcnews24': 1024, 'peterdutton_mp': 12645, 'younoon': 18552, 'labor': 9573, 'fnaf': 6527, 'fanfict': 6180, 'trixie_drown': 16996, 'pageshi': 12344, 'proxi': 13198, 'promo': 13155, 'areû_': 1762, 'dw_english': 5488, 'ufo4ublogeurop': 17182, 'ashley': 1856, 'couldv': 4269, 'vist': 17646, 'georgina': 6996, 'rat': 13494, 'cafeaw': 3208, '_itsdanie_': 951, 'noooo': 11738, 'fetch': 6309, 'pyjama': 13302, 'swam': 15992, 'bounc': 2846, 'suffic': 15843, 'uplift': 17359, 'austinpearcy22': 1998, 'asylum': 1913, 'seeker': 14601, 'alameda': 1321, 'coke': 3966, 'scrape': 14530, 'summer2k15': 15862, 'calaisû_': 3226, 'eeasterling_2': 5606, 'dinosaurdracula': 5061, 'remors': 13737, 'jason': 8851, 'vi': 17562, 'coalit': 3925, 'fond': 6551, '1984style': 294, 'janiethekillr': 8828, 'sketchbook': 15062, 'mask': 10484, 'howr': 8050, 'caitlin': 3219, 'kiernan': 9354, 'centiped': 3521, 'grace': 7228, 'swollen': 16029, 'iiii': 8296, 'riveeeeeer': 13971, 'superhero': 15913, 'epilepsi': 5850, 'bradley': 2885, 'diebold': 5028, 'epilepticû_': 5852, '2hi': 452, 'explan': 6049, 'request': 13789, 'acryl': 1120, '080515': 50, 'annouc': 1618, '_jeesss_': 954, 'ethereal_7': 5929, 'jlabuz': 8971, 'heyimbeeyt': 7782, 'nashsnewvideo': 11384, 'sometimesi': 15302, 'anxietyproblem': 1656, 'sweatfyi': 16005, 'nigeltanner1': 11618, 'newli': 11540, 'mapl': 10399, 'autist': 2010, 'nineyearold': 11646, 'dove': 5304, 'jacket': 8756, 'dravet': 5341, 'brochur': 2995, 'downsid': 5311, 'jarmusch': 8846, 'vampir': 17480, 'itblank': 8704, 'expressioncheek': 6068, 'clap': 3824, 'facemarvin': 6113, 'subtleti': 15828, 'breakingfal': 2924, 'actavi': 1122, 'homukami': 7963, 'hw': 8150, 'ohlordi': 12011, 'nwspocatello': 11874, 'bg16': 2500, 'brunt': 3034, 'gray': 7264, 'dust': 5474, 'interspers': 8578, 'sod': 15264, 'amman': 1517, 'divert': 5162, 'gurion': 7409, 'newz_sacramento': 11570, 'morocco': 11097, 'strait': 15724, 'gibraltar': 7038, 'duststorm': 5478, 'totoooooo': 16822, 'totoooooooooo': 16823, 'historicalmag': 7875, 'stratford': 15733, '18th': 258, 'april': 1723, '1935': 270, 'weaken': 17894, 'lubbock': 10167, 'outflow': 12257, 'windit': 18128, 'yell': 18494, 'alic': 1387, 'uluru': 17210, 'sneez': 15215, 'smack': 15154, 'colin': 3980, 'fee': 6267, 'rotari': 14122, 'uvopwz': 17451, 'retiredfilth': 13842, 'stormlik': 15715, 'unreal': 17317, 'brew': 2943, 'thunder': 16591, 'i90': 8188, 'vantag': 17495, 'eastbound': 5538, 'geyser': 7013, 'riyadh': 13978, 'combat': 4027, 'magnum': 10304, 'opu': 12160, 'cogxbox': 3961, 'xboxon': 18410, 'windmi': 18129, '500th': 644, 'duststormfilm': 5479, 'idaho': 8246, 'i15': 8176, 'idwx': 8270, 'dakota': 4592, 'hubert': 8077, 'humphrey': 8112, 'raw': 13507, 'legacyofthesith': 9753, 'sagacioussab': 14293, 'lordofbetray': 10095, 'crescent': 4384, '82ndabndiv': 830, 'paratroop': 12425, '60mph': 716, 'deadlydemi': 4748, 'barrier': 2233, 'tìüp': 17166, 'fest': 6304, 'goggl': 7146, 'circl': 3785, 'sismo': 15022, '4km': 623, 'interlaken': 8566, 'time20150806': 16638, '005225': 4, 'utc20150805': 17434, '175225': 233, '07': 39, '143': 177, 'helen': 7720, '0936': 58, 'utc': 17433, 'contruct': 4187, 'vashon': 17503, 'mukilteo': 11223, 'q13': 13309, 'earthquakenew': 5529, '3novic': 553, 'renison': 13753, 'seismic': 14613, 'tasmania': 16162, 'tin': 16654, 'temû_': 16283, 'shelli': 14812, 'entitl': 5818, 'sicili': 14921, 'usg': 17417, 'eq': 5859, '23km': 405, 'twentynin': 17120, 'time20150805': 16637, '235409': 402, 'ml': 10954, 'magnitudeåêåêml': 10303, '24regionåêåênear': 412, '8km': 856, 'ssw': 15542, 'anza': 1667, '012624': 13, '182624': 248, '070': 40, '15km': 200, 'anchorag': 1564, '0011': 1, 'raffi_rc': 13414, 'sustainourearth': 15982, 'oklahoma': 12037, 'thiû_': 16528, '09': 56, '015025': 15, 'utc20150806': 17435, 'epicent': 5847, 'earthtwerk': 5532, 'scseestapreparando': 14545, 'mag': 10287, '44': 595, '73km': 785, 'khuzdar': 9335, 'volcanodiscov': 17683, '165409': 215, 'ageekyfangirl14': 1230, 'humor': 8110, 'fart': 6202, 'loupascal': 10122, 'euroquak': 5955, 'm194': 10234, '5km': 694, 'hawaii': 7626, '8615': 846, '10401': 84, 'unnecessari': 17308, 'legisl': 9765, 'emili': 5723, 'rossum': 14119, 'difficultpeopl': 5041, '001116': 2, '161116': 209, '080': 46, '0800': 47, 'vulnera': 17716, 'gpv': 7222, '06jst': 38, '6aug': 749, 'wnw': 18201, '12jst': 156, '18jst': 257, 'm157': 10233, '0111': 11, 'utc3km': 17436, 'nnw': 11680, 'henshaw': 7758, 'atm': 1938, '0700': 41, '1km': 307, 'nne': 11678, '234021': 401, '164021': 213, 'darchambau': 4656, 'apocalypt': 1691, 'tsunami': 17054, 'emsc': 5754, 'emmi': 5739, 'megaquak': 10645, '96km': 907, 'brena': 2939, 'puerto': 13241, 'rico': 13915, '103424': 80, '063424': 37, '0400': 26, 'atû_': 1966, 'adanne___': 1141, 'kindli': 9387, 'devon_breneman': 4978, 'electrocut': 5655, 'blanket': 2650, 'aa': 985, 'batteri': 2269, 'elecman': 5650, 'extend': 6071, 'tub': 17064, 'niall': 11596, 'jinx': 8960, 'edison': 5582, 'lightbulb': 9875, 'tesla': 16322, 'unsaf': 17323, 'wank': 17773, 'socket': 15263, 'i_electrocut': 8191, 'zxatheti': 18671, 'badli': 2140, 'danisnotonfir': 4642, 'mmchale13': 10965, 'eral': 5867, 'unplug': 17311, 'ac': 1071, 'myelf': 11310, 'delet': 4843, 'lightseraph': 9887, 'pikachu': 12734, 'omar_molina036': 12069, 'milioooo_': 10827, 'emilio': 5724, 'kayla': 9239, 'bangtan': 2195, 'weallheartonedirect': 17897, 'wouldnûªt': 18288, 'asshol': 1893, 'fair': 6137, 'connect': 4132, 'buckley': 3060, 'jr': 9074, 'beard': 2330, 'any1': 1658, 'hideou': 7807, 'uglypeopl': 17189, 'wouldelectrocut': 18286, 'el_torro_loco': 5642, 'crucial': 4434, 'psychic': 13219, 'pakistannew': 12357, 'pakpattan': 12359, 'correspond': 4242, 'stick': 15672, 'lighten': 9876, 'backyard': 2126, 'cactusborderland': 3201, 'borderlands2': 2825, 'oocvg': 12118, 'ftw': 6772, 'redblood': 13622, 'videoclip': 17592, 'that_fat_guy': 16361, 'eleph': 5662, 'khulna': 9334, 'factori': 6123, '17000': 226, 'penalti': 12572, 'columbu': 4023, 'rowysolouisvil': 14145, 'steveycheese99': 15665, 'mapmyrun': 10401, 'map': 10398, 'stung': 15792, 'bbcnew': 2294, 'mwlippert': 11301, 'southkorea': 15373, 'preparedelectrocutedboil': 13046, 'waterfur': 17839, 'plug': 12844, 'hairdryer': 7463, 'earths_voic': 5531, 'tiger': 16620, 'appal': 1699, 'businessmen': 3138, 'saveti': 14440, 'earbud': 5517, 'charger': 3590, 'queer': 13349, 'sultri': 15858, 'rosenberg': 14109, 'zotar50': 18661, 'skeleton': 15060, 'alchemist': 1345, 'atamathon': 1916, 'golem': 7156, 'nankana': 11364, 'sahib': 14298, 'mumbailoc': 11245, 'lessonforlif': 9809, 'marinelin': 10433, 'dt': 5413, 'faulti': 6228, 'dock': 5206, 'elsa': 5695, 'vacat': 17461, 'penney': 12579, 'whistleblow': 18041, 'lawsuit': 9700, 'supervisor': 15925, 'cree': 4374, 'knife': 9444, 'mp3': 11158, 'rar': 13486, 'dispatch': 5130, 'boon': 2812, 'surgeri': 15952, '37592': 523, 'temporari': 16279, 'tooth': 16783, 'teeth': 16256, 'dental': 4893, 'cosmeû_': 4251, 'alaskaûª': 1331, 'wale': 17753, 'archipelagowolv': 1746, 'extinct': 6076, 'standforwolv': 15578, 'heartbeat': 7682, 'familiar': 6164, 'newyorkc': 11568, 'medicin': 10619, 'lennox': 9792, 'drjustinmazur': 5378, 'kuwait': 9550, 'radychildren': 13412, 'specialist': 15418, 'stl': 15682, 'ace': 1098, 'speedtech': 15430, 'amber': 1489, '544': 676, 'x2': 18403, '11000': 109, 'seed': 14598, 'veget': 17518, 'gear': 6954, 'mre': 11172, 'indiana': 8420, 'i65': 8183, 'lafayett': 9589, '415': 580, '7510880': 793, 'sheltersupport': 14815, 'nonenglish': 11719, 'canal': 3300, 'tookitlikeaman': 16778, 'lovemydentist': 10128, 'runner_joy': 14212, 'wart': 17805, 'childfund': 3675, 'careemerg': 3369, 'appeal': 1701, 'nurs': 11862, 'practition': 13004, 'healthcar': 7671, 'wasilla': 17820, 'fund': 6806, 'broader': 2990, 'akgovbillwalk': 1306, 'reinstat': 13696, 'buffer': 3068, 'protectdenaliwolv': 13182, 'aul': 1988, 'excus': 6019, 'ûï': 18757, 'treasurehous': 16933, 'outbre': 12249, 'takehom': 16107, 'akx': 1313, 'peacetim': 12542, 'leandotorg': 9727, 'lean': 9726, 'quicker': 13358, 'addict': 1145, 'busti': 3142, 'blond': 2693, 'natalia': 11392, 'starr': 15595, 'mineenjoyfir': 10861, 'firetruck': 6409, 'sirensû_': 15015, 'batfanuk': 2261, 'non': 11715, 'declin': 4792, '2007': 331, 'adndotcom': 1161, 'chowtaxi': 3723, 'newport': 11543, 'jacki': 8758, 'bristol': 2977, 'suppli': 15928, 'frp': 6761, 'tuna': 17078, 'kijangbank': 9358, 'negara': 11473, '20150814': 345, 'odai': 11954, 'bucharest': 3056, 'romania': 14067, '600': 707, 'dyingthey': 5500, 'printabl': 13100, 'templat': 16278, 'dec': 4772, 'h20': 7431, 'deploy': 4902, 'troop': 17003, 'poconorecord': 12870, 'emergencymgtmag': 5715, 'household': 8039, 'builder': 3075, 'blackmail': 2637, 'municip': 11253, 'reddit': 13628, 'devis': 4976, 'megan': 10641, 'swanger': 15994, 'ruthann': 14231, 'mccormick': 10566, 'daisi': 4588, 'henley': 7756, 'cityofcalgari': 3801, 'yyc': 18584, 'abstorm': 1062, 'rs40000cr': 14159, 'lifelin': 9866, 'fci': 6243, '3_6_12': 539, 'capac': 3337, 'nw': 11871, 'workplac': 18250, 'retail': 13836, 'primarili': 13092, '311': 489, '660': 735, 'counterstrik': 4278, 'sick': 14922, 'roomsgrrrr': 14096, 'ûïbased_georgi': 18764, 'forreal': 6601, 'incas': 8385, 'presidentû': 13060, 'whipe': 18036, 'rebeccaforr': 13581, 'accept': 1078, 'wisconsin': 18161, 'govwalk': 7214, 'nbc15': 11434, 'cruis': 4438, 'mi': 10756, 'biztip': 2615, 'sami': 14348, 'autism': 2008, 'specialne': 15419, 'feinstein': 6276, 'vet': 17554, 'cochran': 3937, 'enact': 5760, 'cbccalgari': 3478, 'underpass': 17247, 'english': 5792, 'vietnames': 17599, 'undon': 17261, 'advers': 1178, 'gotriangl': 7202, 'conclud': 4100, 'overload': 12283, 'prompt': 13157, 'chrisroth98': 3733, 'chaselabsport': 3612, 'chillimik': 3686, 'hushleg': 8142, 'compar': 4065, 'brilliant': 2970, 'ars': 1808, 'tflbusalert': 16344, 'ilford': 8309, 'glenstannard': 7092, 'essexweath': 5913, 'about': 1054, 'torranc': 16809, 'task': 16161, 'levi': 9820, 'wdtv': 17889, 'fte': 6769, 'olympia': 12065, 'serv': 14684, 'committe': 4052, 'personnel': 12630, 'iiemerg': 8294, 'servicesft7p7a': 14688, 'tx': 17146, 'veteran': 17555, 'ensur': 5808, 'access': 1079, 'proper': 13165, 'treatmen': 16936, 'followm': 6546, 'unsur': 17332, 'cope': 4212, 'brooklyn': 3009, 'locksmith': 10028, 'domest': 5238, 'mechan': 10608, 'circa': 3784, 'clock': 3878, 'gba': 6945, 'suny_orang': 15905, 'budget': 3065, 'thur': 16596, '315': 490, 'ctr': 4472, 'goshen': 7196, '7a730p': 803, 'siena': 14934, 'henderson': 7752, 'missionhil': 10924, 'karen': 9205, 'robinson': 14012, 'enviroment': 5825, 'tfl': 16343, 'downtim': 5313, '3p': 554, '330a': 499, 'lima': 9904, 'shutdown': 14917, 'edmonton': 5592, 'kodiak': 9465, '247': 411, 'swedish': 16009, 'goulburn': 7205, 'henri': 7757, 'bilsen': 2568, 'hisû_': 7879, 'tarzana': 16160, 'hysteria': 8171, 'grey': 7304, 'misti': 10934, 'indiffer': 8432, 'southlin': 15374, 'yennora': 18502, 'cabramatta': 3196, 'swayoung01': 15998, 'recognis': 13604, 'simon': 14969, 'pediatr': 12556, 'engulf': 5793, 'parley': 12439, 'canyon': 3333, 'tribal': 16965, 'ie': 8271, 'madinah': 10276, 'prophetmuhammad': 13172, 'trafficalert': 16876, '210': 372, 'freeway': 6708, 'citru': 3797, 'azusa': 2087, 'chao': 3581, 'crosslondon': 4421, 'carinduc': 3381, 'tidal': 16614, 'fnaf_talkmc': 6528, 'inåêchao': 8624, 'jumper': 9111, 'godsfirstson1': 7142, 'literarycak': 9947, 'raheelsharif': 13420, 'manifest': 10372, 'helm': 7735, 'darkstormytidalsea': 4668, 'fieri': 6342, 'disdain': 5106, 'incap': 8384, 'nothing': 11792, 'blais': 2644, 'pascal': 12461, 'garag': 6899, 'propan': 13163, 'sunnymead': 15897, 'suelinflow': 15841, 'painthey': 12350, 'lifeit': 9864, 'zachzaidman': 18602, '670thescor': 743, 'wld': 18187, 'golf': 7157, 'boycottbear': 2867, 'parleyûª': 12440, 'summit': 15872, 'luca': 10169, 'duda': 5434, 'ghost': 7028, 'nic': 11600, 'badass': 2131, 'carneross': 3393, 'puni': 13265, 'epicentr': 5848, 'postcapit': 12957, 'epoch': 5857, 'aliveafter5': 1396, 'elisagxrcia': 5677, 'vault': 17507, 'tanzania': 16145, 'censu': 3518, 'calest': 3231, 'yeaahh': 18483, 'nowher': 11814, 'cydia': 4552, 'tweak': 17111, 'phillipten': 12692, 'rjailbreak': 13980, 'mkayla': 10952, 'cee': 3505, 'petti': 12655, 'childish': 3678, 'lollapalooza': 10049, 'warnings900037': 17795, 'zehr': 18622, 'amp039monsteramp039': 1522, 'firefigth': 6403, 'northampton': 11759, 'poem': 12873, 'tram': 16894, 'powerlin': 12978, 'carriag': 3406, 'tennew': 16291, 'cascada': 3422, 'dancefloor': 4625, 'disregard': 5140, 'fwd': 6837, 'alllll': 1420, 'nitti': 11660, 'stockwel': 15690, 'metlif': 10719, 'aimlessli': 1272, 'deters': 4953, 'hlg': 7891, 'efak': 5612, 'alexi': 1370, 'joonma_': 9039, 'dealbreak': 4753, 'so': 15242, 'abandon': 1005, 'dungeon': 5460, 'mygc': 11313, 'rutherford': 14232, 'refus': 13668, 'ahhtheenikki': 1256, 'pantalonesfuego': 12397, 'grew': 7303, 'quick': 13357, 'mthe': 11199, 'premis': 13039, 'meetkakarotto': 10635, 'offlin': 11985, 'hinata': 7847, 'emile': 5722, 'milkshak': 10835, 'fifa16': 6343, 'tournament': 16833, 'whocar': 18057, 'crimin': 4393, 'murfreesboro': 11256, 'dnj_com': 5201, 'gc': 6950, '9newsbrisban': 920, '9newsgoldcoast': 921, 'bickleton': 2518, 'roosevelt': 14097, 'liveonk2': 9968, 'koin6new': 9468, 'trafford': 16880, 'odeon': 11959, '60000': 708, '12000': 139, 'portland': 12943, 'miami': 10761, 'casper': 3431, 'ofû_': 11999, 'bukidnon': 3081, 'missleylaha': 10928, 'hahahaha': 7448, 'glink': 7095, 'tr': 16856, 'sandi': 14364, 'hook': 7981, 'elementari': 5661, 'ûbomb': 18711, 'threatûª': 16561, 'twi': 17122, 'manchesterlit': 10361, 'shore': 14876, 'norfolk': 11751, '115film': 127, 'unstableth': 17328, 'ahrar': 1258, 'negoti': 11476, 'zabadani': 18598, 'sunni': 15895, 'katunew': 9235, 'sr14': 15528, '1700': 225, 'seclus': 14584, 'complianc': 4080, 'morevoic': 11085, 'surfer': 15948, 'faan': 6107, 'mandatori': 10363, 'todayng': 16712, 'humboldt': 8105, 'cti': 4470, 'sheriff': 14820, 'advisori': 1182, 'lassic': 9650, 'vietnam': 17598, 'patch': 12476, '71st': 773, 'highland': 7814, 'veldfest': 17527, 'refund': 13667, 'markoturn': 10449, 'annaciclismo': 1607, 'bend': 2425, 'halfhr': 7479, 'swayback': 15997, 'ridg': 13923, 'areavoluntaryinciwebmad': 1754, 'calfir': 3232, 'remedi': 13728, 'angioplasti': 1593, 'dissert': 5143, 'dismayedû_': 5120, 'ifak': 8276, 'roofer': 14089, 'nece': 11462, 'todayngr': 16713, 'eric_bulak': 5879, 'jaclynsonn': 8771, '_oliviaann_': 963, 'ultimatum': 17208, 'dailytimesngr': 4586, 'evac': 5961, 'gnwt': 7128, 'voluntari': 17692, 'cabin': 3193, 'pickerel': 12716, 'reid': 13689, 'exam': 6004, 'lolla': 10048, 'ink': 8499, 'veld': 17526, 'trc': 16930, 'torontorc': 16807, 'ûïa': 18760, 'timeû': 16651, 'reidlak': 13690, 'maca': 10254, 'nwt': 11875, 'yzf': 18593, 'ibrahimmisau': 8221, 'campground': 3288, 'ariabrisard': 1775, 'leiaorganasolo': 9773, 'wouldnt': 18287, 'feelingmanli': 6273, 'komo': 9474, 'saint': 14302, 'ryan': 14244, 'earner': 5524, 'noahcrothman': 11687, 'minutia': 10885, 'champagn': 3559, 'mouth': 11147, 'upward': 17372, 'newåêheight': 11571, 'annealiz1': 1612, 'o_o': 11908, 'redhead': 13635, 'attjcdemo': 1959, 'folieacat': 6540, 'timebomb': 16640, 'destin': 4938, 'loadampexplod': 10009, 'shizun': 14856, 'schwarber': 14498, 'swea': 16000, 'kendal': 9285, 'jenner': 8899, 'jona': 9027, 'can': 3293, 'kaldi': 9175, 'stout': 15717, 'rin': 13940, 'misha': 10906, 'emi': 5719, 'kenji': 9288, 'yuuko': 18582, 'nomiya': 11711, 'hisao': 7871, 'philadelphia': 12680, 'eaglesûª': 5515, 'hotnewscak': 8029, 'deniseromano': 4888, 'cervelli': 3535, 'puff': 13242, 'allen_enbot': 1410, 'attackonstil': 1949, 'apunk': 1727, 'alpha': 1441, 'doll': 5232, 'duck': 5431, 'greasi': 7270, 'anonchimp': 1624, 'deldryden': 4842, 'twitch': 17134, 'chick': 3664, 'masturb': 10501, 'crimsonfuckingv': 4394, 'bitchl0vecannon': 2601, 'sera': 14672, 'sasha': 14402, 'peic': 12567, 'sidewalk': 14930, 'kakeru': 9174, 'teduka': 16247, 'bfore': 2498, 'bomd': 2785, 'tesco': 16321, 'chelsea_dog': 3635, 'pet': 12636, 'kopiteluke1892': 9479, 'brandonskei': 2898, 'samsmithworld': 14354, 'medinah': 10621, '105': 87, '49': 617, 'imkeepingmydayjob': 8342, 'chane': 3568, 'screen': 14537, 'otrametlif': 12231, 'junko': 9121, '1945': 278, 'whose': 18068, 'drako': 5335, 'zarharzar': 18613, 'verseth': 17548, 'bluewestlo': 2729, '38745': 526, 'luke': 10185, 'microphon': 10784, 'ovari': 12272, 'kingmyth1999': 9398, 'squeez': 15522, 'itsnasb': 8718, 'sarcasm': 14398, '__': 928, 'kai': 9168, 'forbath': 6569, 'merycormi': 10696, 'cosima': 4248, 'shay': 14796, 'yumiko': 18579, 'woah': 18203, 'lenkaiswaifu': 9788, 'akxbskdn': 1314, 'lunasagal': 10197, 'synapsenkotz': 16050, 'bean': 2328, 'bastard': 2257, '1665': 219, 'sailor': 14301, 'artilleri': 1823, 'cartridg': 3419, 'okgoon': 12033, 'hahaha': 7446, 'liver': 9971, 'joint': 9016, 'fallontonight': 6154, 'explosionproof': 6057, 'protector': 13183, 'blackberri': 2627, 'z10': 18594, 'byû_': 3181, 'pharaoh': 12669, 'corey': 4228, 'brewer': 2944, '51point': 658, 'dancer': 4626, 'gmmbc': 7121, 'saturday': 14420, '2500fp': 418, 'slow': 15138, 'aluminum': 1462, 'southeast': 15370, 'missouri': 10930, 'renaomino': 13746, 'logo': 10042, 'gaelit': 6856, 'greg': 7293, 'orchard': 12171, 'dye': 5498, 'explor': 6055, 'miìvil': 10950, 'moregtosha': 11080, 'siteinvestig': 15030, 'noranda': 11748, 'kfvs12': 9320, 'cape': 3338, 'girardeau': 7063, 'carbondal': 3361, 'bluff': 2730, 'timelaps': 16642, 'isao': 8674, 'hashimoto': 7598, 'atomicbomb': 1942, 'kircut1': 9407, 'dopest': 5272, 'strategyhua': 15732, 'aspir': 1882, 'writer': 18325, 'colinhoffman29': 3981, 'pyrotechn': 13305, 'artwork': 1827, 'cai': 3214, 'guoqiang': 7408, 'blossom': 2707, 'aminespn': 1514, 'menciu': 10678, 'lordrsbiscuit': 10096, 'begforcum': 2380, 'allday_cumshot': 1405, 'cumcov': 4497, 'sexycumshot': 14722, 'cumtown': 4501, 'bj_nutt': 2617, 'cumslut_2': 4500, 'girlslovecum': 7067, 'saddl': 14278, 'brass': 2900, 'tawfmcaw': 16174, 'hangout': 7527, '830pm': 832, 'est': 5914, 'kindermorgan': 9383, 'amali': 1474, 'arena': 1757, 'sunflow': 15889, 'elev': 5666, 'button': 3156, 'checkout': 3623, 'nurgl': 11861, 'snuck': 15240, 'khrone': 9333, 'expo': 6060, '14th': 181, 'keith': 9269, 'gusto': 7413, 'emptyp': 5752, 'hpssjd': 8053, 'dcubecraft': 4734, 'greetingcardsû_': 7292, 'powder': 12975, 'introduct': 8595, 'theolog': 16450, 'aesthet': 1190, 'pittsburgh': 12780, 'eyewit': 6092, 'barcouski': 2218, 'penn': 12578, 'squibby_': 15523, 'identif': 8253, 'wpri': 18302, 'rhode': 13889, 'modern': 10991, 'eyewitnessû_': 6094, 'glean': 7088, 'hoist': 7913, 'emhub': 5718, 'ugc': 17184, 'climatechang': 3868, 'anarchi': 1558, 'kaputt21': 9201, 'hamburg': 7496, 'gregori': 7295, 'wickett': 18077, 'deni': 4884, 'poni': 12911, 'cbs3': 3483, 'redw': 13647, 'seal': 14562, 'teamû_': 16228, 'wexler': 17988, 'sanford': 14374, 'hardcov': 7559, 'ûïlittl': 18785, 'boyû': 2875, 'testimoni': 16329, 'schoolboyûª': 14495, 'wftv': 17999, 'tn': 16698, 'psychologist': 13222, 'porn': 12933, 'kern': 9302, 'kbak': 9243, 'cbs29': 3482, 'liveonkbak': 9969, 'particularli': 12456, 'horrifi': 8006, 'harvest': 7591, 'dk': 5182, 'denmark': 4890, 'patrickjbutl': 12491, 'damiengayl': 4613, 'closur': 3886, 'expectû_': 6037, 'notori': 11800, 'laboratori': 9574, 'dealer': 4754, 'peta': 12637, 'wbre': 17873, 'wyou': 18388, 'dorl': 5280, 'kindersley': 9384, 'staffû_': 15556, 'stagetwo': 15559, '10pm': 101, 'marri': 10461, 'honduran': 7966, 'freed': 6693, 'bokoharam': 2767, 'captiv': 3350, 'ûïi': 18779, 'macia': 10263, 'testifi': 16328, 'maciaûª': 10264, 'crematorium': 4382, 'provok': 13197, 'famin': 6166, 'moscow': 11107, 'oct336': 11949, 'wsoar': 18349, 'soviet': 15381, 'function': 6805, 'zonesthank': 18658, 'gallup': 6873, 'poll': 12904, 'ariû_': 1785, 'unu': 17342, 'feast': 6256, 'redeem': 13630, 'seren': 14675, 'robertmeyer9': 14008, 'exampl': 6007, 'farmer': 6196, 'peoplegt': 12587, 'perish': 12608, 'holodomor': 7934, 'erect': 5875, 'export': 6062, 'youû_': 18565, 'bluebel': 2721, 'writes4coffe': 18328, 'iartg': 8206, 'rwa': 14239, 'tw4rw': 17107, 'rrbc': 14156, 'financialtim': 6376, 'ethiopian': 5932, 'regim': 13678, 'eastern': 5540, 'ethiopia': 5931, 'faminemega': 6168, '0840728': 55, 'dynamix': 5502, 'ûfood': 18722, 'crematoriaûª': 4381, 'famineåêmemori': 6169, 'bolshevik': 2773, 'monopol': 11044, 'hunhri': 8123, 'artifici': 1822, 'smell': 15172, 'rot': 14121, 'potato': 12964, 'savagen': 14433, 'peasant': 12549, 'stalin': 15567, 'redistribut': 13637, 'faminedeath': 6167, '1russian': 315, 'adventur': 1177, 'conquest': 4140, 'kiev': 9355, 'guidofawk': 7383, 'mediaguido': 10614, 'presenc': 13054, 'stronger': 15766, 'maratha': 10403, 'scorch': 14511, 'punjab': 13267, 'bengali': 2434, 'hopeinchrist': 7991, 'lifelettercaf': 9865, 'surf_photo': 15946, 'lego': 9769, 'blubber': 2719, '11yearold': 135, 'manslaught': 10386, 'sh': 14734, 'goodel': 7165, 'elijah': 5673, 'walker': 17756, 'apd': 1682, 'waimat': 17742, '_asianshawtyy': 936, 'vermont': 17543, 'hitandrun': 7881, 'khqa': 9332, 'winnipeg': 18150, 'arlington': 1788, 'chrisdanielshow': 3729, 'nearlyfat': 11459, 'pee': 12560, 'francisco': 6664, 'remast': 13726, 'frame': 6659, 'windwakerstyl': 18139, 'dubbo': 5425, 'dailyliber': 4585, 'wrongway': 18339, 'flaw': 6466, 'stockton': 15689, 'drivebi': 5371, 'disput': 5139, 'gunfail': 7397, 'nra': 11826, 'spookyfob': 15482, 'feelslikefob': 6274, 'kind': 9378, 'stump': 15789, 'perman': 12615, 'whyor': 18072, 'ballew': 2171, 'statement': 15606, '3yearold': 560, '179': 236, 'onduti': 12084, 'nypd': 11897, '3åêû_': 561, 'eight': 5631, 'vital': 17651, 'news3lv': 11547, 'unprepar': 17314, 'emp': 5743, 'poss': 12949, 'push': 13285, 'implor': 8363, 'motorist': 11131, 'reserv': 13803, 'kyrikoni': 9567, 'expressandstar': 6067, 'veg': 17514, '6month': 752, '662': 738, '114': 122, 'hse': 8065, 'deadliest': 4747, 'mortal': 11099, 'kombat': 9471, 'stretch': 15750, 'itsû_': 8722, '11382': 120, 'interlock': 8567, 'osag': 12203, 'coolweird': 4204, 'itll': 8710, 'mkx': 10953, 'skinless': 15070, 'predat': 13026, 'abha': 1034, 'carnag': 3391, 'continuinglet': 4174, 'ggindependencmessag': 7020, 'gross': 7326, 'xray': 18438, 'dwilliams313': 5493, 'ieansquad': 8272, 'kitana': 9417, 'slay': 15106, 'ûókodi': 18819, 'kombatfans33': 9472, 'osp': 12210, 'hiroshimas': 7868, 'hometown': 7956, 'hiroshima70': 7865, 'rcmp': 13528, 'tch': 16196, 'whitbourn': 18043, 'alloc': 1421, 'bn': 2739, 'veneto': 17529, 'zero': 18629, 'biterel': 2607, '1979': 291, 'tremor': 16947, 'dlc': 5185, 'fatalitiesxray': 6215, 'motordom': 11130, 'lobbi': 10013, 'languag': 9631, 'visionzero': 17644, 'yield': 18514, 'sega': 14611, 'kevinedwardsjr': 9315, '400000ûò800000': 566, '8th': 862, 'healthandsafeti': 7670, 'immens': 8345, 'policylab': 12896, 'cecanf': 3498, 'neglect': 11475, 'yep': 18503, 'downfal': 5306, '_freemarket': 948, 'dibang': 5014, 'logist': 10040, 'enca': 5761, 'onboard': 12080, 'display': 5135, '616': 720, 'irish': 8656, 'ebrointheam': 5560, 'jaybig': 8862, 'lpunbiggiewrap': 10146, 'overzero': 12303, 'questionfatalityflawless': 13355, 'jake_adavi': 8791, 'fatality_u': 6216, 'cuddl': 4484, 'truly_st': 17034, 'dm': 5190, 'savag': 14432, 'gangstermail': 6894, 'samsung': 14355, 'vgbootcamp': 17559, 'sx': 16033, '109': 94, 'sn': 15202, 'vabeng': 17456, 'captain': 3347, 'falcon': 6148, 'hibern': 7799, 'pbx': 12527, 'irrespect': 8665, 'pan': 12379, 'crbzfz': 4359, 'lyme': 10219, 'hrips_k': 8058, 'corps': 4239, 'jitter': 8964, '101': 72, 'rig': 13926, 'tellyfckngo': 16269, 'jaycootchi': 8863, 'homi': 7960, 'sond': 15307, 'babal': 2106, 'kosciusko': 9486, 'bardissimo': 2220, 'basket': 2254, 'tonyakappes11': 16770, 'paranorm': 12422, 'highestrank': 7813, 'babybackreev': 2111, '08315': 54, 'utica': 17440, 'pleasant': 12829, 'aveblack': 2034, 'paw': 12510, 'grass': 7253, 'pxnatosil': 13300, 'renunciedilma': 13758, 'jaxmk2': 8860, 'fatalityuudlk': 6218, 'mileena': 10823, 'chrisman528': 3732, '40w': 576, 'us70': 17394, 'lebanon': 9735, 'lindasocvat': 9910, 'deathmul': 4761, 'mk': 10951, 'stalag': 15565, 'ermac': 5884, 'ssb4': 15537, 'loser': 10106, 'loretta': 10098, 'fuddi': 6785, 'sole': 15281, 'combin': 4028, 'overcom': 12278, 'behold': 2392, 'tcc': 16194, 'endless': 5772, 'phnotf': 12694, 'cheeki': 3625, 'recoil': 13606, 'strongmind': 15769, 'keeper': 9265, 'runnin': 14213, 'drove': 5395, 'midnight': 10798, 'passiv': 12468, 'coerc': 3954, 'organizationsfluctu': 12185, 'disturb': 5152, 'imbalancesar': 8335, 'primari': 13091, 'creativ': 4369, 'margaret': 10413, 'wheatley': 18017, 'musicvideo': 11268, 'luzukokoti': 10209, 'umntu': 17215, 'wakho': 17751, 'referencerefer': 13655, 'xekstrin': 18416, 'partak': 12450, 'baileysmsteach': 2156, 'doingû_ahhhû_that': 5229, 'perrychat': 12624, 'opposit': 12147, 'blackinamerica': 2635, 'growingupblack': 7334, 'cowgirllawy': 4302, 'unawar': 17224, 'intox': 8589, 'ampor': 1531, 'depth': 4907, 'anatomi': 1562, 'loath': 10012, 'vegassolitud': 17517, 'xma': 18428, 'shakjn': 14754, 'c7': 3185, 'shake': 14747, 'choosegod': 3711, 'restoringpath': 13831, 'unknown': 17301, 'curios': 4511, 'toû_': 16852, 'scottdpierc': 14522, 'billharris_tv': 2558, 'harrisgl': 7582, 'beezersun': 2375, 'forfeit': 6588, 'xfile': 18420, 'thexfiles201day': 16489, 'ought': 12239, 'pû_': 13307, 'untangl': 17337, 'besttalkradio': 2472, '23rd': 406, 'mcnabbych': 10580, 'knowledg': 9456, 'foolish': 6560, 'wisdom': 18163, 'amsal': 1538, 'polar': 12885, 'sensand': 14647, 'gd': 6951, 'wrked': 18332, 'reed': 13650, '8437150124': 837, 'deltachildren': 4857, 'instaquot': 8534, 'quoteoftheday': 13371, 'waltdisney': 17765, 'reflect': 13659, 'selfdelus': 14622, 'selfseek': 14631, 'selfpiti': 14630, 'morganit': 11089, 'gemston': 6964, 'opal': 12132, '925': 885, 'sterl': 15654, 'r1354': 13380, 'throne': 16572, '3x5': 559, 'salisburi': 14321, '325': 495, 'cypress': 4556, '10am': 95, 'miss_homasttopa': 10915, 'nowwwwww': 11819, 'avi': 2041, 'header': 7657, 'combo': 4030, 'retro': 13846, 'politifiact': 12903, 'harri': 7581, 'pant': 12396, 'canonusaimag': 3320, 'canonbringit': 3318, 'canontattoo': 3319, 'mn': 10973, 'theresmorewherethatcamefrom': 16468, 'seanhann': 14565, 'gasolin': 6912, 'wcw': 17883, 'catsandsyrup': 3460, 'tha': 16349, 'ici': 8236, 'rum': 14199, 'daughterofnai': 4691, 'tenshi': 16295, 'yuki': 18577, 'shakingcatch': 14752, 'fireand': 6396, 'overcharg': 12277, 'rent': 13756, 'catalina': 3444, 'overwork': 12302, 'justin_l': 9141, 'rainbow': 13432, 'cyhi': 4553, 'runû_': 14216, 'zomatoau': 18654, 'lovefood': 10125, 'obstacl': 11928, 'dontexpectnoth': 5259, 'bon': 2786, 'smore': 15192, 'brant': 2899, 'drummond': 5403, 'rfp': 13882, 'f450': 6102, 'transporta': 16913, 'reno': 13754, 'pugwash': 13245, 'population6': 12930, 'sigalert': 14938, '3n133': 551, 'ufn': 17181, 'trash': 16920, 'brooktekle_': 3010, 'langley': 9629, 'pat': 12475, 'spen': 15432, 'kapokekito': 9199, 'northgat': 11766, 'wompppp': 18226, 'k3': 9154, 'phase': 12672, 'prayforsaipan': 13015, '133': 168, 'irvin': 8668, 'chp': 3724, 'detour': 4958, 'eeenice221': 5607, 'justinejayyy': 9143, 'ohgod': 12006, 'mineenjoybab': 10860, 'knx1070': 9462, '1952': 281, 'dodg': 5214, 'wayn': 17862, 'libbi': 9840, 'oriû_': 12191, 'trident': 16979, '90225': 867, 'pumper': 13258, 'ho': 7901, '187': 253, 'sticker': 15673, 'decal': 4775, 'racer': 13396, 'clog': 3880, 'rgj': 13883, 'cebu': 3497, 'philippi': 12687, 'nno': 11679, 'choos': 3710, 'jaymcleanauthor': 8868, 'filipino': 6361, '58': 688, 'jade': 8776, 'fl': 6445, 'njturnpik': 11667, 'lukebox': 10188, 'mnpdnashvil': 10974, 'nashvillefd': 11386, 'swiftli': 16019, '10k': 96, 'doningtondash': 5252, '11am': 132, 'sept': 14665, 'donington': 5251, 'detkenlang': 4954, 'smarttek': 15167, 'gpsbase': 7220, 'mper': 11161, 'ûwe': 18752, 'helpûª': 7744, 'curb': 4506, 'carmik': 3390, 'roadid': 13991, 'vip': 17627, 'vimeo': 17611, 'juneau': 9117, 'lightli': 9878, 'hightech': 7820, 'kirsten': 9411, 'gillibrand': 7053, 'conven': 4189, 'award': 2055, 'gi': 7034, 'gisuserpr': 7072, 'geotech': 6998, 'ûbadg': 18709, 'bloodûª': 2702, 'resili': 13813, 'factsheet': 6124, 'iafflocal4416': 8194, 'int': 8548, 'bridgeportspe': 2957, '999day': 916, 'brave': 2904, 'dart': 4674, 'technic': 16238, 'antiochhickoryhollowtn': 1647, 'lender': 9785, 'linkedin': 9920, 'pantofel': 12401, 'infoord': 8476, 'sms087809233445': 15195, 'pin23928835': 12747, 'pictwittercompnpizodi': 12723, 'hatcap': 7609, 'silvergray': 14960, 'embroid': 5712, 'luchaunderground': 10170, 'elreynetwork': 5693, 'fever': 6311, 'summon': 15873, 'directli': 5068, 'finem': 6379, 'momdi': 11022, 'guest': 7379, 'chachi': 3548, 'kelworldpeac': 9281, 'taxston': 16180, 'yoga': 18525, 'sbnation': 14459, 'piti': 12778, 'gilderoy': 7050, '100nd': 71, 'tadhgtgmtel': 16086, 'maryland': 10478, 'mansion': 10385, 'manli': 10376, 'pin2327564d': 12746, 'shockingûï': 14860, 'benstraci': 2447, 'rp': 14150, 'silo': 14957, '260th': 426, 'hartford': 7588, 'chose': 3719, 'weûªll': 17992, 'bod': 2755, 'portgassdk': 12941, 'braveri': 2905, 'erinmariefishi': 5882, 'flames_n': 6450, 'optimist': 12158, 'pivot': 12781, 'pardon': 12428, 'mindless': 10855, 'awickedassassin': 2067, 'tightli': 16625, 'selmoooooo': 14635, '_edvinnn': 946, 'imtariik': 8378, 'dzafic_hari': 5508, 'selmo': 14634, 'slaughter': 15102, 'ell': 5685, 'rubybot': 14189, 'thh': 16498, 'furst': 6828, 'graph': 7251, 'aisumag': 1294, 'akumareisu': 1311, 'ophelia': 12139, 'soloquiero': 15288, 'cw_hoop': 4540, 'advantag': 1176, 'apropo': 1724, 'mississauga': 10925, 'pwhvgwax': 13299, 'flatten': 6460, 'cartoonylik': 3418, 'papa': 12402, 'penni': 12580, 'sumo': 15875, 'wrestler': 18318, 'muaytai': 11208, 'wantmyabsback': 17777, 'zouma': 18663, 'hiroshima70000': 7866, 'outright': 12263, 'yosemit': 18536, 'sam': 14340, 'drumpf': 5404, 'ûïnobodi': 18794, 'ûill': 18728, 'rabbit': 13391, 'ahuh': 1259, 'sayû': 14452, 'grabakahitman': 7226, 'izi_garcia': 8741, 'machidadid': 10258, 'fightnop': 6353, 'floored4': 6497, 'bird': 2588, 'lag': 9590, 'drinkû_': 5368, 'conklin': 4131, 'chest': 3648, 'thee': 16409, 'hay': 7630, 'masonit': 10486, 'wahpeton': 17738, 'fyld': 6843, 'prestonûª': 13071, 'icon': 8239, 'iamhorsefli': 8197, 'hide': 7805, 'mbiwa': 10559, 'jimmozel': 8955, 'puckflatten': 13239, 'implicit': 8361, 'kainyusanagi': 9170, 'grummz': 7343, 'pixelcanuck': 12783, 'raynor': 13514, 'bald': 2167, 'emo': 5741, 'seanpeconi': 14566, 'jason_floyd': 8852, 'lynchonsport': 10222, 'criscyborg': 4398, 'bluetooth': 2728, 'muppet': 11254, 'tweetinglew': 17115, 'tersestuff': 16319, 'heartland': 7690, 'tfw': 16345, 'albertan': 1338, 'twilightfairi': 17126, 'kurt': 9545, 'fallaci': 6151, 'steam': 15627, 'robertcalifornia': 14006, 'thereisonlysex': 16465, 'jewelri': 8932, 'linerless': 9917, 'cap': 3335, 'bigburgerboi55': 2529, 'spartan': 15405, 'satanaofhel': 14410, 'dreami': 5349, 'slowli': 15140, 'fizzi': 6439, 'jkl': 8970, 'harlan': 7571, 'knox': 9458, 'ky': 9556, 'wx': 18381, '53inch': 670, '300w': 478, 'curv': 4524, 'led': 9736, 'offroad': 11989, 'fog': 6534, 'lamp': 9607, 'bigåêconsequ': 2544, 'homecom': 7946, 'prom': 13153, 'socialnew': 15257, '2pc': 465, '18w': 259, '4wd': 635, 'beam': 2327, 'creationmin': 4367, 'rwrabbit': 14242, 'gooneratheist': 7180, 'atheistic_1': 1923, 'lolatjesu': 10046, 'robertbenglund': 14005, 'atlarnxx': 1932, '72w': 779, 'alloy': 1425, 'hellotybeeren': 7733, 'cue': 4486, '452': 601, '10x': 104, '27w': 430, '12v': 164, '24v': 413, 'tractor': 16864, 'utv': 17448, 'aû_': 2091, '85v265v': 844, '10w': 103, 'outdoor': 12254, 'pir': 12765, 'auc': 1971, 'iembot_hfo': 8274, 'hana': 7508, 'maui': 10533, 'coastal': 3928, 'atv': 1962, 'defect': 4821, 'intertissu': 8580, 'trench': 16949, 'guabxfv': 7365, 'bmx': 2738, 'areal': 1751, 'shelbi': 14809, 'cdt': 3495, 'alwx': 1468, 'grant_factori': 7247, 'grant': 7246, 'weymouth': 17990, 'seawal': 14579, '428pm': 586, 'edt': 5599, 'wxki': 18384, 'peek': 12561, 'mud': 11212, 'immun': 8350, 'deafen': 4750, 'prone': 13158, 'westchest': 17971, 'elig': 5671, 'sittway': 15033, '710pm': 768, '800pm': 818, 'urban': 17377, 'elk': 5682, 'mondayûª': 11035, 'whileû_': 18030, 'cuban': 4478, 'spong': 15477, 'warlord_queen': 17787, 'thrust': 16582, 'womb': 18221, 'midsouth': 10800, 'midwest': 10805, 'environ': 5826, '1130a': 118, 'showersstorm': 14899, 'areasminor': 1752, 'hunwx': 8130, 'elimin': 5675, 'random': 13465, 'homeimprov': 7949, 'adorableapppl': 1165, 'ten4': 16285, 'mmda': 10966, '166': 218, 'lao': 9637, 'vision': 17643, 'ukflood': 17198, 'trekker': 16943, 'himalaya': 7844, 'slopeofhop': 15134, 'mold': 11011, 'proudgreenhom': 13190, 'insubcontin': 8544, 'ndetent': 11447, 'wunscreen': 18362, 'dcclotheslin': 4730, 'netkicorp': 11512, 'valleywx': 17476, 'themain': 16433, 'janic': 8827, 'ûïbbcengland': 18765, 'no2': 11681, 'crabbycal': 4322, 'nycha': 11888, 'ny1': 11879, 'ny1burst': 11880, 'lrt': 10147, 'ocnj': 11947, 'kwislo': 9553, 'unveil': 17344, 'travi': 16928, 'joinedû_': 9015, 'lakhû_': 9599, 'thankkk': 16355, 'soo': 15322, 'notificationsu': 11797, 'parshol': 12446, 'superb': 15907, 'ju': 9085, 'awesomelov': 2062, 'frvrgrate': 6766, 'wtoni': 18357, 'nester': 11503, 'sonoranrattl': 15320, 'writingtip': 18329, 'farrakhan': 6201, 'landsli': 9622, '119000': 131, '966': 906, 'ictyosaur': 8242, 'madonnamk': 10281, 'rspca': 14166, 'densiti': 4891, 'cyberdemon531': 4544, 'dew': 4982, 'erod': 5885, 'reckon': 13600, 'dmt': 5197, 'priceless': 13086, 'sunshin': 15903, 'fab': 6108, 'albertson': 1341, 'bengal': 2433, 'cm': 3902, 'mamata': 10356, 'banerje': 2186, 'dvc': 5484, 'bjp': 2618, '69': 748, 'naypyidaw': 11426, 'prensa': 13042, 'latina': 9668, 'abc7chicago': 1018, 'casewrit': 3424, 'nj': 11663, 'otherwis': 12219, 'grief': 7309, 'itun': 8724, 'glori': 7106, 'luiz': 10182, 'santo': 14388, 'contactenergi': 4161, '1999': 301, 'clyde': 3901, 'specci': 15414, 'bamenda': 2177, 'throughout': 16573, 'portaloo': 12939, 'sentient': 14659, 'apc': 1679, 'chieftain': 3669, 'dickson': 5020, 'n15b': 11336, 'bayelsa': 2282, 'pagasa': 12341, '712am': 769, 'panay': 12381, 'guimara': 7388, 'negro': 11478, 'lowli': 10139, '40hourfamin': 571, 'worldvis': 18264, 'mû_': 11335, 'paraguay': 12417, 'etp': 5936, 'dua': 5419, 'sumn': 15874, '250000': 417, 'philippinesû_': 12689, '05082015': 29, 'gtserver': 7363, 'gtmainten': 7362, 'anew': 1584, 'e112': 5511, 'particulatebreak': 12457, 'combust': 4031, 'voltaic': 17689, 'vocpetroleum': 17673, 'ch4': 3546, 'bacteria': 2128, 'decomposit': 4794, 'beaverton': 2347, 'ori': 12186, 'bind': 2573, 'careless': 3374, 'campfir': 3287, 'warden': 17782, 'pisgah': 12770, '375': 521, 'ashenforest': 1850, 'floorburnt': 6496, 'manzanita': 10395, 'timber': 16634, 'routecomplex': 14135, 'sweet2young': 16012, 'neck': 11465, 'hornybigbadwolf': 7999, 'cole': 3976, 'column': 4024, 'inbetween': 8381, '515p': 655, 'nuff': 11852, 'fme': 6524, 'tmake': 16693, 'tthe': 17060, 'bhome': 2506, '7p': 811, 'socal': 15250, 'ybtheprophet': 18478, 'realhiphop': 13555, 'ruhl': 14195, '38': 525, 'modoc': 11000, 'temporarili': 16280, 'reassign': 13574, 'usf': 17416, 'acronym': 1118, 'naturaldisast': 11415, 'stamp': 15571, 'gilmanrocks7': 7054, 'sharpli': 14787, 'nycdivorcelaw': 11886, 'alga': 1381, 'bloom': 2703, 'alska': 1451, 'seewe': 14608, 'caribean': 3380, 'inhof': 8486, 'gt50': 7351, 'qave': 13314, 'knowlddg': 9455, 'bois': 2765, 'rstormcom': 14168, 'palmoil': 12372, 'indonesia': 8439, 'forestfir': 6584, 'smokey': 15188, 'bcpoli': 2312, 'canpoli': 3322, 'vanpoli': 17493, 'taho': 16092, '430': 589, 'dump': 5452, 'heartdiseas': 7687, 'pharrel': 12671, 'inciweb': 8394, 'rogu': 14044, 'riversiskiy': 13976, '8515': 840, 'nf': 11576, 'areaû_': 1755, 'abbyairshow': 1013, 'simpsonû_': 14975, 'campsit': 3291, 'pub': 13233, 'midg': 10794, 'snake': 15206, 'tape': 16149, 'straightfir': 15722, 'consum': 4157, 'clash': 3830, 'cite': 3793, 'b1g': 2092, 'bmurph1019': 2736, 'hail_youtsey': 7451, 'termn8r13': 16303, 'goblu': 7133, 'wrestleon': 18317, 'sevenfold': 14707, 'mike': 10813, 'szuter': 16062, 'tremblayeh': 16944, 'sirmixalot': 15018, 'lzk': 10227, '075': 44, '815': 825, 'dawg': 4717, 'dak': 4591, 'jak': 8788, 'japton': 8841, 'arwx': 1830, 'rnk': 13989, 'rockingham': 14031, 'stoke': 15691, 'chojo': 3706, 'pumpkin': 13259, 'massiv': 10492, 'outag': 12246, 'wxii': 18383, 'davidson': 4708, 'heyseto': 7786, 'cheryl': 3647, 'kmactwn': 9435, 'meaganerd': 10591, 'cereal': 3527, 'kellogg': 9278, 'sugar': 15846, 'crunchi': 4441, 'thou': 16546, 'fahlowcw': 6131, 'queenåê': 13348, 'modnao23': 10999, 'migrain': 10808, 'faze_rain': 6238, 'sturgi': 15796, 'kotaweath': 9490, 'hail_zel': 7452, 'kno': 9446, 'overhead': 12282, 'oakridg': 11910, 'hailyycstorm': 7458, 'heyitsepark': 7783, 'flow397': 6509, 'atcha': 1918, 'boston': 2834, 'golfbal': 7158, 'parkchat': 12435, 'unr': 17316, 'lt75': 10152, 'weston': 17982, 'custer': 4526, 'pennington': 12581, 'sd': 14555, '715': 771, 'kevin': 9313, 'chef': 3632, 'pastur': 12474, 'caesar': 3206, 'pound': 12969, 'darkndtat': 4665, 'holm': 7931, 'doppler': 5274, 'edmond': 5591, 'okwx': 12042, 'lawrenc': 9698, 'mead': 10590, 'sû_': 16063, 'calgaryfring': 3237, 'mothernatur': 11119, 'hailstorm': 7454, 'yycfring': 18585, 'killhard': 9369, 'haley_whaley': 7474, '375000': 522, 'ofclan': 11963, 'profil': 13136, 'autobodi': 2015, 'peterhowenecn': 12647, '630830': 726, 'necn': 11466, 'nixon': 11661, 'tricki': 16974, 'dicki': 5019, 'hailth': 7457, 'pokemon': 12881, 'adriasimon_': 1167, 'round2': 14129, 'yycstorm': 18587, 'crazyweath': 4358, 'pummel': 13256, 'maxi': 10538, 'sworn': 16032, 'proven': 13192, 'bobcat': 2754, 'errrr': 5890, 'notgoingoutinthat': 11789, 'hellonwheelsamc': 7732, 'how_fan': 8045, 'talkinghel': 16121, 'haildamag': 7453, 'yycweath': 18590, 'captureyyc': 3353, 'stoû_': 15719, 'xpost': 18437, 'rcityporn': 13527, '4608ìñ2474': 608, '20k': 365, 'carlilescanoeliveri': 3384, 'lovemyjob': 10129, 'northeast': 11762, 'logan': 10037, 'cowx': 4305, 'councilscc': 4272, 'jamaicaplain': 8801, 'hailstormû_': 7456, 'pot': 12963, 'iamdowntown': 8196, 'strand': 15725, 'hailû_': 7459, 'pcp': 12531, 'tareksoc': 16152, 'cupcak': 4505, 'vanderbilt': 17488, 'leedsroug': 9740, 'harmkid': 7575, 'hung': 8117, 'audaciousspunk': 1975, 'dumbass': 5448, 'concur': 4103, 'mmk': 10969, 'dinallyhot': 5058, 'isisi': 8680, 'lifereboot': 9868, 'mindblow': 10851, '198': 292, 'wayward': 17865, 'survey': 15961, 'qzloremft': 13379, 'meampbeat': 10593, 'otratmetlif': 12232, 'parentsacrossam': 12431, 'cc': 3487, 'billgat': 2557, 'ûïfor': 18775, 'youû': 18564, 'ûïplan': 18797, 'prosper': 13177, 'lauren_miller_7': 9685, 'angel_star39': 1586, 'vilelunar': 17604, 'trickshot': 16976, 'infinit': 8468, 'gard': 6904, 'reblog': 13585, 'scar': 14468, 'wowsavannah': 18297, 'randi': 13464, 'irwin': 8669, '5hvzlaradio': 693, 'wwexdream': 18373, 'malistkiss': 10347, 'righteou': 13930, 'ideal': 8249, 'news4buffalo': 11548, 'guardrail': 7372, 'space_wolverin': 15388, 'foul': 6623, 'tastemycupcake': 16164, 'lmfaooo': 10000, 'nawh': 11425, 'trigger': 16980, 'rjg0789': 13981, 'idki': 8262, 'sterotyp': 15658, 'annddd': 1611, 'preval': 13078, 'politician': 12900, 'plannedparenthood': 12804, 'classycolkett': 3833, 'thorgan': 16542, 'gladbach': 7081, 'lifestyl': 9870, 'ûit': 18732, 'sickûª': 14925, 'deem': 4807, 'ûhazardûª': 18724, 'longbreastyat': 10064, 'kraft': 9503, 'chaboyyhd': 3547, 'battlefield': 2273, 'duke': 5441, 'phiddlefac': 12678, 'cascad': 3421, 'childress': 3680, 'uphil': 17357, 'hazarddi': 7636, 'argument': 1771, 'davi': 4696, 'judith': 9094, 'hopfer': 7993, 'deglin': 4834, 'vallerand': 17474, 'eden': 5577, 'sanchez': 14358, 'bolasi': 2772, 'thatpersianguy': 16365, 'youngsaf': 18549, 'harden': 7560, 'flop': 6498, 'ident': 8252, 'highli': 7815, 'fanboy': 6178, 'dannyraynard': 4649, 'aguero': 1247, 'berahino': 2453, 'hector': 7706, 'bellerin': 2409, 'hazardû_': 7640, 'dismiss': 5121, '9503': 899, '528': 661, '540': 673, '740': 787, 'switch': 16026, 'oem': 11960, '20177707d': 351, 'chelsea': 3634, 'talisman': 16117, 'keen': 9263, 'cristiano': 4401, 'lionel': 9923, 'mipasho': 10886, 'dead_dreamer15': 4742, 'preciou': 13022, 'onesi': 12093, 'tomdean86': 16746, 'hazardwillian': 7639, '862015132': 848, 'dean': 4756, 'mav': 10536, 'londonfir': 10056, 'sthing': 15671, 'hazarddanger': 7635, 'tipster': 16664, 'swansea': 15995, '481': 615, 'lickin': 9855, 'donut': 5262, 'hazardu': 7638, 'winger': 18144, 'prem': 13036, 'willian': 18110, '862015108': 847, '1500': 185, 'wrightsboro': 18319, 'wholeteam3': 18062, 'offload': 11986, 'unstabl': 17327, 'andor': 1572, 'hillymountain': 7841, 'dlh': 5186, 'outlook': 12259, 'hwo': 8153, 'assess': 1891, 'optim': 12157, 'igmpj': 8285, 'dangl': 4634, 'crystal': 4453, 'foodscar': 6557, 'offers2go': 11975, 'nestleindia': 11504, 'magginoodl': 10291, 'humanconsumpt': 8098, 'olap': 12044, 'multidimensi': 11233, 'nonhazard': 11721, 'strive': 15763, 'ecofriendli': 5565, 'multidimension': 11235, 'quarrel': 13337, '0913': 57, 'hearitfrompa': 7678, 'keratin': 9299, 'brazilian': 2909, 'copycat': 4221, 'meg': 10636, 'hearitfrompatti': 7679, 'sneak': 15214, 'needl': 11470, 'inject': 8490, 'vein': 17524, 'theblackshag': 16386, 'dannyoneil': 4647, 'toxiccancerdiseasehazard': 16847, 'wastenoxi': 17827, 'josh_lado': 9049, 'joshua': 9056, 'typo': 17160, 'eversaf': 5982, 'rushhour': 14223, 'jumpercaû_': 9112, 'mtr': 11201, 'terwillig': 16320, 'pp15000266858': 12986, '1726': 232, 'pdx911': 12537, 'psd': 13209, 'startelegram': 15597, 'vulner': 17715, 'rawfoodbliss': 13508, 'forehead': 6578, 'flare': 6452, 'oliv': 12056, 'oli': 12053, 'extract': 6080, 'lawx': 9702, 'lightman': 9879, 'apocalpyt': 1689, 'surg': 15950, 'heebsterrr_': 7709, 'waseembadami': 17813, 'gv': 7420, 'heir': 7718, 'frighten': 6739, 'creationsbykol': 4368, 'cork': 4231, 'irelandw': 8652, 'todaythat': 16715, 'hollywarnexx': 7929, 'apaz': 1678, 'arnhem': 1797, 'ltpgtan': 10164, 'unrel': 17320, 'expand': 6034, 'statesû_': 15609, 'uae': 17172, 'mideast': 10792, 'heatwav': 7695, 'ncm': 11443, 'klarajoelsson': 9427, '43c': 593, 'revitup': 13866, 'pizzarev': 12787, 'longest': 10066, 'tripledigit': 16989, 'wfaaweath': 17995, 'pete': 12639, 'frisco': 6742, 'scout': 14529, 'cano': 3317, 'okla': 12036, 'cooler': 4202, 'temp': 16274, '7amdollela': 806, '3la': 548, 'kulli': 9532, '7aal': 804, 'thoughwil': 16549, 'nbc10': 11433, 'rachelcain': 13397, 'weatherit': 17907, 'chilli': 3685, 'dorito': 5279, 'compens': 4069, 'palinfoen': 12369, 'miseri': 10901, 'internallydisplac': 8569, 'gazan': 6940, 'presstv': 13068, 'lipstick': 9927, 'narsûª': 11376, 'ûheat': 18725, 'waveûª': 17856, 'emilyschuman': 5729, 'startid': 15599, 'hotter': 8032, 'greatbritishbakeoff': 7272, 'kristenkoin6': 9506, 'pdxabq': 12538, 'bcuz': 2313, 'û05': 18701, 'youheat': 18541, 'vol': 17678, '5ûª': 705, 'deejayempiresound': 4806, 'warfar': 17784, 'orchid': 12174, 'shite': 14852, 'hellfir': 7728, 'plez': 12837, 'afterlif': 1216, 'deedee_casey': 4804, 'bewar': 2485, 'silentmind': 14954, '_bookofdaniel': 938, 'surah': 15938, 'humaza': 8102, 'ian_hellfir': 8204, 'rude': 14192, 'sub': 15805, 'jyheffect': 9153, 'hellfire_ev': 7729, 'jackperu1': 8764, 'sew': 14712, 'overse': 12293, 'hunchback': 8113, 'notr': 11802, 'dame': 4611, 'repli': 13771, 'cocktail': 3942, 'diablo': 4999, 'ma': 10248, 'verd': 17537, 'mezcal': 10735, 'chartreus': 3609, 'cucumb': 4483, 'bitter': 2609, 'gg_keeponrockin': 7019, 'strawberrysoryu': 15736, 'suspici': 15980, 'fel': 6277, 'zakuun': 18609, 'gargoyl': 6908, 'hoof': 7980, 'mechamacgyv': 10607, 'fadc': 6127, 'usarmi': 17403, 'jagm': 8783, 'tow': 16836, 'missil': 10922, 'tension': 16296, 'jonathan': 9028, 'hijack': 7825, 'pdp': 12536, 'scam': 14466, 'sight': 14940, 'sarcast': 14399, 'dreamoforgonon': 5351, 'teeess': 16249, 'bona': 2787, 'fide': 6334, 'cisladi': 3790, 'incident': 8390, 'homosexu': 7962, 'gaybi': 6933, '0day': 60, 'exploit': 6054, 'bypass': 3174, 'password': 12469, 'technica': 16239, 'everton': 5983, '14yearold': 182, 'wonderkid': 18228, 'donjazzi': 5253, 'policeng': 12891, 'humanright': 8101, 'expresid': 6065, 'goodluck': 7167, 'mockingpanem': 10984, 'cuddlesforjen': 4485, 'music212': 11265, 'bayelsaåêst': 2283, 'transfer': 16902, 'southampton': 15367, 'virgil': 17634, 'dijk': 5047, 'jeep': 8885, 'cheroke': 3645, 'fiat': 6327, 'chrysler': 3753, 'harman': 7574, 'consumerist': 4158, 'mcgsecur': 10570, 'entens': 5809, 'apcåêpdp': 1681, 'ûplot': 18742, 'dijkûª': 5048, 'welshninja87': 17953, 'vuln': 17714, 'cautiou': 3469, 'rickybonessxm': 13914, 'u2': 17168, 'siriu': 15016, 'chan': 3564, 'sayin': 14449, 'jasoncundy05': 8853, 'utd': 17438, 'pedro20': 12559, 'oregon': 12179, 'cmon': 3906, 'governor': 7210, 'parol': 12444, 'liveleakfun': 9964, '1976': 289, 'chowchilla': 3722, 'schoenfeld': 14491, 'linkuri': 9921, 'hijackerturnedsattutor': 7826, 'browseråêhijack': 3026, 'mediev': 10620, 'testa': 16324, 'distinct': 5147, 'diver': 5158, 'htarvrgli': 8071, 'fresno': 6723, 'ûhijack': 18726, 'copsûª': 4220, 'weigh': 17932, 'notexplain': 11788, 'infam': 8454, 'db': 4726, 'cooper': 4207, 'mauds99': 10532, 'jagexsupport': 8782, 'jagexhelpdibi': 8781, 'jag': 8780, 'demco': 4864, '8550013': 842, 'hitch': 7882, '21k': 386, 'ultra': 17209, 'deviat': 4971, 'dyxtmrydu': 5507, 'softenza': 15270, 'anthelmint': 1634, 'americaûª': 1505, 'ladyfleur': 9585, 'cafì': 3211, 'whashtag': 18007, 'funtenna': 6821, 'hat': 7608, 'prebreak': 13020, 'earnest': 5525, 'pletchûª': 12836, 'coldblood': 3971, 'skateboard': 15057, 'saferåê': 14288, 'ûgood': 18723, 'samaritansûª': 14344, 'ampmdash': 1530, 'bronvil': 3005, 'waiver': 17747, 'sue': 15840, 'korean': 9481, 'voslooru': 17698, 'gauteng': 6925, '20150805': 343, '2300': 398, 'toyota': 16850, 'bkb066gp': 2622, 'drsarwatzaib070': 5400, 'mcourt': 10581, 'parliment': 12442, 'whomev': 18063, 'wifi': 18089, 'hotspot': 8030, 'oneman': 12091, '263chat': 427, 'twimbo': 17128, 'zimpapersview': 18638, 'mcr': 10583, 'snort': 15225, 'flavorchargedtea': 6465, 'egyptian': 5627, 'croatian': 4408, '1717': 231, 'ûransomwareûª': 18744, 'manûª': 10397, 'wilson': 18118, 'otherû_': 12222, 'held': 7719, 'windowsil': 18133, 'ûmuslim': 18738, 'womenûª': 18225, 'arenûªt': 1760, 'heregtcnn': 7764, 'purport': 13280, 'tomislav': 16748, 'salopek': 14328, 'susanj357': 15969, 'msnbc': 11190, 'allinwithchri': 1418, 'egypt': 5626, 'croat': 4407, 'radic': 13404, 'mug': 11218, 'holdin': 7916, 'europ': 5952, 'evahanderek': 5965, 'marleyknysh': 10454, '1974': 288, 'lockdown': 10025, 'rumor': 14203, 'trinna': 16986, 'mylittlepwnies3': 11316, 'early__may': 5521, 'anathemazhiv': 1560, 'tonysando': 16774, 'bartend': 2236, 'pmarca': 12857, 'affili': 1195, 'tlvface': 16691, 'tlvfacesauspol': 16692, 'airasia': 1277, 'wreckag': 18314, 'wut': 18364, 'ditch': 5153, 'hungrier': 8122, 'introduc': 8594, '53û_': 671, 'gideonstrumpet': 7039, 'dysfunct': 5504, 'mcconnel': 10565, 'judici': 9093, 'nomin': 11710, 'unharm': 17277, 'whoû_': 18069, 'c130': 3183, 'modifi': 10997, 'stadium': 15553, '1980': 293, 'hannahkauthor': 7533, 'freeamirnow': 6690, 'freeallfour': 6688, 'stood': 15699, 'superior': 15915, 'uncondit': 17233, 'surrend': 15955, 'quottelevis': 13374, 'quotoper': 13373, 'since3g': 14982, 'superv': 15924, 'sinjar': 14995, 'massacr': 10488, 'yazidi': 18476, 'overåêhostag': 12304, 'holmgren': 7933, '96': 903, 'stavola': 15620, 'costar': 4257, 'role': 14054, 'lh_movi': 9833, 'indiefilm': 8429, 'ssu': 15541, 'deosl86': 4897, 'xavier_marqui': 18407, 'meaningless': 10595, 'cod': 3944, 'damsel': 4621, 'distress': 5149, 'peer': 12565, 'nri': 11829, 'tdp': 16203, 'texansdc': 16333, 'kylekrenek': 9561, 'zepp1978': 18627, 'frobeus_n': 6745, 'teddi': 16245, 'submitt': 15818, 'aviationaddict': 2043, 'refer': 13653, 'barak': 2212, 'minhazmerch': 10864, 'banditregina': 2184, 'bang': 2187, 'carolin': 3394, 'bigsbi': 2540, 'supermarket': 15918, 'ûleav': 18734, 'languish': 9632, 'iranûª': 8646, 'noirand': 11703, 'tedcruz2016': 16244, '178': 234, 'boko': 2766, 'haram': 7550, 'florid': 6501, 'contd': 4164, '40pg': 574, 'movt': 11154, 'nervana_1': 11501, 'behaviour': 2387, 'janaq': 8820, 'pleasantli': 12830, 'div': 5155, 'fought': 6622, 'zaynmaiikist': 18617, 'grape': 7250, 'guillermo': 7385, 'noaa': 11683, 'wedaug5th': 17914, 'eggali': 5623, 'hurricane_dolc': 8135, 'guy_reginald': 7418, 'hurricane_dam': 8134, 'bluedio': 2724, 'turbin': 17089, '41': 577, 'wireless': 18158, 'stereo': 15652, 'headphon': 7663, 'headset': 7665, 'lavapixcom': 9690, 'meteoearth': 10714, 'chubbysquirrel_': 3754, 'hurricane_surg': 8136, 'gt33333': 7350, 'shanaynay': 14760, 'shoota': 14868, 'burner': 3118, '30stm': 485, 'quem': 13351, 'lembra': 9780, 'margarita': 10415, 'engl': 5790, 'holt': 7936, 'byr': 3176, 'coral': 4224, 'mock': 10982, 'sunburn': 15882, 'freegeezy17': 6700, 'mixxtail': 10946, 'watermelon': 17841, 'loko': 10044, 'brittsand9': 2985, 'vinustrip': 17619, 'hurricanetyphoon': 8137, 'ratingscategori': 13499, 'defin': 4830, 'angelriveralibû_': 1590, 'snowden': 15230, 'katrina': 9231, 'hwrf': 8154, 'lash': 9649, 'taipei': 16098, 'pattonoswalt': 12498, 'fecal': 6262, 'turdnado': 17091, 'updatem': 17354, '91': 873, 'edna': 5596, 'jeffersonampdori': 8890, 'sherfield72': 14819, 'unlicens': 17303, 'urogyn': 17387, 'mesh': 10697, 'meshnewsdesk': 10698, 'yelp': 18498, 'bolster': 2774, 'yug': 18575, 'suryaray': 15967, 'injuredû_': 8493, 'arian': 1776, 'foster': 6616, 'yeat': 18486, 'wakeupflorida': 17750, 'floridian': 6504, 'killedinjur': 9365, 'trophyhunt': 17007, 'rvacchianonydn': 14236, 'chikislizeth08': 3672, 'warû_': 17811, 'settl': 14701, 'blevin': 2671, 'barcelona': 2217, 'fullback': 6796, 'alba': 1332, 'michaelgbaron': 10767, 'scott': 14521, 'lefti': 9746, '184': 249, 'paulista': 12504, 'wilsher': 18117, '8392': 833, 'delux': 4861, 'supporthealthhomebathroomsupportelderlyinjuredsû_': 15930, 'ogun': 12004, 'smuggler': 15199, 'shootoutåê': 14871, 'allegedli': 1407, 'christiec733': 3740, 'cosponsor': 4252, '928': 887, 'renew911health': 13751, 'thehammers_': 16420, 'tonycottee1986': 16771, 'alsowhat': 1453, 'injuredthen': 8492, 'bilic': 2549, 'themh': 16441, 'mcilroy': 10576, 'pga': 12663, 'specul': 15425, 'rori': 14102, 'speculatio': 15426, 'wearethenew': 17904, 'welles_7': 17944, 'forgiven': 6591, 'forgotten': 6594, 'aesop': 1189, 'kinesiolog': 9390, 'ironmanå': 8663, 'longlast': 10068, 'durabl': 5466, 'tayiorrmad': 16181, 'megatronafc': 10646, 'regardless': 13673, 'creep': 4377, 'inflict': 8470, 'derma': 4918, 'bracket': 2882, 'calum36chamb': 3257, 'gpaulista5': 7218, 'jackwilsher': 8770, 'disgrac': 5111, 'upah': 17349, 'cramp': 4334, 'wreak': 18312, 'seatbelt': 14572, 'jamieny': 8811, 'defenc': 4822, 'romford': 14074, 'peel': 12562, 'male': 10342, 'southdown': 15369, 'windsor': 18135, 'likeavillasboa': 9892, 'rich_chandl': 13898, 'nalathekoala': 11355, 'profession': 13135, 'sequala': 14668, 'homicid': 7961, 'nyack': 11883, 'pineview': 12752, 'railroad': 13428, 'nj36': 11664, '516leonardvil': 657, 'fkhanag': 6443, 'shad': 14738, 'forsyth': 6606, 'adhd': 1151, 'longterm': 10071, 'imsushickoflov': 8377, 'alekalicant': 1354, 'gauz': 6926, 'buffoonmik': 3071, 'forsur': 6605, 'disabledveteran': 5079, 'groin': 7324, 'thepartyofmean': 16453, 'cartervil': 3415, 'gameday': 6879, 'dallascowboy': 4597, '75': 790, 'strain': 15723, 'sprain': 15494, 'fosterfloyd': 6618, 'hatchet': 7610, 'termin': 16302, 'director': 5069, 'judson1360': 9096, 'xtra1360': 18441, 'olin': 12055, 'rush': 14221, 'roster': 14120, 'diego': 5029, 'costa': 4256, 'urg': 17381, 'nflexpertpick': 11579, 'devalu': 4963, 'chinadotcom': 3690, 'clearedincid': 3845, 'injuryi495': 8497, '97georgia': 910, 'joboozoso': 8979, 'usat': 17404, 'usatoday_nfl': 17406, 'recordand': 13611, 'behavior': 2386, 'helparsen': 7740, 'nepd_loyko': 11496, 'texan': 16332, 'sergiopiaggio': 14678, 'wasnûªt': 17823, 'itû': 8729, 'volga': 17686, 'lawûóneglig': 9703, 'garza': 6911, 'atla': 1929, 'leon': 9795, 'copa': 4210, 'mx': 11303, 'usmnt': 17422, 'ergo': 5876, 'rotat': 14123, 'lamha': 9606, 'ba': 2101, 'icc_realckt': 8225, 'vike': 17603, 'sundaydont': 15886, 'infact': 8453, 'zimmer': 18636, 'isinjuri': 8679, 'dal': 4593, 'rb': 13522, 'lanc': 9611, 'dunbar': 5455, 'daytoday': 4723, 'exum': 6085, 'stem': 15640, 'hopedfor': 7989, 'adamrubinespn': 1138, 'stern': 15657, 'ala': 1317, 'tenni': 16292, 'champ': 3558, 'svetlana': 15987, 'kuznetsova': 9551, 'withdraw': 18170, 'espn': 5906, 'pft': 12660, 'barkevi': 2226, 'mingo': 10863, 'patricia_traina': 12487, 'mcclain': 10564, 'practicenyg': 13003, 'follownflnew': 6547, 'mcfadden': 10568, 'hamstr': 7507, 'titadom': 16669, 'sport_en': 15484, 'cowboy': 4300, 'jj_dirti': 8968, 'mlstransfer': 10961, 'greggmair': 7294, 'gio': 7061, 'skc': 15058, 'bwp': 3166, 'nycfc': 11887, 'quirk': 13364, 'dantmatrafajlo': 4652, 'woe': 18206, 'claiborn': 3816, 'wheelsio': 18021, 'hawkhi': 7629, 'beltmr': 2421, 'srk': 15534, 'ngata': 11584, 'laoi': 9638, 'advertis': 1179, 'lovedup': 10124, 'inund': 8600, 'lenn_len': 9789, 'ddnt': 4737, 'reign_coco': 13691, 'ostentati': 12214, 'wk': 18182, 'seward': 14714, 'seattledot': 14575, 'seattletim': 14576, 'dent': 4892, 'deduct': 4801, 'wcvb': 17881, 'fionagilbert_': 6392, 'applic': 1711, 'presum': 13072, 'soggi': 15272, 'moist': 11009, 'vzwsupport': 17720, 'assassinkpg': 1886, 'friendshipy': 6737, 'frankli': 6668, 'bentossel': 2449, 'producthunt': 13133, 'yahoocar': 18456, 'waimea': 17743, 'bushman': 3133, 'safari': 14283, 'palmer': 12371, 'cecil': 3500, 'deconstruct': 4795, 'kerri': 9303, 'sackvil': 14273, 'tms7': 16697, 'mistresspip': 10937, 'mistress': 10936, 'allyinwondrland': 1432, 'bread': 2915, 'trader': 16870, 'wknd': 18183, 'grandad': 7239, 'sophieingle01': 15336, 'angharadjames16': 1592, 'banana': 2180, 'malt': 10351, 'loaf': 10010, 'worm': 18268, 'bangladeshaffect': 2193, 'watersland': 17845, 'bangladeshflood': 2194, 'tonymcguin': 16773, 'creamfield': 4362, 'mainstag': 10318, 'bcfcticketladi': 2309, 'mr_aamir_javaid': 11168, 'kro': 9513, 'westero': 17975, 'sword': 16031, 's5': 14258, 'greyjoy': 7305, 'counû_': 4284, 'teahivetweet': 16209, 'pornhub': 12934, 'employe': 5749, 'paperwork': 12407, 'hronlinetweet': 8060, 'simplifi': 14972, 'staf': 15554, 'brace': 2879, 'samaritan': 14343, 'depress': 4905, 'ledofficial1': 9737, 'mi_country_hick': 10759, 'pfft': 12659, 'bot': 2836, '140': 172, 'unhing': 17280, 'machismo': 10261, 'bullshit': 3091, 'undermin': 17246, 'muster': 11279, 'bilsko': 2569, 'humofthec': 8109, 'trad': 16866, 'legna989': 9768, 'megalpoli': 10640, 'shiver': 14855, 'overflow': 12281, 'zachlowe_nba': 18601, 'boot': 2817, 'platform': 12812, 'realtim': 13568, 'unfortun': 17273, 'inundationû_': 8601, 'kathrynschulz': 9227, 'mouss': 11146, 'sprinkler': 15500, 'faq': 6189, 'lawn': 9697, 'ebb': 5552, 'kemal_atlay': 9282, 'avalanchesgtgt': 2029, 'sinkhol': 14997, 'martinmj22': 10470, 'yougov': 18539, '36': 511, 'hoodedu': 7978, 'berlatski': 2456, 'fleetwood': 6473, 'q99': 13311, 'dunde': 5458, 'bulletsû_': 3087, '255': 422, 'pollster': 12905, 'inbound': 8382, 'nat': 11390, 'nl': 11672, 'toddstarn': 16720, 'hehe': 7713, '1130bst': 119, 'a10gtpari': 974, 'a40': 981, 'geneva': 6971, 'a7': 983, 'mon': 11031, 'a1': 973, 'a2gthanov': 979, 'a5': 982, 'karlsruh': 9210, 'gotthard': 7204, 'lifelong': 9867, 'alltim': 1430, 'memor': 10671, '60second': 717, 'knowital': 9454, 'ronald': 14078, 'reagan': 13548, 'romp': 14075, 'awadgolf': 2050, 'capitalist': 3342, 'venic': 17532, 'freebesieg': 6691, 'waferthin': 17729, 'gû_': 7430, '89x': 854, 'garbanzobean23': 6902, 'cutest': 4531, 'indot': 8442, 'bia': 2511, 'crowtherjohn': 4429, 'effiedean': 5616, 'lbr': 9711, '97': 908, 'situ': 15034, 'bridal': 2953, 'wiwnpfxa': 18178, 'sleeper': 15110, 'since1970th': 14981, 'depreci': 4904, 'cadusd': 3205, 'b4feder': 2099, 'wlandslid': 18185, 'flashflood': 6455, 'gilgit': 7051, 'farmland': 6197, '365disast': 515, 'alp': 1440, 'skardu': 15053, 'ronwyden': 14087, 'lyndon': 10223, '67': 742, 'hubri': 8078, 'reqd': 13787, 'rigour': 13936, '_ohhsehun': 962, 'heavyåêrain': 7703, 'morning_jo': 11095, 'reinc': 13694, 'presssec': 13066, 'smart': 15163, 'ud': 17176, 'lava': 9688, 'pixar': 12782, 'youngheroesid': 18547, 'pantherattack': 12399, 'jamilazzaini': 8812, 'alifaditha': 1390, 'uke': 17197, 'kidstheseday': 9352, 'eles_kayle': 5665, 'jannellix0': 8831, 'breeder': 2934, 'bred': 2931, 'dragonval': 5331, 'chili': 3683, 'molten': 11020, 'dieanpink95': 5027, 'yu_nita99': 18573, 'skippy6gam': 15074, 'ps3': 13204, 'savior': 14442, 'dserialpcilp': 5411, 'pci': 12530, '16550': 216, 'eû_': 6098, 'bleacher': 2665, 'shark': 14782, 'cunayyh': 4502, 'taufikcj': 16170, '8415': 836, 'waterboard': 17838, 'dip': 5062, 'sivan': 15036, 'basalt': 2241, 'massag': 10490, 'pieceû_': 12727, 'amumumux': 1543, 'actin': 1123, 'mirmanda11': 10894, 'evaaasr': 5960, 'shakeolog': 14749, 'protein': 13184, 'pinpoint': 12756, 'foothil': 6565, 'reshap': 13806, 'miner': 10862, 'guthri': 7415, 'hmm': 7896, '034': 24, '8pin': 860, '21a': 382, '5c': 692, 'ipû_': 8638, 'random_tourist': 13466, 'jackhol': 8757, 'gusti': 7412, 'downpour': 5309, 'icaseit': 8224, 'mfi': 10739, 'certifi': 3534, 'blink': 2675, 'wolforth': 18212, 'twoout': 17140, 'altamont': 1455, 'benji_devo': 2441, 'vivid': 17659, 'triad': 16961, 'vancouveråêisland': 17484, 'autobiographi': 2014, 'lawton': 9701, 'collin': 3998, 'dantwitty52': 4653, 'eighth': 5632, 'patrol': 12495, 'lightning_ooc': 9881, 'unwarr': 17346, 'lightning_wolf_': 9882, 'directori': 5070, '629': 724, 'rpic': 14151, 'footag': 6562, 'scichat': 14500, 'ûem': 18716, 'kabwandi_': 9161, 'unconfirm': 17234, 'neighbour': 11481, 'tkyonly1fmk': 16684, 'actionmoviestaughtu': 1125, 'laylovetournay': 9707, 'ryrotheunawar': 14250, 'groan': 7321, 'ercjmnea': 5871, 'chibi877': 3660, 'kotolily_': 9491, 'tarmineta3': 16157, 'shawie17shawi': 14792, 'bruv': 3038, 'tianta_': 16607, 'meû_turn': 10736, 'auspol': 1994, 'resembl': 13802, 'abbott': 1009, 'campbel': 3283, 'chew': 3655, 'gum': 7394, 'nikoniko12022': 11641, 'sw_train': 15989, 'epsom': 5858, 'wimbledon': 18120, 'jrowah': 9077, 'k_matako_bot': 9155, 'kijima_matako': 9359, 'matako_3': 10504, '230': 397, 'morningampi': 11096, 'downstair': 5312, 'tellyampi': 16268, 'bangampmi': 2190, 'dadwho': 4572, 'legwalk': 9770, 'ykelquiban': 18517, 'toxicsavior_': 16848, 'froze': 6759, 'daviesmutia': 4713, 'bang_me_up_guk': 2188, 'art_brut_': 1815, 'brut': 3036, 'cafetier': 3209, 'crockeri': 4410, 'matako_milk': 10505, 'colnharun': 4004, 'samanthaturne19': 14342, 'nagaski': 11346, 'tanstaafl23': 16142, 'impuls': 8373, 'impli': 8359, 'causat': 3466, 'coldmpress': 3973, 'iit': 8298, 'explicitli': 6050, 'doctordryadma': 5209, 'owenrbroadhurst': 12312, 'juanmthompson': 9087, 'histû_': 7878, 'blowjob': 2712, 'cannib': 3314, 'noah_anynam': 11686, 'concentr': 4094, 'd1ff3r3nt1sg00d': 4560, 'riceechrispi': 13896, 'tuicruis': 17070, 'aida_d': 1265, 'faro': 6199, 'atombomb': 1941, 'how': 8044, 'royalcarribean': 14149, 'faroeisland': 6200, 'utopian': 17443, 'gulag': 7390, 'cbc': 3476, 'fredolsencruis': 6684, 'itinerari': 8709, 'flgovscott': 6479, '10000': 65, 'yelllowheath': 18495, 'undeserv': 17258, 're_shrimplevi': 13535, 'jakegint': 8793, 'traditionalist': 16873, 'montalbanoni': 11051, 'billy_hodg': 2567, 'aurora': 1992, 'notorieti': 11801, 'debatequestionswewanttohear': 4766, 'wahhab': 17736, 'horrend': 8003, 'blah': 2640, 'carlachamorro': 3383, 'kach': 9162, 'baruch': 2240, 'goldstein': 7155, '1994': 298, 'palestinianû_': 12367, 'trillac_': 16981, 'che': 3617, 'guevara': 7380, 'creelyou': 4376, 'moron': 11098, 'brainless': 2891, 'dobut': 5204, 'gunsens': 7405, 'gfz': 7017, 'minuscul': 10882, 'theatershoot': 16377, 'defendantmass': 4824, 'therefor': 16463, 'crossexam': 4419, 'juri': 9124, 'dickhead': 5018, 'atljw': 1936, 'aspect': 1880, 'tirelessli': 16666, 'defendbutera': 4825, 'libertygeek83': 9846, 'conveni': 4190, 'rever': 13862, 'honour': 7974, 'movietheatr': 11152, '615': 719, 'scvsupremecourt': 14552, 'quantum': 13333, 'bettyfreedom': 2482, 'abninfvet': 1044, 'supremacist': 15934, 'ander': 1569, 'breivik': 2938, 'unsurprisingli': 17334, 'antifeminist': 1644, 'theeconomist': 16410, 'portrait': 12945, 'yuan': 18574, 'decis': 4785, 'massmurder': 10495, 'victoriagittin': 17583, 'neanderrebel': 11453, 'dissuad': 5144, 'telegraphworld': 16261, 'mmmm': 10970, 'frautrapani': 6674, 'benignovito': 2437, 'libertybell1000': 9845, 'hillarymass': 7838, 'blairmcdougal': 2643, 'arkan': 1786, 'afk_10': 1203, 'dr_johanfranzen': 5323, 'orch': 12170, 'tyrant': 17162, 'cameron_w': 3270, 'tunisian': 17085, 'bardo': 2221, 'abc3340': 1016, 'alamodc': 1322, 'grindhous': 7317, 'texaschainsawmassacr': 16334, 'morbidmovi': 11077, 'animallog': 1600, 'lotg': 10110, 'chalk': 3555, 'mous': 11145, 'subtl': 15827, 'sikh': 14949, 'hateviol': 7614, 'dviyer': 5486, 'colorlin': 4017, 'yazidi_shingal_genocid': 18477, 'ezidigenocid': 6096, 'uninvestig': 17287, 'incit': 8393, 'kabarmesir': 9158, 'badr58': 2142, 'rabaa': 13389, 'observ': 11925, 'rememberrabaa': 13731, 'eileenmfl': 5634, 'besti': 2468, 'chainsaw': 3552, 'petitionno': 12652, 'medal': 10611, '1890': 255, 'bloodbath_tv': 2695, 'channel': 3578, 'nank': 11363, 'massacre4': 10489, 'cb': 3475, 'wsj': 18346, 'wpo': 18301, 'daddi': 4571, 'becarefulharri': 2350, 'tunisia': 17084, 'march': 10407, 'freddiedebo': 6683, 'thucydipleas': 16587, 'charleston': 3596, 'broadli': 2991, 'bromleyth': 3004, 'gigagil': 7044, 'iof': 8626, '513': 653, 'moralityzion': 11075, 'souss': 15364, 'tuni': 17083, 'soap': 15245, 'twain': 17108, 'barackobama': 2211, 'rescind': 13794, 'nataliealund': 11394, 'wkrn': 18184, 'martynwait': 10473, 'wellknown': 17948, 'valentin': 17471, 'oompahperiod': 12122, 'martyr': 10474, 'youngû_': 18551, 'spså': 15505, 'creepiest': 4380, 'stuckinbook': 15781, 'mayhem': 10546, 'cvinch_waow': 4538, 'staci': 15551, 'hanneman': 7534, 'itsjustinstuart': 8715, 'raynbowaffair': 13512, 'editor': 5585, 'diamondkesawn': 5006, 'ramag': 13452, 'alexbelloli': 1365, '4playthursday': 626, 'everybodi': 5985, '1716': 230, 'mayhem_114': 10548, 'andi': 1571, 'masterchef': 10499, 'nosurrend': 11784, 'bulli': 3088, 'panick': 12393, 'disco': 5097, 'kissimme': 9415, 'ganseyman': 6896, 'rt_4_a_ment': 14171, 'ferrel': 6301, 'zach': 18600, 'galifianaki': 6869, 'comic': 4039, 'farc': 6191, 'asburi': 1838, 'asburyparkpress': 1839, 'jmcwrite': 8975, 'pitchwar': 12776, 'realism': 13558, 'akcsl': 1304, 'ventur': 17536, 'suitabl': 15856, 'ltmeltdown': 10162, 'proport': 13173, 'bass': 2256, 'dubloadz': 5428, 'droppd': 5386, 'meellltt': 10632, 'deepak': 4809, 'chopra': 3716, 'ol': 12043, 'drdrewhln': 5346, 'areva': 1761, 'tinybabi': 16661, 'adultblackmal': 1171, 'mattytalk': 10530, 'mwednesday': 11299, 'kinkyconnor': 9402, 'candid': 3306, 'grime': 7314, 'nashhmu': 11382, 'whenev': 18023, 'becca_caitlyn99': 2352, 'dfr': 4988, 'ep016': 5837, 'monthli': 11059, 'dnbheaven': 5200, '20150806': 344, 'seagull07': 14561, 'aleisstok': 1352, 'intelligencebar': 8555, 'justintrudeau': 9144, 'g7': 6845, 'g20': 6844, 'crowdtapp': 4426, 'joinvroom': 9017, 'ohhhh': 12009, 'tangletalk': 16136, 'dmoneydemi': 5195, 'dtb': 5414, 'watchout': 17835, 'nprfreshair': 11824, 'meltdowni': 10663, 'commoditiesåêar': 4054, 'emini': 5731, 'sp': 15386, 'letdown': 9812, 'conclus': 4101, 'padr': 12340, 'fiasco': 6325, 'uncontrol': 17236, 'lemairele': 9779, 'danharmon': 4635, 'byproduct': 3175, 'examinercom': 6006, 'warthen': 17806, 'midst': 10801, 'bullpen': 3089, 'bubbl': 3052, 'warriorcord': 17802, '550': 680, 'paracord': 12413, 'milc5040h': 10819, '516': 656, 'furtrix': 6829, 'cougar': 4265, 'ushanka': 17419, 'fur': 6823, 'xl6162': 18426, 'badg': 2136, 'harass': 7552, 'ymcglaun': 18520, 'univsfound': 17298, '731': 782, 'magner': 10298, 'discu': 5104, 'kgb': 9322, 'cossack': 4253, 'kiranahmedd': 9406, 'm151a1': 10232, 'mutt': 11287, 'm416': 10241, 'leadership': 9721, 'sucker': 15834, 'stfxunivers': 15670, 'lulgzimbestpict': 10189, 'infantryman': 8457, 'experiment': 6043, 'assert': 1890, 'intellig': 8554, '2for1lapd': 450, 'hillaryclinton': 7837, '2012': 337, 'callin': 3249, 'beth': 2475, 'underwood': 17255, 'graviti': 7261, 'teamhendrick': 16217, 'ririnsid': 13958, 'hendrick': 7753, 'neanea2724': 11454, 'universityoflaw': 17297, 'clanci': 3823, 'paperback': 12405, 'tomclanc': 16745, 'cochisecolleg': 3936, 'suprem': 15933, 'empow': 5750, 'milita': 10829, 'sputnik': 15510, 'sputnikint': 15511, 'wider': 18080, 'militarydotcom': 10832, 'mofo': 11003, 'unarm': 17221, 'worseit': 18274, 'ass': 1883, 'stu': 15776, 'mudslid': 11213, 'belter': 2420, 'sterlingscott': 15656, 'fundrais': 6808, 'oso': 12209, 'beetroot': 2373, 'pete_r_knox': 12640, 'gemmast': 6963, 'hipster': 7860, 'dorett': 5275, 'smug': 15198, 'marc_hol': 10406, 'nennicook': 11490, 'aitchkayce': 1295, 'vixstuart': 17663, 'benjbeckwith': 2440, 'britishbakeoff': 2981, 'paulhollywood': 12503, 'fjord': 6442, 'iceland': 8230, 'icelandreview': 8232, 'iceland_review': 8231, 'gasp': 6913, 'giggl': 7048, 'stew': 15668, 'sophiewisey': 15337, 'maker': 10328, 'rabidmonkeys1': 13392, 'uniqu': 17289, 'brobread': 2994, 'lolly_knick': 10050, 'vaginaorcak': 17464, 'lieu': 9858, 'hazelannmac': 7641, 'hatman': 7615, 'delici': 4846, 'urufusanragu': 17391, 'new_hart2010': 11526, 'bakeofffriend': 2163, 'mariankey': 10424, 'bae': 2144, 'backroom': 2120, 'gbbo2015': 6948, 'nikistitz': 11637, 'doylech': 5315, 'persecut': 12625, 'spoil': 15473, 'raì¼l': 13521, 'cali74142290': 3242, 'disasterhospit': 5089, 'ration': 13501, 'arkansa': 1787, 'nola': 11707, 'twoptwip': 17141, 'sift': 14937, 'grid': 7307, 'colder': 3972, 'mateo': 10509, 'mirag': 10891, 'pointless': 12878, 'addit': 1147, 'newser': 11557, 'roblox': 14014, 'unavoid': 17223, 'suncorp': 15884, 'net': 11505, '113': 116, 'billion': 2560, 'unsens': 17325, 'outrun': 12264, 'burma': 3113, 'unrest': 17322, 'cheap': 3618, 'ay': 2075, 'connorfranta': 4137, 'askconnor': 1874, 'overrun': 12291, 'hazardsdisast': 7637, 'booktubeathon': 2808, 'guatemala': 7373, 'seamstress': 14563, 'elvia': 5700, 'nonucleariran': 11729, 'badirand': 2138, 'jebbush': 8883, 'disasteramp': 5086, 'chernobyl': 3644, 'cgt': 3544, 'fukushimatepco': 6793, 'thyroid': 16601, 'japanjapan': 8840, 'inferior': 8462, 'standardanonym': 15576, 'tripl': 16988, 'ajw': 1299, 'jishin_': 8962, 'minamisoma': 10848, 'dalailama': 4594, 'upi': 17358, 'irannucleard': 8645, 'worldlet': 18256, 'radiat': 13403, 'damageû': 4604, 'afp': 1205, 'wp': 18300, 'drvox': 5407, 'agw': 1248, 'denial': 4885, 'sanit': 14377, 'impair': 8354, 'mailonlin': 10312, 'whackamol': 18003, 'spoke': 15476, 'kennedi': 9289, '573': 687, 'ûnuclear': 18741, 'disasterrel': 5091, 'deathsûª': 4762, 'pretend': 13073, 'annonym': 1617, 'conscious': 4141, 'wikipedia': 18092, 'encyclopedia': 5767, 'err509': 5888, 'ge': 6952, 'reactor': 13540, 'finnish': 6389, 'securedgt': 14593, 'ancient': 1565, 'circuit': 3787, 'sidelin': 14928, 'newest': 11538, 'defensenewscomu': 4829, 'subsd': 15822, 'gigawatt': 7047, '_one': 964, 'gwatt': 7421, 'manual': 10388, 'railgun': 13427, 't1000': 16065, 'roberthard': 14007, 'repjohnkatko': 13768, 'ukûª': 17203, 'nucleard': 11846, 'indojapan': 8438, 'pact': 12336, 'reactorbas': 13541, 'restart': 13826, 'mistaken': 10933, 'cataclysm': 3443, 'reator': 13575, 'willie_am_i': 18111, 'justthebottl': 9148, 'winechat': 18141, 'electrostat': 5658, 'fusion': 6830, 'stunckl': 15791, 'gordon_r74': 7189, 'crazydoctorladi': 4355, 'rod': 14036, 'creatur': 4371, 'fennovoima': 6292, 'rworldnew': 14241, 'sandun': 14369, 'gentl': 6980, 'lap': 9639, 'gull': 7393, 'sizewel': 15045, '40mln': 572, 'sonyprousa': 15321, 'lumixusa': 10193, 'djiglob': 5177, 'profbriancox': 13134, 'rt_america': 14172, 'calhoun': 3240, 'nrc': 11827, 'snowywolf5': 15239, 'thegreenparti': 16419, 'hamptonroadsform': 7505, 'dicehatem': 5016, 'puppyshogun': 13273, 'obliter': 11920, 'proc': 13121, 'changepilipina': 3574, 'notion': 11798, 'seemli': 14605, 'narciss': 11370, 'richhomeydon': 13904, 'swag': 15990, 'buû_': 3163, 'souda': 15349, 'sonia': 15314, 'kneelbot': 9441, 'klavierstuk': 9428, 'lvg': 10210, 'smaller': 15159, 'lcb': 9712, 'cl': 3814, 'wherea': 18027, 'jez': 8936, 'geniu': 6975, 'plymouth': 12853, 'ûletûª': 18735, 'litterûª': 9953, 'propheci': 13170, 'combiningû_': 4029, 'josebasedgod': 9043, 'realm': 13566, 'jonvoyag': 9038, 'mccainenl': 10561, 'spectacular': 15422, 'stonewal': 15697, 'sarah': 14394, 'palin': 12368, 'bb4sp': 2287, 'skynew': 15085, 'scum': 14551, '149': 179, 'themthen': 16442, 'gymflow': 7424, 'gymtim': 7426, 'assassinsû_': 1887, 'gargron': 6909, 'holymileyray': 7938, 'mooniighthunti': 11067, 'obedi': 11914, 'gap': 6897, 'swami': 15993, 'agnivesh': 1238, 'satisfi': 14417, 'battleship': 2277, 'fresh': 6717, 'macbreck': 10257, 'meansit': 10596, 'presbad': 13049, 'math': 10511, 'enterpris': 5811, 'horiikawa': 7994, 'rizzo': 13979, 'damnnnn': 4616, 'gmcr': 7120, 'accordingli': 1089, 'sunray': 15898, 'hairi': 7465, 'spiderweb': 15446, 'breakingnewslh': 2926, 'bree_mar': 2932, 'seventi': 14709, '7k': 808, 'wacko': 17727, 'michelebachman': 10771, 'firey': 6412, 'inferno': 8463, 'globalwarm': 7099, 'meal': 10592, 'zimmerman': 18637, 'rzimmermanjr': 14253, 'renewsit': 13752, 'sock': 15262, 'acc': 1077, 'strip': 15760, 'byebyesoundcloud': 3170, 'cocki': 3940, 'silverhuski': 14961, 'shtap': 14908, 't_t': 16070, 'poway': 12974, 'hcg': 7647, 'mole': 11012, 'whensoev': 18024, 'nevermor': 11524, 'sizygwwf': 15046, 'theevilol': 16414, 'hypo': 8169, 'kevinbacon': 9314, 'soz': 15384, 'accustom': 1096, 'kontrol': 9477, 'ww3': 18369, 'dice': 5015, 'interestingwhi': 8562, 'canaanit': 3294, 'worldnetdaili': 18257, 'laurenjauregui': 9686, 'teamhennessi': 16218, 'tprimo24': 16855, 'djeddygnj': 5175, 'colombian': 4008, 'festivalû_': 6308, 'arcad': 1742, 'cte': 4469, 'overpr': 12289, 'thatsabinegirl': 16367, 'dose': 5287, 'slab': 15093, 'labour': 9575, 'labourleadership': 9576, 'contest': 4169, 'auntiedot': 1991, 'rioslad': 13949, 'locke_wiggin': 10026, 'akarb74': 1303, 'tiggr_': 16622, '02': 16, '03': 19, 'eganator2000': 5621, '716': 772, 'ashberxo': 1847, 'mind_mischief': 10850, 'worldnetdailyhomosexu': 18258, 'truthsof': 17044, 'alhaji': 1383, 'sha': 14735, 'ibeto': 8212, 'competitor': 4073, 'immin': 8348, 'extent': 6073, 'privileg': 13109, 'unfair': 17268, 'renov': 13755, 'smallbiz': 15157, 'startup': 15601, 'oldtimey': 12051, 'littledeath': 9956, 'bene': 2427, 'gesserit': 7004, 'litani': 9944, 'dune': 5459, 'atgrannyshous': 1922, 'kylewappl': 9563, 'thisishavehop': 16522, 'sb57': 14456, 'deepwat': 4814, 'distribut': 5150, 'larger': 9646, 'refugio': 13666, 'costlier': 4259, 'plain': 12797, 'pipelin': 12761, 'nyt': 11900, 'bankstown': 2202, 'wattl': 17851, 'sydtraff': 16037, 'trafficnetwork': 16879, 'ksbynew': 9523, 'lilitan': 9897, 'syd': 16035, 'wendel': 17955, 'berri': 2460, 'gulf': 7391, 'disclo': 5095, 'oi': 12016, 'hannah': 7532, 'disclos': 5096, 'osi2016': 12208, 'losangelestim': 10102, 'kinder_morgan': 9382, 'cantwont': 3331, 'cityofkamloop': 3803, 'sec': 14583, '42': 583, 'kamloop': 9187, 'troyslaby22': 17018, 'slicker': 15117, 'disea': 5107, 'edinburgh': 5581, 'bronx': 3006, 'wowth': 18298, 'legionnairesdiseas': 9762, 'pneumonia': 12862, 'americanlegion': 1504, 'convent': 4191, '197629': 290, 'legio': 9758, 'muhamadjab': 11220, 'legionna': 9760, 'senatemajldr': 14642, 'dratomic420': 5340, 'trophi': 17006, 'sebe': 14582, 'worstev': 18278, 'losangel': 10101, 'fo': 6529, 'bi_video': 2510, 'pandemonium': 12387, 'element': 5660, 'hashtagteaclub': 7600, 'par': 12411, 'tod': 16707, 'j3lyon': 8749, 'ffvii': 6320, 'exclam': 6017, 'midweek': 10804, 'westmarch': 17978, 'arreat': 1803, 'upa': 17348, 'sfa': 14725, 'soonpandemonium': 15328, 'joegoodmanjr': 8984, 'copalibertador': 4211, 'argentinean': 1767, 'pandemoniumiso': 12388, 'psp': 13214, 'tgirl': 16347, 'requiem': 13790, 'khalidkkazi': 9325, 'gidiexclusix': 7040, 'ûfacelessûª': 18720, 'bennycapricon': 2444, 'dr_baseball41': 5322, 'granttamane8': 7249, 'drewwtaylor': 5359, 'dtop77': 5417, 'hillsid': 7840, 'shestooyoung': 14822, 'exquisit': 6069, 'sto': 15686, 'cumshot': 4499, 'porno': 12935, 'pbohanna': 12526, 'justaguess': 9128, 'deadgirltalk': 4744, 'unfortunemelodi': 17274, 'jaylenejoybeligan': 8867, 'tarynel': 16159, 'dredougi': 5353, 'santanicopandemonium': 14386, 'faceåêphoto': 6114, 'frenzi': 6714, 'disord': 5128, 'mania': 10371, 'astound': 1905, 'catovitch': 3459, 'ps1': 13202, 'platinum': 12814, 'raredeals_uk': 13489, 'obligatori': 11919, 'brokenscnec': 3003, 'raptorsbeg': 13484, 'goodlookrun': 7166, 'autismawar': 2009, 'jess': 8913, 'tim_micallef': 16632, 'troubleonmymind': 17013, 'jetixrestor': 8926, 'teamo': 16221, 'supremo': 15935, 'pogo': 12875, 'douchebag': 5297, 'girlsgirlsboy': 7066, 'elielcruz': 5670, 'newbi': 11531, 'overwhelm': 12301, 'fairli': 6141, 'welladjust': 17943, 'alabama': 1318, 'lolo': 10051, 'gospel': 7197, 'acoust': 1111, 'headdesk': 7656, 'sav': 14431, 'guag': 7366, 'eyebal': 6088, 'james_justu': 8804, 'corn': 4233, 'flake': 6447, 'montetjwitter11': 11056, 'nolesfan05': 11708, 'nutsandboltssp': 11865, 'audreyp77': 1984, 'teena_797': 16252, 'darryl_brook': 4670, 'elitesportsni': 5679, 'lopezandthelion': 10090, 'natsnat': 11410, 'biggangvh1': 2533, 'linden': 9911, 'lite': 9945, 'lind': 9909, 'afycso': 1223, 'romant': 14068, 'sensei': 14649, 'rhyme': 13892, 'attic': 1956, 'collar': 3988, 'amo': 1518, 'laughtrad': 9677, 'capitul': 3343, 'quotesttg': 13372, 'helio': 7724, 'dirk_nomissski': 5073, 'faint': 6135, 'mumbl': 11248, 'cackl': 3200, 'shook': 14865, 'istg': 8700, 'idm': 8266, 'gotham': 7201, 'ian_bartlett': 8203, 'hs2': 8063, 'astroturf': 1910, 'crumbl': 4440, '1130': 117, 'adumbbb': 1173, 'beauscoven': 2344, 'debbi': 4767, 'tinder': 16655, '20min': 367, 'ushiocom': 17420, 'submit': 15817, 'romanticsuspens': 14069, 'hurri': 8132, 'fundwhen': 6809, 'alarmingli': 1327, 'c_pinto001': 3187, 'orpik': 12198, 'jeannathoma': 8881, 'vichardi': 17571, 'freeman': 6702, 'ogtomd': 12003, 'ar15': 1734, 'carmi': 3389, 'breaking411': 2923, 'policerun': 12892, 'obispo': 11915, 'qld': 13320, 'billi': 2559, 'queensland': 13345, 'suicidebycop': 15854, 'aåêmiddleag': 2090, 'manåêarm': 10396, 'retard': 13839, 'dccc': 4729, 'vj44': 17666, 'jbouie': 8871, 'mmfa': 10968, 'maid': 10308, 'dh30000': 4991, 'sponsor': 15479, 'ana': 1551, 'holist': 7921, 'dispensari': 5131, 'atlant': 1930, 'smartnew': 15165, 'abc7': 1017, 'vinni': 17617, 'northumbria': 11770, 'nigeria': 11619, 'ruler': 14198, 'informantûª': 8478, 'provoc': 13196, 'dailyko': 4584, 'beloeil': 2414, 'richelieusaintlaur': 13903, 'bayonet': 2284, 'randpaul': 13470, 'evilempir': 5996, 'jadehelm15': 8778, 'unwant': 17345, '12th': 162, 'pp15000266818': 12984, '1710': 228, 'episcop': 5854, 'interraci': 8573, 'harrow': 7583, 'bounti': 2849, 'fife': 6344, '816': 826, 'georgegalloway': 6992, 'galloway4mayor': 6872, 'pickpocket': 12718, 'liverpool': 9972, 'stree': 15742, 'brandonmulcahi': 2897, 'fpine': 6645, 'killû_': 9372, 'robbiewilliam': 14002, 'asswip': 1899, 'karma': 9211, 'milwauke': 10844, 'policeû_': 12893, 'arizonadot': 1782, 'salado': 14314, 'crackin': 4328, 'bridgeport': 2956, 'burglar': 3109, 'blowin': 2711, 'grandmoth': 7244, 'wasnamp8217t': 17821, 'lastma': 9654, 'lago': 9591, 'helpm': 7743, 'slosheriff': 15136, 'huntington': 8129, 'quarantineû_': 13336, 'onlinecommun': 12100, 'amageddon': 1473, 'freespeech': 6705, 'quarantin': 13335, 'technew': 16237, 'puledo_tech_upd': 13248, 'ûextrem': 18718, 'offensiveûª': 11973, '630': 725, 'bangalor': 2189, 'aannnnd': 995, 'offensiveåêcont': 11971, 'cofound': 3958, 'huffman': 8084, 'missambear': 10917, 'censor': 3516, 'offensiveû_': 11972, 'pink': 12754, 'subreddit': 15820, 'aaarrrgghhh': 990, 'rantipozi': 13477, 'cuck': 4482, '__scrambledegg': 931, 'kia': 9337, 'gmtti': 7124, 'bluehand': 2725, 'hm': 7895, 'ebolatrend': 5556, 'rconspiraci': 13529, 'bathroomit': 2265, 'meow': 10688, 'louderth': 10115, 'exposur': 6064, '0npzp': 61, 'wander': 17772, 'oc73x': 11933, 'dl': 5184, 'symantec': 16043, 'wipp': 18156, 'sejorg': 14617, '47km': 613, 'northwestproof': 11773, 'filter': 6367, 'offsit': 11993, 'israelûª': 8695, 'ashdod': 1848, 'emittin': 5732, 'ccot': 3489, 'rainstorm': 13440, 'decor': 4796, 'rec': 13590, 'iwk': 8737, 'gloucest': 7111, 'capeann': 3339, 'seagul': 14560, 'triciaoneil': 16971, 'triciaoneillphoto': 16972, 'myrtlegroggin': 11321, 'ltgaspgt': 10159, 'aampb': 992, 'yobe': 18523, 'damatu': 4606, 'jim': 8949, 'alv': 1463, 'newreleas': 11544, 'jimmi': 8953, 'lapaka': 9640, 'rome': 14070, 'ireport': 8653, 'crown': 4427, 'bebacksoon': 2348, 'roar': 13997, 'rollingû_': 14060, 'robot_rainstorm': 14016, 'vacanc': 17458, 'damaturu': 4607, '600û_': 710, 'soaker': 15244, 'nathanfillion': 11400, 'hardli': 7565, 'imsort': 8376, 'font': 6552, 'lizzie363': 9989, 'cstsmith': 4462, 'thru': 16580, 'floodrainstorm': 6491, '14000': 173, 'thnk': 16529, 'doe': 5216, 'kook': 9478, 'deadgrassandflow': 4745, 'italianåêalp': 8703, 'surfspa': 15949, 'raze': 13517, 'officeûª': 11979, 'razedåêûò': 13520, 'ikpeazu': 8308, 'apga': 1683, 'lynchburg': 10221, 'taf': 16088, 'fb100': 6240, 'petereallen': 12646, 'huffpostuk': 8089, 'bbc5live': 2289, 'substanti': 15826, 'sandiego': 14365, 'njenga': 11666, 'dualcom': 5421, 'im_raz': 8326, 'easter': 5539, 'northerncalifornia': 11765, 'zippednew': 18644, 'vassalboro': 17505, 'gazebo': 6942, 'petel_mcguir': 12642, 'justmarri': 9146, 'jihadi': 8947, 'freedomoutpost': 6696, 'newlyw': 11541, 'gestur': 7005, 'repuls': 13785, 'refugeesvictimiserdutton': 13664, 'evangelicalliarabbott': 5966, 'lnp': 10005, 'dupe': 5463, 'overdr': 12279, 'choppergatebronwynbishopauspol': 3715, 'cameroon': 3274, 'repatri': 13763, 'wowo': 18295, 'whao': 18006, 'aisl': 1293, 'serbian': 14674, 'reaad': 13536, 'plsss': 12842, 'refugeesû_': 13665, 'indiegogo': 8430, 'overboard': 12276, 'tonyabbottmhr': 16769, 'christianvalu': 3739, 'fadelurk': 6129, 'dalinthanelan': 4595, 'redcliff': 13624, 'aidan': 1266, 'banquet': 2205, 'burundi': 3128, 'vice': 17570, 'kristindavi': 9508, 'pacic': 12328, 'rsf': 14162, 'gag': 6857, 'thedailybeast': 16400, '46': 607, 'dutton': 5482, 'presser': 13065, 'chpsre': 3725, 'pari': 12432, 'rezaphotographi': 13879, 'policyhold': 12895, 'clico': 3864, 'panik': 12394, 'kelbytomlinson': 9274, 'oc': 11932, 'animalrescu': 1601, 'ypre': 18571, 'blackwhit': 2639, 'newbeginningsanimalrescu': 11529, 'ppact': 12988, 'ecstat': 5571, 'racco': 13393, 'sugg': 15848, 'vivian': 17656, 'psychrewatch': 13223, 'length': 9787, 'sammi': 14350, 'kfc': 9319, 'peaceloverescu': 12541, 'plantat': 12807, 'rainforestresq': 13436, 'floodzon': 6493, 'raheel': 13419, 'sharif': 14781, 'chitral': 3699, 'laud': 9674, 'fwo': 6839, 'opera': 12138, 'lisavanderpump': 9933, '367': 516, 'zak_bagan': 18607, 'sabrina': 14270, 'briton': 2983, 'tennoatax': 16294, 'tenno': 16293, 'dojo': 5230, 'dopey': 5273, 'summervib': 15871, 'pitmix': 12779, 'brixton': 2986, 'banksi': 2201, 'mybabi': 11307, 'buri': 3111, '10monthold': 99, 'coastguard': 3930, 'skyrim': 15087, 'await': 2051, 'rescuedagain': 13797, 'pioneer': 12758, 'palefac': 12363, 'raft': 13415, 'enkelbiljett': 5798, 'menolippu': 10681, 'bovin': 2853, 'smugglersåênab': 15200, 'cocker': 3939, 'spaniel': 15399, 'romanatwoodvlog': 14064, 'inspi': 8526, 'stray': 15737, 'stranger': 15727, 'reshareworthi': 13807, 'brittanypetko': 2984, 'giorgio': 7062, 'hiatt': 7798, 'rescuedû_': 13798, 'c4new': 3184, 'irishtimesworld': 8659, 'springer': 15499, 'ribbon': 13894, 'offtrackhors': 11995, 'swept': 16017, 'isaiah': 8673, '4422': 596, 'contemporari': 4166, 'cardboard': 3364, 'heartwarm': 7692, 'mistrust': 10938, 'onegreenplanet': 12087, 'disembark': 5109, 'naval': 11419, 'vessel': 17551, 'tconnellyrû_': 16198, 'mediterran': 10624, 'durban_knight': 5469, 'carr': 3404, 'nosy_b': 11785, 'unexplain': 17267, 'childhooddefin': 3677, 'roddypiperauto': 14039, 'andygild': 1579, 'rescuersth': 13800, 'infomerci': 8475, 'crept': 4383, 'carryi': 3408, 'womanûª': 18220, 'shaolin': 14772, 'shen': 14817, 'nan': 11361, 'chiang': 3657, 'venom': 17533, 'kung': 9538, 'fu': 6774, 'favori': 6234, 'hundredsû_': 8116, 'ahmaz': 1257, 'thenewshyp': 16446, 'allerg': 1412, 'sfgate': 14727, 'migrantsû_': 10810, '37yearold': 524, 'vulcan': 17713, 'meatlov': 10605, 'fem': 6285, 'piprhi': 12764, 'teamvodg': 16227, 'nickcannon': 11605, 'listenbuy': 9938, 'realmandyrain': 13567, 'itunesmus': 8725, 'blowmandyup': 2714, 'rascal': 13491, 'flatt': 6459, 'concertaugust': 4098, '20152': 347, 'hasåêarriv': 7607, 'tactic': 16085, 'headquart': 7664, 'dani_riot': 4637, 'daysweek': 4722, 'live_workshop': 9961, 'booth': 2818, 'kappa': 9200, 'acaciapenn': 1072, 'shidddd': 14829, 'bah': 2153, 'autumnwint': 2023, 'menswear': 10682, 'urbanfashionû_': 17378, 'abran_caballero': 1056, 'thorin': 16543, 'sandbox': 14362, 'careerbest': 3373, 'silverman': 14963, 'sarahksilverman': 14395, 'soundtrack': 15359, 'tracey': 16860, 'ullman': 17205, 'teemo': 16250, 'shield': 14830, 'bytorrecilla': 3178, 'torrecilla': 16810, '600000': 709, 'transwomen': 16914, 'drag': 5327, 'butch': 3144, 'eac4au': 5513, 'preorder': 13043, '915': 878, 'incompet': 8398, 'fri': 6726, 'ravioliåêwith': 13506, 'porcini': 12931, 'ricottaû_': 13917, 'oliviamiles01': 12058, 'davidjordan88': 4705, 'stephanenni': 15643, 'particular': 12455, 'trollkratto': 17001, 'juan': 9086, 'salvador': 14334, 'champion': 3561, 'championsblackfoot': 3562, 'sweetpea': 16014, 'allot': 1422, 'brighten': 2966, 'raini': 13437, 'interven': 8583, 'vitess': 17654, 'buildup': 3079, 'jwalkerlyl': 9152, 'cracker': 4327, 'protestor': 13186, 'skyscrap': 15088, 'plantcov': 12808, 'doco': 5207, 'setanta': 14694, 'ireland': 8651, 'freeview': 6707, 'eric': 5878, 'clapton': 3825, 'hyperbol': 8167, 'saintsfc': 14304, 'rio2016': 13947, 'runjewel': 14209, 'loveislov': 10126, 'cindi': 3778, 'noonancindynoonanheartbreak': 11736, 'yahistor': 18453, 'undergroundrailraod': 17245, 'embra': 5710, 'tier': 16618, 'dee': 4802, 'dum': 5445, 'cloydriv': 3894, 'plenti': 12835, 'tosu': 16818, 'championship': 3563, 'evacid': 5962, 'amp163163million': 1523, 'contr': 4175, 'bhramabul': 2508, 'jewel': 8931, 'duo': 5462, 'invent': 8607, 'insomniac': 8522, 'wee': 17922, 'blutz10': 2733, 'justiceno': 9136, 'justicepeac': 9137, 'gmail': 7118, 'jasalhad': 8848, 'brianboru67': 2946, 'jimskiv92': 8958, 'hijinks1967': 7828, 'ryleedowns02': 14248, 'nevaehburton33': 11519, 'venezuela': 17530, 'grû_': 7347, 'davidolszak': 4707, 'aelinrhe': 1186, 'mascara': 10481, 'smear': 15171, 'nffc': 11577, 'wesley': 17967, 'verhoek': 17541, 'dontpan': 5261, 'georgous__': 6997, 'halljh1720': 7487, 'indict': 8428, 'pointû_': 12879, 'usamisan': 17400, 'uknew': 17200, 'insurers163million': 8547, 'fa07af174a71408': 6106, 'rubbl': 14186, 'shovel': 14894, 'expirehc': 6047, 'chinaûª': 3691, 'forb': 6568, 'churchil': 3763, 'redesign': 13633, 'crazyideascolleg': 4356, '360wisenew': 513, 'rebound': 13587, 'dû_': 5510, 'jasonpope2': 8854, 'johnfugelsang': 9003, 'jun': 9114, 'yemeni': 18500, 'sanûªa': 14389, 'forbesasia': 6570, 'buscemi': 3129, 'firefightr': 6402, 'fame': 6160, 'workd': 18246, '12hr': 155, 'diggin': 5043, 'wtc': 18352, 'lookg': 10076, 'p2': 12321, 'tnn': 16701, 'roimentor': 14051, 'yycwalk': 18589, 'postapocalypticflimflam': 12955, 'okgabby_': 12032, 'suh': 15850, 'carpool': 3403, 'uncomfort': 17231, 'smoker': 15187, 'chrisdyson16': 3730, 'mta': 11194, 'sorrybutitstru': 15342, 'yuppi': 18581, 'tourist': 16832, 'unhappi': 17276, 'savannahross_4': 14435, 'terrif': 16310, 'wordk': 18242, 'zmne': 18651, 'intent': 8559, 'masterpiec': 10500, 'foo': 6553, '9tarbox': 924, 'sour': 15361, 'freezerdummi': 6710, 'connormidd': 4138, 'greedi': 7280, 'fullscreen': 6799, 'censorship': 3517, 'juliechen': 9105, 'clnv_': 3877, 'reboot': 13586, 'belair': 2400, 'cervix': 3536, 'odel': 11958, 'ctaztrophe31': 4467, 'sandstorm': 14368, 'swallow': 15991, 'hienshi': 7808, 'gbay99': 6946, 'dumb': 5447, 'darud': 4675, 'eastûª': 5544, 'layer': 9706, 'grit': 7318, 'woo': 18231, 'hoo': 7976, 'booz': 2821, 'socialwot': 15259, 'globi_inclus': 7103, 'nrc_middleeast': 11828, 'caravan': 3359, 'zaatari': 18597, 'sundercr': 15888, 'merg': 10694, 'betweensong': 2483, '15th': 203, 'woodland': 18236, '3430pm': 504, '4306pm': 590, 'villicanaalicia': 17610, 'airhorn': 1283, 'ahahahga': 1250, 'infinitegrace7': 8469, 'sidjsjdjekdjskdjd': 14932, 'godof_mischief_': 7141, 'loki': 10043, 'dagger': 4579, 'mina': 10846, 'sif': 14936, 'pandora': 12390, 'microchip': 10782, 'tbh': 16187, 'steven': 15661, 'upstair': 17367, 'mogacola': 11004, 'zamtriossu': 18611, 'chonc': 3709, 'cryibg': 4451, 'loudest': 10116, 'higuain': 7823, 'offsid': 11992, 'jare': 8844, 'cortezera': 4245, 'mommi': 11027, 'brook': 3007, 'dislik': 5116, 'femnism': 6290, 'twentysix': 17121, 'cedarglade2015': 3504, 'asb': 1837, 'fierc': 6341, 'cheat': 3620, 'vent': 17534, 'txt': 17148, '1d': 306, 'wwa': 18370, 'oamsgajagahahah': 11911, 'laighign': 9593, 'real_liam_payn': 13550, 'addtexastonext1dtour': 1149, 'thatwitchem': 16369, 'emmachosenon': 5734, 'jessienovoarp': 8920, 'jessie_novoa_': 8918, 'liana_novoa': 9838, 'hond': 7964, 'toddyrockstar': 16721, 'gt_lt': 7353, 'slsp': 15146, 'encor': 5764, 'quiet': 13360, 'phandom': 12666, 'fangirl': 6182, 'mannequin': 10378, 'camilacabello97': 3276, 'jariana': 8845, 'bizzlemahomi': 2616, 'estellasreveng': 5918, 'swime': 16022, 'smelltast': 15173, 'mariahcarey': 10421, 'lhh': 9834, 'noahshack': 11689, 'harsh': 7586, 'tyleroakley': 17152, 'scalpium': 14465, 'camila': 3275, 'spree': 15497, 'stvmlli': 15798, 'safferoonicl': 14290, 'chord': 3717, 'funnydadcoach': 6819, '54': 672, 'missdaoh': 10920, 'idol': 8267, '22day': 393, 'wdym': 17890, 'kamkasteiiano': 9186, 'bluntedjayt': 2732, 'nochilllukeham': 11696, 'blanksocietyx': 2651, 'ahhhh': 1254, 'omgggg': 12075, 'trombonetristan': 17002, 'ooooohshit': 12125, 'ooohshit': 12124, 'danemillar1': 4630, '666': 739, 'worstoverdos': 18279, 'jaileen': 8787, 'himeruisu': 7845, 'shove': 14893, 'pillow': 12742, 'muffl': 11217, 'rhiannon': 13887, 'hungov': 8120, 'uhmmmm': 17193, 'tailor': 16096, 'kay': 9236, 'attach': 1946, 'drag0nking0201': 5328, 'screamsdont': 14535, 'animatron': 1602, 'echo': 5561, 'jimin': 8951, 'jasmin': 8849, 'realjaxclon': 13562, 'rli': 13984, 'itscream': 8714, 'saku_uchiha_': 14310, 'ya_boi_luk': 18450, 'saku': 14309, 'genit': 6974, 'heyot6': 7785, 'lawsonoffici': 9699, 'thankyou': 16358, '4tile': 632, 'zacb_': 18599, 'dell': 4853, 'win10': 18123, 'ollymursau': 12061, 'cultur': 4494, 'buddha': 3062, 'looney': 10080, 'tunesblak': 17082, 'griffin': 7311, 'mash': 10482, 'queenwendy_': 13347, 'anytim': 1664, 'wisdc': 18162, 'death2usa': 4759, 'harveymain': 7593, 'aaaa': 987, 'lem': 9778, 'roomr': 14095, 'oppos': 12146, 'powerwow': 12979, 'calabria': 3225, 'malta': 10352, 'hebrooon': 7705, 'formula': 6599, 'gabon': 6850, 'somalia': 15291, 'insight': 8519, 'ey': 6086, 'worldoil': 18260, 'subscript': 15821, '08062015': 52, 'alabamaquak': 1319, 'summari': 15860, 'marek1330': 10411, 'zar': 18612, 'cring': 4395, 'marek': 10410, 'toss': 16817, 'sa15t': 14262, 'speaker': 15410, 'qti': 13325, 'detectado': 4950, 'japì_n': 8842, '010156': 5, 'okinawa': 12034, 'm40': 10239, '10km': 97, 'jst': 9080, 'perfor': 12602, 'shear': 14800, 'sfor': 14729, 'seismicresist': 14614, '182245': 247, 'ibaraki': 8210, 'prefectur': 13033, 'of': 11961, 'm55': 10243, '60km': 713, 'benson': 2446, 'clegg': 3851, '0025': 3, 'kml': 9436, '2d': 446, '3d': 544, 'offshor': 11991, 'kakajambori': 9173, 'yor': 18531, '010217': 6, 'm38': 10237, 'ipa': 8629, 'radler': 13410, 'oilandga': 12020, 'seismicsoftwar': 14615, 'panoram': 12395, 'dogger': 5224, 'westward': 17983, 'regent': 13675, '8400': 835, 'metr': 10720, 'subcontractor': 15810, 'cgg': 3542, 'wû_': 18391, 'oddbal': 11956, '063243': 36, 'miyagi': 10947, 'beli': 2401, 'mrw': 11181, 'beneath': 2428, 'ifunni': 8279, 'goz': 7215, 'ru': 14181, 'coop': 4206, 'pond': 12909, 'lownd': 10140, 'georgia': 6994, 'sinkholeû_': 14998, 'occasion2b': 11937, '10new': 100, 'trolley': 16999, 'falmer': 6156, 'bethlehem': 2478, 'sixmet': 15039, 'crater': 4346, 'azimel': 2086, 'deceas': 4779, 'gape': 6898, 'ûïfdni': 18774, 'fdni': 6251, 'onscen': 12106, 'nycbuild': 11885, '150foot': 189, 'wctv35': 17880, 'yonew': 18530, 'accidentalpropheci': 1082, 'moorlandschmbr': 11071, 'algeria': 1382, 'lomasvisto': 10053, 'devour': 4980, 'intersectio': 8577, 'cadenadeseguidor': 3202, 'twit_san_diego': 17133, 'asphalt': 1881, 'saû_': 14453, 'sel': 14618, 'hinterestin': 7854, 'evansvil': 5968, 'usag': 17396, 'davidcovucci': 4703, 'wew': 17987, 'presinkhol': 13061, 'sewag': 14713, 'independent3': 8412, 'mtsalert': 11202, 'largeû_': 9648, 'afloat': 1204, 'pension': 12583, 'hogan': 7912, 'publicityalthough': 13236, 'supernovalest': 15920, 'jfc': 8938, 'unsign': 17326, 'youûªv': 18568, '3g': 546, 'abandonedp': 1006, 'abbandon': 1008, 'darsena': 4672, 'castello': 3436, 'scaligero': 14464, 'sirmion': 15017, 'hoke': 7914, 'versu': 17550, 'dfljev': 4987, 'currenc': 4515, 'transgress': 16906, 'paydayprison': 12517, 'ward': 17781, 'sinkingfund': 14999, 'payment': 12520, 'unsecur': 17324, 'jbumzqpk': 8872, 'onnnn': 12102, 'plank': 12803, 'sinkingshipindi': 15000, 'scarlet': 14474, 'lenor': 9793, 'saison': 14306, 'stonebrewingco': 15696, 'wooden': 18235, 'ûûif': 18820, 'onåå': 12114, 'gander': 6891, 'tna': 16699, 'appeas': 1703, 'morbid': 11076, 'destinationimpact': 4939, 'att': 1945, 'keurig': 9312, 'thirdquart': 16514, 'afterhour': 1215, 'wccorosen': 17877, 'lloyd': 9995, 'corycov': 4247, 'slipper': 15128, 'darkest': 4663, 'jota': 9059, 'ess': 5911, 'carb': 3360, 'consult': 4156, 'subconsci': 15809, 'xkdrx': 18424, 'lara': 9644, 'flesh': 6474, 'claw': 3835, 'mafia': 10285, 'edsheeran': 5598, 'tribe': 16966, 'ofnsixjk': 11996, 'corii': 4230, 'wishlist': 18167, 'ma3rout': 10249, 'imeshika': 8338, 'hapa': 7540, 'bumper': 3095, 'aar': 997, 'ambulancew': 1494, 'bonnieg434': 2796, 'piga': 12730, 'kijan': 9357, 'stacedemon': 15549, 'ibeyioffici': 8213, 'amateur': 1479, 'repris': 13781, 'horrormoviesca': 8008, 'j2bone': 8746, 'foxy__siren': 6644, 'weyrey_gidi': 17991, 'healingreviv': 7668, 'beckon': 2354, 'void': 17677, 'thisû_': 16527, 'whelen': 18022, '295ss100': 439, 'amplifi': 1529, 'siren_voic': 15012, 'liveonstream': 9970, 'frusciant': 6764, 'marriedfoxy__siren': 10463, 'jennif': 8900, 'aniston': 1603, 'ww2': 18368, 'dull': 5444, 'monoton': 11045, 'herei': 7765, 'hunterston': 8128, 'process': 13124, 'smithereen': 15182, 'tomarse99': 16739, 'signal': 14943, 'arenanon': 1758, 'firm': 6414, 'cybersecur': 4546, 'angelina': 1589, 'joli': 9024, 'sef': 14610, 'gameplaywalkthrough': 6885, 'optich3cz': 12155, 'askh3cz': 1876, 'elgato': 5667, 'bday': 2317, 'themayhoka_': 16436, 'longfoxy__siren': 10067, 'envyseven': 5830, 'aquariu': 1730, 'queenmi': 13344, 'pretens': 13074, 'overturespleas': 12298, 'songfor': 15310, 'pharma': 12670, 'siren_song21': 15011, 'buck': 3057, 'nsf': 11833, 'argu': 1770, 'dyersburg': 5499, 'heavydirtysoul': 7701, 'serephina': 14676, 'la_siren': 9570, 'vvorm': 17719, 'fgcu': 6321, 'soonermagic_': 15326, 'indyfest': 8445, 'breachgamingorg': 2914, 'fevwarrior': 6312, 'screech': 14536, 'accompani': 1086, 'warp': 17797, 'toni': 16761, 'attila': 1957, '012032': 12, 'gmt0000': 7123, 'millcityio': 10837, '20150613': 342, 'theramin': 16454, 'raychielovesu': 13511, 'sirensamp': 15013, 'lemonad': 9782, 'semi': 14637, 'segment': 14612, 'vh': 17560, 'antholog': 1635, '_dangdaddi': 941, 'thinner': 16512, 'awn': 2069, 'sirensicebreak': 15014, 'divers': 5159, 'kiro7seattl': 9410, 'dill': 5052, 'pickl': 12717, 'marketforc': 10442, 'perth': 12633, 'winner': 18148, 'iinet': 8297, 'nbn': 11440, 'travelelixir': 16926, 'helo': 7737, 'goooooooo': 7182, 'midfield': 10793, 'soner': 15308, 'sonison': 15316, 'hakogaku': 7471, 'åêi': 18694, 'rais': 13442, 'gunfir': 7399, 'ik4len': 8305, 'abc7eyewit': 1019, 'hometownglori': 7957, 'connor': 4136, 'franta': 6670, 'howel': 8047, 'gostei': 7198, 'um': 17212, 'vì_deo': 17722, 'christinartnd': 3744, 'postcard': 12958, 'polaroid': 12886, 'marketforceûª': 10443, 'ûïcat': 18770, 'sharkû': 14783, 'cher': 3643, 'vai': 17466, 'vir': 17630, 'pra': 12998, 'halfhourhotel': 7478, 'edgarsgift': 5580, 'lifeaintfairkid': 9861, 'brooo': 3012, 'blunt': 2731, 'snoop': 15224, 'colli': 3994, 'buddz': 3064, 'alot': 1439, 'hmmm': 7897, 'nake': 11354, 'radneck': 13411, 'kidney': 9347, 'sidelinesavag': 14929, 'crqck': 4433, 'becym': 2360, 'mayor': 10551, 'foursquar': 6628, 'burp': 3124, 'youngin': 18548, 'pianohand': 12711, '55436': 683, '1950': 280, 'locomot': 10031, 'magnetract': 10300, 'instruct': 8542, 'sammysosita': 14351, 'cigg': 3775, 'toooooo': 16780, 'bck': 2310, 'thetshirtkid': 16482, 'trynna': 17047, 'tj': 16679, 'billmccab': 2564, 'austin': 1997, 'cig': 3772, 'tray': 16929, 'bre_morrow': 2912, 'josi': 9058, 'splif': 15468, 'mentaltwitt': 10685, 'teamatowinn': 16213, 'mino': 10876, 'comma': 4043, 'snowstorm': 15235, '36x36': 518, 'manuel': 10389, 'accuraci': 1093, 'chann': 3577, '3am': 542, 'pajama': 12352, 'sorryi': 15343, 'desk': 4929, 'rtirishirr': 14176, 'mchapmanwsaz': 10574, 'wsaz_brittani': 18344, 'kellyannwx': 9279, 'sassi': 14405, 'hunk': 8124, 'smoki': 15189, 'aom': 1671, 'ibooklov': 8219, 'bookboost': 2804, 'groupon_uk': 7330, 'treeporn': 16940, 'purifi': 13277, 'pale': 12362, 'moonlight': 11068, 'lalaloopsi': 9600, 'sunburst': 15883, 'june': 9116, 'seashor': 14568, 'sweater': 16004, 'spice': 15442, 'habbo': 7435, 'tic': 16610, 'tac': 16078, 'matchwood': 10507, 'dirk_trossen': 5074, 'snowstormhailstorm': 15237, 'ûïlordbrathwait': 18787, 'growingupincoloradoû': 7335, 'cacheadv': 3198, 'freddi': 6682, 'sippin': 15005, 'ûïmake': 18791, 'stopû': 15706, 'amssumm': 1540, 'pyrbliss': 13304, 'longll': 10069, 'benjamin': 2439, 'franci': 6663, 'leftwich': 9750, 'treescap': 16941, 'boe': 2761, '737': 784, 'takeoff': 16109, 'cockpit': 3941, 'atc': 1917, 'mothernaturenetwork': 11120, 'thundersnow': 16593, 'uncommon': 17232, 'lakeeffect': 9596, 'twill': 17127, 'denim': 4887, 'goû_': 7216, 'boi': 2763, 'heûª': 7789, 'ûïsippinûª': 18800, 'lame': 9605, 'prablematicla': 13001, 'adweek': 1183, 'snowstormdespit': 15236, '358': 508, 'gamefe': 6880, '3inspir': 547, 'videogam': 17593, 'trooper': 17004, 'bobbl': 2750, 'funko': 6813, 'kesabaran': 9306, 'membuahkan': 10665, 'hasil': 7601, 'indah': 8407, 'pada': 12338, 'saat': 14267, 'tepat': 16298, 'jenniferarri_': 8902, 'comeeee': 4036, 'tonyhsieh': 16772, 'anonym': 1625, 'vortex': 17697, 'catcher': 3450, 'stormfre': 15714, 'eventspalmbeach': 5976, 'hobbi': 7903, 'ama': 1471, 'sportinggood': 15486, 'hawaiianpaddlesport': 7627, 'lulu': 10190, 'mypillowstudio': 11318, 'johngreen': 9004, 'robthier_en': 14021, 'slight': 15120, 'twcnew': 17109, 'ncwx': 11444, 'calgarian': 3236, 'finna': 6388, 'boutta': 2852, 'tstorm': 17053, '345pm': 505, 'sara': 14393, 'nasahurrican': 11378, 'hilda': 7834, 'thû_': 16602, 'lesley_mariie': 9802, 'pt4': 13226, 'todayûª': 16716, 'tomorrowûª': 16756, 'bask': 2253, 'warmth': 17791, 'bliss': 2677, 'stretcher': 15751, 'coach_keith44': 3922, 'hannomottola': 7536, 'trpreston01': 17020, 'mlrydalch': 10960, 'lumbar': 10191, 'invalid': 8605, 'graze': 7268, 'rexyy': 13876, 'towel': 16839, 'ou_wbbal': 12237, 'ferno': 6299, 'inspect': 8524, 'ofentse_tsi': 11965, 'fujiwara': 6789, 'shunichiro': 14914, 'pllolz': 12839, 'witter': 18177, 'veggi': 17521, 'homemad': 7952, 'yogurt': 18527, '1pack': 312, '2pack': 464, '3pack': 555, 'fleek': 6471, 'ûïstretcher': 18802, 'deckû': 4789, 'capoeira': 3344, 'stretcherbear': 15752, 'mxaaaa': 11304, 'shaper': 14775, 'width': 18085, 'niqqa': 11651, 'daretotaha': 4659, 'foreskin': 6582, 'virgin': 17635, 'galact': 6867, 'spaceship': 15391, 'copilot': 4215, 'brake': 2892, 'spacex': 15393, 'founder': 6626, 'musk': 11271, 'lizbon': 9982, 'kidicalmassdc': 9344, 'breakdown': 2918, 'failureû_': 6134, 'rightway': 13934, 'rightwaystan': 13935, 'sirtitan45': 15019, 'excess': 6012, 'topdown': 16789, 'coercion': 3955, 'coû_': 4313, '9058778591': 868, 'ct': 4464, 'ntsb': 11840, 'spaceshiptwo': 15392, 'kpcc': 9499, 'sirtophamhat': 15020, 'scynic1': 14554, 'nafeezahm': 11344, 'jeremydun': 8905, 'shortfal': 14883, 'sabcnewsroom': 14268, 'sabotagei': 14269, 'catoinstitut': 3458, 'deepli': 4812, 'slum': 15147, 'citizen': 3796, 'discours': 5100, 'confound': 4123, 'stopevict': 15702, 'whvholst': 18071, 'leashless': 9730, 'soc': 15249, 'illog': 8314, 'virg': 17633, 'foxnewsinsid': 6639, 'vest': 17552, 'rembr': 13727, 'bestnaijamad': 2470, '16yr': 223, 'bomber': 2784, 'beû_': 2494, 'alfapedia': 1377, 'trenchû_': 16950, 'msoreo_': 11191, 'hom': 7939, 'zaman': 18610, 'alwsl': 1467, 'hashd': 7597, 'shaabi': 14736, 'theft': 16416, 'llll': 9994, 'grupdat': 7345, '19th': 302, '17jul2015': 238, '64': 728, 'timesap': 16645, 'mercado': 10689, 'tripoli': 16991, 'explosivesrig': 6059, 'compound': 4086, 'josephjett': 9045, 'saudiarabia': 14425, 'canadasuicid': 3296, 'sûªarabia': 16064, 'aseer': 1842, 'southwestern': 15379, 'deai': 4751, 'saudiåêmosqu': 14426, 'bbclaurak': 2291, 'stow': 15718, 'aboard': 1046, 'noahj456': 11688, 'sticki': 15674, 'thursd': 16598, 'taught': 16171, 'piraci': 12766, 'slaveri': 15104, 'suicidebomb': 15853, 'pure': 13276, 'reoccur': 13759, 'suruì': 15959, 'airstrik': 1291, 'kurdistan': 9542, 'daisycuttertz': 4589, 'grogparti': 7323, 'tony_burk': 16768, 'imam': 8333, 'sonofbobbob': 15318, 'shimmyfab': 14836, 'trickxi': 16977, 'rooftop': 14090, 'rightli': 13932, 'despic': 4934, 'ocalan': 11934, 'marxism': 10477, 'offshoot': 11990, 'premonit': 13041, 'jewhaditm': 8933, 'kurdish': 9541, 'rebecca': 13579, 'roga': 14041, 'hama': 7494, 'eg': 5620, '361': 514, 'infograph': 8474, 'suruc': 15958, 'saadth': 14264, 'kpdi': 9500, '2007he': 332, 'kppolic': 9502, 'kabul': 9160, 'rayquazaerk': 13515, 'confess': 4117, 'haji_hunter762': 7469, 'middleeastey': 10791, 'muzzi': 11293, 'payback': 12515, 'erdogan': 5872, 'socialist': 15253, 'shareahol': 14778, 'nbcpolit': 11438, '911bomb': 875, 'barrack': 2229, 'harakiri': 7549, 'mordechai': 11078, 'yehuda': 18493, 'friedman': 6731, 'ramat': 13453, 'beit': 2398, 'shemesh': 14816, 'marlen': 10452, 'menahem': 10677, 'moshav': 11111, 'safsufa': 14291, 'absenc': 1058, 'interact': 8560, 'sunk': 15890, 'backti': 2121, 'frontin': 6754, 'jeepåêsunk': 8886, 'tint': 16660, 'bumpin': 3096, 'steamship': 15629, 'shatter': 14789, 'visag': 17640, 'aquarium': 1731, 'ornament': 12194, 'aphyr': 1687, 'longû_': 10072, 'somethinûª': 15300, 'crest': 4385, 'harshli': 7587, 'b5': 2100, 'fuso': 6832, 'yamashiro': 18468, 'cachet': 3199, 'blaaaaaaa': 2625, 'stomach': 15694, 'resolutevan': 13817, 'marr': 10460, 'primal': 13089, 'codemew': 3948, 'sunkû_1': 15894, 'mil': 10818, 'sideû_': 14931, 'pullû_oneû_y': 13252, 'yup': 18580, 'saintrobinho86': 14303, 'untameddirewolf': 17336, 'sansa': 14383, 'benaffleck': 2424, 'stil': 15677, 'mraffleck': 11169, 'arrestpastornganga': 1805, 'collabor': 3985, 'time4me_sew': 16639, 'lonely': 10058, 'courtûª': 4293, 'reput': 13786, 'prestig': 13070, 'prosser': 13178, 'resoluteshield': 13816, 'shekhargupta': 14808, 'mihirssharma': 10812, 'trp': 17019, 'adsit': 1169, 'mockeri': 10983, 'bonhomme37': 2793, 'unrealtouch': 17318, 'silverstar58200': 14964, 'romero': 14073, 'hutch': 8145, 'mlk': 10957, 'gianni': 7035, 'submerg': 15815, 'hank': 7528, 'offspr': 11994, 'precondit': 13025, 'lucypalladino': 10177, 'ish': 8676, 'ayhhhhhdjjfjrjjrdjjek': 2079, 'martial': 10468, 'forex': 6587, 'thruuu': 16584, 'tootru': 16786, 'dorrian': 5285, 'elitist': 5680, 'thomassmonson': 16536, 'ld': 9715, 'mormon': 11092, 'chim': 3688, 'gloria': 7107, 'gaynor': 6936, 'oktaviana': 12040, 'devi': 4969, 'captor': 3351, 'wildlook': 18103, 'reclus': 13601, 'stylishli': 15802, 'teamsurvivor': 16225, 'zombiefunrun2014': 18656, 'mochichiiiii': 10981, 'hikagezero': 7829, 'ww': 18366, 'ddnewsliv': 4736, 'nitishkumar': 11658, 'arvindkejriw': 1829, 'narendramodi': 11371, 'adriennetomah': 1168, 'autoinsur': 2017, 'clueless': 3899, 'driverless': 5374, 'healthinsur': 7673, 'driverlesscar': 5375, 'superpow': 15921, '2025': 354, 'buchana': 3055, 'navig': 11423, 'fastest': 6210, 'thedailyshow': 16401, 'mahalo': 10307, 'nui': 11855, 'loa': 10007, 'holomua': 7935, 'thoutaylorbrown': 16551, 'drawn': 5344, 'taaylordarr': 16073, 'scofield': 14508, 'hotbox': 8022, 'sona': 15306, 'miracl': 10889, 'mankind': 10375, 'thesmallclark': 16474, 'berlin': 2457, 'daubt': 4688, 'chubychux': 3755, 'rjkrraj': 13982, 'karnakarank': 9212, 'vimvith': 17612, 'wud': 18360, 'thalapathi': 16352, 'cain': 3216, 'session': 14692, 'klitschko': 9431, 'mute': 11284, 'makinmemori': 10333, '2am': 443, '390': 529, 'bonsai': 2798, 'natgeo': 11397, 'tsutomi': 17057, 'yamaguchi': 18467, 'otd': 12215, '12step': 161, 'chronicil': 3751, 'mylifestori': 11315, 'livin': 9976, 'zoom': 18660, 'pow': 12973, 'pixeljanosz': 12784, 'angelheartnight': 1588, 'thr': 16552, 'thrarchiv': 16554, '1928': 269, 'duchovbutt': 5430, 'starbuck_sculli': 15589, 'madmakni': 10279, 'davidduchovni': 4704, 'ritual': 13966, 'ûïbbcwomanshour': 18766, 'setsuko': 14699, 'thurlow': 16597, 'cafe': 3207, 'tricycl': 16978, 'patientreport': 12483, 'outcom': 12252, 'metastat': 10713, 'colorect': 4016, 'humanityi': 8100, 'survivorsr': 15966, 'sojapan': 15274, 'nuclearweapon': 11849, 'coppednew': 4217, 'haunt': 7619, 'kotowsa': 9492, 'sudanûª': 15836, 'mithitenni': 10939, 'crackedgem': 4326, 'molecularli': 11013, 'lungcanc': 10201, 'hurl': 8131, 'arovolturi3000': 1801, 'fedporn': 6266, 'absurd': 1064, 'satir': 14415, 'indistinguish': 8435, 'ûfaceless': 18719, 'sisterûª': 15025, 'shanghai': 14763, 'ghetto': 7027, 'reunit': 13852, 'netflix': 11508, 'documentari': 5212, 'narrat': 11373, 'parter': 12451, 'lawfulsurvivor': 9695, 'tdog': 16202, 'glenn': 7091, 'andrea': 1574, 'jacqui': 8775, 'merl': 10695, 'cub': 4477, 'arizzo44': 1783, 'jlester34cub': 8972, 'haley': 7473, 'lu': 10166, 'richardson': 13901, 'remembr': 13732, 'quran': 13375, 'news786uk': 11550, 'islamist': 8686, 'anjem': 1604, 'choudari': 3721, 'robpulsenew': 14019, 'huyovoetripoly': 8146, 'phillip': 12691, 'ldnrterrorist': 9716, 'preacher': 13018, 'democracyûª': 4871, 'dawabsha': 4716, 'homegrown': 7948, 'omega': 12071, 'religion': 13717, 'rayner': 13513, 'newsarama': 11551, 'crossbord': 4418, 'redhand': 13634, 'ctd': 4468, 'orangi': 12166, 'counterterror': 4279, 'sindh': 14986, 'diretub': 5071, 'fightåêterror': 6354, 'muslimsterror': 11274, 'catholicismhomophobia': 3455, 'protost': 13188, 'dh': 4990, 'chattanooga': 3615, 'ûislam': 18731, 'terrorismûª': 16316, 'if': 8275, 'and': 1567, 'but': 3143, 'beinart': 2394, 'adamniblo': 1137, 'uniti': 17295, 'allianc': 1416, 'assad': 1884, 'apprais': 1713, 'pakistanûª': 12358, 'antiterror': 1649, 'nave': 11421, 'lubric': 10168, 'metrofmtalk': 10724, 'officialmqm': 11982, 'convivt': 4196, '1n': 309, 'moham': 11005, 'pulwama': 13255, 'jampampk': 8816, 'nia': 11593, 'quizz': 13368, 'achedin': 1104, 'bjpsamvad': 2619, 'warra': 17799, 'rahulkanw': 13422, 'jammu': 8814, 'disown': 5129, 'kasab': 9216, 'anû_': 1668, 'kasabw': 9217, 'biryani': 2594, 'shipsxanchor': 14843, 'idek': 8251, 'swiftycommissh': 16020, 'taoistinsight': 16146, 'immortaltech': 8349, 'tht': 16585, 'killin': 9370, 'mccainûª': 10562, 'whoop': 18066, 'isisû_': 8681, 'acmilan': 1109, 'haaretz': 7434, 'overnight': 12285, 'udhampuragain': 17178, 'lovemywife1983': 10130, 'shedid': 14803, '4the': 631, 'washard': 17816, 'traitor': 16891, 'alipap': 1393, 'keepingtheviginaclean': 9266, 'threatconnect': 16557, 'dfir': 4986, 'threatintel': 16559, 'burger': 3108, 'newscomauhq': 11555, 'kinggerudo_': 9397, 'moblin': 10980, 'hed': 7707, 'duh': 5440, 'ûbritish': 18712, 'schismûª': 14490, 'privaci': 13106, 'bhusa': 2509, 'jihad': 8946, 'ûïall': 18763, 'islamaphob': 8685, 'dmassa5': 5192, 'drakeûª': 5334, 'wedgi': 17916, 'illusoria': 8319, 'icaru': 8223, 'playingnow': 12819, 'bloodbound': 2696, 'kristyleemus': 9510, 'devinjoslyn': 4975, 'atl_ev': 1928, 'convect': 4188, 'nlwx': 11676, 'lightumupbeast': 9888, 'originalfunko': 12190, 'spencer': 15433, 'waldo': 17752, '12u': 163, 'cooperstown': 4208, 'joestrong': 8989, 'gokitgo': 7150, 'heheh': 7714, 'uptown': 17370, 'midtown': 10803, 'cn': 3907, '8960': 853, 'driller': 5365, 'torrenti': 16812, 'soothmyslumb': 15333, 'watermeloann': 17840, 'populardemand': 12928, 'thewebbeffect19': 16487, 'wc': 17875, 'weebli': 17923, 'l9udest': 9568, 'asimtanvir': 1869, 'nemesisk_p': 11489, 'kevr_7': 9316, 'sheet': 14806, 'aaaaaand': 989, 'mama': 10354, 'leonalewi': 9797, 'essenceofm': 5912, 'gloomi': 7105, 'wthat': 18355, 'durant': 5467, 'nba': 11430, 'adida': 1152, 'swingman': 16024, 'rumbl': 14201, 'haydnexist': 7632, 'didnûªt': 5025, '1030pm': 79, 'lorr': 10099, 'noah': 11685, 'usnwsgov': 17423, '1040pm': 85, '931pm': 890, '1015pm': 74, 'oun': 12240, 'lincoln': 9908, '1038pm': 82, 'museawayf': 11262, 'beenghost': 2368, 'xylodemon': 18448, 'rachelrof': 13398, '536': 669, 'oklahomaok': 12038, '1030': 78, 'buren': 3106, 'inw': 8623, 'spsgsp': 15504, '1040': 83, '1115': 113, 'picken': 12715, '400': 564, 'cest': 3539, '68': 746, 'fforecast': 6319, '61': 718, '933pm': 891, 'skywarn': 15090, 'russellvil': 14227, 'clarksvil': 3829, 'dardanel': 4657, '1015': 73, 'livingsaf': 9978, 'vivaargentina': 17655, 'pea': 12539, 'choctaw': 3703, 'lethbridg': 9814, '05th': 31, '2029': 355, 'mdt': 10588, '1145': 123, 'helsinki': 7745, 'lightningstrik': 9884, 'helsinkiû_': 7746, '935': 892, 'mainli': 10316, 'cloudi': 3891, 'ocd': 11943, 'soonergrunt': 15325, 'brrookkllyynnr': 3027, 'tornadogiveaway': 16805, 'thebookclub': 16389, 'ticklemeshawn': 16613, 'evebrigid': 5972, 'lili': 9896, 'xo': 18431, 'cowgirl': 4301, 'courtney': 4291, 'laudner': 9675, 'teas': 16231, 'panti': 12400, '73rd': 786, '912pm': 877, '945pm': 895, 'sundayûª': 15887, 'skye': 15080, 'horni': 7997, 'juici': 9099, '829pm': 829, '915pm': 879, 'lexi': 9823, 'sakhalintribun': 14308, 'eastward': 5543, 'superman': 15917, 'slowpok': 15142, 'poc': 12867, 'thunderstormtornado': 16595, 'woken': 18209, 'kunalkapoor': 9536, 'chaser': 3613, 'pod': 12871, 'heather': 7694, 'ava': 2026, 'sparxxx': 15406, 'threesom': 16564, 'brunett': 3033, 'victorian': 17584, 'sofa': 15267, 'rebelmage2': 13583, 'heller': 7727, 'marley': 10453, 'brinx': 2974, 'stripteas': 15762, 'condens': 4106, 'villa': 17605, 'mcv': 10585, 'subtornado': 15829, 'ayshun_tornado': 2080, 'gisel': 7069, 'cbcca': 3477, 'endû_': 5778, 'toocodtodd': 16775, 'wyattb23': 18386, '20homer': 364, 'tulowitzki': 17073, 'hayden': 7631, 'pose': 12947, 'recount': 13613, 'timesofindia': 16648, 'soulja': 15354, 'maaaaan': 10250, 'greater': 7273, 'comfort': 4038, 'ûïwhen': 18810, 'plung': 12850, 'redempt': 13632, 'platt': 12815, 'forû_': 6614, 'homeworldgym': 7959, 'thisisperidot': 16523, 'monica': 11039, 'wm': 18189, 'lewi': 9822, 'ûvulnerableûª': 18751, 'toiindianew': 16728, 'ofcours': 11964, 'cau': 3463, 'tanehisico': 16134, 'lace': 9578, 'monologu': 11043, 'charliz': 3599, 'coulda': 4267, 'tbr': 16190, 'brows': 3024, 'gr': 7224, 'homepag': 7954, 'sriramk': 15533, 'dlin71': 5187, 'ownership': 12314, 'itss_selenaluna': 8720, 'gagnon': 6859, 'marriag': 10462, 'myû_': 11331, 'heartach': 7681, 'hirochii0': 7863, 'ariana': 1777, 'csaresu': 4456, 'leitchfield': 9777, 'bella': 2407, 'rosali': 14104, 'rescueadoptionloc': 13796, 'homessponsorship': 7955, 'almusafirah_': 1435, 'innit': 8505, 'prettyboyshyflizzi': 13076, 'chile': 3682, 'onihimedesu': 12096, 'manga': 10367, 'triangl': 16963, 'tween': 17112, 'salut': 14333, 'battleroyalemod': 2276, 'teleport': 16264, 'somewher': 15303, 'blakeschmidt': 2646, 'eudrylantiqua': 5942, 'holli': 7923, 'rv': 14235, 'santiago': 14387, 'hollyw': 7928, 'remodel': 13736, 'dramaa_llama': 5337, 'lilourri': 9900, 'zarri': 18615, 'narri': 11374, 'newsdict': 11556, 'boyinahorsemask': 2871, 'panda': 12383, 'nz': 11903, 'hugomatz': 8095, 'lilithsaintcrow': 9898, 'lavenderpoetrycaf': 9692, 'encod': 5763, 'sensori': 14653, 'cognit': 3959, 'qz': 13378, 'taraswart': 16150, 'vivian_giang': 17657, 'nissannew': 11653, '2car': 445, 'a1a': 975, 'bing': 2575, 'raabchar_28': 13388, 'drphil': 5398, 'morganlawgrp': 11090, 'selfinflict': 14628, 'dimens': 5055, 'agdq': 1228, 'kororinpa': 9483, 'marbl': 10404, 'tloz': 16689, 'oracl': 12161, 'metroid': 10725, 'crazyindapeg': 4357, 'vets78734': 17557, 'ptsdchat': 13231, 'eshop': 5898, 'ptsd_chat': 13230, 'eightynin': 5633, 'afflict': 1197, 'extraordinair': 6081, 'rosenthalauthor': 14110, 'gravitychat': 7262, 'ashghebrani': 1855, 'transgener': 16905, 'thetimepast': 16481, 'saalon': 14265, 'resolv': 13818, 'fricken': 6727, 'hempoil': 7748, 'cannabi': 3313, 'marijuanaû_': 10429, 'intragener': 8590, 'sandra': 14366, 'bland': 2649, 'haircut': 7462, 'minim': 10867, 'arobotlegion': 1798, 'unaddress': 17219, 'keithboykin': 9270, 'randallpinkston': 13462, 'pozarmi': 12981, 'anywher': 1666, 'foam': 6530, 'foamcc': 6531, 'partial': 12453, 'mustachemurs': 11276, 'dateswhitecoat': 4684, 'simmer': 14967, 'concuss': 4104, 'pioneerpress': 12759, 'richmond': 13906, 'uchicago': 17175, 'faculti': 6126, 'perpetr': 12620, 'oneborn': 12086, 'sadtraumatis': 14282, 'parisian': 12433, 'ruddyyyyyy': 14191, 'jamiegriff97': 8810, 'jami': 8809, 'properli': 13166, 'annmarieronan': 1616, 'niamhosullivanx': 11598, 'tat': 16166, 'flashback': 6454, 'pyramidhead76': 13303, 'ianokavo96': 8205, 'orphanag': 12197, 'mprnew': 11166, 'yessum': 18506, 'perkpearl': 12612, 'vienna_butch': 17597, 'wrongdejavu': 18336, 'malabamiandson': 10338, 'disneyirh': 5123, 'snapchatselfi': 15209, 'wrongperson': 18337, 'emily4everev': 5726, 'alrightbut': 1449, 'jude_mugabi': 9090, 'ûï_keit': 18759, 'liva_gotta': 9959, 'understandû': 17251, 'ciaramckendri': 3768, 'renew': 13750, 'vickybrush': 17576, 'topic': 16791, 'kushwush': 9548, 'hog': 7911, 'cwheat': 4541, 'megancoopi': 10643, 'laurathorne97': 9683, 'argentaelit': 1765, 'brookesddl': 3008, 'varagesal': 17499, 'candace_dx': 3304, 'leftlean': 9747, 'learni': 9729, 'lucysforsal': 10178, 'afrikaan': 1211, 'thebargain': 16383, 'canag': 3299, 'badastronom': 2132, 'farther': 6204, 'noel': 11699, 'smoak_queen': 15185, 'jusstdoitgirl': 9127, 'wbu': 17874, 'comcastcar': 4032, 'hap': 7539, 'annajhm': 1609, 'jcomans': 8874, 'paul_staub': 12502, 'rslm72254': 14165, 'blanktgt': 2652, 'mustv': 11282, 'fartanxieti': 6203, 'boyd': 2868, 'detroitnew': 4960, 'strawberri': 15735, 'ûïymcglaun': 18811, 'juliekragt': 9107, 'wildwestsixgun': 18104, 'wayûyeah': 17866, 'stabl': 15546, 'buffett': 3070, 'sector': 14591, 'caaaaaall': 3190, 'troubleniallhariss': 17012, 'simply_vain': 14973, 'cspan': 4459, 'nikki': 11638, '_charleyisqueen': 939, 'barber': 2215, 'kerrykatona7': 9305, 'bak': 2161, 'tj_robertson2': 16680, 'charlieputh': 3598, 'nkulw': 11671, 'astro': 1907, 'stunningli': 15793, 'mia': 10760, 'princeoffenc': 13095, 'frickin': 6728, 'donnelli': 5254, 'puth': 13292, 'nopow': 11745, 'helene_yancey': 7721, 'godslov': 7143, 'thanku': 16357, 'freefromwolv': 6699, 'danni': 4643, 'baan': 2103, 'thai': 16350, 'sushi': 15972, 'bbshelli': 2304, 'crptotech': 4432, 'bitco': 2603, 'blockchain': 2689, 'switzerland': 16027, 'speech': 15427, 'dvbb': 5483, 'borgeou': 2827, 'arceen': 1744, 'tsunami_esh': 17055, 'esh': 5897, 'tsunami_nopeach': 17056, 'slone': 15133, 'author_mik': 2006, 'amen': 1498, 'uncertain': 17227, 'kamunt': 9190, 'nostalgia': 11782, 'youuu': 18562, 'campanha': 3282, 'brinco': 2971, 'beacon': 2324, 'greenlacey': 7287, 'eric_tsunami': 5880, 'alil': 1392, 'twister': 17131, 'gail': 6862, 'russel': 14226, 'dalroy': 4598, 'shania': 14765, 'ûnotherû': 18740, 'otherû': 12221, 'tonguetwist': 16760, '950': 898, 'todayim': 16711, 'bitchrun': 2602, '1061': 89, '1061thetwist': 90, 'maddi': 10272, 'tae': 16087, 'oktxduo': 12041, 'homefolk': 7947, 'omw': 12078, 'friend59': 6734, 'sharper': 14785, 'viper': 17628, 'hardsid': 7568, 'telli': 16266, 'edcxo': 5574, 'dunk': 5461, 'sarahmcp': 14396, 'justjon': 9145, 'titti': 16676, 'outbid': 12247, 'catlow': 3457, 'c720': 3186, 'swivel': 16028, '3dc': 545, 'shar': 14776, 'oneself': 12092, 'discount': 5099, 'itrawcwb': 8711, 'riser': 13961, 'dierk': 5032, 'bentley': 2448, 'iheartradio': 8291, 'bulgarian': 3082, 'noemot': 11700, 'edk': 5588, 'pathfind': 12479, 'ellenfromnowon': 5688, '7speed': 812, 'nexu': 11575, 'shifter': 14833, 'å9': 18683, 'toosoon': 16782, 'friend50': 6733, 'briannafrost': 2947, 'paxton': 12513, 'carolinagutierr': 3396, 'hew': 7779, 'woodchuck': 18233, 'nino': 11648, 'boost': 2816, 'elianaraquel': 5669, 'gg': 7018, 'wilden': 18095, 'llegast': 9992, 'tu': 17063, 'm6x100': 10244, 'thread': 16555, 'rodarmer21': 14037, 'dolla': 5233, 'potter': 12966, 'mrsbinker': 11179, 'emiliorivera48': 5725, 'davidlabrava': 4706, 'diesel': 5033, 'breed': 2933, 'pug': 13243, 'thebuffshow': 16395, 'thetwisterokc': 16483, 'shaniatwain': 14766, 'twisterlovesshania': 17132, 'curl': 4512, 'laura': 9680, 'miln': 10842, 'thejonesesvoic': 16426, 'liguist': 9889, 'jrlallo': 9076, 'lavatori': 9691, 'db5': 4727, 'breaking144': 2922, 'declarat': 4791, 'acenewsdesk': 1101, 'landfal': 9616, 'devpeac': 4981, 'precipit': 13023, 'measur': 10601, 'mrobama': 11176, 'cnmi': 3912, '2slow2report': 469, 'rt_com': 14173, 'nbanew': 11431, 'typhoonû_': 17158, 'territori': 16313, 'andåêchina': 1580, 'gpm': 7219, 'bullsey': 3090, '4yygb': 638, 'strongest': 15767, 'urbanis': 17379, 'upheav': 17356, 'brahman': 2888, 'usw': 17428, 'uncertaintyeconom': 17228, 'rlyeh': 13985, 'fergusonûª': 6297, 'thegam': 16417, 'newberg': 11530, 'jacqu': 8774, 'betz': 2484, 'answerû_': 1630, 'elderli': 5649, 'companionship': 4064, 'chester': 3649, 'chestertweetsuk': 3651, 'hardi': 7563, 'dixon': 5171, 'aladdin': 1320, 'au': 1967, 'indepth': 8413, 'mayan': 10543, 'hieroglyph': 7809, 'soil': 15273, 'entershikari': 5812, 'tt': 17058, 'kettlebel': 9311, 'lopez': 10089, 'hindsight': 7849, 'jhmnye': 8944, 'roman': 14063, 'foreclos': 6576, 'ontejc': 12109, 'jungl': 9119, 'postexist': 12960, 'perquisit': 12621, 'brzjc': 3041, 'diageo': 5000, 'revolt': 13868, 'livesci': 9973, '1600yearold': 208, 'horoscop': 8001, 'lyf': 10217, 'winik': 18145, 'audit': 1981, 'orcot': 12175, 'orpol': 12199, 'parliamentari': 12441, 'subsequ': 15824, 'sack': 14272, 'pov': 12971, 'amsterdam': 1541, 'watertown': 17846, 'bruis': 3031, 'stormchas': 15713, 'ef5': 5611, 'schiphol': 14489, 'auckland': 1972, 'northland': 11768, 'uproot': 17363, 'agoni': 1242, 'tunein': 17080, 'nasasolarsystem': 11379, 'jupit': 9123, 'badchoic': 2133, 'bantrophyhunt': 2207, 'scourgu': 14528, 'uspacif': 17424, 'skarletan': 15055, 'vickie627': 17575, 'unqualifi': 17315, 'treati': 16935, 'teafrystlik': 16208, 'darken': 4661, 'ungodli': 17275, 'bolt': 2775, 'slightest': 15121, 'blitz': 2678, 'travers': 16927, 'seminar': 14639, 'tra': 16858, 'belliger': 2411, 'iateyourfood': 8207, 'yike': 18515, 'pup': 13270, 'uprootin': 17364, 'wth': 18354, 'jetstar': 8928, 'bali': 2168, 'raung': 13504, 'nside': 11835, 'belli': 2410, 'kamchatka': 9183, 'ådaniel': 18685, 'korzhonov': 9484, 'aogashima': 1669, '010401': 9, '150401': 188, 'maailiss': 10251, 'diaporama': 5010, 'sixpencee': 15040, 'karymski': 9215, 'volcanoåêinåêrussia': 17684, '194': 272, '0104': 8, 'indonesian': 8440, 'asic': 1867, 'gtii': 7360, 'ronni': 14086, 'fieg': 6336, 'kith': 9419, '3m': 549, 'mrmikeeaton': 11175, 'muazimus_prim': 11209, 'hil': 7832, 'utc5km': 17437, 'songhey89': 15311, 'kiddo': 9343, 'sang': 14376, 'alextuck': 1374, 'jj': 8967, 'hickson': 7801, 'kenneth': 9291, 'fari': 6194, 'lamarcu': 9602, 'aldridg': 1349, 'westûª': 17984, 'zeal': 18619, 'indecis': 8410, 'lexi_purdue': 9824, 'volcano_tornado': 17682, 'csismica': 4458, 'latechwatch': 9660, 'cityofmemphi': 3804, 'ender': 5771, 'mgs2': 10745, 'd_pagexxi': 4564, 'ps2': 13203, 'scegnew': 14477, 'thuggin': 16589, 'rove': 14138, 'raccoon': 13394, 'toughen': 16829, '1preview': 313, 'littlewomenla': 9957, 'seasonfrom': 14570, 'onshit': 12107, 'thug': 16588, 'warzon': 17810, 'worldwatchesferguson': 18265, 'govjaynixon': 7211, 'clairecmc': 3820, 'kasiakosek': 9223, 'kitchen': 9418, 'flour': 6506, 'robertoneill31': 14009, 'decisionû_': 4787, 'jsdf': 9078, 'reiter': 13697, 'mindset': 10856, 'sprite': 15503, 'roguewatson': 14045, 'lethal': 9813, 'junsuisengen': 9122, 'dwarfonjetpack': 5490, 'xii': 18423, 'nightmarishli': 11632, 'ritualist': 13967, 'firearm': 6397, 'vector': 17513, 'cutter': 4534, 'rosemarytraval': 14108, 'weapon_x_mus': 17901, 'muttatek': 11288, 'kwwwkwwwk': 9554, 'jiahahahha': 8945, 'yeyeulala': 18509, 'esoter': 5902, 'astrologian': 1909, 'puls': 13253, 'insanelimit': 8514, 'plugin': 12845, 'tp': 16853, 'tdm': 16201, '400t': 567, 'camilla_33': 3277, 'craykain': 4351, 'delus': 4860, 'choppa': 3713, 'slosher': 15135, 'splatdown': 15463, 'splatl': 15464, 'thatrussianman': 16366, 'splatoon': 15465, 'default': 4819, 'splattershot': 15466, 'nelson': 11486, 'mandela': 10364, 'salmanmydarl': 14325, 'dub': 5423, 'snazzychipz': 15211, 'catalogu': 3445, 'powerhiroshima': 12977, '030811': 22, '41yearold': 582, 'infest': 8464, 'wimp': 18121, 'servicin': 14690, 'lurkin': 10204, 'danagould': 4623, 'waynesteratl': 17864, 'hendrixonfir': 7754, 'blackcat': 2629, 'noob': 11731, 'kdr': 9254, 'legitim': 9767, 'argus_99': 1772, 'heidia1438': 7716, 'easier': 5535, 'resort': 13819, 'incredul': 8402, 'outcri': 12253, 'taxpay': 16178, 'similar': 14966, 'å100bn': 18676, 'chemicalweapon': 3641, 'lcc': 9713, '96355': 905, 'friendli': 6735, 'blogger': 2691, 'ineedexposur': 8449, 'dannyonpc': 4648, 'hardlin': 7566, 'throwingknif': 16578, 'uswarcrim': 17429, 'wooooooo': 18240, 'esport': 5908, 'dismantl': 5118, 'ojoubot': 12024, 'nro': 11831, 'unauthor': 17222, 'pelosi': 12569, 'dorismatsui': 5278, 'mere': 10693, 'corrupt': 4244, 'router': 14136, 'ddo': 4738, 'eyecut': 6090, 'erasuter': 5870, 'gal': 6866, 'deco': 4793, 'trickier': 16975, 'splash': 15461, '1942': 275, 'rapidc': 13480, 'cheyenn': 3656, 'retir': 13840, 'bookmobil': 2805, 'bigbroth': 2528, 'x37b': 18404, '66m': 741, 'david_hurn': 4701, 'tokteach': 16731, 'skynet': 15084, 'adamantli': 1136, 'kirstiealley': 9412, '_animaladvoc': 934, 'otherwisethey': 12220, 'finsup': 6390, 'glosblue66': 7110, 'arrang': 1802, 'guatemalan': 7374, 'submiss': 15816, 'whirlwind': 18038, 'moan': 10977, 'demeanor': 4865, 'staid': 15560, 'cram': 4332, '14hour': 180, 'thailand': 16351, 'jaiden': 8785, 'affair': 1193, 'luhan': 10180, 'exo': 6028, 'millennium': 10839, 'plaza': 12825, 'pawsox': 12511, 'durham': 5471, 'drmartyfox': 5380, 'lib': 9839, 'tacoma': 16083, 'vixmeldrew': 17662, 'medusa': 10628, 'input': 8508, 'baekhyun': 2146, 'suho': 15851, 'syjexo': 16040, 'byuwnbeki': 3179, 'tacit': 16079, 'mantra': 10387, 'southû_': 15380, 'standstil': 15579, 'lucymayoffici': 10176, '30pc': 484, '12mm': 159, 'resin': 13814, 'flatback': 6457, 'rhineston': 13888, 'fa': 6105, 'scissor': 14506, 'alexhammerston': 1368, 'kttape': 9529, 'ktfounder': 9527, 'remymarcel': 13743, 'frofrofroû_': 6746, 'theemobrago': 16413, 'jitsu': 8963, 'hexagon': 7780, 'ckosova': 3813, 'edfring': 5578, 'm00nf00l': 10230, 'titania': 16671, 'summerhalleri': 15865, 'reimagin': 13692, 'shakespear': 14751, 'midsumm': 10802, 'scourg': 14527, 'whedonesqu': 18019, 'fang': 6181, 'cantwaittoplayinminneapoli': 3330, 'picthi': 12721, 'amazing': 1483, 'finallû_': 6372, 'athen': 1924, 'lisowski': 9934, 'whitewash': 18049, 'qual': 13329, 'snooker': 15223, 'blacken': 2630, 'parch': 12427, 'artic': 1819, 'brothernlaw': 3017, 'riooooo': 13948, 'beast': 2332, 'cal': 3224, 'sanonofr': 14382, 'foxdebatequest': 6637, 'institut': 8538, 'sharia': 14780, 'darwin': 4676, 'jennife29916207': 8901, 'cnni': 3916, 'prisonplanet': 13105, 'warningwild': 17796, 'senfeinstein': 14644, 'connecticut': 4133, 'thedayct': 16403, 'aria_ahrari': 1774, 'thetawniest': 16480, 'wn': 18196, '080215': 48, 'morel': 11082, 'amblesid': 1492, 'farmr': 6198, 'martsunmushroom': 10472, 'foragesecret': 6567, 'randerson62': 13463, 'enzasbargain': 5831, 'handi': 7516, 'wipe': 18155, 'profittothepeopl': 13139, 'wbcshirl2': 17871, 'doessnt': 5220, 'rejoic': 13700, 'ect': 5572, 'cali': 3241, 'foliag': 6539, 'hiker': 7831, 'fingerrockfir': 6383, 'azwx': 2088, 'kc5kh': 9247, 'wsoc': 18350, 'parker': 12436, '2082676773': 363, 'idfir': 8255, 'matt_kroschel': 10517, 'vail': 17467, 'hearth': 7688, '75000': 791, 'ember': 5708, 'kcrw': 9252, 'scariest': 14473, 'bengston': 2436, 'ûïnumber': 18795, 'trendû': 16952, 'smem': 15174, 'khq': 9331, 'firenew': 6405, 'solitud': 15286, 'utfir': 17439, 'lancasteronlin': 9614, 'lancast': 9613, 'easternoregonû_': 5541, '_wildfire__': 972, 'mulan': 11224, 'calwildfir': 3260, 'aftermath': 1217, 'signin': 14946, 'trailhead': 16885, 'wqow': 18305, 'windstorm': 18136, 'galvnew': 6874, 'lasting': 9653, 'acquiesc': 1113, 'retreat': 13845, 'ziuw': 18648, 'fifti': 6348, '299': 441, 'bampn': 2178, 'nook': 11734, 'thebachelorett': 16381, 'ij': 8299, 'niiiic': 11634, 'windstormåêinsur': 18138, 'wsvr1686b': 18351, 'vhull': 17561, 'runabout': 14205, 'eurostyl': 5956, 'ekiti': 5640, 'rainwindstorm': 13441, 'odeek': 11957, 'gbonyin': 6949, 'lga': 9827, 'wzbt': 18390, 'hike': 7830, 'txlege': 17147, 'twia': 17123, 'diegt': 5030, 'hardbal': 7557, 'chriscesq': 3728, 'bigtent': 2543, 'hailstormwindstorm': 7455, 'charlesadl': 3593, 'browner': 3022, 'battleanoth': 2272, 'shirley': 14846, 'patio': 12484, 'umbrella': 17213, 'mystic': 11323, 'calmstil': 3254, 'eyecent': 6089, 'leelanau': 9742, '2b': 444, 'besaf': 2461, 'upwindstorm': 17373, 'damnwa': 4617, 'blakeshelton': 2647, 'windstormfollow': 18137, 'jeez': 8887, 'ijourn': 8301, 'bong': 2792, 'datingtip': 4685, 'goodread': 7169, 'rangerkaitimay': 13472, 'jacksoncalm': 8767, 'salvadoran': 14335, 'retool': 13843, 'retire': 13841, 'handicap': 7517, 'nomorehandout': 11712, 'bitû_': 2611, 'exc': 6009, 'twilight': 17125, 'biggar': 2534, 'kindlecountdown': 9386, 'mfrwauthor': 10740, 'mgtab': 10748, 'amritsar': 1537, 'ûïthatûª': 18804, 'exagger': 6003, 'woundedû': 18292, 'claimin': 3818, 'zenit': 18625, 'asterpuppet': 1901, 'academia': 1074, 'an247': 1549, 'wocowa': 18204, 'ush': 17418, 'assur': 1898, 'officerrel': 11978, 'wwp': 18377, '75k': 796, '52k': 663, 'oifoef': 12017, 'invis': 8614, 'aampw': 993, '2pmclose': 467, 'senzu': 14661, 'gohanûª': 7147, 'pouch': 12968, 'gunshot': 7406, 'bicep': 2516, 'chesttorso': 3652, 'kerricktri': 9304, 'jonathanferrel': 9029, 'charlesdagnal': 3594, 'nout': 11807, 'rubbin': 14185, 'unheal': 17278, 'unend': 17264, 'kashmir': 9220, 'endoccup': 5774, 'endconflict': 5770, 'freekashmir': 6701, 'mirror': 10896, 'conduct': 4112, 'morethan': 11084, 'kashmirconflict': 9221, 'dianneg': 5009, 'selfesteem': 14624, 'owen': 12309, 'twcnewsclt': 17110, 'mattmosley': 10527, 'celebreti': 3509, 'nogo': 11701, 'surgic': 15953, 'woodlawn': 18237, '79yearold': 802, 'enem': 5779, 'bishopfr': 2595, 'scroll': 14543, 'didbut': 5023, 'exact': 6001, 'alaskan': 1329, 'neverforget': 11522, 'ego_resolut': 5625, 'icymagistr': 8243, 'ûóher': 18818, 'armûò': 1795, 'friggin': 6738, 'icicl': 8237, 'projectilesûò': 13149, 'miniatur': 10866, 'moreûó': 11087, 'nicolaclements4': 11614, 'scab': 14461, 'dauntedpsych': 4692, 'gentli': 6982, 'dab': 4567, 'rag': 13416, 'crawl': 4349, 'hea': 7653, 'soldi': 15279, 'squeaver': 15521, 'hangin': 7526, 'watchin': 17832, 'septic': 14667, 'captainn_morgan': 3348, 'destiel': 4937, 'gazett': 6944, 'pedal': 12553, 'aqua': 1729, 'memenaar': 10668, 'kindof': 9389, 'restrospect': 13833, '_pokemoncards_': 966, 'icequeenfrosla': 8234, 'artectura': 1816, 'pop2015': 12918, 'nå¼36': 11905, 'florenc': 6500, 'gimp': 7058, 'newav': 11528, 'ûïnewsû': 18793, 'girlthatsrio': 7068, 'georgefoster72': 6990, 'edmund': 5594, 'fitzgerald': 6432, 'blockag': 2688, 'woodward': 18238, 'northbound': 11761, 'davison': 4715, 'shoalstraff': 14858, 'blinker': 2676, 'misscharleywebb': 10919, 'greer': 7290, 'amazond': 1487, 'skyland': 15081, '453': 602, '045': 27, '949': 896, '994': 914, 'sequel': 14669, 'ralph': 13450, 'titortau': 16675, 'lynch': 10220, 'factcheck': 6120, 'ombudsmanship': 12070, 'raineishida': 13434, 'lolim': 10047, 'nervou': 11502, 'takeaway': 16105, 'amazonûª': 1488, 'magnific': 10301, 'furiou': 6826, 'janeenorman': 8824, 'kuala': 9530, 'lumpur': 10195, 'ajabrown': 1296, 'ministersay': 10871, 'buzzfe': 3161, 'firstev': 6418, '777': 799, '239': 404, 'najibrazak': 11353, 'malaysiaairlin': 10340, 'yahoonewsdigest': 18459, 'julian_lag': 9104, 'grantgordi': 7248, 'rossmartin7': 14118, 'pasti': 12472, 'stare': 15591, 'apiec': 1688, 'cramer': 4333, 'igerûª': 8282, 'disneyûª': 5127, 'ûòåêcnbc': 18816, 'liv': 9958, 'oliviaapalmerr': 12057, 'thatswhatfriendsarefor': 16368, 'audi': 1977, 'iger': 8281, 'kunstler': 9539, 'residualincom': 13811, 'mlm': 10958, 'coleslaw': 3979, '300k': 477, 'exot': 6030, 'tunes_wgg': 17081, '__ohhmyjoshh': 930, 'stevenrul': 15663, 'riddler': 13920, 'earlyexit': 5522, 'presidenti': 13059, 'marynmck': 10480, 'ador': 1164, 'topnew': 16793, 'caitsrobert': 3221, 'barra': 2228, 'kirafrog': 9405, 'mount_wario': 11137, 'widda16': 18078, 'goner': 7161, 'jt_ruff23': 9083, 'cameronhack': 3272, 'shoutout': 14892, 'fx': 6841, 'enginesh': 5789, 'gameofkitten': 6882, 'explodingkittensû_': 6053, '154107': 191, 'iwat': 8736, 'ayyo': 2081, 'dei': 4837, 'explosivespack': 6058, 'tnwx': 16702, 'fatherofthre': 6222, 'overtak': 12295, 'bathandnortheastsomerset': 2263, '9km': 918, 'forney': 6600, 'symptom': 16049, 'goos': 7183, 'shakingit': 14753, 'nooooooooo': 11741, 'sunkxssedharri': 15892, 'previouslyondoyintv': 13083, 'makinwaûª': 10334, 'techi': 16236, 'ablaze_co': 1041, 'sierra': 14935, 'guap': 7368, 'turban': 17088, 'diva': 5156, 'etsi': 5938, '16yearold': 222, 'ablazeû_': 1042, 'ctvtoronto': 4474, 'wer': 17959, 'hydro': 8162, 'alfon': 1378, 'pul': 13247, 'pulsradio': 13254, 'rahm': 13421, 'effigi': 5617, 'tall': 16123, 'john_kass': 8996, 'philippaeilhart': 12686, 'dhublath': 4996, 'paturnpik': 12500, 'patp': 12486, 'pa18': 12326, 'cranberri': 4335, 'wand': 17771, 'cuas': 4476, 'zeroedgeå': 18630, 'duallen': 5422, 'trafficdriv': 16877, 'historyaccid': 7877, 'camcord': 3263, 'unresolv': 17321, 'traffic_south': 16875, 'roadpol_east': 13992, 'a27': 977, 'lew': 9821, 'kingston': 9399, 'roundabout': 14130, 'a283': 978, 'sakuma_en': 14311, 'hei': 7715, 'darker': 4662, 'referr': 13657, '1800_injur': 245, '180046587332': 244, 'slipandfal': 15127, 'dogbit': 5222, 'gaug': 6924, 'robynjilllian': 14022, 'wlsdomteeth': 18188, 'teesha': 16255, 'm42': 10242, 'j3': 8747, 'j3a': 8748, 'daveoshri': 4695, 'soembi': 15266, 'jelli': 8892, 'vista': 17647, 'ter': 16299, 'gresham': 7300, 'pg15000044357': 12662, '1035': 81, 'polevault': 12888, 'kira': 9404, 'grì_nberg': 7346, 'parapleg': 12423, 'trampolin': 16897, 'bxckylynch': 3167, 'foi': 6535, 'roh': 14046, 'procura': 13126, 'tem': 16271, 'schoolboy': 14494, 'excis': 6014, 'skism': 15076, 'sexism': 14718, 'firebeatz': 6399, 'schella': 14486, 'laco_fd': 9580, 'octob': 11951, 'nxt': 11876, 'afford': 1199, 'gradschoolapp': 7231, 'bond': 2788, 'bo2': 2742, 'invahnwetrust': 8604, 'jadeformkx': 8777, 'variat': 17500, 'rewind_mus': 13874, 'todayregard': 16714, 'fifteen': 6345, 'mintechan': 10880, 'hihow': 7824, 'keio': 9268, 'stationright': 15615, 'chofu': 3704, '72925': 777, 'subsecretariat': 15823, 'garcia': 6903, 'castel': 3435, 'luggag': 10179, 'makeup': 10330, 'twp': 17144, 'jfk': 8939, 'thugiauren': 16590, 'm__belli': 10247, 'brightasastar_': 2965, 'disneyxrowbrina': 5126, 'margaretcho': 10414, 'fag': 6130, 'rainbowpow': 13433, 'vballplaya2296': 17512, '29800': 440, 'gayuk': 6937, 'whatsyouremerg': 18013, 'kdunning1919': 9256, 'hsnowberg': 8067, 'gabrielasmith29': 6852, 'rosiegray': 14112, 'sincereti': 14985, 'johnboywest': 8997, '_drodrolagi': 945, 'handplacementgo': 7520, 'jacksfilm': 8765, 'dreamwork': 5352, 'belov': 2417, 'ninahoag': 11644, 'shred': 14903, 'psych': 13216, 'thehil': 16421, 'wiimington': 18091, 'prkng': 13112, 'amphav': 1528, '1915ûókaiserjaeg': 264, 'regiment': 13679, 'carso': 3409, 'plateau': 12811, 'albertbr': 1339, 'dd': 4735, 'rgreen': 13884, 'mountainstock': 11139, 'nizer': 11662, 'roundup': 14132, 'bosteenauthfest': 2833, 'savewildhors': 14441, 'saltriverhors': 14331, 'jackienatalydlt': 8760, 'incindia': 8391, 'gandhi': 6892, 'victorytot': 17586, 'spherulit': 15440, 'teamtwiistz': 16226, 'futurist': 6835, 'thomasa56': 16533, 'rr': 14155, 'script': 14541, 'itskingriffyal': 8716, 'franchis': 6662, 'tmfk_co': 16694, 'ura': 17375, 'fictionsharecrop': 6331, '5sostag': 701, 'enthusiast': 5815, 'dampd': 4619, '___': 929, 'patent': 12477, 'pend': 12573, 'hitchbot': 7883, 'superstar': 15922, 'carousel': 3398, 'compromis': 4088, 'watchman': 17833, 'mustread': 11280, 'pcraigrobert': 12532, 'x1421': 18397, 'stainless': 15562, '12beyonc': 154, 'x1431': 18399, 'x1435': 18401, 'x1415': 18396, 'wabash': 17726, 'reservoir': 13804, 'louisvilleusac': 10121, 'sixteenth': 15042, 'x1424': 18398, 'ìñ2': 18699, 'cheesehead': 3629, 'duma': 5446, 'westarson': 17970, 'pnuts_mama': 12864, 'feloni': 6283, 'an_opu': 1550, 'probat': 13117, '1179': 128, 'saginaw': 14295, 'charlton': 3601, 'wineri': 18142, 'wehtwtvwloc': 17931, 'shawne': 14795, 'olath': 12045, 'kan': 9191, '960kzim': 904, 'vixuhn': 17664, 'lgbtq': 9829, 'contra': 4176, 'getaway': 7007, 'surrey': 15956, 'richardgearl': 13900, 'å70000': 18682, 'ûcri': 18713, 'christinkpix5': 3745, 'nightbeattv': 11628, 'kbcwtv': 9244, 'gay4bb': 6932, 'trap_vodka': 16916, 'norcal': 11749, 'surveil': 15960, 'ktla': 9528, 'aapatwork': 996, 'catch22': 3449, 'industryinsight': 8444, 'realtwanbrown': 13569, 'texasûª': 16335, 'gratuit': 7256, 'cruel': 4437, 'gayåêman': 6938, 'pooper': 12914, 'detect': 4949, 'eboni': 5558, 'blackhair': 2632, 'tilli': 16629, 'vì_a': 17721, 'sunnyclaribel': 15896, 'dpjhodg': 5317, 'ûassault': 18707, 'accountabilityûª': 1091, 'herû_': 7777, 'dread': 5347, 'slut': 15151, 'newcastl': 11533, 'schoolgirl': 14496, 'seaton': 14573, 'delav': 4840, 'davidwarner31': 4711, 'smith': 15181, 'sura': 15937, '911åêcall': 876, '16000': 207, 'belittl': 2405, 'demor': 4881, 'hot97': 8020, 'memo': 10670, 'logitechg': 10041, 'aol': 1670, 'idioci': 8258, 'output': 12261, 'hhw': 7796, 'decapit': 4776, 'glanc': 7083, 'repost': 13777, 'gregskazphotographi': 7297, 'repostapp': 13778, 'åáåáåá': 18688, 'rainierarm': 13439, 'ambi': 1490, 'cierranb5678': 3771, 'windriv': 18134, '60ml': 715, 'mendeals_uk': 10680, 'silveradoavalancheblazertaho': 14959, 'dorion': 5277, '216': 380, 'rowl': 14143, 'fc': 6242, '04': 25, 'axl': 2073, '2055271': 359, 'coloradoav': 4013, 'nhlavalanch': 11591, 'mano_twit': 10380, 'kolaveriboy': 9469, 'avast': 2031, 'andal': 1568, 'anaheim': 1553, '90sangelicmalik': 871, 'wtm': 18356, 'lunat': 10198, 'livingontheedg': 9977, 'jackisheaff': 8761, 'exoticengram': 6031, 'therasputin': 16457, 'raspi': 13493, 'ttk': 17061, 'sharpino1990': 14786, 'pokìmon': 12882, 'sapphir': 14390, 'cjs064': 3811, 'bonner': 2795, 'scalabrin': 14462, 'screwattack': 14540, 'knuckl': 9460, 'unsurprisingstil': 17335, 'dismay': 5119, 'watchcbs19': 17830, 'fallout': 6155, 'laps': 9642, 'watchdog': 17831, 'dugway': 5439, 'offbeat': 11967, 'stopislam': 15704, 'makedclisten': 10327, 'teaparti': 16229, 'atlasobscura': 1933, 'hedg': 7708, 'asteroid': 1900, 'uscourt': 17409, 'guidelin': 7382, 'bbcworld': 2299, 'erea': 5874, 'bishoyragheb': 2596, 'bsc': 3042, 'irrelev': 8664, 'debtassassin': 4770, 'hst': 8068, 'kimeri': 9376, 'syfi': 16039, 'rogan': 14042, 'hiv': 7886, 'aggrav': 1235, 'transmiss': 16909, 'hivisnotacrim': 7887, 'carpediem': 3400, 'gacourt': 6854, 'hen': 7749, 'prsnvn': 13199, 'mariashriv': 10426, 'fultoninfocourt': 6801, 'strangersblkampwhtfrom': 15728, 'ssapress': 15536, 'lookap': 10075, '_afrojazz': 933, 'fuckw': 6783, 'junesnowpaw': 9118, 'gim': 7057, 'creami': 4363, 'warmer': 17790, 'ashen': 1849, 'atgam': 1921, 'handheld': 7515, 'slurpe': 15150, 'ovoiz': 12307, 'baddiemoneysign': 2135, 'lithgow': 9950, 'blazinsmash': 2661, 'buzzi': 3162, 'kame': 9184, 'lovethyfamili': 10133, 'cruisingblaz': 4439, 'bryanvsbracey': 3040, 'ustadium': 17425, 'watt': 17849, 'obj': 11916, 'eras': 5868, 'kkarmstrongg': 9426, 'breez': 2935, 'thruand': 16581, 'hornû_': 8000, 'satelit': 14412, 'compl': 4074, 'unlimit': 17305, 'nyndesign': 11894, 'blazingroselia': 2660, 'timedo': 16641, 'tia': 16606, 'intûªl': 8599, 'battlehork': 2274, 'mundo': 11252, 'leona': 9796, 'dinah': 5057, 'tombrevoort': 16742, 'brevoort': 2942, 'bleedinglov': 2668, 'acapella': 1075, 'singer': 14991, 'canadiansingerû_': 3298, 'kriszelln': 9511, 'triplemania': 16990, 'villano': 17608, 'myztiziziziziz': 11330, 'reynold': 13878, 'montano': 11053, 'imkanom': 8341, 'skarlet': 15054, 'backward': 2125, 'dogsarebetterthancat': 5225, 'aichmoman': 1263, 'dudeandp': 5436, 'idkimnotfunni': 8264, 'abbss_13': 1011, 'atlwtmgc': 1937, 'cieistea': 3770, 'funnychubbyguy': 6818, 'tokyodotcom': 16733, 'balloon': 2173, 'up': 17347, 'thefierygrav': 16415, 'mw3': 11297, 'westmdcountypa': 17979, 'latrob': 9671, '20th': 369, 'suscept': 15970, 'ny2': 11881, 'trama': 16895, 'wcfgt2015': 17879, 'colemcfadyean': 3978, 'biomarkdarrah': 2580, 'mike_laidlaw': 10814, 'stamford': 15570, 'tighten': 16624, 'dilapit': 5049, 'halferect': 7477, 'hickori': 7800, 'topix': 16792, 'clevelanddotcom': 3858, 'councilman': 4271, 'oneil': 12089, '220': 389, 'michelgrabowi': 10772, 'vegetablefarm': 17519, 'snide': 15218, 'inquisit': 8510, 'darkspawn': 4667, 'norwalk': 11775, 'ordin': 12178, 'ripe': 13954, 'servil': 14691, 'justin_fenton': 9140, 'monument': 11062, 'windfarm': 18126, 'curd': 4507, 'ebook': 5559, 'timzak': 16653, 'kidsbook': 9348, 'eddietrunk': 5576, 'ozz': 12319, 'gunnar': 7402, 'optik': 12156, 'sieg': 14933, 'onyxfir': 12113, 'probali': 13116, 'sublimin': 15813, 'buybloodonthedanceflooronitun': 3158, 'xoxoxxxooo': 18435, 'rutinaoffici': 14234, 'nbchannib': 11435, 'hannib': 7535, 'nor0603': 11746, 'crip': 4396, 'bloodim': 2698, 'doin': 5227, 'golden': 7154, 'wook': 18239, 'sirbeezalot': 15007, 'youngthug': 18550, 'sosa': 15346, 'bellydo': 2413, 'homework': 7958, 'shaylen_carrol': 14797, '1860': 251, 'octagon': 11950, '1ìâå': 318, '15l18': 201, 'dentist': 4894, 'thicker': 16501, 'chizu': 3700, 'gender': 6966, 'pasokon': 12464, 'zealand': 18620, 'radionz': 13408, 'ashwilliams1': 1863, 'ilovegglett': 8322, 'maisi': 10322, 'martha': 10467, 'jeremyclarkson': 8903, 'tomm3h': 16751, 'refere': 13654, 'imfc': 8339, 'issit': 8697, 'shtballplayrsdo': 14909, 'pree': 13029, 'halfpeachh': 7481, 'caitlincavanah': 3220, 'ûa': 18704, 'streetûª': 15746, 'remadeû_': 13720, 'liam': 9837, 'stile': 15678, 'pleeeas': 12834, 'mtvteenwolf': 11207, 'luckili': 10175, 'woulda': 18285, 'adultress': 1172, 'killari': 9363, 'azz': 2089, 'sassynr': 14406, 'iverson': 8733, 'malon': 10350, 'kaylag_baby1': 9240, 'jaykpurdi': 8866, 'shush': 14915, 'dodgersn': 5215, 'winnabl': 18146, 'sissi': 15023, 'feû_': 6316, 'blowvap': 2718, '15û_': 204, 'lastwitchhunt': 9655, 'malikchaimaa': 10346, 'whilst': 18031, 'coldwood': 3975, 'bmrow': 2735, 'blownup': 2716, 'mortem': 11103, 'camouflag': 3279, 'camo': 3278, 'wallet': 17760, '3682': 517, 'nikon': 11640, 'd50': 4562, 'slr': 15143, '20000': 323, 'dracula': 5324, 'willyt': 18116, 'ksl': 9525, '126': 152, '7294': 778, 'û¼': 18754, 'suze': 15986, 'loccitan': 10023, 'lavera': 9693, 'bonesymcbon': 2790, 'beartooth': 2331, 'twoton': 17142, 'smartphon': 15166, 'dian': 5008, 'kendricklamar': 9287, 'getin': 7008, 'traintuesday': 16890, 'lesmil': 9805, 'cameron13131313': 3268, 'otooledalton': 12227, 'averywelch23': 2040, 'otoole1055': 12226, 'halo': 7490, 'pamanian': 12375, 'wolfgangjoc': 18211, 'homag': 7940, 'biggi': 2537, 'hypnot': 8168, 'zvch4': 18669, 'jokal': 9019, 'drizzi': 5377, 'sandrabland': 14367, 'spitter': 15459, 'eish': 5636, 'esm_campi': 5900, 'werewolf': 17965, 'idiota': 8260, '1993': 297, 'lenngonewin': 9790, 'defenseless': 4828, 'complexmag': 4079, 'pusha_t': 13287, 'hamosh84': 7502, 'looû_': 10088, 'khalil': 9326, 'abdulrashe': 1026, 'shld': 14857, 'vuca': 17711, 'raghu': 13418, 'hanbag': 7510, 'rted': 14175, 'joanna_bomb': 8977, 'eventchas': 5975, 'mtv': 11203, 'mtvnew': 11205, 'atw': 1963, 'weneeda5hvmaperform': 17956, 'peytonlaynec': 12657, 'ohhh': 12008, 'ajenew': 1297, 'worldûª': 18267, 'joshrogin': 9053, 'slwsew379': 15152, 'jimsciutto': 8957, 'natseccnn': 11409, 'jonathanshainin': 9031, 'supress': 15936, 'safemod': 14286, 'johncusack': 8998, '1946': 279, 'beachi': 2323, 'hansel': 7537, 'gretel': 7302, 'yeh': 18492, 'ltkyodonewsgt': 10160, 'update1': 17353, 'anniv': 1614, 'mattielbreaux': 10525, 'shhhh': 14826, 'ûïtell': 18803, 'shinichi': 14839, 'kudo': 9531, 'moriya': 11091, 'teiji': 16258, 'princess': 13096, 'nowish': 11815, 'nomorehiroshima': 11713, 'vjday70': 17667, 'fepow': 6294, 'steamrol': 15628, 'squash': 15519, '_bomb': 937, 'boyampcarri': 2866, 'enola': 5799, 'allenpeacock': 1411, 'cleariran': 3846, 'bombedit': 2781, 'davej798': 4694, 'somaliaeritrea': 15292, 'sitctip': 15028, 'vlog': 17669, 'videobomb': 17591, 'nhk': 11589, 'hapless': 7541, 'syndic': 16051, 'akinwunmiambod': 1308, 'minneapoli': 10875, 'berggrueninst': 2455, 'berggruen': 2454, 'dambisamoyo': 4610, 'shane': 14761, 'ricki': 13911, 'grea': 7269, 'metropol': 10727, 'ctvkathyl': 4473, 'ûïburn': 18769, 'doesnûªt': 5219, 'workûû_onlyû_it': 18254, 'chistate33': 3698, 'vandalz': 17487, '1ûòdonûªt': 319, '2ûòdonûªt': 472, '3ûòdonûªt': 562, 'speechgirlam': 15428, 'travdav': 16924, 'kornbread_icu': 9482, 'pinesû_': 12751, 'denisleari': 4889, 'truehero': 17029, 'jane': 8822, 'kelsey': 9280, '530ûò730pm': 667, 'wgton': 18000, 'tpp': 16854, 'tradeinservicesagr': 16869, 'alejandro': 1353, 'jodorowski': 8981, 'buildingsonfir': 3077, 'blainescronut': 2641, '8nn': 859, 'dnr': 5202, 're': 13534, 'gorlovka': 7193, 'janjuli': 8830, '2015ûó': 348, '164': 212, 'incl': 8395, 'gilsimmon': 7056, 'groton': 7327, 'taiz': 16100, 'houthi': 8042, 'saleh': 14317, 'tahreer': 16094, 'tisa': 16667, 'nicevil': 11602, 'tristapnwfdn': 16992, 'wmur': 18193, 'agricultur': 1246, 'aldwark': 1350, 'nyork': 11895, 'grim': 7313, 'fewer': 6313, 'piglet': 12733, '7new': 809, 'melbourn': 10652, 'housesbuild': 8040, 'kalispel': 9178, 'heartbrokenmobil': 7685, 'nelli': 11485, 'stake': 15564, 'brandac': 2895, 'ntc': 11839, 'allw': 1431, '500û_': 645, 'irsolichin': 8667, '9tawan99': 925, '178kakapo': 235, 'grandest': 7240, 'kyra_elizabethh': 9566, 'shelia1965a': 14810, '163': 211, 'cardio': 3366, '21dayfix': 384, 'curlin': 4514, 'blackhatwrit': 2634, 'alfred00dl': 1379, 'pdleagu': 12535, 'crit': 4402, 'prodig': 13129, 'widouglass': 18082, 'kurrrlyw': 9544, 'welp': 17952, 'dunc': 5457, 'mattharvey33': 10523, '88': 851, 'inn': 8502, 'burnedû_': 3117, 'jalapeno': 8796, 'burninglavaonfir': 3121, 'geoengin': 6984, '165å': 217, 'sar_giuliani': 14392, 'janellebrown117': 8825, 'comrad': 4091, 'sweatseek': 16007, 'calorieburn': 3256, 'cardiotortur': 3367, 'nod': 11698, 'slouch': 15137, 'warlord': 17786, 'draenor': 5325, 'thevensku': 16485, 'thesweatshopp': 16479, 'worktim': 18253, 'auditiontim': 1982, 'roccotim': 14023, 'nob': 11690, 'peddl': 12554, 'floorboard': 6495, 'backroad': 2119, 'outû_': 12268, 'nowû_': 11821, 'entri': 5822, 'beloooow': 2416, 'whoooool': 18065, 'autocraci': 2016, 'tarekfatah': 16151, '8goingon80': 855, 'sunscreen': 15900, 'legionû_': 9764, 'accomplish': 1087, 'ti5quot': 16605, 'ti5': 16604, '120v': 143, 'breaker': 2919, 'threshold': 16565, 'awg': 2064, 'commonli': 4056, '1800w': 246, 'kron4new': 9514, 'mrjamesob': 11174, 'ure': 17380, 'jakey': 8794, 'clare': 3826, 'zx': 18670, 'ost': 12211, 't17': 16066, 'ogr': 12001, 'trubequ': 17022, 'soar': 15247, 'scotgov': 14517, 'tweetlikekez': 17117, 'bushfir': 3132, 'albania': 1334, 'vict': 17579, 'jiminswang': 8952, 'pamelamuel': 12377, 'privleg': 13110, 'therealpbarri': 16461, 'eugen': 5944, 'gtiso': 7361, 'nzmorningreport': 11904, 'utilis': 17442, 'welli': 17946, 'aucklnd': 1973, 'esksf': 5899, 'josh_daniel_': 9048, 'mikegiarrusso': 10816, 'untrain': 17341, 'jokeû': 9022, 'maddow': 10273, 'jimw_in_nm': 8959, 'goddamn': 7136, 'dontestallworth': 5258, 'stevesgoddard': 15664, 'iwo': 8738, 'jima': 8950, 'cameron_surnam': 3269, 'chrisg0000': 3731, 'minimum': 10868, 'rx_casualti': 14243, 'vpzedd': 17704, 'daintt_m': 4587, 'legaljob': 9755, 'litig': 9952, 'attorney': 1960, 'scottsdal': 14524, 'bodili': 2757, 'ûïmaccocktail': 18789, 'hiram': 7861, 'blair': 2642, 'georgian': 6995, 'bruminthec': 3032, 'espresso': 5909, 'busiest': 3135, 'rollingmeadow': 14058, 'cater': 3452, 'auditori': 1983, 'hcxvneoav': 7649, 'ûï5sosglobalsquad': 18758, '5sosû': 702, 'datshemmings_': 4686, 'moi': 11007, 'plutot': 12852, 'heartbreak': 7683, 'ufhguhfidt': 17180, 'stanni': 15585, 'shaneryanher': 14762, 'thomasistrash': 16535, 'quietli': 13361, 'caradelevingn': 3357, 'swifti': 16018, 'twlldun': 17138, 'postwar': 12962, 'kyli': 9564, 'bruce': 3028, 'alexand': 1361, 'vaunwilmott': 17508, 'paystara': 12522, 'shirtless': 14849, 'dominion': 5244, 'decim': 4784, 'apocalyû_': 1692, 'å1': 18675, 'wage': 17731, 'unitednyblog': 17292, 'insidecityhal': 8518, 'nyclass': 11889, '500k': 643, 'mailer': 10311, 'loom': 10079, 'carlyfiorina': 3387, '2040': 358, 'feelthebern': 6275, 'rickard': 13909, 'regul': 13685, '_laladeviluk': 956, 'fifteenmilehigh': 6346, 'plume': 12848, 'wh': 18001, 'thrift': 16567, 'trustori': 17040, 'shortag': 14879, 'sentedcruz': 14657, 'spohn': 15472, 'shorelin': 14877, 'mixer': 10943, 'purposesjyb': 13282, 'bacup': 2129, 'rossendal': 14116, 'hammondvil': 7501, 'bendwavi': 2426, 'rins': 13945, 'pmbreedlov': 12858, 'redruthåêuk': 13641, 'rarasathie_': 13487, 'spencer_vh': 15436, 'usetheiight': 17414, 'fall_off_cliff': 6150, '80ft': 820, 'shaldon': 14755, 'mattbuek': 10519, 'johnnieguilbert': 9008, 'excitedmuch': 6016, 'ntsouthwest': 11841, 'tasti': 16165, 'eros': 5886, 'hnlnow': 7900, 'paso': 12463, 'freshû_': 6722, 'oikawa': 12018, 'karasuno': 9204, 'tribut': 16970, 'thane': 16353, 'wlb': 18186, '343': 503, 'arnejungjohann': 1796, 'energiewend': 5782, 'rampant': 13459, 'humili': 8108, 'ââ86bn': 18674, 'testament': 16325, 'thedemocrat': 16404, 'lockstep': 10030, 'sheriffclark': 14821, 'freeamerican100': 6689, 'carpent': 3401, '35w': 510, 'ceil': 3506, 'billow': 2566, 'southtown': 15377, '_lasha_k': 958, 'diamond6612': 5005, 'quin_lo': 13362, 'lsedig': 10148, 'yemm': 18501, 'holly16252': 7925, 'inmianajon': 8501, 'tut': 17100, 'albertvil': 1342, 'jessicalauraxo': 8917, '3prong': 556, 'inquiri': 8509, 'hongkong': 7972, 'furnitur': 6827, 'dsc': 5410, 'spectatorsû_': 15423, 'jemmaswan': 8893, 'breather': 2930, 'getû_': 7012, 'howi': 8049, 'gateway': 6921, 'collidenlc': 3996, 'perez': 12599, 'hilton': 7842, 'niley': 11643, 'shipper': 14842, 'vamo': 17479, 'newel': 11535, 'funfact': 6811, 'lizzi': 9988, 'unjust': 17299, 'samuel': 14356, 'motherjon': 11118, 'lastword': 9656, 'farhankvirk': 6193, 'ptisalarkhan': 13228, 'arc': 1741, 'emeri': 5717, 'thestartofemandy': 16475, 'mollywood': 11019, 'marketplac': 10445, 'bolapm': 2771, 'imaginator1dx': 8331, 'dresser': 5356, 'stair': 15563, 'maritim': 10436, 'carrier': 3407, 'shinto': 14840, 'maru': 10475, 'tanker': 16139, 'hoshin': 8013, 'nautic': 11418, 'sastar': 14407, 'alyssaspencer28': 1470, 'beau': 2342, 'ht': 8070, 'i40': 8178, 'daaamn': 4566, 'sr121': 15527, 'riversid': 13975, 'sr91': 15531, 'techerit': 16233, 'broadwat': 2992, 'banjo': 2197, 'pilon': 12743, 'wamber': 17767, '10yearold': 105, 'mustang': 11277, 'crash_matrix': 4342, 'themercedesxxx': 16438, 'minivan': 10873, 'nonpow': 11725, 'hairiti': 7466, 'spitti': 15460, 'pie': 12724, 'spikebot': 15448, 'dealership': 4755, 'killeen': 9367, 'portmoodi': 12944, 'clark': 3828, 'seaview': 14578, 'kemsley': 9283, 'gatensburi': 6920, 'natethewolf': 11396, 'fairport': 6142, 'bgc14': 2501, 'emily_noel95': 5727, 'joeylawr': 8991, 'abcfmelissajoey': 1021, 'melissaandjoeychat': 10654, 'bordentown': 2823, 'sown': 15383, 'olhead': 12052, 'rooki': 14091, 'thomick': 16538, 'rosannebarr': 14105, 'suggest': 15849, 'qatar': 13313, 'pahandabear': 12345, 'nethaera': 11510, 'aqgco': 1728, 'malfunct': 10343, 'php': 12705, 'databas': 4682, '08': 45, '9m': 919, 'iplay': 8634, 'commentari': 4047, 'pkadlik': 12791, 'jojowizphilipp': 9018, 'vipticket': 17629, 'imgunnashakeitallnight': 8340, 'arami': 1740, 'strop': 15770, 'secretli': 14588, 'lmk': 10002, 'wrestl': 18316, 'mmx': 10972, 'appadviceû_': 1698, 'designgeek': 4927, 'freakingg': 6679, 'sandy0013': 14371, 'butterfliesh': 3153, 'team_barrowman': 16212, 'necessarili': 11464, '51': 652, '130': 166, 'neptunia': 11498, 'nonsrank': 11728, 'colosseum': 4018, 'amyramponi': 1546, 'theyûªr': 16495, 'selffulfil': 14625, 'selftalk': 14632, 'psychat': 13217, 'parlor': 12443, 'waitress': 17746, 'arthriti': 1817, 'dancingonhwi': 4627, 'undo': 17260, 'ff': 6317, 'aichi': 1262, 'psi': 13212, 'misaki': 10898, 'avril': 2047, 'curtainpanel': 4523, 'curtain': 4522, 'mwcahill5': 11298, 'mcutchen': 10584, 'gameofthron': 6883, 'cantstoplaugh': 3329, 'loracce': 10091, 'joenbc': 8988, 'viewer': 17601, 'brandon_warn': 2896, '462': 609, 'crushedû_': 4446, 'spicenthingsup': 15443, 'ghazalabaji': 7024, 'keny': 9295, 'bedtim': 2364, 'now': 11813, 'btsprep': 3048, 'karli_knox': 9209, 'curfewbeagl': 4510, 'beaglefreedom': 2326, 'benznibeadel_': 2452, 'annaesterli': 1608, 'dometufnellpark': 5239, 'havoc': 7625, 'sexthem': 14720, 'cbsmiami': 3486, 'miamiherald': 10762, 'scorpioncb': 14515, 'reviv': 13867, 'cardin': 3365, 'sdb': 14556, 'cnua': 3917, 'orochinagicom': 12195, 'gigatech': 7046, 'coney': 4114, 'aliyeskii': 1397, 'wquddin': 18306, 'tunkhin80': 17086, 'maungkyawnu': 10534, 'drkhubyb': 5379, 'nslwin': 11837, 'ibrahimdubashi': 8220, 'mdskar': 10587, 'zarnikyaw': 18614, 'kyawthu043': 9557, 'erpestar': 5887, 'popobawa': 12925, 'revolv': 13871, 'tropicalweath': 17010, '1245z': 150, 'tropicalupd': 17009, 'waig': 17740, 'scorpionpilot': 14516, 'raleigh': 13447, 'ûïû': 18813, 'soudelor15': 15351, 'mariana': 10423, '0600': 33, 'localeventcountdown': 10019, 'rstoday': 14167, 'rodder': 14038, 'keel': 9262, '427': 585, 'barracuda': 2230, 'riviera': 13977, 'smexamin': 15175, 'ûthi': 18749, 'perp': 12619, 'lmûª': 10003, 'frauncestavern': 6673, 'nygovcuomo': 11891, 'globepolit': 7101, 'pander': 12389, 'hardright': 7567, 'corrod': 4243, 'goodwil': 7171, 'nyy': 11902, 'f_body95': 6104, 'gaymaro': 6935, 'alpin': 1443, 'fuckkkkkk': 6781, 'gatorgmuzik': 6923, 'sculli': 14549, 'sfe': 14726, 'hipsbeforehand': 7859, 'onceaho': 12082, 'abella': 1028, 'alwaysaho': 1466, 'ûïthi': 18807, 'mindû_û': 10857, 'importantli': 8365, 'theelmagoo': 16412, 'gopteen': 7187, 'pukesmoothi': 13246, 'mlp_delrim': 10959, 'prada': 13005, 'allen': 1409, 'freseniu': 6716, 'ppe': 12990, 'james_may_not': 8805, 'amusicvideoaday': 1544, 'knelligan12': 9442, 'king_rucku': 9395, 'outskirt': 12266, 'unitedutil': 17294, 'parasit': 12424, 'dangeri': 4633, 'transplante': 16911, 'possum': 12952, 'nooooo': 11739, 'hotti': 8034, 'heartbroken': 7684, '411naija': 579, 'niggah': 11624, 'prater': 13011, '_tonedidit': 971, 'ripross': 13957, 'baeffe': 2145, 'randompelar': 13468, 'whoo': 18064, 'bunkd': 3101, 'chant': 3580, 'rrod': 14157, 'headach': 7655, 'itristontyl': 8712, 'hamster': 7506, 'medu': 10627, 'maintenanceû_': 10321, 'swearyg': 16002, 'traderi': 16871, 'spiritu': 15457, 'againspiritu': 1226, 'charlesfr': 3595, 'frizemedia': 6743, 'dynamicfr': 5501, 'kaay_paat': 9156, 'fil': 6358, 'betrayedhunt': 2480, 'paus': 12508, 'deeper': 4810, 'motherû_': 11121, '1outsid': 311, 'liz': 9980, 'tim55081': 16630, 'bootlegalbano': 2820, 'shaunk': 14790, 'mohammedzismail': 11006, 'gunsmissilesbomb': 7407, 'neonat': 11493, 'guyana': 7419, 'msha': 11186, 'enforc': 5785, 'elkodaili': 5684, 'confid': 4118, 'rmt': 13986, '2100': 373, 'ûïliquidslap': 18784, 'songû': 15312, 'we3fordemocraci': 17892, 'rower': 14142, 'celeb': 3507, 'ciostrategyau': 3782, 'ensembl': 5805, 'counterpart': 4277, 'havin': 7623, 'weimar': 17935, 'hustlin': 8144, 'unter': 17338, 'bigdata': 2530, 'decadelong': 4774, 'billiondollar': 2562, 'harperslegaci': 7580, 'floodwat': 6492, 'anq': 1628, 'likkli': 9894, 'tetovoû_': 16330, 'sprach': 15493, 'cre': 4360, 'cile': 3776, 'doczon': 5213, 'yoursstand': 18557, 'standwout': 15583, 'invoicesx': 8617, 'ou': 12235, 'olour': 12062, 'invoicew': 8618, 'colouj': 4019, 'ike': 8307, 'kickstart': 9340, 'ivoic': 8734, 'ltbgthyderabadltbgt': 10156, 'headingû_': 7658, 'sunrisehaiku': 15899, 'poetri': 12874, 'wimberley': 18119, 'atxsmtx': 1964, 'cruddi': 4435, 'ostens': 12213, 'macabr': 10255, 'bartonleclay': 2239, 'southend': 15371, 'goodrich': 7170, 'bankruptci': 2200, 'tulsa': 17074, 'vandalis': 17486, 'aliyu': 1398, 'secschoolinnigeria': 14589, 'anakasparian': 1554, 'whini': 18034, 'aboooooortiooooonnnnn': 1050, 'defundpp': 4833, 'napa': 11367, 'ashton': 1860, '5sosquot': 700, 'economist': 5569, 'nonsens': 11727, 'propag': 13161, 'winningwhit': 18149, 'wagingnv': 17734, 'bigfoot': 2532, 'landmark': 9618, 'bosvsnyy': 2835, 'bananalivesmatt': 2181, 'hoteplivesmatt': 8028, 'hotepina': 8027, 'alfredo': 1380, 'ramdog1980': 13454, 'kahel': 9167, 'rim': 13939, 'helpabrotherout': 7739, 'chik': 3671, 'uttarakhand': 17445, 'oneindia': 12090, 'ilovenuiharim': 8323, 'underconstruct': 17240, 'luxuryhom': 10208, 'townhous': 16844, 'optic_dkarma': 12153, '528472': 662, 'who_mikejo': 18054, 'fridg': 6730, 'reallif': 13564, 'consi': 4146, 'dewat': 4983, 'cemeteri': 3515, 'infuri': 8483, 'carthag': 3416, 'currong': 4519, 'buzz': 3160, 'yorkûª': 18535, 'nassau': 11388, 'coliseumû_': 3983, 'demolitiondodg': 4877, 'johnny_detroit': 9009, 'intro': 8592, 'oppon': 12144, 'motel': 11115, 'inthespiritwebuild': 8585, '2gether': 451, 'seattleûª': 14577, 'ûupûª': 18750, 'ou_footbal': 12236, 'hajirah_': 7470, 'aleshabel': 1357, 'pitfal': 12777, 'queenbrittani_': 13343, 'hereamp8217': 7762, 'pumpkinmari_bot': 13260, 'quivk': 13366, 'hollyclegg': 7926, 'lowcarb': 10136, 'diabet': 4998, 'thedx': 16408, 'ashleydniec': 1857, 'hillaryûª': 7839, 'bimbo': 2571, 'politicsisdirti': 12901, 'bcc': 2308, 'deci': 4782, 'vivigraubard': 17660, 'shortsid': 14884, 'graf': 7233, 'obviou': 11930, 'backtrack': 2123, 'whywebik': 18073, 'bikecommut': 2547, 'dysfunctionalredlin': 5505, 'coolbreezet': 4201, 'smithsonianno': 15184, 'trainthen': 16888, 'disabl': 5078, 'fh': 6322, 'bethesda': 2477, 'janeannmorrison': 8823, 'fixwmata': 6437, 'lenfant': 9786, 'mob': 10978, 'nightmarecommut': 11630, 'lizkhalifa': 9986, 'cbcnorth': 3479, 'sacr': 14274, 'talston': 16125, 'kristnmalea': 9509, 'derailingdistract': 4912, 'wmatametro': 18191, 'shuttl': 14918, 'unsurpris': 17333, 'noon': 11735, 'wusa9': 18363, 'groupûª': 7331, 'garfieldcottag': 6907, 'terrenc': 16307, 'ti': 16603, 'wbbmnewsradio': 17869, 'amtrak': 1542, 'coloradogambl': 4015, '2338': 399, 'nasb': 11380, 'sank': 14381, 'submarin': 15814, 'bickfordûª': 2517, 'stale': 15566, 'fugazziûª': 6788, 'multimillion': 11237, 'billet': 2556, 'frugal': 6762, 'companion': 4063, 'anacrusi': 1552, 'vacantldn': 17460, 'peculiar': 12550, 'compliment': 4083, 'headspac': 7666, 'uneduc': 17262, 'steviede83': 15667, 'roathboy': 13998, 'badgeofhonour': 2137, 'harlet': 7572, 'williamtcoop': 18109, 'mtnredneck': 11200, 'peregrinekiwi': 12597, 'boymonst': 2873, 'cp2020': 4315, 'corpor': 4238, 'wilder': 18096, 'iglxenix': 8284, 'pvp': 13297, 'bombard': 2780, '2disc': 448, 'colbert': 3969, 'amidst': 1510, 'olympusû_': 12066, 'becauseim': 2351, 'interestud': 8564, 'techfre': 16235, 'reenslav': 13652, 'adz77': 1184, 'thereûª': 16470, 'momtherbot': 11030, 'alexhern': 1369, 'vr': 17705, 'skate': 15056, 'taguatinga': 16091, 'campeonato': 3284, 'villain': 17607, 'nbcthewiz': 11439, 'musketeiro': 11272, 'nusrah': 11863, 'thesun': 16478, '3946': 537, 'evdaikoku': 5970, 'zjwhitman': 18650, 'carp': 3399, 'leftsid': 9749, 'dudeh': 5437, 'valerielol': 17472, 'otp_destroy': 12229, 'kiki': 9361, 'fixitjesu': 6436, 'sokoto': 15275, 'soohel': 15323, 'repent': 13767, 'children': 3679, '3936': 532, 'bomban': 2779, 'recur': 13619, 'm1tchell1987': 10235, 'mee': 10629, '19000': 262, 'rebuilt': 13589, 'blockad': 2687, 'opengaza': 12135, 'kaytlinmartinez': 9242, 'lyk': 10218, 'anncoult': 1610, 'immigrantsdeserv': 8347, 'destroyedit': 4944, 'clarion': 3827, 'azeroth': 2085, 'onc': 12081, 'peterarnottgla': 12644, 'rae': 13413, 'mull': 11226, 'airportwatch': 1289, 'motorway': 11132, '2reduc': 468, 'fume': 6802, 'iam_destruct': 8195, 'abound': 1053, 'destructiondefundpp': 4946, '80000': 816, 'otsuka': 12233, 'nobl': 11692, 'bureaucrat': 3105, 'codevelop': 3950, 'åêwa': 18695, 'hjudeboudreaux': 7890, 'henchman': 7751, 'billdanzemop': 2554, 'famemop': 6161, 'browndeton': 3021, 'listenpurchas': 9940, 'nickkristof': 11610, 'contradictori': 4179, 'uninhabit': 17286, 'alternativesûócategoricallyûówer': 1458, 'someone92883220': 15297, 'wwiiera': 18376, 'newer': 11537, '9395': 893, '28lv6': 433, 'indic': 8427, 'irretriev': 8666, 'airborn': 1279, 'sjfeb': 15048, 'as10012': 1833, 'jcenter': 8873, 'uhoh': 17194, '1580992': 194, '9096': 869, 'subaru': 15806, '22lh4': 394, '1581028': 196, 'jerusalempost': 8912, 'golan': 7152, '213296': 377, 'ks225': 9519, '917032': 880, 'altitud': 1460, 'israelnew': 8694, 'polishedston': 12897, 'yeetrpan': 18490, 'martinbarrow': 10469, 'aaron': 998, 'dannybmil': 4645, 'bitchi': 2600, 'perla': 12613, 'antebellum': 1632, 'tagliatel': 16090, 'meatbal': 10604, 'sauc': 14422, 'humblethepoet': 8104, 'lilli': 9899, 'superbactor': 15908, '_gags_': 950, 'nomorepod': 11714, 'coleenlisa': 3977, 'otrabaltimor': 12230, 'mpd': 11160, 'armstrong': 1794, 'cnnhotd': 3915, 'handcuf': 7514, 'hookup': 7983, 'piggi': 12732, 'packard': 12332, 'ûïeven': 18773, 'freedomû': 6697, 'hqhed': 8054, 'walkthrough': 17757, 'przez': 13201, 'hid': 7803, 'shown': 14901, 'nikkihaley': 11639, 'gilgitbaltistan': 7052, 'irin': 8655, 'reconstruct': 13609, 'reduct': 13646, 'quinhii': 13363, 'otl': 12223, 'i74': 8184, 'crawfordsvil': 4348, 'privatis': 13108, 'greedyrich': 7281, 'paladin': 12361, 'microsoftûª': 10786, 'nokia': 11706, 'overpopul': 12287, 'brat': 2903, 'sass': 14404, 'ndp': 11448, 'ûdisast': 18715, 'huffpostalberta': 8085, 'harperblamesalbertan': 7579, '735m': 783, 'transocean': 16910, 'recoversû_': 13616, 'debut': 4771, 'severino': 14711, 'disadvantag': 5080, 'mightyworld': 10807, 'oof': 12119, 'vassal': 17504, 'ineedja_kadeeja': 8450, 'justbitch': 9129, 'abnorm': 1045, 'setxnew': 14703, 'droughttoler': 5394, 'perenni': 12598, 'mont': 11050, 'delinqu': 4849, 'pasadena': 12460, 'marcvegan': 10409, 'nondairykerri': 11717, 'lb': 9710, 'etx': 5940, 'marionharrison': 10435, 'kltv7': 9433, 'thompson': 16539, 'kondobyjaymoni': 9475, 'anticip': 1643, 'jonbuda': 9032, 'tattooin': 16169, 'dolphfan36': 5235, 'itdidnt': 8706, 'ladytrain': 9587, 'craft': 4329, 'leftov': 9748, 'clementin': 3853, 'reallyyi': 13565, 'wagyu': 17735, 'heap': 7675, 'smucker': 15197, 'vanquiishh': 17494, '700': 756, 'tlot': 16688, 'waar': 17725, 'ctot': 4471, 'nlu': 11675, 'oilersjaysfan': 12022, 'hoodi': 7979, 'lj': 9990, 'ej': 5638, 'beastburg': 2333, 'beyondmeat': 2492, 'ketchup': 9309, 'wdijon': 17886, 'abrianna': 1057, 'benwunsch': 2450, 'broth': 3014, 'epilept': 5851, 'lend': 9784, 'fcking': 6245, 'dìäjìû': 5509, 'vuuuuu': 17717, 'befoooooooor': 2376, 'newsvideo': 11564, 'fidget': 6335, 'ricochet': 13916, 'ghostprotocol': 7030, 'susfu': 15971, 'cptesco': 4318, '0939pm': 59, 'beenû_': 2369, 'christinaperri': 3743, 'askceep': 1872, 'colinodonoghue1': 3982, 'hookier': 7982, 'whatupdav': 18015, '2075': 361, 'pickathon': 12714, 'sunsetballard': 15902, 'tomonakayama': 16754, 'prevail': 13077, 'pheonix': 12676, '140km': 176, 'ferndal': 6298, 'lizxy_': 9987, 'manuscript': 10392, 'viayoutub': 17566, 'fiji': 6357, 'epicen': 5846, 'ramona': 13456, 'unitedst': 17293, 'maeisdumb': 10284, 'whoahahahahhdj': 18056, 'dnt': 5203, 'unhealthyeat': 17279, 'samsmith': 14353, 'baano': 2104, 'pepsi': 12592, 'spoiler': 15474, 'maci': 10262, 'thanksgiv': 16356, 'joelheyman': 8986, '750k': 792, 'anythinû_': 1663, 'flick': 6481, 'boomshunga': 2811, 'ellaemusic_': 5687, 'philadper2014': 12682, 'earphon': 5526, 'bedhair': 2362, 'vagrant': 17465, 'hairdryer180': 7464, 'shgame': 14825, 'eco': 5562, 'iwouldntgetelectedbecaus': 8740, 'wireswait': 18160, 'nevermind': 11523, '11211': 115, 'uac': 17171, 'knobbootemerg': 9448, '5û_': 704, 'nashnewvideo': 11383, 'nashgrier': 11381, 'dilemma': 5051, 'setback': 14695, 'righteous': 13931, 'jah': 8784, 'supplement': 15927, 'modesto': 10994, 'stephghinojosa': 15650, 'jk': 8969, 'gmanew': 7119, '119': 130, 'sri': 15532, 'lanka': 9634, 'go2markfranco': 7130, 'caleen': 3229, 'sisk': 15021, 'shastadam': 14788, 'wfocu': 17996, 'winnemem': 18147, 'emergencyrespons': 5716, 'businsmagazin': 3139, '660new': 736, 'nenshi': 11491, 'prosynd': 13180, 'airdri': 1281, 'okotok': 12039, 'kimacheson': 9374, 'ballina': 2172, 'genefmyburgh': 6968, 'crimeairnetwork': 4392, 'deliveri': 4852, 'thisisafrica': 16520, 'streamlin': 15740, 'insofar': 8520, 'organizationabbog': 12184, 'jinxy1888': 8961, 'payforithow': 12519, 'mend': 10679, 'bodyûª': 2760, 'awesomejobsiri': 2061, 'plumber': 12847, 'localplumb': 10020, 'mickbland27': 10777, 'ped': 12551, 'fellowship': 6281, 'careerarc': 3372, 'issaquah': 8696, 'bodminmoor1': 2758, 'expertis': 6045, 'cornwal': 4235, 'finest': 6381, 'snackwave_juli': 15204, 'flamecor': 6449, 'projectil': 13148, 'intim': 8586, 'fishiest': 6424, 'crown_769': 4428, 'heartburn': 7686, 'salha1harri': 14320, 'styles2u': 15800, 'p_eoplehurryevacu': 12323, 'fromhelljust': 6749, 'shahadaamppickmeclass_sick': 14744, 'henc': 7750, 'broom': 3011, 'lookin': 10077, 'yourgirlhaileyi': 18556, 'leaveevacuateexitb': 9734, 'banish': 2196, 'regal': 13671, 'misschaela_': 10918, 'evauc': 5969, 'kocomcaboy': 9463, 'orakei': 12162, 'chesterfield': 3650, 'newsbrokenemerg': 11554, 'servicesgold': 14689, 'coastpowerlinetramtr': 3931, 'fortitudevalley': 6610, '7am': 805, 'bunker': 3102, 'cheney': 3642, 'ktchn': 9526, 'clearlak': 3847, 'lik': 9890, 'pell': 12568, 'string': 15759, 'conceal': 4093, 'rejuven': 13701, 'pqhaxp': 12996, 'anatom': 1561, 'iaavroiv': 8192, '40money': 573, 'nothin': 11791, 'hardwel': 7570, 'aboveandbeyond': 1055, 'stillnotoverit': 15680, 'needi': 11469, 'ulcer': 17204, 'waggon': 17733, 'bnvfdag': 2740, 'kcem': 9251, 'whitner': 18050, 'hale': 7472, 'madrivercomplex': 10282, 'casrf': 3433, 'calfire_pio': 3233, 'willowfir': 18115, '52': 659, 'wyattmccab': 18387, 'copenhagen': 4213, 'wintergreen': 18153, 'bblf': 2300, 'magicallest': 10294, 'moreû_': 11086, 'sooooooo': 15332, 'hourû_û_': 8037, 'explodelight': 6052, 'aphid': 1685, 'northiowa': 11767, 'fromthefield': 6751, 'alltheway80': 1429, 'bleach': 2664, 'thongshudd': 16540, 'boudoir': 2842, '649': 729, 'metrolink': 10726, 'thatink': 16363, '7080000': 761, 'micro': 10780, 'shironu_akaineko': 14847, 'tap': 16147, 'rickoshea': 13912, 'anthonyshead': 1637, 'nicholasbrendon': 11603, 'dublincomiccon': 5427, 'rte2fm': 14174, 'whattt': 18014, 'marymc21': 10479, 'sorta': 15345, 'hp': 8052, 'lto5': 10163, 'lump': 10194, 'warehous': 17783, 'divest': 5163, 'pmngiqi': 12860, 'paradigm': 12415, 'shawlarmedeai': 14793, 'abh': 1033, 'mrbrianorl': 11170, 'straw': 15734, 'napl': 11368, 'theblacklink': 16385, 'rasaudauthor': 13490, 'caiguoqiang': 3215, 'philadelphiamuseuû_': 12681, 'sprint': 15501, 'karaman': 9203, 'brendan': 2940, 'gawlowski': 6929, 'eyewitnesswv': 6093, 'frack': 6650, 'ecocid': 5564, 'edmundadamu': 5595, 'campionjoann': 3289, 'carter': 3414, '79': 801, 'jpii': 9071, 'toread': 16799, 'newsthousand': 11563, 'repmikerogers': 13772, 'benghazi': 2435, 'werenotgrubervot': 17961, 'extremeåêweath': 6083, 'gopcontrol': 7185, 'busta': 3141, 'reliabl': 13713, 'intldevelop': 8588, 'wuckforld': 18359, 'lioniskingrtac': 9924, 'heroic': 7772, 'kyiv': 9559, 'europeradio': 5954, 'ukrainian': 17202, 'ua': 17169, 'msm': 11187, 'dwell': 5491, 'confin': 4120, 'botha': 2837, 'apartheid': 1676, 'tutu': 17103, 'nobel': 11691, 'prize': 13111, 'ira': 8640, '71': 766, 'fatalit': 6214, 'f16': 6099, 'mediaû_th': 10616, 'ladyshaxx': 9586, 'reck': 13598, 'intrus': 8598, 'interior': 8565, 'noobd': 11732, 'comingsoonnet': 4042, 'yeeessss': 18488, 'kp2': 9497, 'kostum': 9488, 'uptick': 17368, 'statewid': 15610, 'courier': 4287, 'figuresk': 6356, 'toshikazukatayama': 16816, 'reportonlyquakenew': 13776, 'earthquakereportû_': 5530, 'wsea': 18345, 'king5seattl': 9393, 'martinsymiguel': 10471, 'filipecoelho92': 6360, 'flourish': 6507, 'sleigh': 15113, 'toothsom': 16785, 'onrhpz': 12105, 'blawnnde': 2655, 'mortalkombat': 11100, 'mortalkombatx': 11101, 'fanart': 6175, 'youtubeû_': 18561, 'asher': 1851, 'lotm': 10111, 'writingweekli': 18330, 'addictioni': 1146, 'paulrogers002': 12507, 'oncolog': 12083, 'godhunt_sltv': 7138, 'fatalityaft': 6217, 'kindamort': 9380, 'dat_vi': 4680, 'fleshgod': 6475, 'jeremycorbyn': 8904, 'spade': 15394, 'savvi': 14444, 'owenjones84': 12311, 'conquer': 4139, 'oculusrift': 11953, 'virtualr': 17638, 'skydragonforc': 15079, 'nazir': 11428, 'crackdownsû_': 4325, 'waynerooney_ina': 17863, '3nach9': 552, 'tatort': 16167, 'hbwahl': 7645, 'weser_kuri': 17966, 'hbbuergerschaft': 7644, 'jerusalem_post': 8911, 'emmeryn': 5738, 'pinki': 12755, 'freaki': 6677, '21joseph': 385, 'hotdog': 8025, 'usb': 17407, 'chromebook': 3749, 'bog': 2762, 'cpu': 4319, 'minutemaniac': 10884, 'shieldmaidn': 14831, 'bigfatdav': 2531, '2x10': 471, 'trakt': 16893, '_nicksimboli_': 960, 'equival': 5864, 'traplordth': 16918, 'din': 5056, 'memez': 10669, 'åà': 18687, 'tractortrail': 16865, 'turnpik': 17098, 'hallett': 7486, 'kamper': 9189, 'hose': 8012, 'ltd': 10157, 'toy': 16849, 'tonka': 16764, 'tfd': 16342, 'dmon2112': 5194, 'c_t_morgan': 3188, 'atop': 1943, 'latternno2015': 9672, 'calendar': 3230, 'warwick': 17809, 'driscol': 5369, 'snag': 15205, 'parkway': 12438, 'langhornemiddletown': 9628, 'njdotcom': 11665, 'xshanemichaelsx': 18440, 'instaxbooti': 8535, 'johnnyxphixxl': 9010, 'tumbleon': 17076, 'feedback': 6270, 'firstnet': 6420, 'tuition': 17071, 'cfr': 3541, 'hancock': 7511, 'memorial_day': 10673, 'memorialday': 10674, 'eufaula': 5943, 'tankerfir': 16140, 'reli': 13712, 'pnppro1': 12863, 'traine': 16887, 'mlsudder': 10962, 'spd': 15408, 'shreveport': 14904, '930pm': 889, 'canteen': 3325, 'allergan': 1413, 'refresh': 13661, 'myhometown': 11314, 'livesmatt': 9974, 'aljavieera': 1399, 'publicsafetyfirst': 13237, 'cedar': 3503, 'terri': 16308, 'linford': 9918, '4353271148': 591, 'extant': 6070, 'writerssh': 18327, 'overext': 12280, 'xodeemorgss': 18432, 'clockworkheart': 3879, 'gah': 6860, 'zion': 18639, 'shin': 14837, 'pin': 12745, 'jackcarter22': 8755, 'bricktop': 2952, 'vavazouma': 17509, 'unlik': 17304, 'donaldson': 5247, 'johndavidblak': 8999, 'curli': 4513, 'impur': 8375, '80pc': 822, 'tibetan': 16609, 'spacer': 15390, 'bead': 2325, '55x1': 684, 'st3ph007': 15544, 'pedagogypractic': 12552, 'bfc630nz': 2495, 'fiorentina': 6393, 'lustig': 10206, 'flattenedh': 6461, '00': 0, '76min': 797, 'breh': 2936, 'cheesecak': 3628, 'followerofdol': 6544, 'ner': 11499, 'cyberman': 4545, 'satisfact': 14416, 'flood_magazin': 6490, 'hotchip': 8024, 'hot_chip': 8021, 'greektheatrela': 7283, '8132748811': 824, 'waianapanapa': 17739, '435pm': 592, 'dwindl': 5494, 'suppl': 15926, '700am': 759, 'morning1200pm': 11094, 'schwarzenegg': 14499, 'focus': 6533, 'endofu': 5775, 'jessica': 8915, 'awh': 2065, 'tl': 16685, 'massiveåêflood': 10493, 'caseyliss': 3426, 'fathom': 6223, 'byebyeroad': 3169, 'popmech': 12924, 'duplic': 5464, 'ofa': 11962, 'ampautom': 1526, 'netbot': 11507, 'complimentari': 4084, 'upclos': 17350, 'areasû_': 1753, 'asgharchohan86': 1844, 'adilghumro': 1153, 'kpk': 9501, 'thar': 16359, 'copolit': 4216, 'asylumû_': 1914, 'news5': 11549, 'ibalita': 8209, 'gaga': 6858, 'laleh': 9601, 'pandaw': 12385, 'expedit': 6038, 'myanmarflood': 11306, 'kolkata': 9470, 'jackiekatu': 8759, 'firedamn': 6400, 'krnv': 9512, 'chopper': 3714, '3acr': 540, 'mostli': 11114, 'slownewsday': 15141, 'agen': 1231, 'cossackshussar': 4254, 'riggd': 13928, 'rough': 14126, 'gladewer': 7082, 'kindlng': 9388, 'glowng': 7113, 'hollow': 7924, 'frnch': 6744, 'lldub': 9991, 'vineyard': 17616, 'lvl': 10212, 'stubborn': 15779, 'rz': 14252, 'iranelect': 8643, 'peopleforestswildlifewat': 12586, 'bitterroot': 2610, 'mountaintop': 11141, 'scent': 14480, 'wildflow': 18099, 'distant': 5146, 'fieldworksmel': 6339, 'rivercomplex': 13973, 'cashf': 3429, 'fellow': 6280, 'eagl': 5514, 'froilan_canin': 6748, 'delight': 4848, 'byz': 3180, 'yellowston': 18497, 'hvi': 8148, 'spann': 15401, 'magnafi': 10297, 'arcadia': 1743, 'crop': 4414, 'sleet': 15112, 'shannon': 14767, 'adolwyn': 1162, 'jwagstaff': 9150, 'oldsfiredept': 12050, 'hwy27': 8155, 'approxim': 1720, 'then0mads0ul': 16443, 'richi': 13905, 'herald': 7760, 'thebrokenc': 16393, '2night': 462, 'thebanffcentr': 16382, 'jplocalfirst': 9072, 'eliotschool': 5676, 'yyctraff': 18588, 'caller': 3248, 'overpass': 12286, 'crowchild': 4424, 'smallsiz': 15161, 'yychail': 18586, 'prairi': 13008, 'calgaryweath': 3239, 'realdepress': 13552, 'ûïwarningû': 18808, 'alter': 1456, 'norcinu': 11750, 'thebodyshopaust': 16388, 'thomaldo': 16532, 'scrub': 14544, 'toothpast': 16784, 'aquat': 1732, 'ecosystem': 5570, 'nameamen': 11357, '12k': 157, 'ibrahimov': 8222, 'vapor': 17498, 'footballfreestyle247': 6564, 'kagawa': 9166, 'januzaj': 8835, '3match': 550, 'mishavelgo': 10909, 'mattbacal8': 10518, 'accur': 1092, 'feroze17': 6300, 'warandsetpiec': 17779, 'depay': 4899, 'nvidia': 11869, '2001': 326, 'volvo': 17693, 'xc70': 18411, 'dashboard': 4678, 'wvent': 18365, 'fplhint': 6647, 'ozil': 12318, 'ritchi': 13964, 'fplboss': 6646, 'hazzel': 7643, 'batman': 2267, 'sergio': 14677, 'nemanja': 11488, 'matic': 10514, 'hazard_vn': 7634, 'accuracyesport': 1094, 'superbobbypir': 15909, 'cantona': 3328, 'pepe': 12589, 'ine': 8446, 'instyl': 8543, 'dispos': 5137, 'feebl': 6268, 'marketresearch': 10446, 'alfa': 1376, 'multidimen': 11232, 'moneymaker32931': 11038, 'dsp': 5412, 'multidimensio': 11234, 'tsa': 17050, 'abid': 1036, 'osha': 12207, 'codesstructur': 3949, 'theres': 16467, 'dominguez': 5242, 'phmsa': 12693, 'multidimensiona': 11236, '50k': 649, 'deliri': 4850, 'peter': 12643, 'multidim': 11231, 'kaimai': 9169, 'aa_traff': 986, 'gtalaskapubl': 7355, 'cheapli': 3619, 'brokelyn': 3000, 'brokelynati': 3001, 'durden': 5470, 'dhhj': 4994, 'crawlieswithcri': 4350, 'rob0sullivan': 14000, '25c': 423, 'rash': 13492, 'ingescott': 8485, 'camplogist': 3290, 'autopsi': 2021, 'klinenberg': 9430, 'sportguyshow': 15485, 'extinctionp': 6077, 'ûïheat': 18778, 'domeû': 5240, 'facilitydud': 6118, 'facilitiesmanag': 6117, 'hydrat': 8161, 'waveû_': 17855, 'walpurgisnightz': 17764, 'laptop': 9643, 'spikepoint': 15449, 'skie': 15066, 'emmap645': 5736, 'vickygeex': 17577, 'nickgroff_': 11608, 'aarongoodwin': 999, 'investigatin': 8611, 'qelricdk': 13317, 'citadel': 3791, 'joann': 8976, 'himika': 7846, 'amas': 1478, 'foresaw': 6581, 'feb': 6261, 'malyasiaairlin': 10353, 'stagefright': 15558, 'formerû_': 6598, 'wirelessli': 18159, 'steer': 15634, 'iso27001': 8690, 'daehyvn': 4573, 'graham': 7234, 'justgiv': 9132, 'donba': 5249, 'ticken': 16611, 'spencer_ellmor': 15434, 'centretransf': 3525, 'norwich': 11777, 'pita': 12773, 'shortcut': 14881, 'abc7newsbayarea': 1020, 'giveû_': 7077, 'daysonli': 4721, 'coz': 4310, 'kidsbut': 9349, 'ykjl': 18518, 'ign': 8286, 'sahelnew': 14297, 'mch2601': 10573, 'realdb4prez16': 13551, 'albert': 1336, 'fatima': 6224, 'biven': 2612, 'csgpelmash': 4457, 'eatshit': 5547, 'momentsathil': 11024, 'nunu': 11860, 'tima': 16633, 'feastdll': 6257, 'dll': 5188, 'reasonvsfear': 13573, 'nonononono': 11723, 'blackhat': 2633, 'elasticainc': 5645, 'aunft': 1989, 'intrud': 8597, 'dailyglean': 4583, 'tjprovinci': 16682, 'tjgreatersj': 16681, 'randomactsofrom': 13467, 'sinai': 14979, '4i': 621, '48åêhour': 616, 'chaco': 3549, '8pm': 861, 'crunchysens': 4442, 'footwear': 6566, 'bitdefend': 2605, 'antiviru': 1650, 'vendor': 17528, 'damballa': 4608, 'teamnyl': 16220, 'thechiv': 16397, 'bidtim': 2523, 'bluecurls8': 2723, 'worthfull1': 18282, 'beta': 2474, 'tobia': 16705, 'hankel': 7529, '5oilwork': 695, 'overpow': 12288, 'manori': 10382, 'gnocchi': 7126, 'thine': 16505, 'rbpk': 13525, 'snction': 15212, 'miltary150bilno': 10843, 'inspctkp': 8523, 'hostagesthrosw': 8018, 'gutrkp': 7416, 'hlp': 7893, 'ajmal': 1298, '30005000': 476, 'enslav': 5806, 'indiatoday': 8425, 'iamtssudhir': 8201, 'nationfirst': 11403, 'lasvega': 9657, 'nit': 11654, 'watchmanis216': 17834, 'al_thegoon': 1316, 'habor': 7437, 'slix': 15131, 'wavi': 17857, 'hershey': 7775, 'wdsu': 17888, 'orlean': 12193, 'reinhardbonnk': 13695, 'leeranaldo': 9743, 'lcoutofdoor': 9714, 'bpgvii_goat': 2877, 'sandyûª': 14372, 'times4': 16644, 'newsbreak': 11553, 'sothathappen': 15347, 'radcliff': 13402, 'policeman': 12890, 'karjo': 9208, 'macomb': 10267, 'desean': 4922, 'skinson9': 15072, 'hegot': 7712, 'loganmeadows11': 10038, 'christianstec_': 3738, 'sled': 15108, 'braves_ninja': 2906, 'david_brelsford': 4699, 'toi_india': 16727, 'neelum': 11471, 'dud': 5433, 'muzaffarabad': 11291, 'wral': 18309, 'wellington': 17947, 'lp': 10143, 'edmontonesk': 5593, 'adariu': 1143, 'bowman': 2861, 'yeg': 18491, '85': 839, 'jaron': 8847, 'nydnsport': 11890, 'rebirth': 13584, 'nflnetwork': 11580, 'azcardin': 2084, 'jaesmoothcyb': 8779, 'rusher': 14222, 'ly': 10215, 'i80': 8187, 'mva': 11295, 'e7': 5512, 'r7': 13384, 'sunstar': 15904, 'injuriesû_': 8496, 'ringsau': 13943, 'tb4': 16186, 'birdgang': 2589, 'michiganautolaw': 10776, 'stevegursten': 15660, 'autoaccid': 2012, 'mild': 10820, 'tbi': 16188, 'justicedotorg': 9134, 'tyuler': 17165, 'dirk': 5072, 'injuriesthat': 8495, 'uis': 17195, 'alredi': 1447, 'asx100': 1912, 'spursûª': 15509, 'marjanov': 10437, 'eurobasket': 5950, 'nflweek1pick': 11581, 'dunbaramp039': 5456, '_keypster': 955, 'qb': 13315, 'unaffect': 17220, 'fosteramp039': 6617, 'heenan': 7711, 'wildlifeif': 18102, 'eliistender10': 5672, 'splat': 15462, 'joketheyr': 9021, 'thebrooklynlif': 16394, 'ryanair': 14246, 'dictionarycom': 5022, 'wordoftheday': 18243, 'twitterp': 17137, 'useyourword': 17415, 'highlight': 7816, 'replenish': 13770, 'leaderûª': 9722, 'weari': 17905, 'notsorri': 11804, 'gls15': 7114, 'rossifumibhai': 14117, 'alexeel': 1366, '38_degre': 527, 'unilev': 17282, 'epao': 5842, 'marsac': 10464, 'manipur': 10373, 'causin': 3467, 'womanxk': 18219, 'ideasth': 8250, 'sociologist': 15261, 'doer': 5217, 'mhl': 10752, 'r_o_m': 13386, 'tommygshow': 16753, 'burlington': 3112, 'landslidedamag': 9624, 'virtu': 17636, 'dkhqgv': 5183, 'kdudakia': 9255, 'elector': 5652, 'preeti_chopra2': 13031, 'chinmaykrvd': 3693, 'nitish': 11657, 'bihar': 2545, 'artifact': 1821, 'horsesho': 8010, 'chihaya': 3670, 'static': 15612, 'seeiey': 14599, 'seeley': 14602, 'ge2015': 6953, 'rakestrawjeff': 13446, 'sum': 15859, 'krag': 9504, 'todo': 16722, 'administ': 1157, 'qct': 13316, 'lide': 9856, 'ceciltownship': 3502, 'southpoint': 15375, 'boulevard': 2845, 'statesmanlik': 15607, 'cv': 4537, 'inaugur': 8380, 'jgisavq': 8942, 'disneypixar': 5125, 'miss_instiinctz': 10916, 'kherr122': 9328, '07222015': 42, 'kofapp': 9466, 'lavamobil': 9689, 'iri': 8654, '402': 569, 'bestdayeva': 2466, 'mirnawan_13': 10895, 'zakia_kiia': 18608, 'nether': 11511, 'spawn': 15407, 'alienateplay': 1389, 'bracelet10mm': 2881, 'etsymntt': 5939, 'handmadejewelri': 7519, '_souuul': 969, 'niastewart3': 11599, 'nrmawa': 11830, 'domino': 5245, 'culinari': 4491, 'cuisin': 4490, 'gracemccreave_': 7229, 'jamisonevann': 8813, 'jace_swain': 8751, '_laneyslif': 957, 'jacksonlaurie1': 8768, 'closer': 3882, 'tontitowngrap': 16766, 'tgf2015': 16346, 'jgf': 8941, 'rebeccafav': 13580, 'awhil': 2066, 'ramifi': 13455, 'multitudin': 11241, 'kwxggt': 9555, 'ltdaliu': 10158, 'villanova': 17609, 'academi': 1073, 'finalist': 6371, 'struckû_': 15772, 'followtheblond': 6549, 'reba': 13577, 'leesburg': 9744, 'scoreless': 14513, 'seventh': 14708, 'fcsl': 6248, 'ibliz140': 8216, 'tksgs0810': 16683, 'kiilud': 9356, 'kimanzi_': 9375, 'shrnnclbautista': 14906, 'sun_ofgod': 15878, 'newborn': 11532, 'dumpster': 5453, 'ijreview': 8302, 'snicker': 15217, 'johnmtaita': 9006, 'amaa': 1472, 'jd_marsh22': 8876, 'candlelight': 3308, 'alex_the_murd': 1359, 'absol': 1059, 'houz': 8043, 'personit': 12629, 'redscarebot': 13642, 'musim': 11270, 'rawrheem': 13509, 'vers': 17547, 'massmurd': 10494, 'massrap': 10496, 'conservatexian': 4145, 'cynicalr': 4555, 'letsbe_r': 9815, 'mishawel': 10910, 'llr517': 9996, '140000': 174, 'campepperr': 3285, 'greta': 7301, 'impeach': 8355, 'zuma': 18666, 'bashir': 2249, 'sudan': 15835, 'genoû_': 6978, 'asad': 1834, 'emekagift': 5713, 'vpsay': 17703, 'muhammadu': 11222, 'buhari': 3073, 'pedophil': 12558, 'sooooo': 15331, 'aparra210': 1674, 'stereotyp': 15653, 'itv2im': 8726, 'reread': 13792, 'syvret': 16059, 'gojam_i_am': 7149, 'tomb': 16741, 'unchart': 17229, 'croft': 4412, 'ruthless': 14233, 'libertarian': 9842, 'fanat': 6176, 'hygien': 8163, 'sensibl': 14650, 'convict': 4194, 'theatertri': 16378, 'phoenix_blu': 12696, 'fromthedesk': 6750, 'kenyatta': 9297, 'muumbo': 11290, 'quantumdatainformat': 13334, 'stefsy14': 15637, 'xmissxanthippex': 18430, 'kermit': 9301, 'wcbd': 17876, 'iraqûª': 8649, 'stoodampwatch': 15700, 'serb': 14673, 'yougslavia': 18540, 'timesnewsdesk': 16647, 'glenco': 7090, 'clam': 3821, 'clambak': 3822, 'showgirldayoff': 14900, 'tomlandri': 16749, 'infami': 8455, 'terrarium': 16305, 'hijink': 7827, 'eswenrag': 5922, 'halloween': 7489, 'pakistanexfeder': 12355, 'fia': 6324, 'tariq': 16155, 'khosa': 9330, 'avalon': 2030, '818': 827, '4478427': 598, 'dash': 4677, 'thedreaminggoat': 16407, 'mayhem0407': 10547, 'robertosagued': 14010, 'followngain': 6548, 'themgwvboss': 16440, 'ynovak': 18521, 'iammrcash': 8198, 'frankies_styl': 6667, 'mamanyadana': 10355, 'mayhem_4u': 10549, 'concertphotographi': 4099, 'livemus': 9967, 'canonû_': 3321, 'pnc': 12861, 'holmdel': 7932, 'nab': 11340, 'elû_': 5703, 'waffl': 17730, 'madonna': 10280, '1987': 296, 'nowyouknow': 11820, 'featcha': 6259, 'metztheband': 10731, 'edkin': 5589, 'subpopsign': 15819, 'julescheff': 9101, 'z_hoffman96': 18596, 'zack': 18603, 'madsumm': 10283, 'sebastianstanisaliveandwel': 14581, 'civilwar': 3808, 'rymathieson': 14249, 'momentum': 11025, 'investor': 8612, 'timcook': 16635, 'ronfunch': 14082, 'meltdown_show': 10662, 'funch': 6804, 'mortgag': 11104, 'kumailn': 9533, 'irongi': 8661, 'gramzd': 7237, 'anomali': 1623, 'yknow': 18519, 'chelseavperetti': 3637, 'sbjohn12': 14458, 'btm': 3047, '9th': 926, '2out': 463, 'flirt': 6486, 'inspector': 8525, 'admir': 1159, 'nationwid': 11404, 'shortchang': 14880, 'booni': 2814, 'usmc': 17421, 'airsoft': 1290, 'paintbal': 12349, 'cp030': 4314, 'texian': 16336, 'iliad': 8310, 'hardin': 7564, '951': 900, 'automechan': 2020, '1944': 277, 'oiler': 12021, 'gpw': 7223, 'weakley00': 17895, 'socialjerkblog': 15254, 'videogt': 17594, 'ûïprefer': 18798, 'negotiationû': 11477, 'gatewaypundit': 6922, 'm9a1': 10246, 'phrobi': 12706, 'sheath': 14801, 'nr': 11825, 'gorillathumbz': 7192, 'jonathanserri': 9030, 'alexxpag': 1375, 'tajikistan': 16102, 'mudslidehit': 11214, 'tajik': 16101, 'bbcone': 2296, 'burrito': 3125, 'happenedlook': 7543, 'dorrett': 5283, 'blackforestgateau': 2631, 'picniclest': 12720, 'ineedcak': 8448, 'curryspcworld': 4520, 'melindahaunton': 10653, 'bottleowhit': 2840, 'toopain': 16781, 'patrickandsam': 12490, 'ghaccount': 7022, 'inventori': 8608, 'rattl': 13502, 'dolakha': 5231, 'bono': 2797, 'probononew': 13120, 'planetx': 12802, 'jaysen': 8869, 'wormwood': 18270, 'washi': 17817, 'ep7': 5840, '2079': 362, 'bacon': 2127, 'erasureisnotequ': 5869, 'jonk': 9037, 'jamucsb': 8818, '15day': 199, 'railwayprop': 13430, 'disasterhiroshima': 5088, 'yale': 18465, 'archiv': 1749, 'anonymousû_': 1626, 'truthfrequencyradio': 17043, 'nonuk': 11730, 'amerikkka': 1506, 'whiteterror': 18047, 'fubiz': 6775, 'regulatori': 13687, 'authoritarian': 2007, 'wdr': 17887, 'lacci': 9577, 'maximeristavi': 10539, 'finland': 6386, 'rosatom': 14106, 'nuclearpow': 11847, 'thorcon': 16541, 'nuclearrcsa': 11848, 'defense_new': 4827, 'fission': 6426, 'jukkaoksaharju': 9100, 'ollirehn': 12060, 'juhasipila': 9097, 'albertbrook': 1340, 'ayatollah': 2077, 'khomeini': 9329, 'onofr': 12103, 'payer': 12518, 'trinityfox_': 16985, 'battyafterdawn': 2278, 'drawliomdraw': 5343, 'nathaniel': 11401, 'rateliff': 13496, 'mileswitht': 10825, 'weaponri': 17902, 'lunaci': 10196, 'paulosergiomdc': 12506, 'theirand': 16423, 'vow': 17702, 'mirajan': 10892, 'lionofjudah1948': 9925, 'americanjewri': 1503, 'pursu': 13284, 'itstiimothi': 8721, 'bhill': 2505, 'beez': 2374, 'cavali': 3470, '7071': 760, 'laker': 9598, 'geni': 6972, 'youcantsitwithu': 18537, '21day': 383, 'wadeycak': 17728, 'thundercasttv': 16592, 'heyooo': 7784, 'ohnoeunha': 12014, 'hyukki': 8172, 'chulli': 3760, 'eunha': 5946, 'koscielnyfc': 9485, 'gabriel': 6851, 'fibula': 6328, 'its2015america': 8713, 'derek': 4916, 'skeeter': 15059, 'hasnûªt': 7603, 'alloutash23_sn': 1423, 'brotherboyfriend': 3016, 'mdva': 10589, 'roquey': 14101, 'mollusk': 11017, 'dinnerwithjuli': 5060, 'fishtail': 6425, 'cent': 3519, 'natti': 11412, '301': 479, 'leonc1963': 9798, 'romangaul': 14066, 'makrina91': 10336, 'yank': 18469, 'nuk': 11856, 'wormhol': 18269, 'dire': 5065, 'lieû_': 9859, 'mindkil': 10853, 'ping': 12753, 'schemat': 14487, 'obliterationxmwt': 11922, 'xlgamesru': 18427, 'fearfear': 6255, 'mindkillerfear': 10854, 'obliterationi': 11921, 'bradohearn': 2887, 'bcwilliams92': 2314, 'scotu': 14526, 'michael_0000': 10766, 'retali': 13838, 'kdonhoop': 9253, 'oldfolkexplainstuff': 12049, 'biltz': 2570, 'jethro_harrup': 8925, 'hangarback': 7524, 'raptur': 13485, 'facad': 6110, 'deplor': 4901, 'pipelineû_': 12762, 'globetrottingwino': 7102, 'norri': 11755, 'itwith': 8727, '1138am': 121, '1154am': 125, 'mump': 11249, 'misslyndaleigh': 10929, 'lust': 10205, 'leigh': 9775, 'westmeath': 17980, 'iblmapleleaf': 8217, 'ibl1919': 8215, 'transact': 16899, 'ogbor': 12000, 'sublim': 15812, 'kayhow21': 9238, 'coinflip': 3965, 'sixsecondcov': 15041, '4get': 619, 'videothank': 17595, 'shtfplan': 14911, 'puzzledtriangl': 13294, 'roppongi': 14100, '22pm': 395, 'candydulf': 3309, 'meca': 10606, 'rabbisoci': 13390, 'ballad': 2170, 'mona': 11032, 'lisa': 9930, 'underrrtow': 17248, 'molli': 11015, 'bexrayandvav': 2486, 'fresher': 6718, 'estrella': 5920, 'bizinsid': 2614, 'scarfacedculli': 14470, 'sawyer_daa': 14446, 'guerrilladawg': 7377, 'chug': 3759, 'estu': 5921, 'rudyhavenstein': 14193, 'zerohedg': 18631, 'milefromhom': 10824, 'sitc': 15027, 'organis': 12183, '4700': 612, '11th': 134, 'pg15000044153': 12661, 'eff': 5614, 'muckrock': 11211, 'biometr': 2581, 'pio': 12757, 'philcollinsfe': 12683, 'latenitemix': 9661, 'ubc': 17173, '98fm': 912, 'mbblive': 10558, 'tcbinaflash77': 16193, 'chanelwestcoast': 3569, '1oak': 310, 'pp15000266835': 12985, '1711': 229, 'longshipdriv': 10070, 'gent': 6979, 'chickmt123': 3666, 'httpû_': 8074, 'callofduti': 3250, 'advancedwarfar': 1175, 'astolfialessio': 1903, 'kirillzubovski': 9408, 'changelessli': 3573, 'folder': 6538, 'solemn': 15283, 'hjt': 7889, 'contamin': 4163, 'wweapon': 18372, 'mcgtech': 10571, 'ebolaåêcas': 5557, 'seriousnow': 14683, 'volatil': 17679, 'removedquarantin': 13741, 'famoushors': 6171, 'freeagent1717': 6687, 'chaseingram': 3611, 'amandagiroux28': 1476, 'lifesav': 9869, 'haiti': 7467, '250': 415, 'msv': 11192, 'unemploy': 17263, '7302015': 781, 'reform': 13660, 'sb228': 14455, 'tmh': 16695, 'brine': 2972, 'nearåêdinosaur': 11460, 'provinci': 13195, 'sylvia': 16042, 'plath': 12813, 'petrichour': 12654, 'werdemup': 17960, 'averi': 2038, 'savanahresnik': 14434, 'cbs12': 3481, 'coldston': 3974, 'monterrey': 11055, 'harar': 7551, 'razed_': 13518, 'newsgtgt': 11558, 'anterior': 1633, 'razedonit': 13519, 'honeystaysup': 7971, 'changetheworld': 3575, 'syrianrefuge': 16055, 'hindu': 7850, 'boarder': 2745, 'dirtyli': 5076, 'dishonest': 5113, 'whitegenocid': 18045, 'bcook28': 2311, 'zacktiller30': 18604, 'shaft': 14743, 'x_man_kitti': 18405, 'wolvenbeauti': 18215, '_nickwilson__': 961, 'shitalright': 14851, 'wcvh01': 17882, '1233newcastl': 146, 'aaronkearneyau': 1000, 'lesmckeownuk': 9804, 'kitti': 9421, 'noagenda': 11684, 'mvdint': 11296, 'kayak': 9237, 'mtech': 11196, 'mta801bl': 11195, 'zix': 18649, '4552': 603, '50mix': 650, 'firstaid': 6417, 'trû_': 17049, 'lexington': 9825, 'veterinarian': 17556, 'revel8ion': 13859, 'selfish': 14629, 'summersid': 15867, 'fusionfestiv': 6831, 'mg': 10742, 'hideo_kojima_en': 7806, 'amazingsept': 1485, 'sanctuari': 14360, 'traffick': 16878, '4month': 625, 'kontagora': 9476, 'nigeriantribun': 11621, 'nairobi': 11351, 'incheon': 8388, 'prosecutor': 13176, 'nami': 11359, 'kim': 9373, 'hangi': 7525, 'oink': 12023, 'dorset': 5286, 'peopleû_': 12588, 'netflixû_': 11509, 'theonion': 16451, 'oceanåê': 11945, 'chold': 3708, 'rsl': 14164, 'bateman': 2260, 'cazorlaplay': 3473, '325000': 496, 'alexandbondarev': 1362, 'hawk_nanc': 7628, 'owenharris82': 12310, 'riot_sweet': 13951, 'jfwong': 8940, 'mtgodoc': 11197, 'joshleekwai': 9052, 'msg': 11184, 'pax': 12512, 'ulzzang': 17211, 'hyung': 8173, 'seok': 14662, '92': 884, 'liner': 9916, 'bleas': 2666, 'baum': 2279, 'controversi': 4186, 'ûstonewallûª': 18747, 'legû_': 9771, 'shootn': 14870, 'gameswow': 6889, 'ghee': 7026, 'faker': 6147, 'kog': 9467, 'amiestag': 1511, 'misogynyracismreligionfuel': 10913, 'allahuakbar': 1403, 'abbydphillip': 1014, 'dahboo7': 4581, 'shhit': 14827, 'foxandfriend': 6636, 'brownblaz': 3020, 'daynight': 4720, 'elsewer': 5696, 'changea': 3571, 'lobbyist': 10014, 'wakeupamerica': 17749, 'cleanpowerplan': 3842, 'aborigin': 1051, 'jpmorgan': 9073, 'apartmentloan': 1677, 'wamu': 17769, 'badcredit': 2134, 'pemantaujkt48': 12570, 'melodyjktû_': 10658, 'ecommerc': 5566, 'alibaba': 1386, 'baba': 2105, 'tencent': 16286, 'jd': 8875, 'rococo': 14035, 'alan': 1323, 'perli': 12614, 'smother': 15193, 'jayelectronica': 8865, 'eurpo': 5958, 'nickelodeon': 11607, 'lyricaley': 10225, 'aleppo': 1355, 'orianaarzola': 12187, 'manner': 10379, 'peen': 12563, 'fic': 6329, 'raunchi': 13503, 'be': 2319, 'harvey': 7592, 'nooo': 11737, 'batch': 2259, 'centralupload': 3524, 'sayingdarud': 14450, 'g_montani': 6847, 'jessemontani': 8914, 'amazingracecanada': 1484, 'rosi': 14111, 'oûªdonnel': 12320, 'awe': 2058, 'whyyyy': 18074, 'redwed': 13648, 'wahlburg': 17737, 'joshshatsay': 9054, 'keller': 9275, 'theboysftvin': 16391, 'omlett': 12076, 'ûïbeachboyirh': 18767, 'gma': 7117, 'ooorrrr': 12127, 'sbujdjsj': 14460, 'xuskak': 18442, 'frailnerv': 6658, 'mo_ganwilson': 10976, 'verrri': 17546, 'topherbreezi': 16790, 'cokeboys__': 3967, 'troylwiggin': 17017, 'shawn': 14794, 'akfnejf': 1305, 'gotdamn': 7200, 'hsbfuckjsj': 8064, 'beyoncìfi': 2489, 'yaaasss': 18451, 'xfactor': 18419, 'rendit': 13748, 'burna': 3115, 'imm': 8343, 'prodigi': 13130, 'graphic': 7252, 'gabrielleaplin': 6853, 'lordminion777': 10094, 'meganrestivo': 10644, 'avocado': 2045, 'lydia': 10216, '4x11': 636, 'loft': 10034, 'mckenzieblackw1': 10577, 'simplyysacr': 14974, 'sugayiff': 15847, 'hanayo': 7509, 'shojoshit': 14862, 'curvac': 4525, 'kot': 9489, 'matur': 10531, 'atpworldtour': 1944, 'citiopen': 3795, 'melodor': 10657, 'hozier': 8051, 'elephino_': 5664, 'thrusta1': 16583, 'fj': 6440, 'kc8ysl': 9248, 'antifrack': 1645, 'lancashir': 9612, 'axwav': 2074, 'gpu': 7221, '104527jst': 86, 'aug06first': 1986, 'm41': 10240, 'chiba': 3659, 'pref': 13032, '3581408': 509, 'mri': 11173, 'readout': 13545, 'faultlin': 6229, 'deetelecar': 4816, 'braininjuri': 2890, 'worldoilåêsubscript': 18261, 'retrofit': 13848, 'fukushima_actu': 6792, '010242': 7, 'brassier': 2901, '0327': 23, 'goon': 7177, 'stellar': 15639, 'undercard': 17239, 'filler': 6363, 'statoilasa': 15617, 'visualis': 17649, 'yarbrough': 18472, '64th': 731, 'newsbeatsoci': 11552, 'muh': 11219, 'andreajmarkley': 1575, 'edjschenk': 5587, 'cesspool': 3538, 'buildingmuseum': 3076, 'thebeachdc': 16384, 'vscocam': 17708, 'acreativedc': 1117, 'dctographi': 4733, 'vscodcû_': 17709, 'kundalini121': 9537, 'manyvid': 10394, 'ryan_defreita': 14245, 'siren_six': 15010, 'b30wu1f2': 2097, 'boo': 2800, 'kronyk': 9515, 'skew': 15063, 'crhedri': 4388, 'nkofoxy__siren': 11670, 'fre': 6675, 'sa314': 14263, 'husnaavhora': 8143, 'bobbycakes50': 2751, 'hago': 7442, 'escuchando': 5895, 'goo': 7162, 'pedo': 12557, 'wail': 17741, 'jassy_curti': 8855, 'fckng': 6246, 'spookyerica': 15481, 'salem_polic': 14319, 'underskirt': 17249, 'sonic': 15315, 'wizkhalifa': 18180, 'tre': 16931, 'misocapnist': 10912, 'tobacco': 16704, 'unusualword': 17343, '55433': 682, '1954': 282, 'asthma': 1902, 'cigar': 3773, 'ounc': 12241, 'spliff': 15469, '55432': 681, 'zoui': 18662, 'vbac': 17511, 'naturalbirth': 11414, 'lofti': 10035, 'oz': 12317, 'lily_bell82': 9902, 'yasumm': 18474, 'creepi': 4379, '676': 744, '67676': 745, 'woodelijah': 18234, 'writerslif': 18326, 'rtphotographyuk': 14177, 'artû_': 1828, 'casey': 3425, 'cone': 4113, 'bigbang_cb': 2527, 'wowokumthat': 18296, 'erincandi': 5881, 'hr15': 8056, 'snowstormi': 15238, 'snowmobil': 15234, 'numb': 11858, 'irishirr': 8657, 'thermostat': 16471, 'wsaz': 18343, 'geolog': 6986, '40urti': 575, 'donof_niketown': 5256, 'whistlerblckcmb': 18042, 'snowbacksunday': 15228, 'momentumcamp': 11026, 'asda': 1841, 'parallel': 12418, 'orphan': 12196, 'gaze': 6941, 'cozi': 4311, 'affluent': 1198, 'lobster': 10016, 'paperstorm': 12406, 'flaunt': 6462, 'itthen': 8723, 'gamechang': 6878, 'throwbackthursday': 16576, 'kinki': 9401, 'kristi': 9507, 'kylesal': 9562, 'rehears': 13688, 'doinghashtagsright': 5228, '3331116': 500, '4671416': 610, 'dovahswag': 5303, 'gray_greyman': 7265, 'dota': 5288, 'ûsexistûª': 18746, 'timeshigh': 16646, 'coworkerunawar': 4304, 'periodstori': 12606, 'cabinet': 3194, 'sdotjr_': 14557, 'pctool': 12533, 'niggaeven': 11623, 'wnba': 18197, 'thejasontaylorr': 16424, 'stabliz': 15547, 'aiden': 1267, 'saliv': 14322, 'kegm': 9267, 'jimmiejohnson': 8954, '0518': 30, '16950': 220, 'wedneû_': 17921, 'yc': 18479, 'hc': 7646, '446': 597, '2523': 421, 'georgegallagh': 6991, 'robinû_': 14013, 'paulmyerscough': 12505, 'institutionalstructur': 8540, 'imprud': 8372, 'lookout': 10078, 'ûïnewshour': 18792, 'bbclive': 2292, 'gazellebundchen': 6943, 'negat': 11474, 'ûåênigeria': 18756, 'harun': 7589, 'ìàekdar': 18696, 'noticia': 11794, 'shiit': 14835, 'saud': 14423, 'qtszg': 13326, 'zeenew': 18621, 'qn': 13321, 'asir': 1870, 'jou': 9060, 'kabari': 9157, 'jihadist': 8948, 'detona': 4956, 'psycho': 13220, 'jrehl': 9075, 'myytwocentss': 11329, 'heavenwel': 7698, 'erdoganûª': 5873, 'zirngast': 18647, 'jacobin': 8773, 'thirtyon': 16518, 'samfbiddl': 14347, 'gawker': 6928, 'f35': 6101, 't4': 16068, 'airbas': 1278, 'wasth': 17828, 'smartest': 15164, 'thing2': 16507, 'allahgodjesusth': 1401, 'muhammad': 11221, 'killedsomebodi': 9366, 'huffington': 8083, 'pierocastellano': 12729, 'nip': 11650, 'sgtmaj': 14733, 'roni': 14084, 'ghanem': 7023, 'maghar': 10292, 'mehdirhasan': 10648, 'percentag': 12596, 'pew': 12656, 'yaound': 18471, '61_alvin': 721, 'craigyb74': 4331, 'nomar4eva': 11709, 'shahasda80': 14745, 'wherepond': 18028, 'trensabbi': 16953, 'parallelpond': 12419, 'checkpoint': 3624, 'alqaryatayn': 1444, 'mustse': 11281, 'gabbyogbechie1tpgazett': 6849, 'tabloid': 16076, 'iceberg': 8228, 'butterfli': 3152, 'vengefulknav': 17531, 'canin': 3312, '581941': 689, '1941': 274, 'kumasian': 9534, 'torpedoedsunk': 16808, 'crewlist': 4387, 'widow_elena': 18084, 'stelena_alway': 15638, 'jeezu': 8888, 'lightroom': 9886, 'ûïjordyn': 18781, 'sunkû': 15893, 'birdyword': 2590, 'sunkcost': 15891, 'disposit': 5138, 'thinkin': 16510, 'yal': 18464, 'asolidrighthook': 1879, 'amyschum': 1547, 'xcom': 18412, 'surviverepopul': 15963, 'superiorhot': 15916, 'thewalkingdead': 16486, 'thezlong': 16496, 'energyqfor': 5783, 'sciencedaili': 14502, 'rookiebluetv': 14093, 'rookieblue_abc': 14092, 'mperegrym': 11162, 'pizzeria': 12788, 'wildestsdream': 18097, 'idkidk': 8263, 'sgm': 14732, 't34': 16067, 'lanparti': 9635, 'kidsteenag': 9351, 'bombeffect': 2783, 'barton': 2238, 'pompey': 12908, 'dreamland': 5350, 'babypicturethi': 2112, 'wampp': 17768, 'bucket': 3058, 'citymapp': 3800, '390yearold': 530, 'justgetawayx': 9131, 'lpomampm': 10145, '015': 14, '1346': 169, 'juliepow': 9108, 'croakeyblog': 4406, 'incubusband': 8404, 'thematthewcook': 16435, 'survivorsguidetoearth': 15965, 'incubustour2015': 8405, 'aya': 2076, 'kanoûª': 9195, 'yogal700': 18526, 'thejournal_ielìä': 16427, 'niamh': 11597, 'orlando': 12192, 'bum': 3092, 'bowel': 2855, 'womensweeklymag': 18224, 'dannic': 4644, 'remak': 13723, 'flp': 6514, 'flp_famili': 6515, 'syedihusain': 16038, 'penelopephoto': 12575, 'thenerdsofcolor': 16445, 'georgetakei': 6993, 'progess': 13140, 'isabel': 8671, 'hodgin': 7908, 'miller': 10840, 'norton': 11774, 'charnock': 3605, 'behindthescen': 2391, 'viatimesofindia': 17565, 'bbcnewsasia': 2295, 'radicalis': 13405, 'terrorismturn': 16315, 'ampveteran': 1534, 'vfp': 17558, 'daggy1': 4580, 'jampk': 8817, 'lupe': 10202, 'unborn': 17226, 'spare': 15402, 'faisal': 6144, 'devji': 4977, 'extremist': 6084, 'sympathyonlf': 16047, 'shabab': 14737, 'tltltltltlttlt': 16690, 'p_grolsh': 12324, 'gymnast': 7425, 'wololo': 18213, 'bldi': 2662, 'toremov': 16800, 'govtotherwis': 7213, 'terroristbstrd': 16318, 'takig': 16112, 'sculrismfinisem': 14550, 'wrongsuddenli': 18338, 'anoderdid': 1622, 'conting': 4172, 'congi': 4127, 'presstitut': 13067, 'sympathis': 16046, 'jammuif': 8815, 'regajha': 13670, 'sethiankit': 14697, 'racial': 13399, 'perturb': 12634, 'szunivers': 16061, 'lawmak': 9696, 'cider': 3769, 'barrel': 2231, 'threatû_': 16560, 'prescient': 13051, 'fatsuit': 6226, '2401': 408, 'summerdo': 15863, 'otherul': 12218, 'darshanravaldz': 4673, 'goddess': 7137, 'perkna': 12611, 'praam_iu': 12999, 'dieva': 5036, 'fatloss': 6225, 'icouldsitinthismomentforev': 8240, 'ithat': 8708, 'trashcan': 16921, 'deer': 4815, 'myswc': 11324, 'tryin': 17045, 'okc': 12030, 'gsp': 7348, 'northeastern': 11763, 'mountainû_': 11142, 'chadbourn': 3550, 'singapor': 14990, 'cookbook': 4198, 'hammer': 7499, 'headlinesapp': 7661, '844pm': 838, 'saam': 14266, 'olilafont': 12054, 'mytholog': 11327, 'marquisdespad': 10459, 'yer': 18504, 'hymn': 8165, 'abba': 1007, 'tornado_chick': 16804, 'sarahnandola': 14397, 'libertyvil': 9847, 'dead_last': 4743, 'lasso': 9651, 'amanda': 1475, 'enjoltair': 5796, 'tedm': 16246, 'weisberg': 17939, 'ûïif': 18780, 'gat': 6917, 'theocraci': 16449, 'mindfulyoga': 10852, 'hugger_mugg': 8092, 'owe': 12308, 'remedyyyy': 13729, 'jiwa': 8965, 'laurae303b': 9682, 'sheilagunnreid': 14807, 'yezidi': 18510, 'slavesw': 15105, 'quell': 13350, 'introvert': 8596, '150squarefoot': 190, 'westi': 17977, 'teambrianmundi': 16214, 'slrqxcrl': 15144, 'motta': 11133, 'pandamoanimum': 12384, 'duli': 5443, 'notedth': 11787, 'involuntari': 8620, 'winc': 18124, 'holibob': 7919, '1961': 284, 'wozni': 18299, 'jetsetextra': 8927, 'a2': 976, 'circumst': 3789, 'jsett': 9079, 'divorc': 5168, 'mme_austin': 10967, 'cannû_': 3316, 'sickmund': 14924, 'ncjfcj': 11442, 'byrn': 3177, 'natl': 11407, 'clevelû_': 3859, 'newauthor': 11527, 'maimonid': 10313, 'mountsinainyc': 11143, 'beingtweet': 2396, 'susancares2x': 15968, 'onbeingwithkristatippett': 12079, 'whiv': 18052, 'angstattack': 1595, 'marijuananew': 10428, 'fractur': 6654, 'gnr': 7127, 'sageuk': 14294, 'refil': 13658, 'tourniquet': 16834, 'ipok': 8637, '1922': 268, 'judithabarrow': 9095, 'makoto': 10335, 'tremendoustroy': 16945, 'jamesbond': 8806, 'michellemccann': 10774, 'huddl': 8079, 'david_williamso': 4702, 'tanishaa_': 16137, 'measli': 10600, 'å3million': 18680, 'lisajdavidson1': 9931, 'nataliealana87': 11393, 'westendshiv': 17972, 'fring': 6740, 'sunakawa': 15880, 'lovestheworld55': 10132, 'semimooch': 14638, 'dandoherty_': 4628, 'tomcenc': 16744, 'hrwright': 8062, 'ibautumn': 8211, 'titusoreili': 16677, 'hiss': 7872, 'edsa': 5597, 'cubao': 4479, '753': 795, 'occupi': 11939, 'ûïboonew': 18768, 'boonewû': 2813, 'doubleû': 5295, 'plûª': 12855, 'midi': 10796, 'occupiedû_': 11940, 'tribul': 16968, 'wrld': 18333, 'saunter': 14430, 'fred': 6681, 'shallwed': 14757, 'summerunderthestar': 15870, 'tcmparti': 16197, 'bribe': 2949, 'efcc': 5613, 'mouna': 11135, 'modcloth': 10986, 'corcoran30': 4225, 'kmurphalurph': 9437, 'greatû_': 7277, 'infotechnew': 8480, 'redditûª': 13629, 'recod': 13602, 'kian': 9338, 'ashnigga': 1858, 'tink': 16659, 'team0epiphani': 16211, 'thediyhack': 16405, 'illusionimagess': 8318, 'terrif77': 16311, 'wasabi': 17812, 'snowman': 15233, 'walktrough': 17758, 'part8': 12449, 'dang': 4631, 'stlcard': 15683, 'ta7lplay': 16072, 'twitch_bang': 17135, 'maliceqt': 10344, 'zelse007': 18623, 'rhyareegam': 13891, 'dougiedabandit': 5300, 'sphere': 15439, 'bbmeg': 2303, 'hope4japan': 7988, 'pray4japan': 13013, 'parson': 12447, 'pars': 12445, 'quezon': 13356, 'lizjilli': 9985, 'otto': 12234, 'reggi': 13677, 'recentlu': 13596, 'kadi': 9163, 'bamagaga': 2176, 'kipmooremus': 9403, '1019': 75, 'workrel': 18251, 'shortest': 14882, 'makurazaki': 10337, 'remnant': 13735, 'viral': 17631, 'rumblevideo': 14202, 'sushmaswaraj': 15973, 'entryway': 5823, 'fjizztxk': 6441, 'bharat': 2503, 'dgm': 4989, 'nabard': 11341, 'mgs4': 10746, 'mgsv': 10747, 'iffi': 8277, 'pvdrdljvc': 13296, 'permut': 12618, 'qwkd': 13377, 'abcnetwork': 1022, 'shondarhim': 14864, 'ellenpompeo': 5689, 'prognosi': 13141, 'roxyunkfal': 14146, '1915': 263, 'manayunk': 10359, 'hippiexox': 7858, 'sumthng': 15876, 'evng': 5997, 'approachng': 1717, 'suddendli': 15838, 'proclaim': 13125, 'calgarysun': 3238, 'dryden': 5408, 'spun': 15506, 'sylvan': 16041, 'bravo': 2907, 'evergreen': 5980, 'kjc': 9424, 'axegressor': 2072, 'uninform': 17285, '2012shell': 338, '250foottal': 419, 'towlineampdrift': 16842, 'shellno': 14813, '120': 137, 'capsul': 3346, 'catholicmomva': 3456, 'humidifi': 8107, 'sicklif': 14923, 'jessssssse': 8921, 'eevans17': 5610, 'illuminati': 8316, 'ketep': 9310, 'rnb': 13988, 'starz': 15603, 'seenfireth': 14607, 'suna': 15879, 'jamal': 8802, 'cangt': 3311, 'thelovatoag': 16431, 'scone': 14509, 'tackl': 16081, 'condom': 4111, 'packet': 12333, 'changin': 3576, 'dandre_5': 4629, 'guerrilla': 7376, 'kpa': 9498, 'wartorn': 17808, 'teamduv': 16215, 'terrellt': 16306, '212': 375, 'surgeon': 15951, 'neutron': 11517, 'callofmini': 3251, 'doubleshot': 5294, 'rapidfir': 13481, 'splattl': 15467, 'fucboi': 6776, 'warpeopl': 17798, 'vickysuewrit': 17578, 'boyxboy': 2874, 'knavetb': 9438, 'sindy642498': 14987, 'nowlik': 11816, 'usth': 17426, 'trueli': 17030, 'jpens4real21': 9070, 'geno': 6976, 'rpm': 14152, '1915ûókill': 265, 'deray': 4913, 'marstu67': 10466, 'benefitsgreat': 2431, 'salari': 14315, 'foodfre': 6556, 'impun': 8374, '6pm': 753, 'byow': 3173, 'abolish': 1047, 'cmdr': 3905, 'sidearm': 14927, 'nosc': 11778, 'bokoharm': 2768, 'kunai': 9535, 'barstoolbigcat': 2235, 'louisan': 10120, 'referenti': 13656, 'chelsea_rosett': 3636, 'wip': 18154, 'amwrit': 1545, 'rona': 14077, 'vid150806': 17588, 'youku': 18542, 'instor': 8541, 'freshoutofthebox': 6721, 'getitbeforeitsgon': 7009, 'under50': 17238, 'newnewnew': 11542, 'opt': 12151, 'lanahillman': 9610, 'bonfir': 2791, 'firesrain': 6408, 'netnewsledg': 11514, 'thereåêwer': 16469, 'myralynn24': 11319, 'becuas': 2359, 'firesclearli': 6407, 'mrrat395': 11177, 'stamped': 15572, 'tame': 16128, 'audiobook': 1980, 'bynr': 3172, 'beingauthor': 2395, 'upshit': 17366, 'jacobhoggard': 8772, 'therealmattleaf': 16460, 'californiaand': 3245, 'droughtthi': 5393, '1157am': 126, 'mynabird': 11317, 'taviiikenney': 16173, '1am': 305, 'wawildfir': 17858, 'chelan': 3633, 'wolverin': 18216, 'salad': 14312, 'alynacarol': 1469, 'smhrn': 15178, 'scfd': 14481, 'lakecounti': 9595, 'katu': 9234, 'patricio': 12488, 'jm': 8973, 'lozano': 10142, 'newstexa': 11562, 'vixen': 17661, '2in1': 455, 'marc': 10405, 'bolan': 2770, 't_litt44': 16069, 'presquil': 13063, 'familyampfriendslot': 6165, 'funnot': 6817, 'pqphistoryweekend': 12997, 'rhodeisland': 13890, 'takeshima': 16110, 'fisherman': 6423, 'dime_miloko': 5054, 'susp': 15976, 'lordjewcup': 10093, 'helloimivan': 7731, 'chiraq': 3697, 'ruralû_': 14220, 'iniqu': 8487, 'isa': 8670, '535': 668, 'bkanioro': 2621, 'lizeth': 9983, 'googlefact': 7175, 'lick': 9854, '3060': 480, 'cash7nigga': 3428, 'fester': 6306, 'andåêword': 1581, 'forgivenwif': 6592, 'worldrunn': 18263, 'runningroom': 14214, '3ampmi': 543, 'offdishduti': 11968, 'emm': 5733, 'burnin': 3120, 'fromåêwound': 6752, 'therapist': 16456, 'wreckit': 18315, 'ftcarsonpao': 6768, 'carsonmwr': 3410, 'rental': 13757, 'fml': 6525, 'dukeskywalk': 5442, 'facialabus': 6115, 'competet': 4071, 'xxxmrbootleg': 18447, 'claudiomeloni': 3834, 'alc': 1344, 'whatstheimportantvideo': 18012, 'uneven': 17265, 'herologist': 7774, 'janisctv': 8829, 'parcel': 12426, 'dtom2': 5416, 'nathan26_rfc': 11399, 'eas': 5533, 'yakuboob': 18463, 'smackdown': 15155, 'tyme': 17153, 'thrillhho': 16569, 'jsyk': 9082, 'abt': 1066, 'remu': 13742, 'slump': 15149, 'stighefootbal': 15676, 'begov': 2383, 'hattrick': 7617, 'ebolaoutbreak': 5555, 'issuicid': 8699, 'rajman': 13445, 'hasaka': 7595, 'risen': 13960, 'fasten': 6208, 'xrwn': 18439}\n"
     ]
    }
   ],
   "source": [
    "#Printing list of words from count vectorizing\n",
    "print (vect.vocabulary_)"
   ]
  },
  {
   "cell_type": "code",
   "execution_count": 43,
   "metadata": {},
   "outputs": [],
   "source": [
    "#TFIDF Vectorize tweets\n",
    "t_vect = TfidfVectorizer()\n",
    "tfidf_vect = t_vect.fit_transform(df['lem_stem'])"
   ]
  },
  {
   "cell_type": "code",
   "execution_count": 44,
   "metadata": {},
   "outputs": [
    {
     "data": {
      "text/html": [
       "<div>\n",
       "<style scoped>\n",
       "    .dataframe tbody tr th:only-of-type {\n",
       "        vertical-align: middle;\n",
       "    }\n",
       "\n",
       "    .dataframe tbody tr th {\n",
       "        vertical-align: top;\n",
       "    }\n",
       "\n",
       "    .dataframe thead th {\n",
       "        text-align: right;\n",
       "    }\n",
       "</style>\n",
       "<table border=\"1\" class=\"dataframe\">\n",
       "  <thead>\n",
       "    <tr style=\"text-align: right;\">\n",
       "      <th></th>\n",
       "      <th>00</th>\n",
       "      <th>0011</th>\n",
       "      <th>001116</th>\n",
       "      <th>0025</th>\n",
       "      <th>005225</th>\n",
       "      <th>010156</th>\n",
       "      <th>010217</th>\n",
       "      <th>010242</th>\n",
       "      <th>0104</th>\n",
       "      <th>010401</th>\n",
       "      <th>...</th>\n",
       "      <th>ûïymcglaun</th>\n",
       "      <th>ûïyou</th>\n",
       "      <th>ûïû</th>\n",
       "      <th>ûò</th>\n",
       "      <th>ûòthe</th>\n",
       "      <th>ûòåêcnbc</th>\n",
       "      <th>ûó</th>\n",
       "      <th>ûóher</th>\n",
       "      <th>ûókodi</th>\n",
       "      <th>ûûif</th>\n",
       "    </tr>\n",
       "  </thead>\n",
       "  <tbody>\n",
       "    <tr>\n",
       "      <th>0</th>\n",
       "      <td>0.0</td>\n",
       "      <td>0.0</td>\n",
       "      <td>0.0</td>\n",
       "      <td>0.0</td>\n",
       "      <td>0.0</td>\n",
       "      <td>0.0</td>\n",
       "      <td>0.0</td>\n",
       "      <td>0.0</td>\n",
       "      <td>0.0</td>\n",
       "      <td>0.0</td>\n",
       "      <td>...</td>\n",
       "      <td>0.0</td>\n",
       "      <td>0.0</td>\n",
       "      <td>0.0</td>\n",
       "      <td>0.000000</td>\n",
       "      <td>0.0</td>\n",
       "      <td>0.0</td>\n",
       "      <td>0.0</td>\n",
       "      <td>0.0</td>\n",
       "      <td>0.0</td>\n",
       "      <td>0.0</td>\n",
       "    </tr>\n",
       "    <tr>\n",
       "      <th>1</th>\n",
       "      <td>0.0</td>\n",
       "      <td>0.0</td>\n",
       "      <td>0.0</td>\n",
       "      <td>0.0</td>\n",
       "      <td>0.0</td>\n",
       "      <td>0.0</td>\n",
       "      <td>0.0</td>\n",
       "      <td>0.0</td>\n",
       "      <td>0.0</td>\n",
       "      <td>0.0</td>\n",
       "      <td>...</td>\n",
       "      <td>0.0</td>\n",
       "      <td>0.0</td>\n",
       "      <td>0.0</td>\n",
       "      <td>0.000000</td>\n",
       "      <td>0.0</td>\n",
       "      <td>0.0</td>\n",
       "      <td>0.0</td>\n",
       "      <td>0.0</td>\n",
       "      <td>0.0</td>\n",
       "      <td>0.0</td>\n",
       "    </tr>\n",
       "    <tr>\n",
       "      <th>2</th>\n",
       "      <td>0.0</td>\n",
       "      <td>0.0</td>\n",
       "      <td>0.0</td>\n",
       "      <td>0.0</td>\n",
       "      <td>0.0</td>\n",
       "      <td>0.0</td>\n",
       "      <td>0.0</td>\n",
       "      <td>0.0</td>\n",
       "      <td>0.0</td>\n",
       "      <td>0.0</td>\n",
       "      <td>...</td>\n",
       "      <td>0.0</td>\n",
       "      <td>0.0</td>\n",
       "      <td>0.0</td>\n",
       "      <td>0.000000</td>\n",
       "      <td>0.0</td>\n",
       "      <td>0.0</td>\n",
       "      <td>0.0</td>\n",
       "      <td>0.0</td>\n",
       "      <td>0.0</td>\n",
       "      <td>0.0</td>\n",
       "    </tr>\n",
       "    <tr>\n",
       "      <th>3</th>\n",
       "      <td>0.0</td>\n",
       "      <td>0.0</td>\n",
       "      <td>0.0</td>\n",
       "      <td>0.0</td>\n",
       "      <td>0.0</td>\n",
       "      <td>0.0</td>\n",
       "      <td>0.0</td>\n",
       "      <td>0.0</td>\n",
       "      <td>0.0</td>\n",
       "      <td>0.0</td>\n",
       "      <td>...</td>\n",
       "      <td>0.0</td>\n",
       "      <td>0.0</td>\n",
       "      <td>0.0</td>\n",
       "      <td>0.000000</td>\n",
       "      <td>0.0</td>\n",
       "      <td>0.0</td>\n",
       "      <td>0.0</td>\n",
       "      <td>0.0</td>\n",
       "      <td>0.0</td>\n",
       "      <td>0.0</td>\n",
       "    </tr>\n",
       "    <tr>\n",
       "      <th>4</th>\n",
       "      <td>0.0</td>\n",
       "      <td>0.0</td>\n",
       "      <td>0.0</td>\n",
       "      <td>0.0</td>\n",
       "      <td>0.0</td>\n",
       "      <td>0.0</td>\n",
       "      <td>0.0</td>\n",
       "      <td>0.0</td>\n",
       "      <td>0.0</td>\n",
       "      <td>0.0</td>\n",
       "      <td>...</td>\n",
       "      <td>0.0</td>\n",
       "      <td>0.0</td>\n",
       "      <td>0.0</td>\n",
       "      <td>0.000000</td>\n",
       "      <td>0.0</td>\n",
       "      <td>0.0</td>\n",
       "      <td>0.0</td>\n",
       "      <td>0.0</td>\n",
       "      <td>0.0</td>\n",
       "      <td>0.0</td>\n",
       "    </tr>\n",
       "    <tr>\n",
       "      <th>...</th>\n",
       "      <td>...</td>\n",
       "      <td>...</td>\n",
       "      <td>...</td>\n",
       "      <td>...</td>\n",
       "      <td>...</td>\n",
       "      <td>...</td>\n",
       "      <td>...</td>\n",
       "      <td>...</td>\n",
       "      <td>...</td>\n",
       "      <td>...</td>\n",
       "      <td>...</td>\n",
       "      <td>...</td>\n",
       "      <td>...</td>\n",
       "      <td>...</td>\n",
       "      <td>...</td>\n",
       "      <td>...</td>\n",
       "      <td>...</td>\n",
       "      <td>...</td>\n",
       "      <td>...</td>\n",
       "      <td>...</td>\n",
       "      <td>...</td>\n",
       "    </tr>\n",
       "    <tr>\n",
       "      <th>10871</th>\n",
       "      <td>0.0</td>\n",
       "      <td>0.0</td>\n",
       "      <td>0.0</td>\n",
       "      <td>0.0</td>\n",
       "      <td>0.0</td>\n",
       "      <td>0.0</td>\n",
       "      <td>0.0</td>\n",
       "      <td>0.0</td>\n",
       "      <td>0.0</td>\n",
       "      <td>0.0</td>\n",
       "      <td>...</td>\n",
       "      <td>0.0</td>\n",
       "      <td>0.0</td>\n",
       "      <td>0.0</td>\n",
       "      <td>0.257271</td>\n",
       "      <td>0.0</td>\n",
       "      <td>0.0</td>\n",
       "      <td>0.0</td>\n",
       "      <td>0.0</td>\n",
       "      <td>0.0</td>\n",
       "      <td>0.0</td>\n",
       "    </tr>\n",
       "    <tr>\n",
       "      <th>10872</th>\n",
       "      <td>0.0</td>\n",
       "      <td>0.0</td>\n",
       "      <td>0.0</td>\n",
       "      <td>0.0</td>\n",
       "      <td>0.0</td>\n",
       "      <td>0.0</td>\n",
       "      <td>0.0</td>\n",
       "      <td>0.0</td>\n",
       "      <td>0.0</td>\n",
       "      <td>0.0</td>\n",
       "      <td>...</td>\n",
       "      <td>0.0</td>\n",
       "      <td>0.0</td>\n",
       "      <td>0.0</td>\n",
       "      <td>0.000000</td>\n",
       "      <td>0.0</td>\n",
       "      <td>0.0</td>\n",
       "      <td>0.0</td>\n",
       "      <td>0.0</td>\n",
       "      <td>0.0</td>\n",
       "      <td>0.0</td>\n",
       "    </tr>\n",
       "    <tr>\n",
       "      <th>10873</th>\n",
       "      <td>0.0</td>\n",
       "      <td>0.0</td>\n",
       "      <td>0.0</td>\n",
       "      <td>0.0</td>\n",
       "      <td>0.0</td>\n",
       "      <td>0.0</td>\n",
       "      <td>0.0</td>\n",
       "      <td>0.0</td>\n",
       "      <td>0.0</td>\n",
       "      <td>0.0</td>\n",
       "      <td>...</td>\n",
       "      <td>0.0</td>\n",
       "      <td>0.0</td>\n",
       "      <td>0.0</td>\n",
       "      <td>0.000000</td>\n",
       "      <td>0.0</td>\n",
       "      <td>0.0</td>\n",
       "      <td>0.0</td>\n",
       "      <td>0.0</td>\n",
       "      <td>0.0</td>\n",
       "      <td>0.0</td>\n",
       "    </tr>\n",
       "    <tr>\n",
       "      <th>10874</th>\n",
       "      <td>0.0</td>\n",
       "      <td>0.0</td>\n",
       "      <td>0.0</td>\n",
       "      <td>0.0</td>\n",
       "      <td>0.0</td>\n",
       "      <td>0.0</td>\n",
       "      <td>0.0</td>\n",
       "      <td>0.0</td>\n",
       "      <td>0.0</td>\n",
       "      <td>0.0</td>\n",
       "      <td>...</td>\n",
       "      <td>0.0</td>\n",
       "      <td>0.0</td>\n",
       "      <td>0.0</td>\n",
       "      <td>0.000000</td>\n",
       "      <td>0.0</td>\n",
       "      <td>0.0</td>\n",
       "      <td>0.0</td>\n",
       "      <td>0.0</td>\n",
       "      <td>0.0</td>\n",
       "      <td>0.0</td>\n",
       "    </tr>\n",
       "    <tr>\n",
       "      <th>10875</th>\n",
       "      <td>0.0</td>\n",
       "      <td>0.0</td>\n",
       "      <td>0.0</td>\n",
       "      <td>0.0</td>\n",
       "      <td>0.0</td>\n",
       "      <td>0.0</td>\n",
       "      <td>0.0</td>\n",
       "      <td>0.0</td>\n",
       "      <td>0.0</td>\n",
       "      <td>0.0</td>\n",
       "      <td>...</td>\n",
       "      <td>0.0</td>\n",
       "      <td>0.0</td>\n",
       "      <td>0.0</td>\n",
       "      <td>0.000000</td>\n",
       "      <td>0.0</td>\n",
       "      <td>0.0</td>\n",
       "      <td>0.0</td>\n",
       "      <td>0.0</td>\n",
       "      <td>0.0</td>\n",
       "      <td>0.0</td>\n",
       "    </tr>\n",
       "  </tbody>\n",
       "</table>\n",
       "<p>10876 rows × 18821 columns</p>\n",
       "</div>"
      ],
      "text/plain": [
       "        00  0011  001116  0025  005225  010156  010217  010242  0104  010401  \\\n",
       "0      0.0   0.0     0.0   0.0     0.0     0.0     0.0     0.0   0.0     0.0   \n",
       "1      0.0   0.0     0.0   0.0     0.0     0.0     0.0     0.0   0.0     0.0   \n",
       "2      0.0   0.0     0.0   0.0     0.0     0.0     0.0     0.0   0.0     0.0   \n",
       "3      0.0   0.0     0.0   0.0     0.0     0.0     0.0     0.0   0.0     0.0   \n",
       "4      0.0   0.0     0.0   0.0     0.0     0.0     0.0     0.0   0.0     0.0   \n",
       "...    ...   ...     ...   ...     ...     ...     ...     ...   ...     ...   \n",
       "10871  0.0   0.0     0.0   0.0     0.0     0.0     0.0     0.0   0.0     0.0   \n",
       "10872  0.0   0.0     0.0   0.0     0.0     0.0     0.0     0.0   0.0     0.0   \n",
       "10873  0.0   0.0     0.0   0.0     0.0     0.0     0.0     0.0   0.0     0.0   \n",
       "10874  0.0   0.0     0.0   0.0     0.0     0.0     0.0     0.0   0.0     0.0   \n",
       "10875  0.0   0.0     0.0   0.0     0.0     0.0     0.0     0.0   0.0     0.0   \n",
       "\n",
       "       ...  ûïymcglaun  ûïyou  ûïû        ûò  ûòthe  ûòåêcnbc   ûó  ûóher  \\\n",
       "0      ...         0.0    0.0  0.0  0.000000    0.0       0.0  0.0    0.0   \n",
       "1      ...         0.0    0.0  0.0  0.000000    0.0       0.0  0.0    0.0   \n",
       "2      ...         0.0    0.0  0.0  0.000000    0.0       0.0  0.0    0.0   \n",
       "3      ...         0.0    0.0  0.0  0.000000    0.0       0.0  0.0    0.0   \n",
       "4      ...         0.0    0.0  0.0  0.000000    0.0       0.0  0.0    0.0   \n",
       "...    ...         ...    ...  ...       ...    ...       ...  ...    ...   \n",
       "10871  ...         0.0    0.0  0.0  0.257271    0.0       0.0  0.0    0.0   \n",
       "10872  ...         0.0    0.0  0.0  0.000000    0.0       0.0  0.0    0.0   \n",
       "10873  ...         0.0    0.0  0.0  0.000000    0.0       0.0  0.0    0.0   \n",
       "10874  ...         0.0    0.0  0.0  0.000000    0.0       0.0  0.0    0.0   \n",
       "10875  ...         0.0    0.0  0.0  0.000000    0.0       0.0  0.0    0.0   \n",
       "\n",
       "       ûókodi  ûûif  \n",
       "0         0.0   0.0  \n",
       "1         0.0   0.0  \n",
       "2         0.0   0.0  \n",
       "3         0.0   0.0  \n",
       "4         0.0   0.0  \n",
       "...       ...   ...  \n",
       "10871     0.0   0.0  \n",
       "10872     0.0   0.0  \n",
       "10873     0.0   0.0  \n",
       "10874     0.0   0.0  \n",
       "10875     0.0   0.0  \n",
       "\n",
       "[10876 rows x 18821 columns]"
      ]
     },
     "execution_count": 44,
     "metadata": {},
     "output_type": "execute_result"
    }
   ],
   "source": [
    "#Get TFIDF vectorized sparse matrix into a dataframe\n",
    "tf_df = pd.DataFrame(tfidf_vect.toarray(), columns = vect.get_feature_names())\n",
    "tf_df"
   ]
  },
  {
   "cell_type": "code",
   "execution_count": 45,
   "metadata": {},
   "outputs": [
    {
     "data": {
      "text/html": [
       "<div>\n",
       "<style scoped>\n",
       "    .dataframe tbody tr th:only-of-type {\n",
       "        vertical-align: middle;\n",
       "    }\n",
       "\n",
       "    .dataframe tbody tr th {\n",
       "        vertical-align: top;\n",
       "    }\n",
       "\n",
       "    .dataframe thead th {\n",
       "        text-align: right;\n",
       "    }\n",
       "</style>\n",
       "<table border=\"1\" class=\"dataframe\">\n",
       "  <thead>\n",
       "    <tr style=\"text-align: right;\">\n",
       "      <th></th>\n",
       "      <th>00</th>\n",
       "      <th>0011</th>\n",
       "      <th>001116</th>\n",
       "      <th>0025</th>\n",
       "      <th>005225</th>\n",
       "      <th>010156</th>\n",
       "      <th>010217</th>\n",
       "      <th>010242</th>\n",
       "      <th>0104</th>\n",
       "      <th>010401</th>\n",
       "      <th>...</th>\n",
       "      <th>ûïymcglaun</th>\n",
       "      <th>ûïyou</th>\n",
       "      <th>ûïû</th>\n",
       "      <th>ûò</th>\n",
       "      <th>ûòthe</th>\n",
       "      <th>ûòåêcnbc</th>\n",
       "      <th>ûó</th>\n",
       "      <th>ûóher</th>\n",
       "      <th>ûókodi</th>\n",
       "      <th>ûûif</th>\n",
       "    </tr>\n",
       "  </thead>\n",
       "  <tbody>\n",
       "    <tr>\n",
       "      <th>0</th>\n",
       "      <td>0</td>\n",
       "      <td>0</td>\n",
       "      <td>0</td>\n",
       "      <td>0</td>\n",
       "      <td>0</td>\n",
       "      <td>0</td>\n",
       "      <td>0</td>\n",
       "      <td>0</td>\n",
       "      <td>0</td>\n",
       "      <td>0</td>\n",
       "      <td>...</td>\n",
       "      <td>0</td>\n",
       "      <td>0</td>\n",
       "      <td>0</td>\n",
       "      <td>0</td>\n",
       "      <td>0</td>\n",
       "      <td>0</td>\n",
       "      <td>0</td>\n",
       "      <td>0</td>\n",
       "      <td>0</td>\n",
       "      <td>0</td>\n",
       "    </tr>\n",
       "    <tr>\n",
       "      <th>1</th>\n",
       "      <td>0</td>\n",
       "      <td>0</td>\n",
       "      <td>0</td>\n",
       "      <td>0</td>\n",
       "      <td>0</td>\n",
       "      <td>0</td>\n",
       "      <td>0</td>\n",
       "      <td>0</td>\n",
       "      <td>0</td>\n",
       "      <td>0</td>\n",
       "      <td>...</td>\n",
       "      <td>0</td>\n",
       "      <td>0</td>\n",
       "      <td>0</td>\n",
       "      <td>0</td>\n",
       "      <td>0</td>\n",
       "      <td>0</td>\n",
       "      <td>0</td>\n",
       "      <td>0</td>\n",
       "      <td>0</td>\n",
       "      <td>0</td>\n",
       "    </tr>\n",
       "    <tr>\n",
       "      <th>2</th>\n",
       "      <td>0</td>\n",
       "      <td>0</td>\n",
       "      <td>0</td>\n",
       "      <td>0</td>\n",
       "      <td>0</td>\n",
       "      <td>0</td>\n",
       "      <td>0</td>\n",
       "      <td>0</td>\n",
       "      <td>0</td>\n",
       "      <td>0</td>\n",
       "      <td>...</td>\n",
       "      <td>0</td>\n",
       "      <td>0</td>\n",
       "      <td>0</td>\n",
       "      <td>0</td>\n",
       "      <td>0</td>\n",
       "      <td>0</td>\n",
       "      <td>0</td>\n",
       "      <td>0</td>\n",
       "      <td>0</td>\n",
       "      <td>0</td>\n",
       "    </tr>\n",
       "    <tr>\n",
       "      <th>3</th>\n",
       "      <td>0</td>\n",
       "      <td>0</td>\n",
       "      <td>0</td>\n",
       "      <td>0</td>\n",
       "      <td>0</td>\n",
       "      <td>0</td>\n",
       "      <td>0</td>\n",
       "      <td>0</td>\n",
       "      <td>0</td>\n",
       "      <td>0</td>\n",
       "      <td>...</td>\n",
       "      <td>0</td>\n",
       "      <td>0</td>\n",
       "      <td>0</td>\n",
       "      <td>0</td>\n",
       "      <td>0</td>\n",
       "      <td>0</td>\n",
       "      <td>0</td>\n",
       "      <td>0</td>\n",
       "      <td>0</td>\n",
       "      <td>0</td>\n",
       "    </tr>\n",
       "    <tr>\n",
       "      <th>4</th>\n",
       "      <td>0</td>\n",
       "      <td>0</td>\n",
       "      <td>0</td>\n",
       "      <td>0</td>\n",
       "      <td>0</td>\n",
       "      <td>0</td>\n",
       "      <td>0</td>\n",
       "      <td>0</td>\n",
       "      <td>0</td>\n",
       "      <td>0</td>\n",
       "      <td>...</td>\n",
       "      <td>0</td>\n",
       "      <td>0</td>\n",
       "      <td>0</td>\n",
       "      <td>0</td>\n",
       "      <td>0</td>\n",
       "      <td>0</td>\n",
       "      <td>0</td>\n",
       "      <td>0</td>\n",
       "      <td>0</td>\n",
       "      <td>0</td>\n",
       "    </tr>\n",
       "    <tr>\n",
       "      <th>...</th>\n",
       "      <td>...</td>\n",
       "      <td>...</td>\n",
       "      <td>...</td>\n",
       "      <td>...</td>\n",
       "      <td>...</td>\n",
       "      <td>...</td>\n",
       "      <td>...</td>\n",
       "      <td>...</td>\n",
       "      <td>...</td>\n",
       "      <td>...</td>\n",
       "      <td>...</td>\n",
       "      <td>...</td>\n",
       "      <td>...</td>\n",
       "      <td>...</td>\n",
       "      <td>...</td>\n",
       "      <td>...</td>\n",
       "      <td>...</td>\n",
       "      <td>...</td>\n",
       "      <td>...</td>\n",
       "      <td>...</td>\n",
       "      <td>...</td>\n",
       "    </tr>\n",
       "    <tr>\n",
       "      <th>10871</th>\n",
       "      <td>0</td>\n",
       "      <td>0</td>\n",
       "      <td>0</td>\n",
       "      <td>0</td>\n",
       "      <td>0</td>\n",
       "      <td>0</td>\n",
       "      <td>0</td>\n",
       "      <td>0</td>\n",
       "      <td>0</td>\n",
       "      <td>0</td>\n",
       "      <td>...</td>\n",
       "      <td>0</td>\n",
       "      <td>0</td>\n",
       "      <td>0</td>\n",
       "      <td>1</td>\n",
       "      <td>0</td>\n",
       "      <td>0</td>\n",
       "      <td>0</td>\n",
       "      <td>0</td>\n",
       "      <td>0</td>\n",
       "      <td>0</td>\n",
       "    </tr>\n",
       "    <tr>\n",
       "      <th>10872</th>\n",
       "      <td>0</td>\n",
       "      <td>0</td>\n",
       "      <td>0</td>\n",
       "      <td>0</td>\n",
       "      <td>0</td>\n",
       "      <td>0</td>\n",
       "      <td>0</td>\n",
       "      <td>0</td>\n",
       "      <td>0</td>\n",
       "      <td>0</td>\n",
       "      <td>...</td>\n",
       "      <td>0</td>\n",
       "      <td>0</td>\n",
       "      <td>0</td>\n",
       "      <td>0</td>\n",
       "      <td>0</td>\n",
       "      <td>0</td>\n",
       "      <td>0</td>\n",
       "      <td>0</td>\n",
       "      <td>0</td>\n",
       "      <td>0</td>\n",
       "    </tr>\n",
       "    <tr>\n",
       "      <th>10873</th>\n",
       "      <td>0</td>\n",
       "      <td>0</td>\n",
       "      <td>0</td>\n",
       "      <td>0</td>\n",
       "      <td>0</td>\n",
       "      <td>0</td>\n",
       "      <td>0</td>\n",
       "      <td>0</td>\n",
       "      <td>0</td>\n",
       "      <td>0</td>\n",
       "      <td>...</td>\n",
       "      <td>0</td>\n",
       "      <td>0</td>\n",
       "      <td>0</td>\n",
       "      <td>0</td>\n",
       "      <td>0</td>\n",
       "      <td>0</td>\n",
       "      <td>0</td>\n",
       "      <td>0</td>\n",
       "      <td>0</td>\n",
       "      <td>0</td>\n",
       "    </tr>\n",
       "    <tr>\n",
       "      <th>10874</th>\n",
       "      <td>0</td>\n",
       "      <td>0</td>\n",
       "      <td>0</td>\n",
       "      <td>0</td>\n",
       "      <td>0</td>\n",
       "      <td>0</td>\n",
       "      <td>0</td>\n",
       "      <td>0</td>\n",
       "      <td>0</td>\n",
       "      <td>0</td>\n",
       "      <td>...</td>\n",
       "      <td>0</td>\n",
       "      <td>0</td>\n",
       "      <td>0</td>\n",
       "      <td>0</td>\n",
       "      <td>0</td>\n",
       "      <td>0</td>\n",
       "      <td>0</td>\n",
       "      <td>0</td>\n",
       "      <td>0</td>\n",
       "      <td>0</td>\n",
       "    </tr>\n",
       "    <tr>\n",
       "      <th>10875</th>\n",
       "      <td>0</td>\n",
       "      <td>0</td>\n",
       "      <td>0</td>\n",
       "      <td>0</td>\n",
       "      <td>0</td>\n",
       "      <td>0</td>\n",
       "      <td>0</td>\n",
       "      <td>0</td>\n",
       "      <td>0</td>\n",
       "      <td>0</td>\n",
       "      <td>...</td>\n",
       "      <td>0</td>\n",
       "      <td>0</td>\n",
       "      <td>0</td>\n",
       "      <td>0</td>\n",
       "      <td>0</td>\n",
       "      <td>0</td>\n",
       "      <td>0</td>\n",
       "      <td>0</td>\n",
       "      <td>0</td>\n",
       "      <td>0</td>\n",
       "    </tr>\n",
       "  </tbody>\n",
       "</table>\n",
       "<p>10876 rows × 18821 columns</p>\n",
       "</div>"
      ],
      "text/plain": [
       "       00  0011  001116  0025  005225  010156  010217  010242  0104  010401  \\\n",
       "0       0     0       0     0       0       0       0       0     0       0   \n",
       "1       0     0       0     0       0       0       0       0     0       0   \n",
       "2       0     0       0     0       0       0       0       0     0       0   \n",
       "3       0     0       0     0       0       0       0       0     0       0   \n",
       "4       0     0       0     0       0       0       0       0     0       0   \n",
       "...    ..   ...     ...   ...     ...     ...     ...     ...   ...     ...   \n",
       "10871   0     0       0     0       0       0       0       0     0       0   \n",
       "10872   0     0       0     0       0       0       0       0     0       0   \n",
       "10873   0     0       0     0       0       0       0       0     0       0   \n",
       "10874   0     0       0     0       0       0       0       0     0       0   \n",
       "10875   0     0       0     0       0       0       0       0     0       0   \n",
       "\n",
       "       ...  ûïymcglaun  ûïyou  ûïû  ûò  ûòthe  ûòåêcnbc  ûó  ûóher  ûókodi  \\\n",
       "0      ...           0      0    0   0      0         0   0      0       0   \n",
       "1      ...           0      0    0   0      0         0   0      0       0   \n",
       "2      ...           0      0    0   0      0         0   0      0       0   \n",
       "3      ...           0      0    0   0      0         0   0      0       0   \n",
       "4      ...           0      0    0   0      0         0   0      0       0   \n",
       "...    ...         ...    ...  ...  ..    ...       ...  ..    ...     ...   \n",
       "10871  ...           0      0    0   1      0         0   0      0       0   \n",
       "10872  ...           0      0    0   0      0         0   0      0       0   \n",
       "10873  ...           0      0    0   0      0         0   0      0       0   \n",
       "10874  ...           0      0    0   0      0         0   0      0       0   \n",
       "10875  ...           0      0    0   0      0         0   0      0       0   \n",
       "\n",
       "       ûûif  \n",
       "0         0  \n",
       "1         0  \n",
       "2         0  \n",
       "3         0  \n",
       "4         0  \n",
       "...     ...  \n",
       "10871     0  \n",
       "10872     0  \n",
       "10873     0  \n",
       "10874     0  \n",
       "10875     0  \n",
       "\n",
       "[10876 rows x 18821 columns]"
      ]
     },
     "execution_count": 45,
     "metadata": {},
     "output_type": "execute_result"
    }
   ],
   "source": [
    "#Get count vectorized sparse matrix into a dataframe\n",
    "cv_df = pd.DataFrame(count_vect.toarray(), columns = vect.get_feature_names())\n",
    "cv_df"
   ]
  },
  {
   "cell_type": "code",
   "execution_count": 46,
   "metadata": {},
   "outputs": [],
   "source": [
    "#Renaming target attribute to target_x in case there is an attribute for target words in tweets\n",
    "df.rename(columns = {'target':'target_x'}, inplace = True)\n",
    "df.reset_index(inplace = True)"
   ]
  },
  {
   "cell_type": "code",
   "execution_count": 47,
   "metadata": {},
   "outputs": [],
   "source": [
    "#Merge the dataframe with count vectorized sparse matrix\n",
    "df_2 = pd.concat([df, cv_df], axis = 1)"
   ]
  },
  {
   "cell_type": "code",
   "execution_count": 48,
   "metadata": {},
   "outputs": [],
   "source": [
    "#Turn count vectorizer of tweets into sparse matrix\n",
    "#cv = count_vect.todense()"
   ]
  },
  {
   "cell_type": "code",
   "execution_count": 49,
   "metadata": {},
   "outputs": [],
   "source": [
    "#Dropping unnecessary attributes\n",
    "df_2.drop(['keyword','text', 'tokenized', 'stopwords_removal', 'lem_stem'], axis = 1, inplace = True)"
   ]
  },
  {
   "cell_type": "markdown",
   "metadata": {},
   "source": [
    "### Data preparation for model"
   ]
  },
  {
   "cell_type": "code",
   "execution_count": 50,
   "metadata": {},
   "outputs": [],
   "source": [
    "#Splitting the train and test sets\n",
    "train =cv_df[:7613]\n",
    "test = cv_df[7613:]"
   ]
  },
  {
   "cell_type": "code",
   "execution_count": 51,
   "metadata": {},
   "outputs": [
    {
     "data": {
      "text/html": [
       "<div>\n",
       "<style scoped>\n",
       "    .dataframe tbody tr th:only-of-type {\n",
       "        vertical-align: middle;\n",
       "    }\n",
       "\n",
       "    .dataframe tbody tr th {\n",
       "        vertical-align: top;\n",
       "    }\n",
       "\n",
       "    .dataframe thead th {\n",
       "        text-align: right;\n",
       "    }\n",
       "</style>\n",
       "<table border=\"1\" class=\"dataframe\">\n",
       "  <thead>\n",
       "    <tr style=\"text-align: right;\">\n",
       "      <th></th>\n",
       "      <th>00</th>\n",
       "      <th>0011</th>\n",
       "      <th>001116</th>\n",
       "      <th>0025</th>\n",
       "      <th>005225</th>\n",
       "      <th>010156</th>\n",
       "      <th>010217</th>\n",
       "      <th>010242</th>\n",
       "      <th>0104</th>\n",
       "      <th>010401</th>\n",
       "      <th>...</th>\n",
       "      <th>ûïymcglaun</th>\n",
       "      <th>ûïyou</th>\n",
       "      <th>ûïû</th>\n",
       "      <th>ûò</th>\n",
       "      <th>ûòthe</th>\n",
       "      <th>ûòåêcnbc</th>\n",
       "      <th>ûó</th>\n",
       "      <th>ûóher</th>\n",
       "      <th>ûókodi</th>\n",
       "      <th>ûûif</th>\n",
       "    </tr>\n",
       "  </thead>\n",
       "  <tbody>\n",
       "    <tr>\n",
       "      <th>0</th>\n",
       "      <td>0</td>\n",
       "      <td>0</td>\n",
       "      <td>0</td>\n",
       "      <td>0</td>\n",
       "      <td>0</td>\n",
       "      <td>0</td>\n",
       "      <td>0</td>\n",
       "      <td>0</td>\n",
       "      <td>0</td>\n",
       "      <td>0</td>\n",
       "      <td>...</td>\n",
       "      <td>0</td>\n",
       "      <td>0</td>\n",
       "      <td>0</td>\n",
       "      <td>0</td>\n",
       "      <td>0</td>\n",
       "      <td>0</td>\n",
       "      <td>0</td>\n",
       "      <td>0</td>\n",
       "      <td>0</td>\n",
       "      <td>0</td>\n",
       "    </tr>\n",
       "    <tr>\n",
       "      <th>1</th>\n",
       "      <td>0</td>\n",
       "      <td>0</td>\n",
       "      <td>0</td>\n",
       "      <td>0</td>\n",
       "      <td>0</td>\n",
       "      <td>0</td>\n",
       "      <td>0</td>\n",
       "      <td>0</td>\n",
       "      <td>0</td>\n",
       "      <td>0</td>\n",
       "      <td>...</td>\n",
       "      <td>0</td>\n",
       "      <td>0</td>\n",
       "      <td>0</td>\n",
       "      <td>0</td>\n",
       "      <td>0</td>\n",
       "      <td>0</td>\n",
       "      <td>0</td>\n",
       "      <td>0</td>\n",
       "      <td>0</td>\n",
       "      <td>0</td>\n",
       "    </tr>\n",
       "    <tr>\n",
       "      <th>2</th>\n",
       "      <td>0</td>\n",
       "      <td>0</td>\n",
       "      <td>0</td>\n",
       "      <td>0</td>\n",
       "      <td>0</td>\n",
       "      <td>0</td>\n",
       "      <td>0</td>\n",
       "      <td>0</td>\n",
       "      <td>0</td>\n",
       "      <td>0</td>\n",
       "      <td>...</td>\n",
       "      <td>0</td>\n",
       "      <td>0</td>\n",
       "      <td>0</td>\n",
       "      <td>0</td>\n",
       "      <td>0</td>\n",
       "      <td>0</td>\n",
       "      <td>0</td>\n",
       "      <td>0</td>\n",
       "      <td>0</td>\n",
       "      <td>0</td>\n",
       "    </tr>\n",
       "    <tr>\n",
       "      <th>3</th>\n",
       "      <td>0</td>\n",
       "      <td>0</td>\n",
       "      <td>0</td>\n",
       "      <td>0</td>\n",
       "      <td>0</td>\n",
       "      <td>0</td>\n",
       "      <td>0</td>\n",
       "      <td>0</td>\n",
       "      <td>0</td>\n",
       "      <td>0</td>\n",
       "      <td>...</td>\n",
       "      <td>0</td>\n",
       "      <td>0</td>\n",
       "      <td>0</td>\n",
       "      <td>0</td>\n",
       "      <td>0</td>\n",
       "      <td>0</td>\n",
       "      <td>0</td>\n",
       "      <td>0</td>\n",
       "      <td>0</td>\n",
       "      <td>0</td>\n",
       "    </tr>\n",
       "    <tr>\n",
       "      <th>4</th>\n",
       "      <td>0</td>\n",
       "      <td>0</td>\n",
       "      <td>0</td>\n",
       "      <td>0</td>\n",
       "      <td>0</td>\n",
       "      <td>0</td>\n",
       "      <td>0</td>\n",
       "      <td>0</td>\n",
       "      <td>0</td>\n",
       "      <td>0</td>\n",
       "      <td>...</td>\n",
       "      <td>0</td>\n",
       "      <td>0</td>\n",
       "      <td>0</td>\n",
       "      <td>0</td>\n",
       "      <td>0</td>\n",
       "      <td>0</td>\n",
       "      <td>0</td>\n",
       "      <td>0</td>\n",
       "      <td>0</td>\n",
       "      <td>0</td>\n",
       "    </tr>\n",
       "  </tbody>\n",
       "</table>\n",
       "<p>5 rows × 18821 columns</p>\n",
       "</div>"
      ],
      "text/plain": [
       "   00  0011  001116  0025  005225  010156  010217  010242  0104  010401  ...  \\\n",
       "0   0     0       0     0       0       0       0       0     0       0  ...   \n",
       "1   0     0       0     0       0       0       0       0     0       0  ...   \n",
       "2   0     0       0     0       0       0       0       0     0       0  ...   \n",
       "3   0     0       0     0       0       0       0       0     0       0  ...   \n",
       "4   0     0       0     0       0       0       0       0     0       0  ...   \n",
       "\n",
       "   ûïymcglaun  ûïyou  ûïû  ûò  ûòthe  ûòåêcnbc  ûó  ûóher  ûókodi  ûûif  \n",
       "0           0      0    0   0      0         0   0      0       0     0  \n",
       "1           0      0    0   0      0         0   0      0       0     0  \n",
       "2           0      0    0   0      0         0   0      0       0     0  \n",
       "3           0      0    0   0      0         0   0      0       0     0  \n",
       "4           0      0    0   0      0         0   0      0       0     0  \n",
       "\n",
       "[5 rows x 18821 columns]"
      ]
     },
     "execution_count": 51,
     "metadata": {},
     "output_type": "execute_result"
    }
   ],
   "source": [
    "train.head()"
   ]
  },
  {
   "cell_type": "code",
   "execution_count": 52,
   "metadata": {},
   "outputs": [],
   "source": [
    "#Assigning the sparse matrix from count vectorizer in variable x and target in variable y\n",
    "x = train\n",
    "y = df_2['target_x'][:7613]"
   ]
  },
  {
   "cell_type": "code",
   "execution_count": 53,
   "metadata": {},
   "outputs": [
    {
     "name": "stdout",
     "output_type": "stream",
     "text": [
      "(7613, 18821)\n",
      "(7613,)\n"
     ]
    }
   ],
   "source": [
    "print (x.shape)\n",
    "print (y.shape)"
   ]
  },
  {
   "cell_type": "markdown",
   "metadata": {},
   "source": [
    "### Training models"
   ]
  },
  {
   "cell_type": "code",
   "execution_count": 54,
   "metadata": {},
   "outputs": [],
   "source": [
    "from sklearn.model_selection import train_test_split\n",
    "from sklearn.linear_model import LogisticRegression\n",
    "from sklearn.tree import DecisionTreeClassifier\n",
    "from sklearn.ensemble import RandomForestClassifier, GradientBoostingClassifier\n",
    "from sklearn.metrics import accuracy_score, precision_score, recall_score, f1_score\n",
    "from xgboost import XGBClassifier"
   ]
  },
  {
   "cell_type": "code",
   "execution_count": 55,
   "metadata": {},
   "outputs": [],
   "source": [
    "#Train-test split with 20% reserved for test validation\n",
    "x_train, x_test, y_train, y_test = train_test_split(x, y, test_size = 0.2, random_state = 30)"
   ]
  },
  {
   "cell_type": "code",
   "execution_count": 56,
   "metadata": {},
   "outputs": [],
   "source": [
    "#These are the chosen algorithms for training\n",
    "log = LogisticRegression()\n",
    "dtc = DecisionTreeClassifier()\n",
    "rfc = RandomForestClassifier(n_estimators = 200)\n",
    "gbc = GradientBoostingClassifier(learning_rate = 0.01, n_estimators = 200, max_depth = 5)\n",
    "xgb = XGBClassifier()"
   ]
  },
  {
   "cell_type": "code",
   "execution_count": 60,
   "metadata": {},
   "outputs": [],
   "source": [
    "algorithms = [log, dtc, rfc, gbc, xgb]\n",
    "names = ['log', 'dtc', 'rfc', 'gbc', 'xgb']"
   ]
  },
  {
   "cell_type": "code",
   "execution_count": 61,
   "metadata": {},
   "outputs": [],
   "source": [
    "#Function to train models with the chosen algorithms and to output performance scores from each algorithm\n",
    "def classification():\n",
    "    accuracy = []\n",
    "    precision = []\n",
    "    recall = []\n",
    "    f1 = []\n",
    "    \n",
    "    for a in range(len(algorithms)):\n",
    "        algorithms[a].fit(x_train, y_train)\n",
    "    \n",
    "    for a in range(len(algorithms)):\n",
    "        accuracy.append(accuracy_score(y_test, algorithms[a].predict(x_test)))\n",
    "        precision.append(precision_score(y_test, algorithms[a].predict(x_test)))\n",
    "        recall.append(recall_score(y_test, algorithms[a].predict(x_test)))\n",
    "        f1.append(f1_score(y_test, algorithms[a].predict(x_test)))\n",
    "        \n",
    "    met = pd.DataFrame(index = names, columns = ['Accuracy', 'Precision', 'Recall', 'F1'])\n",
    "    met['Accuracy'] = accuracy\n",
    "    met['Precision'] = precision\n",
    "    met['Recall'] = recall\n",
    "    met['F1'] = f1\n",
    "    return met"
   ]
  },
  {
   "cell_type": "code",
   "execution_count": 62,
   "metadata": {},
   "outputs": [
    {
     "name": "stderr",
     "output_type": "stream",
     "text": [
      "C:\\Users\\Kimberly\\anaconda3\\lib\\site-packages\\xgboost\\sklearn.py:888: UserWarning: The use of label encoder in XGBClassifier is deprecated and will be removed in a future release. To remove this warning, do the following: 1) Pass option use_label_encoder=False when constructing XGBClassifier object; and 2) Encode your labels (y) as integers starting with 0, i.e. 0, 1, 2, ..., [num_class - 1].\n",
      "  warnings.warn(label_encoder_deprecation_msg, UserWarning)\n"
     ]
    },
    {
     "name": "stdout",
     "output_type": "stream",
     "text": [
      "[13:37:11] WARNING: C:/Users/Administrator/workspace/xgboost-win64_release_1.3.0/src/learner.cc:1061: Starting in XGBoost 1.3.0, the default evaluation metric used with the objective 'binary:logistic' was changed from 'error' to 'logloss'. Explicitly set eval_metric if you'd like to restore the old behavior.\n"
     ]
    },
    {
     "data": {
      "text/html": [
       "<div>\n",
       "<style scoped>\n",
       "    .dataframe tbody tr th:only-of-type {\n",
       "        vertical-align: middle;\n",
       "    }\n",
       "\n",
       "    .dataframe tbody tr th {\n",
       "        vertical-align: top;\n",
       "    }\n",
       "\n",
       "    .dataframe thead th {\n",
       "        text-align: right;\n",
       "    }\n",
       "</style>\n",
       "<table border=\"1\" class=\"dataframe\">\n",
       "  <thead>\n",
       "    <tr style=\"text-align: right;\">\n",
       "      <th></th>\n",
       "      <th>Accuracy</th>\n",
       "      <th>Precision</th>\n",
       "      <th>Recall</th>\n",
       "      <th>F1</th>\n",
       "    </tr>\n",
       "  </thead>\n",
       "  <tbody>\n",
       "    <tr>\n",
       "      <th>log</th>\n",
       "      <td>0.789888</td>\n",
       "      <td>0.798261</td>\n",
       "      <td>0.692308</td>\n",
       "      <td>0.741519</td>\n",
       "    </tr>\n",
       "    <tr>\n",
       "      <th>dtc</th>\n",
       "      <td>0.749836</td>\n",
       "      <td>0.731148</td>\n",
       "      <td>0.672700</td>\n",
       "      <td>0.700707</td>\n",
       "    </tr>\n",
       "    <tr>\n",
       "      <th>rfc</th>\n",
       "      <td>0.791202</td>\n",
       "      <td>0.833656</td>\n",
       "      <td>0.650075</td>\n",
       "      <td>0.730508</td>\n",
       "    </tr>\n",
       "    <tr>\n",
       "      <th>gbc</th>\n",
       "      <td>0.705844</td>\n",
       "      <td>0.893773</td>\n",
       "      <td>0.368024</td>\n",
       "      <td>0.521368</td>\n",
       "    </tr>\n",
       "    <tr>\n",
       "      <th>xgb</th>\n",
       "      <td>0.780039</td>\n",
       "      <td>0.833333</td>\n",
       "      <td>0.618401</td>\n",
       "      <td>0.709957</td>\n",
       "    </tr>\n",
       "  </tbody>\n",
       "</table>\n",
       "</div>"
      ],
      "text/plain": [
       "     Accuracy  Precision    Recall        F1\n",
       "log  0.789888   0.798261  0.692308  0.741519\n",
       "dtc  0.749836   0.731148  0.672700  0.700707\n",
       "rfc  0.791202   0.833656  0.650075  0.730508\n",
       "gbc  0.705844   0.893773  0.368024  0.521368\n",
       "xgb  0.780039   0.833333  0.618401  0.709957"
      ]
     },
     "execution_count": 62,
     "metadata": {},
     "output_type": "execute_result"
    }
   ],
   "source": [
    "#Trained and presented scores for each chosen algorithm\n",
    "classification()"
   ]
  },
  {
   "cell_type": "markdown",
   "metadata": {},
   "source": [
    "### Predicting test set"
   ]
  },
  {
   "cell_type": "code",
   "execution_count": 63,
   "metadata": {},
   "outputs": [
    {
     "data": {
      "text/plain": [
       "array([1., 1., 1., ..., 1., 1., 0.])"
      ]
     },
     "execution_count": 63,
     "metadata": {},
     "output_type": "execute_result"
    }
   ],
   "source": [
    "#Using logistic regression to predict test set since logistic regression presented with higher F1 score\n",
    "y_pred = log.predict(test)\n",
    "y_pred"
   ]
  },
  {
   "cell_type": "code",
   "execution_count": 64,
   "metadata": {},
   "outputs": [],
   "source": [
    "#Creating dataframe with the id from test set\n",
    "test_pred = pd.DataFrame(data = df['id'][7613:], columns = ['id'])"
   ]
  },
  {
   "cell_type": "code",
   "execution_count": 65,
   "metadata": {},
   "outputs": [
    {
     "data": {
      "text/html": [
       "<div>\n",
       "<style scoped>\n",
       "    .dataframe tbody tr th:only-of-type {\n",
       "        vertical-align: middle;\n",
       "    }\n",
       "\n",
       "    .dataframe tbody tr th {\n",
       "        vertical-align: top;\n",
       "    }\n",
       "\n",
       "    .dataframe thead th {\n",
       "        text-align: right;\n",
       "    }\n",
       "</style>\n",
       "<table border=\"1\" class=\"dataframe\">\n",
       "  <thead>\n",
       "    <tr style=\"text-align: right;\">\n",
       "      <th></th>\n",
       "      <th>id</th>\n",
       "      <th>target</th>\n",
       "    </tr>\n",
       "  </thead>\n",
       "  <tbody>\n",
       "    <tr>\n",
       "      <th>7613</th>\n",
       "      <td>0</td>\n",
       "      <td>1.0</td>\n",
       "    </tr>\n",
       "    <tr>\n",
       "      <th>7614</th>\n",
       "      <td>2</td>\n",
       "      <td>1.0</td>\n",
       "    </tr>\n",
       "    <tr>\n",
       "      <th>7615</th>\n",
       "      <td>3</td>\n",
       "      <td>1.0</td>\n",
       "    </tr>\n",
       "    <tr>\n",
       "      <th>7616</th>\n",
       "      <td>9</td>\n",
       "      <td>1.0</td>\n",
       "    </tr>\n",
       "    <tr>\n",
       "      <th>7617</th>\n",
       "      <td>11</td>\n",
       "      <td>1.0</td>\n",
       "    </tr>\n",
       "  </tbody>\n",
       "</table>\n",
       "</div>"
      ],
      "text/plain": [
       "      id  target\n",
       "7613   0     1.0\n",
       "7614   2     1.0\n",
       "7615   3     1.0\n",
       "7616   9     1.0\n",
       "7617  11     1.0"
      ]
     },
     "execution_count": 65,
     "metadata": {},
     "output_type": "execute_result"
    }
   ],
   "source": [
    "#Added predicted targets to dataframe for submitting\n",
    "test_pred['target'] = y_pred\n",
    "test_pred.head()"
   ]
  },
  {
   "cell_type": "code",
   "execution_count": 66,
   "metadata": {},
   "outputs": [],
   "source": [
    "#Converting dtype of target from float to integer\n",
    "test_pred['target'] = test_pred['target'].astype('int')"
   ]
  },
  {
   "cell_type": "code",
   "execution_count": 67,
   "metadata": {},
   "outputs": [],
   "source": [
    "#Export dataframe of results as csv\n",
    "test_pred.to_csv('NLP_results_2.csv', index = False)"
   ]
  }
 ],
 "metadata": {
  "kernelspec": {
   "display_name": "Python 3",
   "language": "python",
   "name": "python3"
  },
  "language_info": {
   "codemirror_mode": {
    "name": "ipython",
    "version": 3
   },
   "file_extension": ".py",
   "mimetype": "text/x-python",
   "name": "python",
   "nbconvert_exporter": "python",
   "pygments_lexer": "ipython3",
   "version": "3.8.3"
  }
 },
 "nbformat": 4,
 "nbformat_minor": 2
}
